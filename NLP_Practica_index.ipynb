{
  "nbformat": 4,
  "nbformat_minor": 0,
  "metadata": {
    "colab": {
      "name": "NLP - Practica - index.ipynb",
      "provenance": [],
      "collapsed_sections": []
    },
    "kernelspec": {
      "name": "python3",
      "display_name": "Python 3"
    }
  },
  "cells": [
    {
      "cell_type": "code",
      "metadata": {
        "id": "Q_M_PYXGXlnH",
        "colab_type": "code",
        "colab": {}
      },
      "source": [
        "import numpy as np\n",
        "#os hago el trabajo más duro"
      ],
      "execution_count": 0,
      "outputs": []
    },
    {
      "cell_type": "markdown",
      "metadata": {
        "id": "pRJ7fiaDYMqo",
        "colab_type": "text"
      },
      "source": [
        "# Introducción \n",
        "\n",
        "La idea de la práctica es visitar aquellos temas que en cierta manera nos permitan ver más contenido del curso.\n",
        "\n",
        "La práctica esta dividida en 4 o 5 subapartados, que ya tenéis en este mismo Notebook. Estos subapartados estan aquí para que rellenéis el código que hace falta para la realización de la práctica. Obviamente podéis usar tantas celdas como os hagan falta, es más es de agradecer si el código final esta algo \"limpio\". Usar funciones, algo de comentario, etc, etc...\n",
        "\n",
        "Usaremos 2 datasets, uno para el primer ejercicio, y otro para el resto de ejercicios.\n",
        "\n",
        "Ejercicios:\n",
        "\n",
        "\n",
        "1.   Machine Learning vs Deep Learning (Acordaros que hay que implementar el pipeline visto en clase entero)\n",
        "\n",
        "    1.1. Implementación de un modelo de Sentiment Analysis con algún algoritmo de Machine Learning Clásico.\n",
        "    \n",
        "    1.2. Implementación de un modelo de Sentiment Analysis con alguna arquitectura de Deep Learning.\n",
        "    \n",
        "    1.3. Breve Comparación de resultados. Confusion Matrix.\n",
        "    \n",
        "2. Hacer Analysis de los tweets del segundo dataset. Que temas aparecen? Como se representan estos temas? De que hablan unos y otros?\n",
        "\n",
        "3. Escoged a uno de los dos presidentes, y escribid tweets como ellos, usando un Modelo Generativo.\n",
        "\n",
        "En cada ejercicio, espero explicaciones y razonamientos del porque una arquitectura y no otra, por ejemplo en Deep Learning, porque usar Convolutionals en lugar de recurrentes, o en Machine Learning, Bayes en lugar de SVM. Hay que explicar el pipeline, sobretodo el preproceso de datos, con lo que habrá que hacer un pequeño estudio de que datos tenemos, y si hay cosas que se pueden ignorar, si hacéis stemming, o no, etc, etc...\n",
        "\n",
        "Acordaros de que objetivo final no es que obtengáis una accuracy brutal, es que comprendais que pasa cuando usais un algoritmo u otro, y que problemas o beneficios nos dan.\n",
        "\n",
        "![](https://i.pinimg.com/736x/19/63/8c/19638c0b33e2f7822d6806ce31d89d84--funny-cartoons-funny-jokes.jpg)\n",
        "\n",
        "Mucha suerte y ánimo!\n",
        "\n"
      ]
    },
    {
      "cell_type": "markdown",
      "metadata": {
        "id": "WMESTLF1YMyO",
        "colab_type": "text"
      },
      "source": [
        "# Dataset\n",
        "\n",
        "Breve explicación del dataset"
      ]
    },
    {
      "cell_type": "code",
      "metadata": {
        "id": "9MFulRoGYGdJ",
        "colab_type": "code",
        "outputId": "d3836c42-0ced-4d15-d93b-11409d534d26",
        "colab": {
          "base_uri": "https://localhost:8080/",
          "height": 795
        }
      },
      "source": [
        "!cat /proc/meminfo"
      ],
      "execution_count": 0,
      "outputs": [
        {
          "output_type": "stream",
          "text": [
            "MemTotal:       13335184 kB\n",
            "MemFree:        11066348 kB\n",
            "MemAvailable:   12522244 kB\n",
            "Buffers:           70284 kB\n",
            "Cached:          1548552 kB\n",
            "SwapCached:            0 kB\n",
            "Active:           675048 kB\n",
            "Inactive:        1350988 kB\n",
            "Active(anon):     388376 kB\n",
            "Inactive(anon):      308 kB\n",
            "Active(file):     286672 kB\n",
            "Inactive(file):  1350680 kB\n",
            "Unevictable:           0 kB\n",
            "Mlocked:               0 kB\n",
            "SwapTotal:             0 kB\n",
            "SwapFree:              0 kB\n",
            "Dirty:               688 kB\n",
            "Writeback:             0 kB\n",
            "AnonPages:        407296 kB\n",
            "Mapped:           217256 kB\n",
            "Shmem:               840 kB\n",
            "Slab:             149612 kB\n",
            "SReclaimable:     119328 kB\n",
            "SUnreclaim:        30284 kB\n",
            "KernelStack:        3472 kB\n",
            "PageTables:         5340 kB\n",
            "NFS_Unstable:          0 kB\n",
            "Bounce:                0 kB\n",
            "WritebackTmp:          0 kB\n",
            "CommitLimit:     6667592 kB\n",
            "Committed_AS:    2716180 kB\n",
            "VmallocTotal:   34359738367 kB\n",
            "VmallocUsed:           0 kB\n",
            "VmallocChunk:          0 kB\n",
            "AnonHugePages:         0 kB\n",
            "ShmemHugePages:        0 kB\n",
            "ShmemPmdMapped:        0 kB\n",
            "HugePages_Total:       0\n",
            "HugePages_Free:        0\n",
            "HugePages_Rsvd:        0\n",
            "HugePages_Surp:        0\n",
            "Hugepagesize:       2048 kB\n",
            "DirectMap4k:       63476 kB\n",
            "DirectMap2M:     5179392 kB\n",
            "DirectMap1G:    10485760 kB\n"
          ],
          "name": "stdout"
        }
      ]
    },
    {
      "cell_type": "markdown",
      "metadata": {
        "id": "nHZSaUfsYM0z",
        "colab_type": "text"
      },
      "source": [
        "# Práctica/Código a entregar"
      ]
    },
    {
      "cell_type": "markdown",
      "metadata": {
        "id": "2-AQC_cOAzjr",
        "colab_type": "text"
      },
      "source": [
        "Por claridad y organización propia, voy a hacer cada apartado de la practica en un cuaderno separado. Pondré links a cada cuaderno, en cada una de las secciones para facilitar la corrección."
      ]
    },
    {
      "cell_type": "markdown",
      "metadata": {
        "id": "jPw8jkZDYvqx",
        "colab_type": "text"
      },
      "source": [
        "## Pre-train Sentiment Analysis Model"
      ]
    },
    {
      "cell_type": "markdown",
      "metadata": {
        "id": "STQ8zkhBAZkl",
        "colab_type": "text"
      },
      "source": [
        ""
      ]
    },
    {
      "cell_type": "markdown",
      "metadata": {
        "id": "Evszh16eYvxF",
        "colab_type": "text"
      },
      "source": [
        "## Sentiment Analysis with Politics"
      ]
    },
    {
      "cell_type": "code",
      "metadata": {
        "id": "bvMjfdw5ZrUN",
        "colab_type": "code",
        "colab": {}
      },
      "source": [
        "#Code aquí"
      ],
      "execution_count": 0,
      "outputs": []
    },
    {
      "cell_type": "markdown",
      "metadata": {
        "id": "vthF8k2EYv6Y",
        "colab_type": "text"
      },
      "source": [
        "## Tweet Analysis"
      ]
    },
    {
      "cell_type": "code",
      "metadata": {
        "id": "oEiVY7foZrtU",
        "colab_type": "code",
        "colab": {}
      },
      "source": [
        "#Code aquí"
      ],
      "execution_count": 0,
      "outputs": []
    },
    {
      "cell_type": "markdown",
      "metadata": {
        "id": "cppYsQrSYwCw",
        "colab_type": "text"
      },
      "source": [
        "## Tweet Generation"
      ]
    },
    {
      "cell_type": "code",
      "metadata": {
        "id": "TshyDxMyZsJ0",
        "colab_type": "code",
        "colab": {}
      },
      "source": [
        "#Code aquí ."
      ],
      "execution_count": 0,
      "outputs": []
    },
    {
      "cell_type": "code",
      "metadata": {
        "id": "WKAIH4nkZvid",
        "colab_type": "code",
        "colab": {}
      },
      "source": [
        ""
      ],
      "execution_count": 0,
      "outputs": []
    }
  ]
}