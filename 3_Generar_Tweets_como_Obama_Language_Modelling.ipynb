{
  "nbformat": 4,
  "nbformat_minor": 0,
  "metadata": {
    "kernelspec": {
      "name": "python3",
      "display_name": "Python 3"
    },
    "language_info": {
      "codemirror_mode": {
        "name": "ipython",
        "version": 3
      },
      "file_extension": ".py",
      "mimetype": "text/x-python",
      "name": "python",
      "nbconvert_exporter": "python",
      "pygments_lexer": "ipython3",
      "version": "3.7.1"
    },
    "colab": {
      "name": "3 - Generar Tweets como Obama - Language Modelling.ipynb",
      "provenance": [],
      "collapsed_sections": []
    },
    "accelerator": "GPU"
  },
  "cells": [
    {
      "cell_type": "markdown",
      "metadata": {
        "id": "FvwS_vrG1HVX",
        "colab_type": "text"
      },
      "source": [
        "# Generador de Tweets de Obama"
      ]
    },
    {
      "cell_type": "markdown",
      "metadata": {
        "id": "dvdb7ldD1N4R",
        "colab_type": "text"
      },
      "source": [
        "Basandonos en un listado de tweets de Barack Obama, queremos empezar una frase y ver cómo la terminaria Obama\n"
      ]
    },
    {
      "cell_type": "markdown",
      "metadata": {
        "id": "6l7i1_142RoU",
        "colab_type": "text"
      },
      "source": [
        "![texto alternativo](https://)"
      ]
    },
    {
      "cell_type": "markdown",
      "metadata": {
        "id": "kfiiPUkg1Nxa",
        "colab_type": "text"
      },
      "source": [
        "## Preparación"
      ]
    },
    {
      "cell_type": "markdown",
      "metadata": {
        "id": "TZxRT_gC1g4N",
        "colab_type": "text"
      },
      "source": [
        "Al estar el notebook alojado en Google Colab, hay que cargar el dataset en el entorno de ejecución."
      ]
    },
    {
      "cell_type": "code",
      "metadata": {
        "id": "xqjtgwkwXPNG",
        "colab_type": "code",
        "colab": {}
      },
      "source": [
        "!mkdir datasets\n",
        "!mv BarackObama.json datasets"
      ],
      "execution_count": 0,
      "outputs": []
    },
    {
      "cell_type": "code",
      "metadata": {
        "id": "HSMxtEexWmhP",
        "colab_type": "code",
        "colab": {}
      },
      "source": [
        "import numpy as np\n",
        "import pandas as pd\n",
        "import re"
      ],
      "execution_count": 0,
      "outputs": []
    },
    {
      "cell_type": "markdown",
      "metadata": {
        "id": "o5WHI1IW6mjo",
        "colab_type": "text"
      },
      "source": [
        ""
      ]
    },
    {
      "cell_type": "code",
      "metadata": {
        "id": "ph1s7rO1WmhR",
        "colab_type": "code",
        "colab": {
          "base_uri": "https://localhost:8080/",
          "height": 314
        },
        "outputId": "566047c2-a8e2-4b04-d2fd-6cf5360d8846"
      },
      "source": [
        "!pip install spacy"
      ],
      "execution_count": 9,
      "outputs": [
        {
          "output_type": "stream",
          "text": [
            "Requirement already satisfied: spacy in /usr/local/lib/python3.6/dist-packages (2.1.8)\n",
            "Requirement already satisfied: requests<3.0.0,>=2.13.0 in /usr/local/lib/python3.6/dist-packages (from spacy) (2.21.0)\n",
            "Requirement already satisfied: thinc<7.1.0,>=7.0.8 in /usr/local/lib/python3.6/dist-packages (from spacy) (7.0.8)\n",
            "Requirement already satisfied: wasabi<1.1.0,>=0.2.0 in /usr/local/lib/python3.6/dist-packages (from spacy) (0.2.2)\n",
            "Requirement already satisfied: murmurhash<1.1.0,>=0.28.0 in /usr/local/lib/python3.6/dist-packages (from spacy) (1.0.2)\n",
            "Requirement already satisfied: cymem<2.1.0,>=2.0.2 in /usr/local/lib/python3.6/dist-packages (from spacy) (2.0.2)\n",
            "Requirement already satisfied: blis<0.3.0,>=0.2.2 in /usr/local/lib/python3.6/dist-packages (from spacy) (0.2.4)\n",
            "Requirement already satisfied: numpy>=1.15.0 in /usr/local/lib/python3.6/dist-packages (from spacy) (1.16.5)\n",
            "Requirement already satisfied: preshed<2.1.0,>=2.0.1 in /usr/local/lib/python3.6/dist-packages (from spacy) (2.0.1)\n",
            "Requirement already satisfied: srsly<1.1.0,>=0.0.6 in /usr/local/lib/python3.6/dist-packages (from spacy) (0.1.0)\n",
            "Requirement already satisfied: plac<1.0.0,>=0.9.6 in /usr/local/lib/python3.6/dist-packages (from spacy) (0.9.6)\n",
            "Requirement already satisfied: certifi>=2017.4.17 in /usr/local/lib/python3.6/dist-packages (from requests<3.0.0,>=2.13.0->spacy) (2019.6.16)\n",
            "Requirement already satisfied: urllib3<1.25,>=1.21.1 in /usr/local/lib/python3.6/dist-packages (from requests<3.0.0,>=2.13.0->spacy) (1.24.3)\n",
            "Requirement already satisfied: chardet<3.1.0,>=3.0.2 in /usr/local/lib/python3.6/dist-packages (from requests<3.0.0,>=2.13.0->spacy) (3.0.4)\n",
            "Requirement already satisfied: idna<2.9,>=2.5 in /usr/local/lib/python3.6/dist-packages (from requests<3.0.0,>=2.13.0->spacy) (2.8)\n",
            "Requirement already satisfied: tqdm<5.0.0,>=4.10.0 in /usr/local/lib/python3.6/dist-packages (from thinc<7.1.0,>=7.0.8->spacy) (4.28.1)\n"
          ],
          "name": "stdout"
        }
      ]
    },
    {
      "cell_type": "code",
      "metadata": {
        "id": "RtvGUHOlWmhT",
        "colab_type": "code",
        "colab": {
          "base_uri": "https://localhost:8080/",
          "height": 89
        },
        "outputId": "455ce16d-53fe-4fe5-afbd-dba1beaf5296"
      },
      "source": [
        "!python -m spacy download en_core_web_sm"
      ],
      "execution_count": 10,
      "outputs": [
        {
          "output_type": "stream",
          "text": [
            "Requirement already satisfied: en_core_web_sm==2.1.0 from https://github.com/explosion/spacy-models/releases/download/en_core_web_sm-2.1.0/en_core_web_sm-2.1.0.tar.gz#egg=en_core_web_sm==2.1.0 in /usr/local/lib/python3.6/dist-packages (2.1.0)\n",
            "\u001b[38;5;2m✔ Download and installation successful\u001b[0m\n",
            "You can now load the model via spacy.load('en_core_web_sm')\n"
          ],
          "name": "stdout"
        }
      ]
    },
    {
      "cell_type": "code",
      "metadata": {
        "id": "nqqlMlkhWmhV",
        "colab_type": "code",
        "colab": {}
      },
      "source": [
        "twt = pd.read_json (r'datasets/BarackObama.json',typ='series')"
      ],
      "execution_count": 0,
      "outputs": []
    },
    {
      "cell_type": "code",
      "metadata": {
        "id": "x9IA-wYrWmhW",
        "colab_type": "code",
        "colab": {}
      },
      "source": [
        "df = twt.to_frame()"
      ],
      "execution_count": 0,
      "outputs": []
    },
    {
      "cell_type": "code",
      "metadata": {
        "id": "KMYAvq32WmhY",
        "colab_type": "code",
        "colab": {}
      },
      "source": [
        "df.columns = ['tweet']"
      ],
      "execution_count": 0,
      "outputs": []
    },
    {
      "cell_type": "markdown",
      "metadata": {
        "id": "VqQudTTA6uhr",
        "colab_type": "text"
      },
      "source": [
        "Vemos que hay tweets duplicados"
      ]
    },
    {
      "cell_type": "code",
      "metadata": {
        "id": "qNejWyFIWmhZ",
        "colab_type": "code",
        "colab": {
          "base_uri": "https://localhost:8080/",
          "height": 35
        },
        "outputId": "9747ca5e-715a-428c-878a-ba07cfa29ef9"
      },
      "source": [
        "df.shape"
      ],
      "execution_count": 14,
      "outputs": [
        {
          "output_type": "execute_result",
          "data": {
            "text/plain": [
              "(2894, 1)"
            ]
          },
          "metadata": {
            "tags": []
          },
          "execution_count": 14
        }
      ]
    },
    {
      "cell_type": "code",
      "metadata": {
        "id": "TveRYGRsWmhb",
        "colab_type": "code",
        "colab": {
          "base_uri": "https://localhost:8080/",
          "height": 35
        },
        "outputId": "ed07ad0f-24f3-4ea2-85db-8a5809b4114b"
      },
      "source": [
        "df = df.drop_duplicates()\n",
        "df.shape"
      ],
      "execution_count": 15,
      "outputs": [
        {
          "output_type": "execute_result",
          "data": {
            "text/plain": [
              "(2861, 1)"
            ]
          },
          "metadata": {
            "tags": []
          },
          "execution_count": 15
        }
      ]
    },
    {
      "cell_type": "markdown",
      "metadata": {
        "id": "HomGMPNG6xqP",
        "colab_type": "text"
      },
      "source": [
        "Limpiamos los tweets de la misma manera que en el primer ejercicio."
      ]
    },
    {
      "cell_type": "code",
      "metadata": {
        "id": "RaXuuHBeWmhc",
        "colab_type": "code",
        "colab": {}
      },
      "source": [
        "def replace_re (cad, regex, token):\n",
        "    return re.sub(regex, token, cad)"
      ],
      "execution_count": 0,
      "outputs": []
    },
    {
      "cell_type": "code",
      "metadata": {
        "id": "VtsAV__BWmhe",
        "colab_type": "code",
        "colab": {}
      },
      "source": [
        "# quitar espacios antes y despues del texto\n",
        "df['tweet'] = df['tweet'].map(lambda SentimentText: SentimentText.strip())  \n",
        " \n",
        "\n",
        "# Cambiar special HTML entities (de http://www.htmlhelp.com/reference/html40/entities/special.html)\n",
        "#  &amp; \t&lt; \t&gt; &circ; &tilde;\n",
        "df['tweet'] = df['tweet'].map(lambda tweet: tweet.replace('&amp;', '& '))\n",
        "df['tweet'] = df['tweet'].map(lambda tweet: tweet.replace('&lt;', '<'))\n",
        "df['tweet'] = df['tweet'].map(lambda tweet: tweet.replace('&gt;', '>'))\n",
        "df['tweet'] = df['tweet'].map(lambda tweet: tweet.replace('&circ;', '^'))\n",
        "\n",
        "# &ensp; &emsp; &thinsp; -> ' '\n",
        "df['tweet'] = df['tweet'].map(lambda tweet: tweet.replace('&ensp;', ' '))\n",
        "df['tweet'] = df['tweet'].map(lambda tweet: tweet.replace('&thinsp;', ' '))\n",
        "df['tweet'] = df['tweet'].map(lambda tweet: tweet.replace('&emsp;', ' '))\n",
        "\n",
        "# &ndash; \t&mdash; -> '-'\n",
        "df['tweet'] = df['tweet'].map(lambda tweet: tweet.replace('&ndash;', '-'))\n",
        "df['tweet'] = df['tweet'].map(lambda tweet: tweet.replace('&mdash;', '-'))\n",
        "\n",
        "# ' &quot; &lsquo; &rsquo; &sbquo; &ldquo; &rdquo; &bdquo; &lsaquo; &rsaquo;  -> \"'\"\n",
        "df['tweet'] = df['tweet'].map(lambda tweet: tweet.replace('\"', \"'\"))\n",
        "df['tweet'] = df['tweet'].map(lambda tweet: tweet.replace('&quot;', \"'\"))\n",
        "df['tweet'] = df['tweet'].map(lambda tweet: tweet.replace('&lsquo;', \"'\"))\n",
        "df['tweet'] = df['tweet'].map(lambda tweet: tweet.replace('&rsquo;', \"'\"))\n",
        "df['tweet'] = df['tweet'].map(lambda tweet: tweet.replace('&sbquo;', \"'\"))\n",
        "df['tweet'] = df['tweet'].map(lambda tweet: tweet.replace('&ldquo;', \"'\"))\n",
        "df['tweet'] = df['tweet'].map(lambda tweet: tweet.replace('&rdquo;', \"'\"))\n",
        "df['tweet'] = df['tweet'].map(lambda tweet: tweet.replace('&bdquo;', \"'\"))\n",
        "df['tweet'] = df['tweet'].map(lambda tweet: tweet.replace('&lsaquo;', \"'\"))\n",
        "df['tweet'] = df['tweet'].map(lambda tweet: tweet.replace('&rsaquo;', \"'\"))\n",
        "df['tweet'] = df['tweet'].map(lambda tweet: tweet.replace('&quot;', \"'\"))\n",
        "df['tweet'] = df['tweet'].map(lambda tweet: tweet.replace('“', \"'\"))\n",
        "df['tweet'] = df['tweet'].map(lambda tweet: tweet.replace('”', \"'\"))\n",
        "df['tweet'] = df['tweet'].map(lambda tweet: tweet.replace('’', \"'\"))\n",
        "\n",
        "# euro sign\t&euro;\t&#8364;\t&#x20AC;\t€\t€\t€\n",
        "df['tweet'] = df['tweet'].map(lambda tweet: tweet.replace('&euro;', '€'))\n",
        "\n",
        "# quitar /n\n",
        "escape_char_re = r'\\n|\\t'\n",
        "df['tweet'] = df['tweet'].apply(lambda x: replace_re(x, escape_char_re, \"\"))\n",
        "\n",
        "# quitar @username (mentions)\n",
        "twitterHandle_re = r'(^|[^@\\w])@(\\w{1,15})\\b'\n",
        "df['tweet'] = df['tweet'].apply(lambda x: replace_re(x, twitterHandle_re, \"\")) \n",
        "\n",
        "# hashtag \n",
        "# los quito por \n",
        "hashtag_re = r'(?:^|\\s|\\')[＃#]{1}(\\w+)'\n",
        "df['tweet'] = df['tweet'].apply(lambda x: replace_re(x, hashtag_re, \"\")) \n",
        "\n",
        "# quitar urls\n",
        "url_re = r'[localhost|http|https|ftp|file]+://[\\w\\S(\\.|:|/)]+'\n",
        "df['tweet'] = df['tweet'].apply(lambda x: replace_re(x, url_re, \"\")) \n",
        "\n",
        "# quitar espacios multiples en la cadena 'The    quick  lazy    fox'->'The quick lazy fox' \n",
        "extraSpaces_re = r' +'\n",
        "df['tweet'] = df['tweet'].apply(lambda x: replace_re(x, extraSpaces_re, \" \"))\n",
        "\n",
        "# quitar espacios antes y despues del texto (los que se hayan podido meter despues de las sustituciones)\n",
        "df['tweet'] = df['tweet'].map(lambda tweet: tweet.strip())  \n",
        "\n",
        "# minusculas\n",
        "df['tweet'] = df['tweet'].map(lambda tweet: tweet.lower()) "
      ],
      "execution_count": 0,
      "outputs": []
    },
    {
      "cell_type": "markdown",
      "metadata": {
        "id": "MOkAYVRX7B10",
        "colab_type": "text"
      },
      "source": [
        "Usaremos Spacy para generar el vocabulario"
      ]
    },
    {
      "cell_type": "code",
      "metadata": {
        "id": "kdx4zSQaWmhg",
        "colab_type": "code",
        "colab": {}
      },
      "source": [
        "import spacy\n",
        "\n",
        "nlp = spacy.load('en_core_web_sm')"
      ],
      "execution_count": 0,
      "outputs": []
    },
    {
      "cell_type": "code",
      "metadata": {
        "id": "ahk9SDQpYLid",
        "colab_type": "code",
        "colab": {}
      },
      "source": [
        "lista_tweets = df['tweet'].tolist()"
      ],
      "execution_count": 0,
      "outputs": []
    },
    {
      "cell_type": "code",
      "metadata": {
        "id": "sHrzqq4GxDaS",
        "colab_type": "code",
        "colab": {}
      },
      "source": [
        "frases = \"\"\n",
        "for e in lista_tweets:\n",
        "    frases += e + '\\n'"
      ],
      "execution_count": 0,
      "outputs": []
    },
    {
      "cell_type": "markdown",
      "metadata": {
        "id": "3wF8jlkK7UyE",
        "colab_type": "text"
      },
      "source": [
        "## Modelo"
      ]
    },
    {
      "cell_type": "markdown",
      "metadata": {
        "id": "Wa1s2PPXmeQ_",
        "colab_type": "text"
      },
      "source": [
        "Generamos un modelo con un LSTM, bla, bla, bla....\n",
        "\n",
        "Basado en [Language Modelling and Text Generation using LSTMs — Deep Learning for NLP](https://medium.com/@shivambansal36/language-modelling-text-generation-using-lstms-deep-learning-for-nlp-ed36b224b275)"
      ]
    },
    {
      "cell_type": "code",
      "metadata": {
        "id": "g2sh4BzEmwaR",
        "colab_type": "code",
        "colab": {
          "base_uri": "https://localhost:8080/",
          "height": 35
        },
        "outputId": "0ccc0a7d-63cb-43b4-8290-596745b5eead"
      },
      "source": [
        "from keras.preprocessing.sequence import pad_sequences\n",
        "from keras.layers import Embedding, LSTM, Dense\n",
        "from keras.preprocessing.text import Tokenizer\n",
        "from keras.callbacks import EarlyStopping\n",
        "from keras.models import Sequential\n",
        "import keras.utils as ku \n",
        "import numpy as np\n"
      ],
      "execution_count": 21,
      "outputs": [
        {
          "output_type": "stream",
          "text": [
            "Using TensorFlow backend.\n"
          ],
          "name": "stderr"
        }
      ]
    },
    {
      "cell_type": "code",
      "metadata": {
        "id": "3splOS_VmWZu",
        "colab_type": "code",
        "colab": {}
      },
      "source": [
        "tokenizer = Tokenizer()\n",
        "\n",
        "def dataset_preparation(data):\n",
        "\n",
        "\t# basic cleanup\n",
        "\tcorpus = data.split(\"\\n\")\n",
        "\n",
        "\t# tokenization\t\n",
        "\ttokenizer.fit_on_texts(corpus)\n",
        "\ttotal_words = len(tokenizer.word_index) + 1\n",
        "\n",
        "\t# create input sequences using list of tokens\n",
        "\tinput_sequences = []\n",
        "\tfor line in corpus:\n",
        "\t\ttoken_list = tokenizer.texts_to_sequences([line])[0]\n",
        "\t\tfor i in range(1, len(token_list)):\n",
        "\t\t\tn_gram_sequence = token_list[:i+1]\n",
        "\t\t\tinput_sequences.append(n_gram_sequence)\n",
        "\n",
        "\t# pad sequences \n",
        "\tmax_sequence_len = max([len(x) for x in input_sequences])\n",
        "\tinput_sequences = np.array(pad_sequences(input_sequences, maxlen=max_sequence_len, padding='pre'))\n",
        "\n",
        "\t# create predictors and label\n",
        "\tpredictors, label = input_sequences[:,:-1],input_sequences[:,-1]\n",
        "\tlabel = ku.to_categorical(label, num_classes=total_words)\n",
        "\n",
        "\treturn predictors, label, max_sequence_len, total_words\n"
      ],
      "execution_count": 0,
      "outputs": []
    },
    {
      "cell_type": "code",
      "metadata": {
        "id": "6FwApoJVmWWd",
        "colab_type": "code",
        "colab": {}
      },
      "source": [
        "def create_model(predictors, label, max_sequence_len, total_words, epochs=100):\n",
        "\t\n",
        "\tmodel = Sequential()\n",
        "\tmodel.add(Embedding(total_words, 10, input_length=max_sequence_len-1))\n",
        "\tmodel.add(LSTM(150, return_sequences = True))\n",
        "\t# model.add(Dropout(0.2))\n",
        "\tmodel.add(LSTM(100))\n",
        "\tmodel.add(Dense(total_words, activation='softmax'))\n",
        "\n",
        "\tmodel.compile(loss='categorical_crossentropy', optimizer='adam', metrics=['accuracy'])\n",
        "\tearlystop = EarlyStopping(monitor='val_loss', min_delta=0, patience=5, verbose=0, mode='auto')\n",
        "\tmodel.fit(predictors, label, epochs=epochs, verbose=1, callbacks=[earlystop])\n",
        "\tprint (model.summary())\n",
        "\treturn model "
      ],
      "execution_count": 0,
      "outputs": []
    },
    {
      "cell_type": "code",
      "metadata": {
        "id": "ekSPZ8HNmWTT",
        "colab_type": "code",
        "colab": {}
      },
      "source": [
        "def generate_text(seed_text, next_words, max_sequence_len, model):\n",
        "    for j in range(next_words):\n",
        "        token_list = tokenizer.texts_to_sequences([seed_text])[0]\n",
        "        token_list = pad_sequences([token_list], maxlen= \n",
        "                             max_sequence_len-1, padding='pre')\n",
        "        predicted = model.predict_classes(token_list, verbose=0)\n",
        "  \n",
        "        output_word = \"\"\n",
        "        for word, index in tokenizer.word_index.items():\n",
        "            if index == predicted:\n",
        "                output_word = word\n",
        "                break\n",
        "        seed_text += \" \" + output_word\n",
        "    return seed_text"
      ],
      "execution_count": 0,
      "outputs": []
    },
    {
      "cell_type": "code",
      "metadata": {
        "id": "KCEkFdeAv7Qx",
        "colab_type": "code",
        "colab": {}
      },
      "source": [
        "predictors, label, max_sequence_len, total_words = dataset_preparation(frases)"
      ],
      "execution_count": 0,
      "outputs": []
    },
    {
      "cell_type": "code",
      "metadata": {
        "id": "VCROtVn6v7Ip",
        "colab_type": "code",
        "colab": {
          "base_uri": "https://localhost:8080/",
          "height": 1000
        },
        "outputId": "32155bde-435c-44ef-f0fc-05761c2fa805"
      },
      "source": [
        "model = create_model(predictors, label, max_sequence_len, total_words, epochs=20)"
      ],
      "execution_count": 27,
      "outputs": [
        {
          "output_type": "stream",
          "text": [
            "Epoch 1/20\n",
            "38997/38997 [==============================] - 267s 7ms/step - loss: 6.7807 - acc: 0.0451\n",
            "Epoch 2/20\n"
          ],
          "name": "stdout"
        },
        {
          "output_type": "stream",
          "text": [
            "/usr/local/lib/python3.6/dist-packages/keras/callbacks.py:842: RuntimeWarning: Early stopping conditioned on metric `val_loss` which is not available. Available metrics are: loss,acc\n",
            "  (self.monitor, ','.join(list(logs.keys()))), RuntimeWarning\n"
          ],
          "name": "stderr"
        },
        {
          "output_type": "stream",
          "text": [
            "38997/38997 [==============================] - 270s 7ms/step - loss: 6.5562 - acc: 0.0452\n",
            "Epoch 3/20\n",
            "38997/38997 [==============================] - 262s 7ms/step - loss: 6.5514 - acc: 0.0460\n",
            "Epoch 4/20\n",
            "38997/38997 [==============================] - 262s 7ms/step - loss: 6.5534 - acc: 0.0464\n",
            "Epoch 5/20\n",
            "38997/38997 [==============================] - 259s 7ms/step - loss: 6.5524 - acc: 0.0450\n",
            "Epoch 6/20\n",
            "38997/38997 [==============================] - 262s 7ms/step - loss: 6.5528 - acc: 0.0461\n",
            "Epoch 7/20\n",
            "38997/38997 [==============================] - 260s 7ms/step - loss: 6.5520 - acc: 0.0448\n",
            "Epoch 8/20\n",
            "38997/38997 [==============================] - 263s 7ms/step - loss: 6.5528 - acc: 0.0451\n",
            "Epoch 9/20\n",
            "38997/38997 [==============================] - 262s 7ms/step - loss: 6.5519 - acc: 0.0462\n",
            "Epoch 10/20\n",
            "38997/38997 [==============================] - 262s 7ms/step - loss: 6.5523 - acc: 0.0461\n",
            "Epoch 11/20\n",
            "38997/38997 [==============================] - 263s 7ms/step - loss: 6.5527 - acc: 0.0460\n",
            "Epoch 12/20\n",
            "38997/38997 [==============================] - 264s 7ms/step - loss: 6.5520 - acc: 0.0452\n",
            "Epoch 13/20\n",
            "38997/38997 [==============================] - 262s 7ms/step - loss: 6.5542 - acc: 0.0466\n",
            "Epoch 14/20\n",
            "38997/38997 [==============================] - 265s 7ms/step - loss: 6.5522 - acc: 0.0454\n",
            "Epoch 15/20\n",
            "38997/38997 [==============================] - 268s 7ms/step - loss: 6.5519 - acc: 0.0460\n",
            "Epoch 16/20\n",
            "38997/38997 [==============================] - 265s 7ms/step - loss: 6.5544 - acc: 0.0447\n",
            "Epoch 17/20\n",
            "38997/38997 [==============================] - 267s 7ms/step - loss: 6.5530 - acc: 0.0461\n",
            "Epoch 18/20\n",
            "38997/38997 [==============================] - 266s 7ms/step - loss: 6.5539 - acc: 0.0454\n",
            "Epoch 19/20\n",
            "38997/38997 [==============================] - 266s 7ms/step - loss: 6.5533 - acc: 0.0458\n",
            "Epoch 20/20\n",
            "38997/38997 [==============================] - 267s 7ms/step - loss: 6.5534 - acc: 0.0454\n",
            "Model: \"sequential_2\"\n",
            "_________________________________________________________________\n",
            "Layer (type)                 Output Shape              Param #   \n",
            "=================================================================\n",
            "embedding_2 (Embedding)      (None, 50, 10)            43720     \n",
            "_________________________________________________________________\n",
            "lstm_3 (LSTM)                (None, 50, 150)           96600     \n",
            "_________________________________________________________________\n",
            "lstm_4 (LSTM)                (None, 100)               100400    \n",
            "_________________________________________________________________\n",
            "dense_2 (Dense)              (None, 4372)              441572    \n",
            "=================================================================\n",
            "Total params: 682,292\n",
            "Trainable params: 682,292\n",
            "Non-trainable params: 0\n",
            "_________________________________________________________________\n",
            "None\n"
          ],
          "name": "stdout"
        }
      ]
    },
    {
      "cell_type": "code",
      "metadata": {
        "id": "3C6mHDSgWRHo",
        "colab_type": "code",
        "colab": {
          "base_uri": "https://localhost:8080/",
          "height": 35
        },
        "outputId": "92c17ff5-dd42-448c-dad0-6915c3e02342"
      },
      "source": [
        "print (generate_text(\"fire up\", 8, max_sequence_len, model))"
      ],
      "execution_count": 30,
      "outputs": [
        {
          "output_type": "stream",
          "text": [
            "fire up the the the the the the the the\n"
          ],
          "name": "stdout"
        }
      ]
    },
    {
      "cell_type": "code",
      "metadata": {
        "id": "gG_b4_1cW64D",
        "colab_type": "code",
        "colab": {}
      },
      "source": [
        ""
      ],
      "execution_count": 0,
      "outputs": []
    }
  ]
}