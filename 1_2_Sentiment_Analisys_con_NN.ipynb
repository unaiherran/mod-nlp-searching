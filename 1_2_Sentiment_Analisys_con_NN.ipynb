{
  "nbformat": 4,
  "nbformat_minor": 0,
  "metadata": {
    "colab": {
      "name": "1.2 - Sentiment Analisys con NN.ipynb",
      "provenance": [],
      "collapsed_sections": [],
      "toc_visible": true
    },
    "kernelspec": {
      "name": "python3",
      "display_name": "Python 3"
    },
    "accelerator": "GPU"
  },
  "cells": [
    {
      "cell_type": "markdown",
      "metadata": {
        "id": "B6_gmTOaO3M8",
        "colab_type": "text"
      },
      "source": [
        "# Sentiment Analysis con Redes Neuronales"
      ]
    },
    {
      "cell_type": "markdown",
      "metadata": {
        "id": "8ZlOPL_yO78q",
        "colab_type": "text"
      },
      "source": [
        "## Pasos Previos"
      ]
    },
    {
      "cell_type": "markdown",
      "metadata": {
        "id": "vlzGMNIvOcFy",
        "colab_type": "text"
      },
      "source": [
        "### Carga de datos en el entorno de ejecución"
      ]
    },
    {
      "cell_type": "markdown",
      "metadata": {
        "id": "riBbKHMLBmzN",
        "colab_type": "text"
      },
      "source": [
        "Antes de nada, y ya que he utilizado un Colab, tengo que crear y copiar todos los archivos que necesito, y moverlos a los directorios apropiados."
      ]
    },
    {
      "cell_type": "code",
      "metadata": {
        "id": "-0Hlawv5-wT_",
        "colab_type": "code",
        "colab": {}
      },
      "source": [
        "!mkdir data\n",
        "!mkdir data/glove_word_embeddings\n",
        "!mkdir datasets\n",
        "!mkdir results"
      ],
      "execution_count": 0,
      "outputs": []
    },
    {
      "cell_type": "markdown",
      "metadata": {
        "id": "JwxvcBMEDMzh",
        "colab_type": "text"
      },
      "source": [
        "Hay que subir:\n",
        "\n",
        "```glove.6B.50d.txt```\n",
        "\n",
        "`resultados_modelos.csv`\n",
        "\n",
        "`sentiment_dataset_limpio.csv`  \n",
        "\n",
        "`train_sentiment_small.csv`\n",
        "\n"
      ]
    },
    {
      "cell_type": "code",
      "metadata": {
        "id": "fqW8BSw88sDL",
        "colab_type": "code",
        "colab": {}
      },
      "source": [
        "#antes de ejecutar esto tienes que subir el archivo datasets al notebook\n",
        "\n",
        "!mv glove.6B.50d.txt data/glove_word_embeddings"
      ],
      "execution_count": 0,
      "outputs": []
    },
    {
      "cell_type": "code",
      "metadata": {
        "id": "tRzIJnAylFxV",
        "colab_type": "code",
        "colab": {}
      },
      "source": [
        "!mv resultados_modelos.csv results"
      ],
      "execution_count": 0,
      "outputs": []
    },
    {
      "cell_type": "code",
      "metadata": {
        "id": "q7hxGnprLo1x",
        "colab_type": "code",
        "colab": {}
      },
      "source": [
        "!mv train_sentiment_small.csv datasets\n",
        "!mv sentiment_dataset_limpio.csv datasets\n",
        "!mv train_sentiment_utf8.csv datasets"
      ],
      "execution_count": 0,
      "outputs": []
    },
    {
      "cell_type": "markdown",
      "metadata": {
        "id": "qskQf8pyLv8s",
        "colab_type": "text"
      },
      "source": [
        "### Imports"
      ]
    },
    {
      "cell_type": "code",
      "metadata": {
        "id": "V0BRNRGsLdgq",
        "colab_type": "code",
        "colab": {}
      },
      "source": [
        "import pickle\n",
        "import json\n",
        "import os\n",
        "import csv\n",
        "\n",
        "import seaborn as sns\n",
        "import matplotlib as mpl\n",
        "import matplotlib.pyplot as plt\n",
        "import pandas as pd\n",
        "import io\n",
        "from sklearn.metrics import confusion_matrix\n",
        "\n",
        "from random import sample\n",
        "\n",
        "from sklearn.model_selection import StratifiedShuffleSplit\n",
        "\n",
        "from keras.models import Model\n",
        "from keras.layers import Input\n",
        "\n",
        "import warnings\n",
        "warnings.filterwarnings('ignore')"
      ],
      "execution_count": 0,
      "outputs": []
    },
    {
      "cell_type": "code",
      "metadata": {
        "id": "0lgQ1EdILOvI",
        "colab_type": "code",
        "outputId": "fda6216c-0b94-4661-8aa1-24c55f721e9f",
        "colab": {
          "base_uri": "https://localhost:8080/",
          "height": 35
        }
      },
      "source": [
        "import numpy as np\n",
        "from keras.layers import Conv1D, Conv2D, SimpleRNN, LSTM, Dense, Dropout\n",
        "from keras.models import Sequential"
      ],
      "execution_count": 0,
      "outputs": [
        {
          "output_type": "stream",
          "text": [
            "Using TensorFlow backend.\n"
          ],
          "name": "stderr"
        }
      ]
    },
    {
      "cell_type": "code",
      "metadata": {
        "id": "R9BYS-mq90F0",
        "colab_type": "code",
        "colab": {}
      },
      "source": [
        "from sklearn.model_selection import train_test_split             \n",
        "from keras.preprocessing.text import Tokenizer \n",
        "from keras.preprocessing.sequence import pad_sequences\n",
        "from keras.models import Sequential\n",
        "from keras import layers"
      ],
      "execution_count": 0,
      "outputs": []
    },
    {
      "cell_type": "markdown",
      "metadata": {
        "id": "9fVqzgodPU0j",
        "colab_type": "text"
      },
      "source": [
        "### Variables de Entorno"
      ]
    },
    {
      "cell_type": "code",
      "metadata": {
        "id": "QFYyLtFMPXdN",
        "colab_type": "code",
        "colab": {}
      },
      "source": [
        "NUM_WORDS = 5000\n",
        "maxlen = 40 # de los embeddings\n",
        "embedding_dim_glove = 50\n",
        "embedding_layer_dim = 100\n",
        "THRESHOLD = 0.5\n",
        "RESULTS_FILE = 'results/resultados_modelos.csv'"
      ],
      "execution_count": 0,
      "outputs": []
    },
    {
      "cell_type": "markdown",
      "metadata": {
        "id": "PBOA9GfLDwOE",
        "colab_type": "text"
      },
      "source": [
        "### Funciones Auxiliares"
      ]
    },
    {
      "cell_type": "markdown",
      "metadata": {
        "id": "Mop32td_LlfH",
        "colab_type": "text"
      },
      "source": [
        "Aqui defino unas funciones auxiliares para calcular metricas y presentar resultadios."
      ]
    },
    {
      "cell_type": "code",
      "metadata": {
        "id": "frHvZcSBGXDx",
        "colab_type": "code",
        "colab": {}
      },
      "source": [
        "def add_row(df, row):\n",
        "    df.loc[-1] = row\n",
        "    df.index = df.index + 1  \n",
        "    return df.sort_index()"
      ],
      "execution_count": 0,
      "outputs": []
    },
    {
      "cell_type": "code",
      "metadata": {
        "id": "tCBlHc1z9ik0",
        "colab_type": "code",
        "colab": {}
      },
      "source": [
        "def convertir_prediccion_en_array(prediccion):\n",
        "    i = 0\n",
        "\n",
        "    resp = []\n",
        "    while i < len(prediccion):\n",
        "        if prediccion[i] >= THRESHOLD:\n",
        "            e = 1.0\n",
        "        else:\n",
        "            e = 0.0\n",
        "        resp.append(e)\n",
        "        i += 1\n",
        "    return resp\n"
      ],
      "execution_count": 0,
      "outputs": []
    },
    {
      "cell_type": "code",
      "metadata": {
        "id": "7rd9uObiRY4Z",
        "colab_type": "code",
        "colab": {}
      },
      "source": [
        "def plot_confusion_matrix(confmat):\n",
        "    fig, ax = plt.subplots(figsize=(7, 7))\n",
        "    ax.matshow(confmat, cmap=plt.cm.Blues, alpha=0.5)\n",
        "    for i in range(confmat.shape[0]):\n",
        "        for j in range(confmat.shape[1]):\n",
        "            ax.text(x=j, y=i, s=confmat[i, j], va='center', ha='center')\n",
        "\n",
        "    plt.xlabel('predicted label')\n",
        "    plt.ylabel('true label')\n",
        "\n",
        "    plt.tight_layout()\n",
        "    plt.show()"
      ],
      "execution_count": 0,
      "outputs": []
    },
    {
      "cell_type": "code",
      "metadata": {
        "id": "7xY-YmhiRY1q",
        "colab_type": "code",
        "colab": {}
      },
      "source": [
        "def calcula_metricas(confmat, plot=True):\n",
        "    \n",
        "    tn, fp, fn, tp = confmat.ravel()\n",
        "\n",
        "    acc = (tp+tn)/(tn + fp + fn + tp)\n",
        "    sen = tp/(tp+fn)\n",
        "    esp = tn/(tn+fp)\n",
        "    ppv = tp/(tp+fp)\n",
        "    fsc = 2*(sen*ppv/(sen+ppv))\n",
        "\n",
        "    print('ACC: ', acc)\n",
        "    print('SEN: ', sen)\n",
        "    print('ESP: ', esp)\n",
        "    print('PPV: ', ppv)\n",
        "    print('FSC: ', fsc)\n",
        "\n",
        "    if plot:\n",
        "        plt.bar(range(5),[acc,sen,esp,ppv,fsc])\n",
        "        plt.xticks(range(5),['ACC','SEN','ESP','PPV','FSC'])\n",
        "        plt.plot([-1, 6], [1, 1], color=(0.6, 0.6, 0.6), linestyle='--')\n",
        "        plt.xlim((-0.5,4.5))\n",
        "        plt.ylim((0,1.1))\n",
        "        plt.title('Metricas')\n",
        "        plt.show()\n",
        "    \n",
        "    metricas = [acc, sen,esp,ppv,fsc]\n",
        "    return metricas"
      ],
      "execution_count": 0,
      "outputs": []
    },
    {
      "cell_type": "markdown",
      "metadata": {
        "id": "3hpckmnGD4PI",
        "colab_type": "text"
      },
      "source": [
        "## Carga y preparación de datos"
      ]
    },
    {
      "cell_type": "markdown",
      "metadata": {
        "id": "6qoE9AzGMI5Z",
        "colab_type": "text"
      },
      "source": [
        "Cargo el dataset pequeño. Esto es debido a que por incompatibilidad de alguna de las capas usadas con la GPU que tiene Colab, no se puede trabajar en GPU, con lo que para entrenar en un tiempo apropiado, uso un dataset pequeño (sacado de la sección 1.1)"
      ]
    },
    {
      "cell_type": "code",
      "metadata": {
        "id": "MT_GH2dDMo3l",
        "colab_type": "code",
        "colab": {}
      },
      "source": [
        "df = pd.read_csv('datasets/train_sentiment_small.csv')\n",
        "\n",
        "# Descomentar para entrenar con el conjunto grande\n",
        "#df = pd.read_csv('datasets/sentiment_dataset_limpio.csv')"
      ],
      "execution_count": 0,
      "outputs": []
    },
    {
      "cell_type": "code",
      "metadata": {
        "id": "XRIgGS2iNi7F",
        "colab_type": "code",
        "colab": {}
      },
      "source": [
        "df = df.drop(['Unnamed: 0'], axis=1)"
      ],
      "execution_count": 0,
      "outputs": []
    },
    {
      "cell_type": "code",
      "metadata": {
        "id": "OwlRY3QpNjtH",
        "colab_type": "code",
        "outputId": "44faad61-e450-4471-fe28-e20e8f4861b1",
        "colab": {
          "base_uri": "https://localhost:8080/",
          "height": 198
        }
      },
      "source": [
        "df.head(5)"
      ],
      "execution_count": 0,
      "outputs": [
        {
          "output_type": "execute_result",
          "data": {
            "text/html": [
              "<div>\n",
              "<style scoped>\n",
              "    .dataframe tbody tr th:only-of-type {\n",
              "        vertical-align: middle;\n",
              "    }\n",
              "\n",
              "    .dataframe tbody tr th {\n",
              "        vertical-align: top;\n",
              "    }\n",
              "\n",
              "    .dataframe thead th {\n",
              "        text-align: right;\n",
              "    }\n",
              "</style>\n",
              "<table border=\"1\" class=\"dataframe\">\n",
              "  <thead>\n",
              "    <tr style=\"text-align: right;\">\n",
              "      <th></th>\n",
              "      <th>Sentiment</th>\n",
              "      <th>SentimentText</th>\n",
              "    </tr>\n",
              "  </thead>\n",
              "  <tbody>\n",
              "    <tr>\n",
              "      <th>0</th>\n",
              "      <td>1</td>\n",
              "      <td>&lt;MENTION&gt; lol ok thanks. anyway watcha doing?</td>\n",
              "    </tr>\n",
              "    <tr>\n",
              "      <th>1</th>\n",
              "      <td>1</td>\n",
              "      <td>&lt;MENTION&gt; -- yeah, thank ya kindly!</td>\n",
              "    </tr>\n",
              "    <tr>\n",
              "      <th>2</th>\n",
              "      <td>0</td>\n",
              "      <td>&lt;MENTION&gt;, is being a horrible friend. tears.</td>\n",
              "    </tr>\n",
              "    <tr>\n",
              "      <th>3</th>\n",
              "      <td>0</td>\n",
              "      <td>Jonas Brothers 3D Concert Movie is out on the ...</td>\n",
              "    </tr>\n",
              "    <tr>\n",
              "      <th>4</th>\n",
              "      <td>1</td>\n",
              "      <td>&lt;MENTION&gt; k just call asap</td>\n",
              "    </tr>\n",
              "  </tbody>\n",
              "</table>\n",
              "</div>"
            ],
            "text/plain": [
              "   Sentiment                                      SentimentText\n",
              "0          1      <MENTION> lol ok thanks. anyway watcha doing?\n",
              "1          1                <MENTION> -- yeah, thank ya kindly!\n",
              "2          0      <MENTION>, is being a horrible friend. tears.\n",
              "3          0  Jonas Brothers 3D Concert Movie is out on the ...\n",
              "4          1                         <MENTION> k just call asap"
            ]
          },
          "metadata": {
            "tags": []
          },
          "execution_count": 17
        }
      ]
    },
    {
      "cell_type": "code",
      "metadata": {
        "id": "xhmg69YPPZVw",
        "colab_type": "code",
        "colab": {}
      },
      "source": [
        "import re\n",
        "def replace_re (cad, regex, token):\n",
        "    return re.sub(regex, token, cad)"
      ],
      "execution_count": 0,
      "outputs": []
    },
    {
      "cell_type": "code",
      "metadata": {
        "id": "qiC-jS3s90BE",
        "colab_type": "code",
        "colab": {}
      },
      "source": [
        "sentiment_text = df['SentimentText'].values"
      ],
      "execution_count": 0,
      "outputs": []
    },
    {
      "cell_type": "code",
      "metadata": {
        "id": "ECDEgGCn9z-J",
        "colab_type": "code",
        "colab": {}
      },
      "source": [
        "y = df['Sentiment'].values"
      ],
      "execution_count": 0,
      "outputs": []
    },
    {
      "cell_type": "code",
      "metadata": {
        "id": "EohzqR6R9z7c",
        "colab_type": "code",
        "colab": {}
      },
      "source": [
        "sentiment_train,sentiment_test,y_train,y_test = train_test_split(\n",
        "                                                sentiment_text, y,  \n",
        "                                                test_size=0.25,  \n",
        "                                                random_state=42)"
      ],
      "execution_count": 0,
      "outputs": []
    },
    {
      "cell_type": "markdown",
      "metadata": {
        "id": "6HPFjFofuApV",
        "colab_type": "text"
      },
      "source": [
        "## Embedding"
      ]
    },
    {
      "cell_type": "code",
      "metadata": {
        "id": "XLcRYC1x9z4e",
        "colab_type": "code",
        "colab": {}
      },
      "source": [
        "tokenizer = Tokenizer(num_words=NUM_WORDS)\n",
        "tokenizer.fit_on_texts(sentiment_train)"
      ],
      "execution_count": 0,
      "outputs": []
    },
    {
      "cell_type": "code",
      "metadata": {
        "id": "iinJlu9t9z2L",
        "colab_type": "code",
        "colab": {}
      },
      "source": [
        "X_train = tokenizer.texts_to_sequences(sentiment_train)\n",
        "X_test = tokenizer.texts_to_sequences(sentiment_test)"
      ],
      "execution_count": 0,
      "outputs": []
    },
    {
      "cell_type": "code",
      "metadata": {
        "id": "SC9EbNxc9zzR",
        "colab_type": "code",
        "colab": {}
      },
      "source": [
        "# Adding 1 because of  reserved 0 index\n",
        "vocab_size = len(tokenizer.word_index) + 1 "
      ],
      "execution_count": 0,
      "outputs": []
    },
    {
      "cell_type": "code",
      "metadata": {
        "id": "LEbsuGnT9zt3",
        "colab_type": "code",
        "colab": {}
      },
      "source": [
        "X_train = pad_sequences(X_train, padding='post', maxlen=maxlen)\n",
        "X_test = pad_sequences(X_test, padding='post', maxlen=maxlen)"
      ],
      "execution_count": 0,
      "outputs": []
    },
    {
      "cell_type": "markdown",
      "metadata": {
        "id": "hmdRLNvVfQhk",
        "colab_type": "text"
      },
      "source": [
        "Para generar los Word Embeddings uso [Glove](https://en.wikipedia.org/wiki/GloVe_(machine_learning)), que es un conjunto preentrenado de word embeddings.\n",
        "\n",
        "*GloVe is an unsupervised learning algorithm for obtaining vector representations for words. Training is performed on aggregated global word-word co-occurrence statistics from a corpus, and the resulting representations showcase interesting linear substructures of the word vector space.*"
      ]
    },
    {
      "cell_type": "code",
      "metadata": {
        "id": "ih46h0xa9zrh",
        "colab_type": "code",
        "colab": {}
      },
      "source": [
        "def create_embedding_matrix(filepath, word_index, embedding_dim):\n",
        "    vocab_size = len(word_index) + 1  \n",
        "    # Adding again 1 because of reserved 0 index\n",
        "    embedding_matrix = np.zeros((vocab_size, embedding_dim))\n",
        "\n",
        "    with open(filepath) as f:\n",
        "        for line in f:\n",
        "            word, *vector = line.split()\n",
        "            if word in word_index:\n",
        "                idx = word_index[word] \n",
        "                embedding_matrix[idx] = np.array(\n",
        "                    vector, dtype=np.float32)[:embedding_dim]\n",
        "\n",
        "    return embedding_matrix"
      ],
      "execution_count": 0,
      "outputs": []
    },
    {
      "cell_type": "code",
      "metadata": {
        "id": "j-Epcl49-wa4",
        "colab_type": "code",
        "colab": {}
      },
      "source": [
        "embedding_matrix = create_embedding_matrix('data/glove_word_embeddings/glove.6B.50d.txt' ,\n",
        "                                            tokenizer.word_index,  \n",
        "                                            embedding_dim_glove)"
      ],
      "execution_count": 0,
      "outputs": []
    },
    {
      "cell_type": "markdown",
      "metadata": {
        "id": "BAXbA-8Zd9Cf",
        "colab_type": "text"
      },
      "source": [
        "## Red Neuronal Convolucional"
      ]
    },
    {
      "cell_type": "code",
      "metadata": {
        "id": "MFeLRMx3-wYK",
        "colab_type": "code",
        "outputId": "87136c69-761c-493e-bd36-ea8df9fd9a78",
        "colab": {
          "base_uri": "https://localhost:8080/",
          "height": 328
        }
      },
      "source": [
        "model = Sequential()\n",
        "model.add(layers.Embedding(vocab_size, embedding_layer_dim, input_length=maxlen))\n",
        "model.add(layers.Conv1D(128, 5, activation='relu'))\n",
        "model.add(layers.GlobalMaxPooling1D())\n",
        "model.add(layers.Dense(10, activation='relu'))\n",
        "model.add(layers.Dense(1, activation='sigmoid'))\n",
        "model.compile(optimizer='adam',\n",
        "              loss='binary_crossentropy',\n",
        "              metrics=['accuracy'])\n",
        "\n",
        "model.summary()"
      ],
      "execution_count": 0,
      "outputs": [
        {
          "output_type": "stream",
          "text": [
            "Model: \"sequential_3\"\n",
            "_________________________________________________________________\n",
            "Layer (type)                 Output Shape              Param #   \n",
            "=================================================================\n",
            "embedding_3 (Embedding)      (None, 40, 100)           1155100   \n",
            "_________________________________________________________________\n",
            "conv1d_3 (Conv1D)            (None, 36, 128)           64128     \n",
            "_________________________________________________________________\n",
            "global_max_pooling1d_3 (Glob (None, 128)               0         \n",
            "_________________________________________________________________\n",
            "dense_5 (Dense)              (None, 10)                1290      \n",
            "_________________________________________________________________\n",
            "dense_6 (Dense)              (None, 1)                 11        \n",
            "=================================================================\n",
            "Total params: 1,220,529\n",
            "Trainable params: 1,220,529\n",
            "Non-trainable params: 0\n",
            "_________________________________________________________________\n"
          ],
          "name": "stdout"
        }
      ]
    },
    {
      "cell_type": "markdown",
      "metadata": {
        "id": "u0f5g51Ue5A2",
        "colab_type": "text"
      },
      "source": [
        "Con todo el dataset se tarda un rato en entrenar (aprox 8 minutos por época), con el dataset pequeño 5s por época."
      ]
    },
    {
      "cell_type": "code",
      "metadata": {
        "id": "r_S8SCfwZ8G9",
        "colab_type": "code",
        "colab": {}
      },
      "source": [
        "from keras.callbacks import EarlyStopping\n",
        "earlystop = EarlyStopping(monitor='loss', min_delta=0, patience=5, verbose=0, mode='auto')"
      ],
      "execution_count": 0,
      "outputs": []
    },
    {
      "cell_type": "code",
      "metadata": {
        "id": "BlGUSIRP-wRe",
        "colab_type": "code",
        "outputId": "fe3158a8-c261-4bef-e369-a6590fc8b5b6",
        "colab": {
          "base_uri": "https://localhost:8080/",
          "height": 1000
        }
      },
      "source": [
        "history = model.fit(X_train, y_train,\n",
        "                    epochs=50,\n",
        "                    validation_data=(X_test, y_test),\n",
        "                    batch_size=16\n",
        "                    callbacks=[earlystop])"
      ],
      "execution_count": 0,
      "outputs": [
        {
          "output_type": "stream",
          "text": [
            "Train on 7500 samples, validate on 2500 samples\n",
            "Epoch 1/50\n",
            "7500/7500 [==============================] - 5s 611us/step - loss: 0.5906 - acc: 0.6736 - val_loss: 0.5322 - val_acc: 0.7264\n",
            "Epoch 2/50\n",
            "7500/7500 [==============================] - 4s 552us/step - loss: 0.4060 - acc: 0.8172 - val_loss: 0.5728 - val_acc: 0.7152\n",
            "Epoch 3/50\n",
            "7500/7500 [==============================] - 4s 547us/step - loss: 0.2200 - acc: 0.9199 - val_loss: 0.6752 - val_acc: 0.7248\n",
            "Epoch 4/50\n",
            "7500/7500 [==============================] - 4s 543us/step - loss: 0.0929 - acc: 0.9729 - val_loss: 0.7877 - val_acc: 0.7160\n",
            "Epoch 5/50\n",
            "7500/7500 [==============================] - 4s 541us/step - loss: 0.0378 - acc: 0.9888 - val_loss: 1.0169 - val_acc: 0.7152\n",
            "Epoch 6/50\n",
            "7500/7500 [==============================] - 4s 542us/step - loss: 0.0222 - acc: 0.9927 - val_loss: 1.1328 - val_acc: 0.7216\n",
            "Epoch 7/50\n",
            "7500/7500 [==============================] - 4s 538us/step - loss: 0.0171 - acc: 0.9941 - val_loss: 1.2559 - val_acc: 0.7044\n",
            "Epoch 8/50\n",
            "7500/7500 [==============================] - 4s 547us/step - loss: 0.0143 - acc: 0.9951 - val_loss: 1.3338 - val_acc: 0.7136\n",
            "Epoch 9/50\n",
            "7500/7500 [==============================] - 4s 547us/step - loss: 0.0147 - acc: 0.9948 - val_loss: 1.3979 - val_acc: 0.7096\n",
            "Epoch 10/50\n",
            "7500/7500 [==============================] - 4s 549us/step - loss: 0.0117 - acc: 0.9956 - val_loss: 1.4485 - val_acc: 0.7044\n",
            "Epoch 11/50\n",
            "7500/7500 [==============================] - 4s 543us/step - loss: 0.0127 - acc: 0.9956 - val_loss: 1.6020 - val_acc: 0.7148\n",
            "Epoch 12/50\n",
            "7500/7500 [==============================] - 4s 548us/step - loss: 0.0296 - acc: 0.9885 - val_loss: 1.8002 - val_acc: 0.6860\n",
            "Epoch 13/50\n",
            "7500/7500 [==============================] - 4s 555us/step - loss: 0.0324 - acc: 0.9885 - val_loss: 1.7448 - val_acc: 0.6924\n",
            "Epoch 14/50\n",
            "7500/7500 [==============================] - 4s 552us/step - loss: 0.0166 - acc: 0.9927 - val_loss: 1.7860 - val_acc: 0.6976\n",
            "Epoch 15/50\n",
            "7500/7500 [==============================] - 4s 553us/step - loss: 0.0108 - acc: 0.9957 - val_loss: 1.8627 - val_acc: 0.6904\n",
            "Epoch 16/50\n",
            "7500/7500 [==============================] - 4s 551us/step - loss: 0.0093 - acc: 0.9965 - val_loss: 1.8774 - val_acc: 0.6928\n",
            "Epoch 17/50\n",
            "7500/7500 [==============================] - 4s 551us/step - loss: 0.0087 - acc: 0.9963 - val_loss: 1.8833 - val_acc: 0.6920\n",
            "Epoch 18/50\n",
            "7500/7500 [==============================] - 4s 548us/step - loss: 0.0090 - acc: 0.9961 - val_loss: 1.9073 - val_acc: 0.6948\n",
            "Epoch 19/50\n",
            "7500/7500 [==============================] - 4s 549us/step - loss: 0.0082 - acc: 0.9968 - val_loss: 1.9739 - val_acc: 0.6952\n",
            "Epoch 20/50\n",
            "7500/7500 [==============================] - 4s 548us/step - loss: 0.0082 - acc: 0.9960 - val_loss: 2.0613 - val_acc: 0.6808\n",
            "Epoch 21/50\n",
            "7500/7500 [==============================] - 4s 558us/step - loss: 0.0083 - acc: 0.9964 - val_loss: 2.0851 - val_acc: 0.7052\n",
            "Epoch 22/50\n",
            "7500/7500 [==============================] - 4s 550us/step - loss: 0.0209 - acc: 0.9929 - val_loss: 2.2164 - val_acc: 0.6916\n",
            "Epoch 23/50\n",
            "7500/7500 [==============================] - 4s 554us/step - loss: 0.0349 - acc: 0.9883 - val_loss: 2.0874 - val_acc: 0.7000\n",
            "Epoch 24/50\n",
            "7500/7500 [==============================] - 4s 556us/step - loss: 0.0174 - acc: 0.9936 - val_loss: 2.1161 - val_acc: 0.6988\n",
            "Epoch 25/50\n",
            "7500/7500 [==============================] - 4s 551us/step - loss: 0.0078 - acc: 0.9961 - val_loss: 2.1191 - val_acc: 0.7036\n",
            "Epoch 26/50\n",
            "7500/7500 [==============================] - 4s 548us/step - loss: 0.0074 - acc: 0.9967 - val_loss: 2.1409 - val_acc: 0.6988\n",
            "Epoch 27/50\n",
            "7500/7500 [==============================] - 4s 544us/step - loss: 0.0075 - acc: 0.9963 - val_loss: 2.1607 - val_acc: 0.7032\n",
            "Epoch 28/50\n",
            "7500/7500 [==============================] - 4s 546us/step - loss: 0.0074 - acc: 0.9967 - val_loss: 2.2013 - val_acc: 0.6972\n",
            "Epoch 29/50\n",
            "7500/7500 [==============================] - 4s 555us/step - loss: 0.0076 - acc: 0.9965 - val_loss: 2.1513 - val_acc: 0.7076\n",
            "Epoch 30/50\n",
            "7500/7500 [==============================] - 4s 554us/step - loss: 0.0072 - acc: 0.9965 - val_loss: 2.2242 - val_acc: 0.7088\n",
            "Epoch 31/50\n",
            "7500/7500 [==============================] - 4s 550us/step - loss: 0.0074 - acc: 0.9965 - val_loss: 2.2105 - val_acc: 0.7056\n",
            "Epoch 32/50\n",
            "7500/7500 [==============================] - 4s 549us/step - loss: 0.0075 - acc: 0.9965 - val_loss: 2.2146 - val_acc: 0.7060\n",
            "Epoch 33/50\n",
            "7500/7500 [==============================] - 4s 548us/step - loss: 0.0072 - acc: 0.9965 - val_loss: 2.2668 - val_acc: 0.7092\n",
            "Epoch 34/50\n",
            "7500/7500 [==============================] - 4s 548us/step - loss: 0.0075 - acc: 0.9965 - val_loss: 2.3347 - val_acc: 0.7076\n",
            "Epoch 35/50\n",
            "7500/7500 [==============================] - 4s 546us/step - loss: 0.0082 - acc: 0.9961 - val_loss: 2.5816 - val_acc: 0.6924\n",
            "Epoch 36/50\n",
            "7500/7500 [==============================] - 4s 550us/step - loss: 0.0457 - acc: 0.9865 - val_loss: 2.4459 - val_acc: 0.6864\n",
            "Epoch 37/50\n",
            "7500/7500 [==============================] - 4s 558us/step - loss: 0.0174 - acc: 0.9935 - val_loss: 2.3767 - val_acc: 0.7028\n",
            "Epoch 38/50\n",
            "7500/7500 [==============================] - 4s 556us/step - loss: 0.0074 - acc: 0.9967 - val_loss: 2.4243 - val_acc: 0.6916\n",
            "Epoch 39/50\n",
            "7500/7500 [==============================] - 4s 558us/step - loss: 0.0069 - acc: 0.9967 - val_loss: 2.3998 - val_acc: 0.6976\n",
            "Epoch 40/50\n",
            "7500/7500 [==============================] - 4s 546us/step - loss: 0.0069 - acc: 0.9967 - val_loss: 2.4010 - val_acc: 0.7008\n",
            "Epoch 41/50\n",
            "7500/7500 [==============================] - 4s 552us/step - loss: 0.0071 - acc: 0.9967 - val_loss: 2.3984 - val_acc: 0.7028\n",
            "Epoch 42/50\n",
            "7500/7500 [==============================] - 4s 554us/step - loss: 0.0068 - acc: 0.9968 - val_loss: 2.4518 - val_acc: 0.6964\n",
            "Epoch 43/50\n",
            "7500/7500 [==============================] - 4s 567us/step - loss: 0.0071 - acc: 0.9963 - val_loss: 2.3963 - val_acc: 0.6984\n",
            "Epoch 44/50\n",
            "7500/7500 [==============================] - 4s 554us/step - loss: 0.0069 - acc: 0.9965 - val_loss: 2.4337 - val_acc: 0.6996\n",
            "Epoch 45/50\n",
            "7500/7500 [==============================] - 4s 552us/step - loss: 0.0069 - acc: 0.9967 - val_loss: 2.4354 - val_acc: 0.6980\n",
            "Epoch 46/50\n",
            "7500/7500 [==============================] - 4s 571us/step - loss: 0.0073 - acc: 0.9965 - val_loss: 2.4436 - val_acc: 0.7016\n",
            "Epoch 47/50\n",
            "7500/7500 [==============================] - 4s 576us/step - loss: 0.0073 - acc: 0.9968 - val_loss: 2.4446 - val_acc: 0.7004\n",
            "Epoch 48/50\n",
            "7500/7500 [==============================] - 4s 552us/step - loss: 0.0074 - acc: 0.9969 - val_loss: 2.4946 - val_acc: 0.6968\n",
            "Epoch 49/50\n",
            "7500/7500 [==============================] - 4s 540us/step - loss: 0.0076 - acc: 0.9965 - val_loss: 2.4875 - val_acc: 0.7020\n",
            "Epoch 50/50\n",
            "7500/7500 [==============================] - 4s 543us/step - loss: 0.0070 - acc: 0.9968 - val_loss: 2.4798 - val_acc: 0.7060\n"
          ],
          "name": "stdout"
        }
      ]
    },
    {
      "cell_type": "code",
      "metadata": {
        "id": "H8-9YuQW-wNW",
        "colab_type": "code",
        "outputId": "baa0f2df-4f33-4cb8-9f71-527c0f22db53",
        "colab": {
          "base_uri": "https://localhost:8080/",
          "height": 35
        }
      },
      "source": [
        "# Evaluamos\n",
        "train_acc = model.evaluate(X_train, y_train)[1]\n",
        "prediction = model.predict(X_test)"
      ],
      "execution_count": 0,
      "outputs": [
        {
          "output_type": "stream",
          "text": [
            "7500/7500 [==============================] - 1s 68us/step\n"
          ],
          "name": "stdout"
        }
      ]
    },
    {
      "cell_type": "code",
      "metadata": {
        "id": "m1PH4pQmQ-J_",
        "colab_type": "code",
        "colab": {}
      },
      "source": [
        "# Para poder usar las funciones de matriz de confusion y demás\n",
        "\n",
        "prediccion = convertir_prediccion_en_array(prediction)"
      ],
      "execution_count": 0,
      "outputs": []
    },
    {
      "cell_type": "code",
      "metadata": {
        "id": "IWOzhF7OQ-Ez",
        "colab_type": "code",
        "colab": {}
      },
      "source": [
        "confmat = confusion_matrix(y_test, prediccion)"
      ],
      "execution_count": 0,
      "outputs": []
    },
    {
      "cell_type": "code",
      "metadata": {
        "id": "ro4FxN9UQ-Cq",
        "colab_type": "code",
        "outputId": "21a29a37-9bbf-4efa-d204-063327ebfec2",
        "colab": {
          "base_uri": "https://localhost:8080/",
          "height": 513
        }
      },
      "source": [
        "plot_confusion_matrix(confmat)\n"
      ],
      "execution_count": 0,
      "outputs": [
        {
          "output_type": "display_data",
          "data": {
            "image/png": "[encoded data removed]",
            "text/plain": [
              "<Figure size 504x504 with 1 Axes>"
            ]
          },
          "metadata": {
            "tags": []
          }
        }
      ]
    },
    {
      "cell_type": "code",
      "metadata": {
        "id": "ZBCSuvvoQ9_0",
        "colab_type": "code",
        "outputId": "fb41cbe0-02d5-4263-c59f-d0cfc132cf47",
        "colab": {
          "base_uri": "https://localhost:8080/",
          "height": 104
        }
      },
      "source": [
        "metricas = calcula_metricas(confmat, plot=False)"
      ],
      "execution_count": 0,
      "outputs": [
        {
          "output_type": "stream",
          "text": [
            "ACC:  0.706\n",
            "SEN:  0.7641379310344828\n",
            "ESP:  0.6257142857142857\n",
            "PPV:  0.7381745502998002\n",
            "FSC:  0.7509318874957642\n"
          ],
          "name": "stdout"
        }
      ]
    },
    {
      "cell_type": "code",
      "metadata": {
        "id": "QVkiNggXl7pA",
        "colab_type": "code",
        "colab": {}
      },
      "source": [
        "test_acc = metricas[0]"
      ],
      "execution_count": 0,
      "outputs": []
    },
    {
      "cell_type": "code",
      "metadata": {
        "id": "WTV5yRYsQ98u",
        "colab_type": "code",
        "colab": {}
      },
      "source": [
        "resultadosModelo = pd.read_csv(RESULTS_FILE)\n",
        "resultadosModelo = resultadosModelo.drop(['Unnamed: 0'], axis=1)"
      ],
      "execution_count": 0,
      "outputs": []
    },
    {
      "cell_type": "code",
      "metadata": {
        "id": "en7hTz0e9zjg",
        "colab_type": "code",
        "colab": {}
      },
      "source": [
        "resultado = ['CNN - Small Dataset', '-', train_acc, test_acc, confmat, metricas]"
      ],
      "execution_count": 0,
      "outputs": []
    },
    {
      "cell_type": "code",
      "metadata": {
        "id": "_2PaGC0z9zgW",
        "colab_type": "code",
        "outputId": "758a8fe6-dfd3-4bbc-d259-6e60706bd80b",
        "colab": {
          "base_uri": "https://localhost:8080/",
          "height": 887
        }
      },
      "source": [
        "add_row(resultadosModelo, resultado)"
      ],
      "execution_count": 0,
      "outputs": [
        {
          "output_type": "execute_result",
          "data": {
            "text/html": [
              "<div>\n",
              "<style scoped>\n",
              "    .dataframe tbody tr th:only-of-type {\n",
              "        vertical-align: middle;\n",
              "    }\n",
              "\n",
              "    .dataframe tbody tr th {\n",
              "        vertical-align: top;\n",
              "    }\n",
              "\n",
              "    .dataframe thead th {\n",
              "        text-align: right;\n",
              "    }\n",
              "</style>\n",
              "<table border=\"1\" class=\"dataframe\">\n",
              "  <thead>\n",
              "    <tr style=\"text-align: right;\">\n",
              "      <th></th>\n",
              "      <th>Modelo</th>\n",
              "      <th>parametros-optimos</th>\n",
              "      <th>train</th>\n",
              "      <th>test</th>\n",
              "      <th>confusion_matrix</th>\n",
              "      <th>acc_sen_esp_ppv_fsc</th>\n",
              "    </tr>\n",
              "  </thead>\n",
              "  <tbody>\n",
              "    <tr>\n",
              "      <th>0</th>\n",
              "      <td>CNN - Small Dataset</td>\n",
              "      <td>-</td>\n",
              "      <td>0.996800</td>\n",
              "      <td>0.706000</td>\n",
              "      <td>[[657, 393], [342, 1108]]</td>\n",
              "      <td>[0.706, 0.7641379310344828, 0.6257142857142857...</td>\n",
              "    </tr>\n",
              "    <tr>\n",
              "      <th>1</th>\n",
              "      <td>SVM - Small Dataset</td>\n",
              "      <td>{'svm__C': 5.994842503189409, 'svm__gamma': 0....</td>\n",
              "      <td>0.716000</td>\n",
              "      <td>0.733000</td>\n",
              "      <td>[[ 799  507]\\n [ 294 1400]]</td>\n",
              "      <td>[0.733, 0.8264462809917356, 0.611791730474732,...</td>\n",
              "    </tr>\n",
              "    <tr>\n",
              "      <th>2</th>\n",
              "      <td>Bayes - Small Dataset</td>\n",
              "      <td>{'vect__analyzer': 'char', 'vect__max_df': 1.0...</td>\n",
              "      <td>0.717000</td>\n",
              "      <td>0.722333</td>\n",
              "      <td>[[ 909  397]\\n [ 436 1258]]</td>\n",
              "      <td>[0.7223333333333334, 0.7426210153482881, 0.696...</td>\n",
              "    </tr>\n",
              "    <tr>\n",
              "      <th>3</th>\n",
              "      <td>Decision Tree - Small Dataset</td>\n",
              "      <td>{'tree__max_depth': 19, 'vect__analyzer': 'wor...</td>\n",
              "      <td>0.653286</td>\n",
              "      <td>0.649667</td>\n",
              "      <td>[[ 479  827]\\n [ 224 1470]]</td>\n",
              "      <td>[0.6496666666666666, 0.8677685950413223, 0.366...</td>\n",
              "    </tr>\n",
              "    <tr>\n",
              "      <th>4</th>\n",
              "      <td>Random Forestyes - Small Dataset</td>\n",
              "      <td>{'forest__max_depth': 23, 'vect__analyzer': 'c...</td>\n",
              "      <td>0.668857</td>\n",
              "      <td>0.665000</td>\n",
              "      <td>[[ 630  676]\\n [ 329 1365]]</td>\n",
              "      <td>[0.665, 0.8057851239669421, 0.4823889739663093...</td>\n",
              "    </tr>\n",
              "    <tr>\n",
              "      <th>5</th>\n",
              "      <td>Boosted Tree - Small Dataset</td>\n",
              "      <td>{'boosted__learning_rate': 0.1, 'boosted__max_...</td>\n",
              "      <td>0.714857</td>\n",
              "      <td>0.728667</td>\n",
              "      <td>[[ 784  522]\\n [ 292 1402]]</td>\n",
              "      <td>[0.7286666666666667, 0.8276269185360094, 0.600...</td>\n",
              "    </tr>\n",
              "    <tr>\n",
              "      <th>6</th>\n",
              "      <td>Bayes - Lemma - Small Dataset</td>\n",
              "      <td>{'vect__analyzer': 'word', 'vect__max_df': 0.5...</td>\n",
              "      <td>0.686670</td>\n",
              "      <td>0.690333</td>\n",
              "      <td>[[ 704  602]\\n [ 327 1367]]</td>\n",
              "      <td>[0.6903333333333334, 0.806965761511216, 0.5390...</td>\n",
              "    </tr>\n",
              "    <tr>\n",
              "      <th>7</th>\n",
              "      <td>Decision Tree - Lemma - Small Dataset</td>\n",
              "      <td>{'tree__max_depth': 19, 'vect__analyzer': 'wor...</td>\n",
              "      <td>0.650236</td>\n",
              "      <td>0.647333</td>\n",
              "      <td>[[ 362  944]\\n [ 114 1580]]</td>\n",
              "      <td>[0.6473333333333333, 0.9327036599763873, 0.277...</td>\n",
              "    </tr>\n",
              "    <tr>\n",
              "      <th>8</th>\n",
              "      <td>Random Forestyes - Lemma - Small Dataset</td>\n",
              "      <td>{'forest__max_depth': 28, 'vect__analyzer': 'c...</td>\n",
              "      <td>0.660237</td>\n",
              "      <td>0.664667</td>\n",
              "      <td>[[ 562  744]\\n [ 262 1432]]</td>\n",
              "      <td>[0.6646666666666666, 0.8453364817001181, 0.430...</td>\n",
              "    </tr>\n",
              "    <tr>\n",
              "      <th>9</th>\n",
              "      <td>Boosted Tree - Lemma - Small Dataset</td>\n",
              "      <td>{'boosted__learning_rate': 0.1, 'boosted__max_...</td>\n",
              "      <td>0.686955</td>\n",
              "      <td>0.701333</td>\n",
              "      <td>[[ 692  614]\\n [ 282 1412]]</td>\n",
              "      <td>[0.7013333333333334, 0.833530106257379, 0.5298...</td>\n",
              "    </tr>\n",
              "    <tr>\n",
              "      <th>10</th>\n",
              "      <td>SVM - Lemma - Small Dataset</td>\n",
              "      <td>{'svm__C': 1.0, 'svm__gamma': 0.03162277660168...</td>\n",
              "      <td>0.665524</td>\n",
              "      <td>0.685000</td>\n",
              "      <td>[[ 508  798]\\n [ 147 1547]]</td>\n",
              "      <td>[0.685, 0.9132231404958677, 0.3889739663093415...</td>\n",
              "    </tr>\n",
              "    <tr>\n",
              "      <th>11</th>\n",
              "      <td>CNN - Big Dataset</td>\n",
              "      <td>-</td>\n",
              "      <td>0.927431</td>\n",
              "      <td>0.761541</td>\n",
              "      <td>[[ 7141  3821]\\n [ 2140 11896]]</td>\n",
              "      <td>[0.7615409232738619, 0.847534910230835, 0.6514...</td>\n",
              "    </tr>\n",
              "    <tr>\n",
              "      <th>12</th>\n",
              "      <td>CNN - Small Dataset</td>\n",
              "      <td>-</td>\n",
              "      <td>0.992667</td>\n",
              "      <td>0.706400</td>\n",
              "      <td>[[ 682  368]\\n [ 366 1084]]</td>\n",
              "      <td>[0.7064, 0.7475862068965518, 0.649523809523809...</td>\n",
              "    </tr>\n",
              "  </tbody>\n",
              "</table>\n",
              "</div>"
            ],
            "text/plain": [
              "                                      Modelo  ...                                acc_sen_esp_ppv_fsc\n",
              "0                        CNN - Small Dataset  ...  [0.706, 0.7641379310344828, 0.6257142857142857...\n",
              "1                        SVM - Small Dataset  ...  [0.733, 0.8264462809917356, 0.611791730474732,...\n",
              "2                      Bayes - Small Dataset  ...  [0.7223333333333334, 0.7426210153482881, 0.696...\n",
              "3              Decision Tree - Small Dataset  ...  [0.6496666666666666, 0.8677685950413223, 0.366...\n",
              "4           Random Forestyes - Small Dataset  ...  [0.665, 0.8057851239669421, 0.4823889739663093...\n",
              "5               Boosted Tree - Small Dataset  ...  [0.7286666666666667, 0.8276269185360094, 0.600...\n",
              "6              Bayes - Lemma - Small Dataset  ...  [0.6903333333333334, 0.806965761511216, 0.5390...\n",
              "7      Decision Tree - Lemma - Small Dataset  ...  [0.6473333333333333, 0.9327036599763873, 0.277...\n",
              "8   Random Forestyes - Lemma - Small Dataset  ...  [0.6646666666666666, 0.8453364817001181, 0.430...\n",
              "9       Boosted Tree - Lemma - Small Dataset  ...  [0.7013333333333334, 0.833530106257379, 0.5298...\n",
              "10               SVM - Lemma - Small Dataset  ...  [0.685, 0.9132231404958677, 0.3889739663093415...\n",
              "11                         CNN - Big Dataset  ...  [0.7615409232738619, 0.847534910230835, 0.6514...\n",
              "12                       CNN - Small Dataset  ...  [0.7064, 0.7475862068965518, 0.649523809523809...\n",
              "\n",
              "[13 rows x 6 columns]"
            ]
          },
          "metadata": {
            "tags": []
          },
          "execution_count": 40
        }
      ]
    },
    {
      "cell_type": "code",
      "metadata": {
        "id": "-9RVeMqAmgtj",
        "colab_type": "code",
        "colab": {}
      },
      "source": [
        "resultadosModelo.to_csv(RESULTS_FILE)"
      ],
      "execution_count": 0,
      "outputs": []
    },
    {
      "cell_type": "markdown",
      "metadata": {
        "id": "fl2WXdKd7awB",
        "colab_type": "text"
      },
      "source": [
        "## LSTM"
      ]
    },
    {
      "cell_type": "markdown",
      "metadata": {
        "id": "wtgHwChyn4ng",
        "colab_type": "text"
      },
      "source": [
        "### Primer Intento"
      ]
    },
    {
      "cell_type": "markdown",
      "metadata": {
        "id": "H98ySJE-7jZ4",
        "colab_type": "text"
      },
      "source": [
        "MI primer intento ha sido pasarle directamente la matriz de embeddings calculada para la CNN y ver que pasaba."
      ]
    },
    {
      "cell_type": "code",
      "metadata": {
        "id": "nCM0MWnPbbO2",
        "colab_type": "code",
        "colab": {}
      },
      "source": [
        "model = Sequential()\n",
        "model.add(layers.Embedding(vocab_size, embedding_layer_dim, input_length=maxlen))\n",
        "model.add(layers.LSTM(200))\n",
        "model.add(layers.Dense(1, activation='sigmoid'))\n",
        "model.compile(loss='binary_crossentropy', optimizer='adam', metrics=['accuracy'])"
      ],
      "execution_count": 0,
      "outputs": []
    },
    {
      "cell_type": "code",
      "metadata": {
        "id": "0OW7MHQ_bbLw",
        "colab_type": "code",
        "outputId": "f76d60b2-9a3f-4474-c2f9-8a0b50579afd",
        "colab": {
          "base_uri": "https://localhost:8080/",
          "height": 259
        }
      },
      "source": [
        "model.summary()"
      ],
      "execution_count": 0,
      "outputs": [
        {
          "output_type": "stream",
          "text": [
            "Model: \"sequential_8\"\n",
            "_________________________________________________________________\n",
            "Layer (type)                 Output Shape              Param #   \n",
            "=================================================================\n",
            "embedding_4 (Embedding)      (None, 40, 100)           1155100   \n",
            "_________________________________________________________________\n",
            "lstm_1 (LSTM)                (None, 200)               240800    \n",
            "_________________________________________________________________\n",
            "dense_7 (Dense)              (None, 1)                 201       \n",
            "=================================================================\n",
            "Total params: 1,396,101\n",
            "Trainable params: 1,396,101\n",
            "Non-trainable params: 0\n",
            "_________________________________________________________________\n"
          ],
          "name": "stdout"
        }
      ]
    },
    {
      "cell_type": "code",
      "metadata": {
        "id": "4u-RHh8AbbIo",
        "colab_type": "code",
        "outputId": "c19b11fc-01cd-4846-ebf4-cca7ca50c75a",
        "colab": {
          "base_uri": "https://localhost:8080/",
          "height": 296
        }
      },
      "source": [
        "history = model.fit(X_train, y_train,\n",
        "                    epochs=50,\n",
        "                    validation_data=(X_test, y_test),\n",
        "                    batch_size=16,\n",
        "                    callbacks=[earlystop])"
      ],
      "execution_count": 0,
      "outputs": [
        {
          "output_type": "stream",
          "text": [
            "Train on 7500 samples, validate on 2500 samples\n",
            "Epoch 1/50\n",
            "7500/7500 [==============================] - 50s 7ms/step - loss: 0.6831 - acc: 0.5593 - val_loss: 0.6694 - val_acc: 0.5800\n",
            "Epoch 2/50\n",
            "7500/7500 [==============================] - 49s 6ms/step - loss: 0.6594 - acc: 0.5548 - val_loss: 0.6683 - val_acc: 0.5324\n",
            "Epoch 3/50\n",
            "7500/7500 [==============================] - 48s 6ms/step - loss: 0.6685 - acc: 0.5540 - val_loss: 0.6703 - val_acc: 0.5800\n",
            "Epoch 4/50\n",
            "7500/7500 [==============================] - 48s 6ms/step - loss: 0.6664 - acc: 0.5523 - val_loss: 0.6666 - val_acc: 0.5800\n",
            "Epoch 5/50\n",
            "7500/7500 [==============================] - 48s 6ms/step - loss: 0.6658 - acc: 0.5529 - val_loss: 0.6777 - val_acc: 0.4796\n",
            "Epoch 6/50\n",
            "7500/7500 [==============================] - 48s 6ms/step - loss: 0.6641 - acc: 0.5556 - val_loss: 0.6753 - val_acc: 0.5800\n",
            "Epoch 7/50\n",
            "7500/7500 [==============================] - 48s 6ms/step - loss: 0.6598 - acc: 0.5528 - val_loss: 0.6772 - val_acc: 0.5800\n"
          ],
          "name": "stdout"
        }
      ]
    },
    {
      "cell_type": "markdown",
      "metadata": {
        "id": "G7ulyXmw7jOd",
        "colab_type": "text"
      },
      "source": [
        "Lo que pasa es que la red neuronal no aprende, enseguida todos los valores de salida convergen en 1, y en cuanto llega ahi no sale."
      ]
    },
    {
      "cell_type": "code",
      "metadata": {
        "id": "YT0yOmt7bbFp",
        "colab_type": "code",
        "outputId": "b0de21e6-0d54-4c43-ddd8-db3aaebe936e",
        "colab": {
          "base_uri": "https://localhost:8080/",
          "height": 35
        }
      },
      "source": [
        "# Evaluamos\n",
        "train_acc = model.evaluate(X_train, y_train)[1]\n",
        "prediction = model.predict(X_test)"
      ],
      "execution_count": 0,
      "outputs": [
        {
          "output_type": "stream",
          "text": [
            "7500/7500 [==============================] - 8s 1ms/step\n"
          ],
          "name": "stdout"
        }
      ]
    },
    {
      "cell_type": "code",
      "metadata": {
        "id": "QlrcF29dfFVQ",
        "colab_type": "code",
        "colab": {}
      },
      "source": [
        "def convertir_prediccion_en_entero(prediccion):\n",
        "    i = 0\n",
        "    resp = []\n",
        "    while i < len(prediccion):\n",
        "        resp.append(int(prediccion[i]))\n",
        "        i += 1\n",
        "    return resp"
      ],
      "execution_count": 0,
      "outputs": []
    },
    {
      "cell_type": "code",
      "metadata": {
        "id": "a6KunzG_eCK8",
        "colab_type": "code",
        "colab": {}
      },
      "source": [
        "prediccion = convertir_prediccion_en_array(prediction)\n",
        "prediccion2 = convertir_prediccion_en_entero(prediccion)"
      ],
      "execution_count": 0,
      "outputs": []
    },
    {
      "cell_type": "code",
      "metadata": {
        "id": "Bl7x7OTbeCDA",
        "colab_type": "code",
        "colab": {}
      },
      "source": [
        "confmat = confusion_matrix(y_test, prediccion2)"
      ],
      "execution_count": 0,
      "outputs": []
    },
    {
      "cell_type": "code",
      "metadata": {
        "id": "T6u6vB4WeB7U",
        "colab_type": "code",
        "outputId": "16e38e40-840b-4b90-cb7c-d8e93ad2f479",
        "colab": {
          "base_uri": "https://localhost:8080/",
          "height": 513
        }
      },
      "source": [
        "plot_confusion_matrix(confmat)"
      ],
      "execution_count": 0,
      "outputs": [
        {
          "output_type": "display_data",
          "data": {
            "image/png": "[encoded data removed]",
            "text/plain": [
              "<Figure size 504x504 with 1 Axes>"
            ]
          },
          "metadata": {
            "tags": []
          }
        }
      ]
    },
    {
      "cell_type": "markdown",
      "metadata": {
        "id": "RazbU9V_oCBb",
        "colab_type": "text"
      },
      "source": [
        "### ¿Qué está pasando aqui?"
      ]
    },
    {
      "cell_type": "markdown",
      "metadata": {
        "id": "XoMsKip2f5ZG",
        "colab_type": "text"
      },
      "source": [
        "Mi primer impulso ha sido pensar que la red estaba mal montada, y he dado muchas vueltas tanto a la red como a la parte de los embeddings. \n",
        "\n",
        "Incluso he sido tentado por hacerlo a mano....\n",
        "\n",
        "![Neural Network](https://imgs.xkcd.com/comics/trained_a_neural_net_2x.png)\n",
        "\n",
        "Pero no... la respuesta era [otra](https://en.wikipedia.org/wiki/Garbage_in,_garbage_out).\n",
        "\n",
        "![GIGO](https://candysdirt.com/wp-content/uploads/2016/05/Garbage-In-Garbage-Out.jpg)\n",
        ".\n",
        "\n",
        "\n",
        "Después de mucho (MUCHO) enredar, he echado un vistazo a los wordembeddings y el Tokenizador, y me he dado cuenta que muchas filas empezaban con 1, es decir, la palabra `< MENTION >` del dataset. Esto mismo pasa con la palabra `< HASHTAG>`\n",
        "\n",
        "Cuando he entrenado el modelo habiendo quitado esas palabras, por fín convergía a un resultado apropiado.\n"
      ]
    },
    {
      "cell_type": "code",
      "metadata": {
        "id": "1eaod7lFgTOq",
        "colab_type": "code",
        "colab": {}
      },
      "source": [
        "# quitar <MENTION>\n",
        "mention_re = r'<MENTION>'\n",
        "df['SentimentText'] = df['SentimentText'].apply(lambda x: replace_re(x, mention_re, \"\")) \n",
        "\n",
        "hashtag_re = r'<HASHTAG>'\n",
        "df['SentimentText'] = df['SentimentText'].apply(lambda x: replace_re(x, hashtag_re, \"\")) \n",
        "\n",
        "\n",
        "# quitar espacios antes y despues del texto (los que se hayan podido meter despues de las sustituciones)\n",
        "df['SentimentText'] = df['SentimentText'].map(lambda SentimentText: SentimentText.strip())  "
      ],
      "execution_count": 0,
      "outputs": []
    },
    {
      "cell_type": "code",
      "metadata": {
        "id": "YxulEYvng2bv",
        "colab_type": "code",
        "colab": {}
      },
      "source": [
        "sentiment_text = df['SentimentText'].values\n",
        "y = df['Sentiment'].values\n",
        "sentiment_train,sentiment_test,y_train,y_test = train_test_split(\n",
        "                                                sentiment_text, y,  \n",
        "                                                test_size=0.25,  \n",
        "                                                random_state=42)"
      ],
      "execution_count": 0,
      "outputs": []
    },
    {
      "cell_type": "code",
      "metadata": {
        "id": "izu3d8vng2aC",
        "colab_type": "code",
        "colab": {}
      },
      "source": [
        "tokenizer = Tokenizer(num_words=NUM_WORDS)\n",
        "tokenizer.fit_on_texts(sentiment_train)"
      ],
      "execution_count": 0,
      "outputs": []
    },
    {
      "cell_type": "code",
      "metadata": {
        "id": "fgiZAubUg2Vx",
        "colab_type": "code",
        "colab": {}
      },
      "source": [
        "X_train = tokenizer.texts_to_sequences(sentiment_train)\n",
        "X_test = tokenizer.texts_to_sequences(sentiment_test)"
      ],
      "execution_count": 0,
      "outputs": []
    },
    {
      "cell_type": "code",
      "metadata": {
        "id": "m9Zo8fCSg2QC",
        "colab_type": "code",
        "colab": {}
      },
      "source": [
        "vocab_size = len(tokenizer.word_index) + 1"
      ],
      "execution_count": 0,
      "outputs": []
    },
    {
      "cell_type": "code",
      "metadata": {
        "id": "v9uEsSm6gTLg",
        "colab_type": "code",
        "colab": {}
      },
      "source": [
        "X_train = pad_sequences(X_train, padding='post', maxlen=maxlen)\n",
        "X_test = pad_sequences(X_test, padding='post', maxlen=maxlen)"
      ],
      "execution_count": 0,
      "outputs": []
    },
    {
      "cell_type": "code",
      "metadata": {
        "id": "PWq_jHnSgTI6",
        "colab_type": "code",
        "colab": {}
      },
      "source": [
        "model = Sequential()\n",
        "model.add(layers.Embedding(vocab_size, embedding_layer_dim, input_length=maxlen))\n",
        "model.add(layers.LSTM(200))\n",
        "model.add(layers.Dense(1, activation='sigmoid'))\n",
        "model.compile(loss='binary_crossentropy', optimizer='adam', metrics=['accuracy'])\n",
        "\n",
        "earlystop = EarlyStopping(monitor='loss', min_delta=0, patience=10, verbose=0, mode='auto')"
      ],
      "execution_count": 0,
      "outputs": []
    },
    {
      "cell_type": "code",
      "metadata": {
        "id": "-pHUdcGXgTFp",
        "colab_type": "code",
        "outputId": "63bee382-c903-4c01-e0e1-ebe9e18e8a73",
        "colab": {
          "base_uri": "https://localhost:8080/",
          "height": 1000
        }
      },
      "source": [
        "history = model.fit(X_train, y_train,\n",
        "                    epochs=50,\n",
        "                    validation_data=(X_test, y_test),\n",
        "                    batch_size=16,\n",
        "                    callbacks=[earlystop])"
      ],
      "execution_count": 28,
      "outputs": [
        {
          "output_type": "stream",
          "text": [
            "WARNING:tensorflow:From /usr/local/lib/python3.6/dist-packages/keras/backend/tensorflow_backend.py:1033: The name tf.assign_add is deprecated. Please use tf.compat.v1.assign_add instead.\n",
            "\n",
            "Train on 7500 samples, validate on 2500 samples\n",
            "Epoch 1/50\n",
            "7500/7500 [==============================] - 54s 7ms/step - loss: 0.6873 - acc: 0.5593 - val_loss: 0.6814 - val_acc: 0.5800\n",
            "Epoch 2/50\n",
            "7500/7500 [==============================] - 49s 7ms/step - loss: 0.6860 - acc: 0.5615 - val_loss: 0.6805 - val_acc: 0.5800\n",
            "Epoch 3/50\n",
            "7500/7500 [==============================] - 48s 6ms/step - loss: 0.6864 - acc: 0.5609 - val_loss: 0.6726 - val_acc: 0.5696\n",
            "Epoch 4/50\n",
            "7500/7500 [==============================] - 48s 6ms/step - loss: 0.6859 - acc: 0.5573 - val_loss: 0.6897 - val_acc: 0.5596\n",
            "Epoch 5/50\n",
            "7500/7500 [==============================] - 48s 6ms/step - loss: 0.6859 - acc: 0.5441 - val_loss: 0.6747 - val_acc: 0.5556\n",
            "Epoch 6/50\n",
            "7500/7500 [==============================] - 48s 6ms/step - loss: 0.6794 - acc: 0.5493 - val_loss: 0.6748 - val_acc: 0.5800\n",
            "Epoch 7/50\n",
            "7500/7500 [==============================] - 48s 6ms/step - loss: 0.6746 - acc: 0.5572 - val_loss: 0.6728 - val_acc: 0.5696\n",
            "Epoch 8/50\n",
            "7500/7500 [==============================] - 48s 6ms/step - loss: 0.6846 - acc: 0.5593 - val_loss: 0.6819 - val_acc: 0.5800\n",
            "Epoch 9/50\n",
            "7500/7500 [==============================] - 48s 6ms/step - loss: 0.6731 - acc: 0.5865 - val_loss: 0.6866 - val_acc: 0.5492\n",
            "Epoch 10/50\n",
            "7500/7500 [==============================] - 49s 7ms/step - loss: 0.6457 - acc: 0.6329 - val_loss: 0.6678 - val_acc: 0.5920\n",
            "Epoch 11/50\n",
            "7500/7500 [==============================] - 49s 7ms/step - loss: 0.5960 - acc: 0.6904 - val_loss: 0.6709 - val_acc: 0.6064\n",
            "Epoch 12/50\n",
            "7500/7500 [==============================] - 49s 7ms/step - loss: 0.5361 - acc: 0.7412 - val_loss: 0.8185 - val_acc: 0.5168\n",
            "Epoch 13/50\n",
            "7500/7500 [==============================] - 50s 7ms/step - loss: 0.4843 - acc: 0.7825 - val_loss: 0.7653 - val_acc: 0.5920\n",
            "Epoch 14/50\n",
            "7500/7500 [==============================] - 49s 7ms/step - loss: 0.4190 - acc: 0.8235 - val_loss: 0.8091 - val_acc: 0.5992\n",
            "Epoch 15/50\n",
            "7500/7500 [==============================] - 49s 7ms/step - loss: 0.3662 - acc: 0.8503 - val_loss: 0.8454 - val_acc: 0.5996\n",
            "Epoch 16/50\n",
            "7500/7500 [==============================] - 49s 7ms/step - loss: 0.3214 - acc: 0.8727 - val_loss: 0.8501 - val_acc: 0.6140\n",
            "Epoch 17/50\n",
            "7500/7500 [==============================] - 49s 7ms/step - loss: 0.2780 - acc: 0.8959 - val_loss: 0.9395 - val_acc: 0.6284\n",
            "Epoch 18/50\n",
            "7500/7500 [==============================] - 49s 7ms/step - loss: 0.2540 - acc: 0.9091 - val_loss: 0.9821 - val_acc: 0.6200\n",
            "Epoch 19/50\n",
            "7500/7500 [==============================] - 49s 7ms/step - loss: 0.2157 - acc: 0.9240 - val_loss: 1.0787 - val_acc: 0.5748\n",
            "Epoch 20/50\n",
            "7500/7500 [==============================] - 50s 7ms/step - loss: 0.1898 - acc: 0.9363 - val_loss: 1.1705 - val_acc: 0.5796\n",
            "Epoch 21/50\n",
            "7500/7500 [==============================] - 49s 7ms/step - loss: 0.1938 - acc: 0.9327 - val_loss: 1.1505 - val_acc: 0.6180\n",
            "Epoch 22/50\n",
            "7500/7500 [==============================] - 49s 7ms/step - loss: 0.2246 - acc: 0.9185 - val_loss: 1.0578 - val_acc: 0.6172\n",
            "Epoch 23/50\n",
            "7500/7500 [==============================] - 50s 7ms/step - loss: 0.1664 - acc: 0.9415 - val_loss: 1.2539 - val_acc: 0.5688\n",
            "Epoch 24/50\n",
            "7500/7500 [==============================] - 50s 7ms/step - loss: 0.1500 - acc: 0.9465 - val_loss: 1.2250 - val_acc: 0.5944\n",
            "Epoch 25/50\n",
            "7500/7500 [==============================] - 50s 7ms/step - loss: 0.1480 - acc: 0.9505 - val_loss: 1.2698 - val_acc: 0.6196\n",
            "Epoch 26/50\n",
            "7500/7500 [==============================] - 49s 7ms/step - loss: 0.1185 - acc: 0.9591 - val_loss: 1.2694 - val_acc: 0.6180\n",
            "Epoch 27/50\n",
            "7500/7500 [==============================] - 50s 7ms/step - loss: 0.1380 - acc: 0.9524 - val_loss: 1.1824 - val_acc: 0.6264\n",
            "Epoch 28/50\n",
            "7500/7500 [==============================] - 49s 7ms/step - loss: 0.1500 - acc: 0.9504 - val_loss: 1.1715 - val_acc: 0.6132\n",
            "Epoch 29/50\n",
            "7500/7500 [==============================] - 49s 7ms/step - loss: 0.1057 - acc: 0.9675 - val_loss: 1.3429 - val_acc: 0.6164\n",
            "Epoch 30/50\n",
            "7500/7500 [==============================] - 49s 7ms/step - loss: 0.0961 - acc: 0.9669 - val_loss: 1.3505 - val_acc: 0.6192\n",
            "Epoch 31/50\n",
            "7500/7500 [==============================] - 49s 7ms/step - loss: 0.0804 - acc: 0.9739 - val_loss: 1.3449 - val_acc: 0.6180\n",
            "Epoch 32/50\n",
            "7500/7500 [==============================] - 49s 7ms/step - loss: 0.0767 - acc: 0.9757 - val_loss: 1.4237 - val_acc: 0.6256\n",
            "Epoch 33/50\n",
            "7500/7500 [==============================] - 50s 7ms/step - loss: 0.0890 - acc: 0.9740 - val_loss: 1.3826 - val_acc: 0.6216\n",
            "Epoch 34/50\n",
            "7500/7500 [==============================] - 49s 7ms/step - loss: 0.0739 - acc: 0.9771 - val_loss: 1.4324 - val_acc: 0.6196\n",
            "Epoch 35/50\n",
            "7500/7500 [==============================] - 49s 7ms/step - loss: 0.0723 - acc: 0.9779 - val_loss: 1.4207 - val_acc: 0.6252\n",
            "Epoch 36/50\n",
            "7500/7500 [==============================] - 49s 7ms/step - loss: 0.0993 - acc: 0.9701 - val_loss: 1.3278 - val_acc: 0.5952\n",
            "Epoch 37/50\n",
            "7500/7500 [==============================] - 49s 7ms/step - loss: 0.0846 - acc: 0.9735 - val_loss: 1.4924 - val_acc: 0.6088\n",
            "Epoch 38/50\n",
            "7500/7500 [==============================] - 49s 6ms/step - loss: 0.0631 - acc: 0.9796 - val_loss: 1.5469 - val_acc: 0.6020\n",
            "Epoch 39/50\n",
            "7500/7500 [==============================] - 49s 7ms/step - loss: 0.0916 - acc: 0.9717 - val_loss: 1.3705 - val_acc: 0.6276\n",
            "Epoch 40/50\n",
            "7500/7500 [==============================] - 49s 7ms/step - loss: 0.0747 - acc: 0.9769 - val_loss: 1.4227 - val_acc: 0.6220\n",
            "Epoch 41/50\n",
            "7500/7500 [==============================] - 49s 7ms/step - loss: 0.0552 - acc: 0.9840 - val_loss: 1.5163 - val_acc: 0.6272\n",
            "Epoch 42/50\n",
            "7500/7500 [==============================] - 49s 7ms/step - loss: 0.0511 - acc: 0.9839 - val_loss: 1.5137 - val_acc: 0.6136\n",
            "Epoch 43/50\n",
            "7500/7500 [==============================] - 49s 7ms/step - loss: 0.0558 - acc: 0.9831 - val_loss: 1.5188 - val_acc: 0.6276\n",
            "Epoch 44/50\n",
            "7500/7500 [==============================] - 49s 7ms/step - loss: 0.0479 - acc: 0.9851 - val_loss: 1.5475 - val_acc: 0.6260\n",
            "Epoch 45/50\n",
            "7500/7500 [==============================] - 49s 7ms/step - loss: 0.0527 - acc: 0.9855 - val_loss: 1.6058 - val_acc: 0.6212\n",
            "Epoch 46/50\n",
            "7500/7500 [==============================] - 49s 7ms/step - loss: 0.0557 - acc: 0.9829 - val_loss: 1.5748 - val_acc: 0.6236\n",
            "Epoch 47/50\n",
            "7500/7500 [==============================] - 49s 7ms/step - loss: 0.0596 - acc: 0.9811 - val_loss: 1.5614 - val_acc: 0.6096\n",
            "Epoch 48/50\n",
            "7500/7500 [==============================] - 49s 7ms/step - loss: 0.0447 - acc: 0.9879 - val_loss: 1.6300 - val_acc: 0.6136\n",
            "Epoch 49/50\n",
            "7500/7500 [==============================] - 49s 7ms/step - loss: 0.0625 - acc: 0.9793 - val_loss: 1.5449 - val_acc: 0.6296\n",
            "Epoch 50/50\n",
            "7500/7500 [==============================] - 48s 6ms/step - loss: 0.0433 - acc: 0.9864 - val_loss: 1.5837 - val_acc: 0.6060\n"
          ],
          "name": "stdout"
        }
      ]
    },
    {
      "cell_type": "code",
      "metadata": {
        "id": "mnZcfj1-hpr2",
        "colab_type": "code",
        "colab": {
          "base_uri": "https://localhost:8080/",
          "height": 35
        },
        "outputId": "b1f3fea9-3f68-49c6-dc9c-991932ceb2d2"
      },
      "source": [
        "train_acc = model.evaluate(X_train, y_train)[1]\n",
        "prediction = model.predict(X_test)"
      ],
      "execution_count": 29,
      "outputs": [
        {
          "output_type": "stream",
          "text": [
            "7500/7500 [==============================] - 8s 1ms/step\n"
          ],
          "name": "stdout"
        }
      ]
    },
    {
      "cell_type": "code",
      "metadata": {
        "id": "5yxPA-HUhpol",
        "colab_type": "code",
        "colab": {}
      },
      "source": [
        "prediccion = convertir_prediccion_en_array(prediction)\n",
        "prediccion2 = convertir_prediccion_en_entero(prediccion)\n",
        "confmat = confusion_matrix(y_test, prediccion2)"
      ],
      "execution_count": 0,
      "outputs": []
    },
    {
      "cell_type": "code",
      "metadata": {
        "id": "TCLmZ5Rphpl5",
        "colab_type": "code",
        "colab": {
          "base_uri": "https://localhost:8080/",
          "height": 513
        },
        "outputId": "1d17b64a-28e2-4949-b290-dee2db96322b"
      },
      "source": [
        "plot_confusion_matrix(confmat)"
      ],
      "execution_count": 36,
      "outputs": [
        {
          "output_type": "display_data",
          "data": {
            "image/png": "[encoded data removed]",
            "text/plain": [
              "<Figure size 504x504 with 1 Axes>"
            ]
          },
          "metadata": {
            "tags": []
          }
        }
      ]
    },
    {
      "cell_type": "code",
      "metadata": {
        "id": "-R9B_1nChpjh",
        "colab_type": "code",
        "colab": {
          "base_uri": "https://localhost:8080/",
          "height": 104
        },
        "outputId": "763ed346-c267-44db-f0f0-8ffd7159a907"
      },
      "source": [
        "metricas = calcula_metricas(confmat, plot=False)"
      ],
      "execution_count": 37,
      "outputs": [
        {
          "output_type": "stream",
          "text": [
            "ACC:  0.606\n",
            "SEN:  0.6255172413793103\n",
            "ESP:  0.579047619047619\n",
            "PPV:  0.6723498888065234\n",
            "FSC:  0.6480886030725258\n"
          ],
          "name": "stdout"
        }
      ]
    },
    {
      "cell_type": "code",
      "metadata": {
        "id": "8WD3AbXbhpfd",
        "colab_type": "code",
        "colab": {}
      },
      "source": [
        "test_acc = metricas[0]"
      ],
      "execution_count": 0,
      "outputs": []
    },
    {
      "cell_type": "code",
      "metadata": {
        "id": "ZYoaE-QVuDSG",
        "colab_type": "code",
        "colab": {}
      },
      "source": [
        "resultadosModelo = pd.read_csv(RESULTS_FILE)\n",
        "resultadosModelo = resultadosModelo.drop(['Unnamed: 0'], axis=1)\n",
        "\n",
        "resultado = ['RNN - Small Dataset - Fuera <MENTIONS> y <HASHTAG>', '-', train_acc, test_acc, confmat, metricas]"
      ],
      "execution_count": 0,
      "outputs": []
    },
    {
      "cell_type": "code",
      "metadata": {
        "id": "EGO4yJ8AuDPA",
        "colab_type": "code",
        "colab": {
          "base_uri": "https://localhost:8080/",
          "height": 438
        },
        "outputId": "b8616fc5-99ec-490d-b0aa-5531243a6a69"
      },
      "source": [
        "add_row(resultadosModelo, resultado)"
      ],
      "execution_count": 40,
      "outputs": [
        {
          "output_type": "execute_result",
          "data": {
            "text/html": [
              "<div>\n",
              "<style scoped>\n",
              "    .dataframe tbody tr th:only-of-type {\n",
              "        vertical-align: middle;\n",
              "    }\n",
              "\n",
              "    .dataframe tbody tr th {\n",
              "        vertical-align: top;\n",
              "    }\n",
              "\n",
              "    .dataframe thead th {\n",
              "        text-align: right;\n",
              "    }\n",
              "</style>\n",
              "<table border=\"1\" class=\"dataframe\">\n",
              "  <thead>\n",
              "    <tr style=\"text-align: right;\">\n",
              "      <th></th>\n",
              "      <th>Modelo</th>\n",
              "      <th>parametros-optimos</th>\n",
              "      <th>train</th>\n",
              "      <th>test</th>\n",
              "      <th>confusion_matrix</th>\n",
              "      <th>acc_sen_esp_ppv_fsc</th>\n",
              "    </tr>\n",
              "  </thead>\n",
              "  <tbody>\n",
              "    <tr>\n",
              "      <th>0</th>\n",
              "      <td>RNN - Small Dataset - Fuera &lt;MENTIONS&gt; y &lt;HASH...</td>\n",
              "      <td>-</td>\n",
              "      <td>0.989733</td>\n",
              "      <td>0.606000</td>\n",
              "      <td>[[608, 442], [543, 907]]</td>\n",
              "      <td>[0.606, 0.6255172413793103, 0.579047619047619,...</td>\n",
              "    </tr>\n",
              "    <tr>\n",
              "      <th>1</th>\n",
              "      <td>SVM - Small Dataset</td>\n",
              "      <td>{'svm__C': 5.994842503189409, 'svm__gamma': 0....</td>\n",
              "      <td>0.716000</td>\n",
              "      <td>0.733000</td>\n",
              "      <td>[[ 799  507]\\n [ 294 1400]]</td>\n",
              "      <td>[0.733, 0.8264462809917356, 0.611791730474732,...</td>\n",
              "    </tr>\n",
              "    <tr>\n",
              "      <th>2</th>\n",
              "      <td>Bayes - Small Dataset</td>\n",
              "      <td>{'vect__analyzer': 'char', 'vect__max_df': 1.0...</td>\n",
              "      <td>0.717000</td>\n",
              "      <td>0.722333</td>\n",
              "      <td>[[ 909  397]\\n [ 436 1258]]</td>\n",
              "      <td>[0.7223333333333334, 0.7426210153482881, 0.696...</td>\n",
              "    </tr>\n",
              "    <tr>\n",
              "      <th>3</th>\n",
              "      <td>Decision Tree - Small Dataset</td>\n",
              "      <td>{'tree__max_depth': 19, 'vect__analyzer': 'wor...</td>\n",
              "      <td>0.653286</td>\n",
              "      <td>0.649667</td>\n",
              "      <td>[[ 479  827]\\n [ 224 1470]]</td>\n",
              "      <td>[0.6496666666666666, 0.8677685950413223, 0.366...</td>\n",
              "    </tr>\n",
              "    <tr>\n",
              "      <th>4</th>\n",
              "      <td>Random Forestyes - Small Dataset</td>\n",
              "      <td>{'forest__max_depth': 23, 'vect__analyzer': 'c...</td>\n",
              "      <td>0.668857</td>\n",
              "      <td>0.665000</td>\n",
              "      <td>[[ 630  676]\\n [ 329 1365]]</td>\n",
              "      <td>[0.665, 0.8057851239669421, 0.4823889739663093...</td>\n",
              "    </tr>\n",
              "    <tr>\n",
              "      <th>5</th>\n",
              "      <td>Boosted Tree - Small Dataset</td>\n",
              "      <td>{'boosted__learning_rate': 0.1, 'boosted__max_...</td>\n",
              "      <td>0.714857</td>\n",
              "      <td>0.728667</td>\n",
              "      <td>[[ 784  522]\\n [ 292 1402]]</td>\n",
              "      <td>[0.7286666666666667, 0.8276269185360094, 0.600...</td>\n",
              "    </tr>\n",
              "    <tr>\n",
              "      <th>6</th>\n",
              "      <td>Bayes - Lemma - Small Dataset</td>\n",
              "      <td>{'vect__analyzer': 'word', 'vect__max_df': 0.5...</td>\n",
              "      <td>0.686670</td>\n",
              "      <td>0.690333</td>\n",
              "      <td>[[ 704  602]\\n [ 327 1367]]</td>\n",
              "      <td>[0.6903333333333334, 0.806965761511216, 0.5390...</td>\n",
              "    </tr>\n",
              "    <tr>\n",
              "      <th>7</th>\n",
              "      <td>Decision Tree - Lemma - Small Dataset</td>\n",
              "      <td>{'tree__max_depth': 19, 'vect__analyzer': 'wor...</td>\n",
              "      <td>0.650236</td>\n",
              "      <td>0.647333</td>\n",
              "      <td>[[ 362  944]\\n [ 114 1580]]</td>\n",
              "      <td>[0.6473333333333333, 0.9327036599763873, 0.277...</td>\n",
              "    </tr>\n",
              "    <tr>\n",
              "      <th>8</th>\n",
              "      <td>Random Forestyes - Lemma - Small Dataset</td>\n",
              "      <td>{'forest__max_depth': 28, 'vect__analyzer': 'c...</td>\n",
              "      <td>0.660237</td>\n",
              "      <td>0.664667</td>\n",
              "      <td>[[ 562  744]\\n [ 262 1432]]</td>\n",
              "      <td>[0.6646666666666666, 0.8453364817001181, 0.430...</td>\n",
              "    </tr>\n",
              "    <tr>\n",
              "      <th>9</th>\n",
              "      <td>Boosted Tree - Lemma - Small Dataset</td>\n",
              "      <td>{'boosted__learning_rate': 0.1, 'boosted__max_...</td>\n",
              "      <td>0.686955</td>\n",
              "      <td>0.701333</td>\n",
              "      <td>[[ 692  614]\\n [ 282 1412]]</td>\n",
              "      <td>[0.7013333333333334, 0.833530106257379, 0.5298...</td>\n",
              "    </tr>\n",
              "    <tr>\n",
              "      <th>10</th>\n",
              "      <td>SVM - Lemma - Small Dataset</td>\n",
              "      <td>{'svm__C': 1.0, 'svm__gamma': 0.03162277660168...</td>\n",
              "      <td>0.665524</td>\n",
              "      <td>0.685000</td>\n",
              "      <td>[[ 508  798]\\n [ 147 1547]]</td>\n",
              "      <td>[0.685, 0.9132231404958677, 0.3889739663093415...</td>\n",
              "    </tr>\n",
              "    <tr>\n",
              "      <th>11</th>\n",
              "      <td>CNN - Big Dataset</td>\n",
              "      <td>-</td>\n",
              "      <td>0.927431</td>\n",
              "      <td>0.761541</td>\n",
              "      <td>[[ 7141  3821]\\n [ 2140 11896]]</td>\n",
              "      <td>[0.7615409232738619, 0.847534910230835, 0.6514...</td>\n",
              "    </tr>\n",
              "    <tr>\n",
              "      <th>12</th>\n",
              "      <td>CNN - Small Dataset</td>\n",
              "      <td>-</td>\n",
              "      <td>0.992667</td>\n",
              "      <td>0.706400</td>\n",
              "      <td>[[ 682  368]\\n [ 366 1084]]</td>\n",
              "      <td>[0.7064, 0.7475862068965518, 0.649523809523809...</td>\n",
              "    </tr>\n",
              "  </tbody>\n",
              "</table>\n",
              "</div>"
            ],
            "text/plain": [
              "                                               Modelo  ...                                acc_sen_esp_ppv_fsc\n",
              "0   RNN - Small Dataset - Fuera <MENTIONS> y <HASH...  ...  [0.606, 0.6255172413793103, 0.579047619047619,...\n",
              "1                                 SVM - Small Dataset  ...  [0.733, 0.8264462809917356, 0.611791730474732,...\n",
              "2                               Bayes - Small Dataset  ...  [0.7223333333333334, 0.7426210153482881, 0.696...\n",
              "3                       Decision Tree - Small Dataset  ...  [0.6496666666666666, 0.8677685950413223, 0.366...\n",
              "4                    Random Forestyes - Small Dataset  ...  [0.665, 0.8057851239669421, 0.4823889739663093...\n",
              "5                        Boosted Tree - Small Dataset  ...  [0.7286666666666667, 0.8276269185360094, 0.600...\n",
              "6                       Bayes - Lemma - Small Dataset  ...  [0.6903333333333334, 0.806965761511216, 0.5390...\n",
              "7               Decision Tree - Lemma - Small Dataset  ...  [0.6473333333333333, 0.9327036599763873, 0.277...\n",
              "8            Random Forestyes - Lemma - Small Dataset  ...  [0.6646666666666666, 0.8453364817001181, 0.430...\n",
              "9                Boosted Tree - Lemma - Small Dataset  ...  [0.7013333333333334, 0.833530106257379, 0.5298...\n",
              "10                        SVM - Lemma - Small Dataset  ...  [0.685, 0.9132231404958677, 0.3889739663093415...\n",
              "11                                  CNN - Big Dataset  ...  [0.7615409232738619, 0.847534910230835, 0.6514...\n",
              "12                                CNN - Small Dataset  ...  [0.7064, 0.7475862068965518, 0.649523809523809...\n",
              "\n",
              "[13 rows x 6 columns]"
            ]
          },
          "metadata": {
            "tags": []
          },
          "execution_count": 40
        }
      ]
    },
    {
      "cell_type": "code",
      "metadata": {
        "id": "XH4MMVHo9aX4",
        "colab_type": "code",
        "colab": {}
      },
      "source": [
        "resultadosModelo.to_csv(RESULTS_FILE)"
      ],
      "execution_count": 0,
      "outputs": []
    },
    {
      "cell_type": "markdown",
      "metadata": {
        "id": "gFzLxmA34SHj",
        "colab_type": "text"
      },
      "source": [
        "### Mejorando el modelo"
      ]
    },
    {
      "cell_type": "code",
      "metadata": {
        "id": "r5Pd_WB1uDMA",
        "colab_type": "code",
        "colab": {}
      },
      "source": [
        ""
      ],
      "execution_count": 0,
      "outputs": []
    },
    {
      "cell_type": "code",
      "metadata": {
        "id": "PJNRVrPauDIq",
        "colab_type": "code",
        "colab": {}
      },
      "source": [
        "model = Sequential()\n",
        "model.add(layers.Embedding(vocab_size, embedding_layer_dim, input_length=maxlen))\n",
        "model.add(layers.SpatialDropout1D(0.4))\n",
        "model.add(layers.LSTM(128, dropout=0.2, recurrent_dropout=0.2))\n",
        "model.add(layers.Dense(1,activation='sigmoid'))\n",
        "\n",
        "model.compile(loss='binary_crossentropy', optimizer='adam', metrics=['accuracy'])\n",
        "\n",
        "earlystop = EarlyStopping(monitor='loss', min_delta=0, patience=10, verbose=0, mode='auto')\n"
      ],
      "execution_count": 0,
      "outputs": []
    },
    {
      "cell_type": "code",
      "metadata": {
        "id": "gxPAvKjtLMYh",
        "colab_type": "code",
        "colab": {
          "base_uri": "https://localhost:8080/",
          "height": 294
        },
        "outputId": "c267dd98-c7a9-4d83-f875-78b3b8878971"
      },
      "source": [
        "model.summary()"
      ],
      "execution_count": 54,
      "outputs": [
        {
          "output_type": "stream",
          "text": [
            "Model: \"sequential_12\"\n",
            "_________________________________________________________________\n",
            "Layer (type)                 Output Shape              Param #   \n",
            "=================================================================\n",
            "embedding_11 (Embedding)     (None, 40, 100)           1155200   \n",
            "_________________________________________________________________\n",
            "spatial_dropout1d_2 (Spatial (None, 40, 100)           0         \n",
            "_________________________________________________________________\n",
            "lstm_13 (LSTM)               (None, 128)               117248    \n",
            "_________________________________________________________________\n",
            "dense_6 (Dense)              (None, 1)                 129       \n",
            "=================================================================\n",
            "Total params: 1,272,577\n",
            "Trainable params: 1,272,577\n",
            "Non-trainable params: 0\n",
            "_________________________________________________________________\n"
          ],
          "name": "stdout"
        }
      ]
    },
    {
      "cell_type": "code",
      "metadata": {
        "id": "vvRcADf6uDHM",
        "colab_type": "code",
        "colab": {
          "base_uri": "https://localhost:8080/",
          "height": 380
        },
        "outputId": "c23c31e1-fc54-402a-8e6a-0122518331ce"
      },
      "source": [
        "history = model.fit(X_train, y_train,\n",
        "                    epochs=10,\n",
        "                    validation_data=(X_test, y_test),\n",
        "                    batch_size=16,\n",
        "                    callbacks=[earlystop])"
      ],
      "execution_count": 53,
      "outputs": [
        {
          "output_type": "stream",
          "text": [
            "Train on 7500 samples, validate on 2500 samples\n",
            "Epoch 1/10\n",
            "7500/7500 [==============================] - 54s 7ms/step - loss: 0.3484 - acc: 0.8649 - val_loss: 0.6666 - val_acc: 0.7004\n",
            "Epoch 2/10\n",
            "7500/7500 [==============================] - 54s 7ms/step - loss: 0.3223 - acc: 0.8740 - val_loss: 0.7602 - val_acc: 0.7048\n",
            "Epoch 3/10\n",
            "7500/7500 [==============================] - 54s 7ms/step - loss: 0.2964 - acc: 0.8875 - val_loss: 0.7017 - val_acc: 0.7008\n",
            "Epoch 4/10\n",
            "7500/7500 [==============================] - 53s 7ms/step - loss: 0.2717 - acc: 0.9012 - val_loss: 0.7467 - val_acc: 0.7008\n",
            "Epoch 5/10\n",
            "7500/7500 [==============================] - 53s 7ms/step - loss: 0.2492 - acc: 0.9059 - val_loss: 0.7612 - val_acc: 0.6988\n",
            "Epoch 6/10\n",
            "7500/7500 [==============================] - 52s 7ms/step - loss: 0.2274 - acc: 0.9179 - val_loss: 0.7790 - val_acc: 0.7024\n",
            "Epoch 7/10\n",
            "7500/7500 [==============================] - 52s 7ms/step - loss: 0.2176 - acc: 0.9196 - val_loss: 0.7927 - val_acc: 0.7000\n",
            "Epoch 8/10\n",
            "7500/7500 [==============================] - 53s 7ms/step - loss: 0.1953 - acc: 0.9300 - val_loss: 0.8605 - val_acc: 0.6924\n",
            "Epoch 9/10\n",
            "7500/7500 [==============================] - 53s 7ms/step - loss: 0.1763 - acc: 0.9387 - val_loss: 0.8856 - val_acc: 0.6936\n",
            "Epoch 10/10\n",
            "7500/7500 [==============================] - 52s 7ms/step - loss: 0.1765 - acc: 0.9356 - val_loss: 0.9559 - val_acc: 0.6836\n"
          ],
          "name": "stdout"
        }
      ]
    },
    {
      "cell_type": "code",
      "metadata": {
        "id": "N9QUdUC3uDAi",
        "colab_type": "code",
        "colab": {
          "base_uri": "https://localhost:8080/",
          "height": 35
        },
        "outputId": "57a03dfb-2aaa-4282-81d0-8333790410b5"
      },
      "source": [
        "train_acc = model.evaluate(X_train, y_train)[1]\n",
        "prediction = model.predict(X_test)"
      ],
      "execution_count": 55,
      "outputs": [
        {
          "output_type": "stream",
          "text": [
            "7500/7500 [==============================] - 8s 1ms/step\n"
          ],
          "name": "stdout"
        }
      ]
    },
    {
      "cell_type": "code",
      "metadata": {
        "id": "SiqR2I1ruC95",
        "colab_type": "code",
        "colab": {}
      },
      "source": [
        "prediccion = convertir_prediccion_en_array(prediction)\n",
        "prediccion2 = convertir_prediccion_en_entero(prediccion)\n",
        "\n",
        "confmat = confusion_matrix(y_test, prediccion2)"
      ],
      "execution_count": 0,
      "outputs": []
    },
    {
      "cell_type": "code",
      "metadata": {
        "id": "9GuqOy5U8621",
        "colab_type": "code",
        "colab": {
          "base_uri": "https://localhost:8080/",
          "height": 513
        },
        "outputId": "6d7a6a6d-dd83-479f-bfe4-51297f159fd6"
      },
      "source": [
        "plot_confusion_matrix(confmat)"
      ],
      "execution_count": 57,
      "outputs": [
        {
          "output_type": "display_data",
          "data": {
            "image/png": "[encoded data removed]",
            "text/plain": [
              "<Figure size 504x504 with 1 Axes>"
            ]
          },
          "metadata": {
            "tags": []
          }
        }
      ]
    },
    {
      "cell_type": "code",
      "metadata": {
        "id": "UcpK8l_786yz",
        "colab_type": "code",
        "colab": {
          "base_uri": "https://localhost:8080/",
          "height": 104
        },
        "outputId": "083627c6-27ba-4eb1-a201-090884d2923d"
      },
      "source": [
        "metricas = calcula_metricas(confmat, plot=False)"
      ],
      "execution_count": 58,
      "outputs": [
        {
          "output_type": "stream",
          "text": [
            "ACC:  0.6836\n",
            "SEN:  0.6772413793103448\n",
            "ESP:  0.6923809523809524\n",
            "PPV:  0.7524904214559387\n",
            "FSC:  0.712885662431942\n"
          ],
          "name": "stdout"
        }
      ]
    },
    {
      "cell_type": "code",
      "metadata": {
        "id": "MHQGxbbg86vm",
        "colab_type": "code",
        "colab": {}
      },
      "source": [
        "test_acc = metricas[0]\n",
        "\n",
        "resultadosModelo = pd.read_csv(RESULTS_FILE)\n",
        "resultadosModelo = resultadosModelo.drop(['Unnamed: 0'], axis=1)\n",
        "\n",
        "resultado = ['RNN - SmDst - LSTM con Dropout', '-', train_acc, test_acc, confmat, metricas]"
      ],
      "execution_count": 0,
      "outputs": []
    },
    {
      "cell_type": "code",
      "metadata": {
        "id": "SugBF8DY86qw",
        "colab_type": "code",
        "colab": {}
      },
      "source": [
        "add_row(resultadosModelo, resultado)\n",
        "resultadosModelo.to_csv(RESULTS_FILE)"
      ],
      "execution_count": 0,
      "outputs": []
    }
  ]
}