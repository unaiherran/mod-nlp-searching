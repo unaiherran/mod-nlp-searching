{
  "nbformat": 4,
  "nbformat_minor": 0,
  "metadata": {
    "kernelspec": {
      "name": "python3",
      "display_name": "Python 3"
    },
    "language_info": {
      "codemirror_mode": {
        "name": "ipython",
        "version": 3
      },
      "file_extension": ".py",
      "mimetype": "text/x-python",
      "name": "python",
      "nbconvert_exporter": "python",
      "pygments_lexer": "ipython3",
      "version": "3.7.1"
    },
    "colab": {
      "name": "3 - Generar Tweets como Obama - Language Modelling.ipynb",
      "provenance": [],
      "collapsed_sections": [],
      "toc_visible": true
    },
    "accelerator": "GPU"
  },
  "cells": [
    {
      "cell_type": "markdown",
      "metadata": {
        "id": "FvwS_vrG1HVX",
        "colab_type": "text"
      },
      "source": [
        "# Generador de Tweets de Obama"
      ]
    },
    {
      "cell_type": "markdown",
      "metadata": {
        "id": "dvdb7ldD1N4R",
        "colab_type": "text"
      },
      "source": [
        "Basandonos en un listado de tweets de Barack Obama, queremos empezar una frase y ver cómo la terminaria Obama\n"
      ]
    },
    {
      "cell_type": "markdown",
      "metadata": {
        "id": "kfiiPUkg1Nxa",
        "colab_type": "text"
      },
      "source": [
        "## Preparación"
      ]
    },
    {
      "cell_type": "markdown",
      "metadata": {
        "id": "TZxRT_gC1g4N",
        "colab_type": "text"
      },
      "source": [
        "Al estar el notebook alojado en Google Colab, hay que cargar el dataset en el entorno de ejecución."
      ]
    },
    {
      "cell_type": "code",
      "metadata": {
        "id": "xqjtgwkwXPNG",
        "colab_type": "code",
        "outputId": "dbdaf62b-ad12-4e6c-dd1c-f548f2e64877",
        "colab": {
          "base_uri": "https://localhost:8080/",
          "height": 52
        }
      },
      "source": [
        "!mkdir datasets\n",
        "!mv BarackObama.json datasets"
      ],
      "execution_count": 0,
      "outputs": [
        {
          "output_type": "stream",
          "text": [
            "mkdir: cannot create directory ‘datasets’: File exists\n",
            "mv: cannot stat 'BarackObama.json': No such file or directory\n"
          ],
          "name": "stdout"
        }
      ]
    },
    {
      "cell_type": "markdown",
      "metadata": {
        "id": "nX0F4KVTj3bj",
        "colab_type": "text"
      },
      "source": [
        "Instalamos Spacy"
      ]
    },
    {
      "cell_type": "code",
      "metadata": {
        "id": "ph1s7rO1WmhR",
        "colab_type": "code",
        "outputId": "85d6ad10-1f5e-4cdf-eb11-b60917852c8e",
        "colab": {
          "base_uri": "https://localhost:8080/",
          "height": 314
        }
      },
      "source": [
        "!pip install spacy"
      ],
      "execution_count": 0,
      "outputs": [
        {
          "output_type": "stream",
          "text": [
            "Requirement already satisfied: spacy in /usr/local/lib/python3.6/dist-packages (2.1.8)\n",
            "Requirement already satisfied: numpy>=1.15.0 in /usr/local/lib/python3.6/dist-packages (from spacy) (1.16.5)\n",
            "Requirement already satisfied: blis<0.3.0,>=0.2.2 in /usr/local/lib/python3.6/dist-packages (from spacy) (0.2.4)\n",
            "Requirement already satisfied: wasabi<1.1.0,>=0.2.0 in /usr/local/lib/python3.6/dist-packages (from spacy) (0.2.2)\n",
            "Requirement already satisfied: thinc<7.1.0,>=7.0.8 in /usr/local/lib/python3.6/dist-packages (from spacy) (7.0.8)\n",
            "Requirement already satisfied: requests<3.0.0,>=2.13.0 in /usr/local/lib/python3.6/dist-packages (from spacy) (2.21.0)\n",
            "Requirement already satisfied: plac<1.0.0,>=0.9.6 in /usr/local/lib/python3.6/dist-packages (from spacy) (0.9.6)\n",
            "Requirement already satisfied: preshed<2.1.0,>=2.0.1 in /usr/local/lib/python3.6/dist-packages (from spacy) (2.0.1)\n",
            "Requirement already satisfied: murmurhash<1.1.0,>=0.28.0 in /usr/local/lib/python3.6/dist-packages (from spacy) (1.0.2)\n",
            "Requirement already satisfied: srsly<1.1.0,>=0.0.6 in /usr/local/lib/python3.6/dist-packages (from spacy) (0.1.0)\n",
            "Requirement already satisfied: cymem<2.1.0,>=2.0.2 in /usr/local/lib/python3.6/dist-packages (from spacy) (2.0.2)\n",
            "Requirement already satisfied: tqdm<5.0.0,>=4.10.0 in /usr/local/lib/python3.6/dist-packages (from thinc<7.1.0,>=7.0.8->spacy) (4.28.1)\n",
            "Requirement already satisfied: chardet<3.1.0,>=3.0.2 in /usr/local/lib/python3.6/dist-packages (from requests<3.0.0,>=2.13.0->spacy) (3.0.4)\n",
            "Requirement already satisfied: urllib3<1.25,>=1.21.1 in /usr/local/lib/python3.6/dist-packages (from requests<3.0.0,>=2.13.0->spacy) (1.24.3)\n",
            "Requirement already satisfied: idna<2.9,>=2.5 in /usr/local/lib/python3.6/dist-packages (from requests<3.0.0,>=2.13.0->spacy) (2.8)\n",
            "Requirement already satisfied: certifi>=2017.4.17 in /usr/local/lib/python3.6/dist-packages (from requests<3.0.0,>=2.13.0->spacy) (2019.6.16)\n"
          ],
          "name": "stdout"
        }
      ]
    },
    {
      "cell_type": "code",
      "metadata": {
        "id": "RtvGUHOlWmhT",
        "colab_type": "code",
        "outputId": "4a3a422f-7bc5-4c3d-daa5-302802d5a52b",
        "colab": {
          "base_uri": "https://localhost:8080/",
          "height": 89
        }
      },
      "source": [
        "!python -m spacy download en_core_web_sm"
      ],
      "execution_count": 0,
      "outputs": [
        {
          "output_type": "stream",
          "text": [
            "Requirement already satisfied: en_core_web_sm==2.1.0 from https://github.com/explosion/spacy-models/releases/download/en_core_web_sm-2.1.0/en_core_web_sm-2.1.0.tar.gz#egg=en_core_web_sm==2.1.0 in /usr/local/lib/python3.6/dist-packages (2.1.0)\n",
            "\u001b[38;5;2m✔ Download and installation successful\u001b[0m\n",
            "You can now load the model via spacy.load('en_core_web_sm')\n"
          ],
          "name": "stdout"
        }
      ]
    },
    {
      "cell_type": "markdown",
      "metadata": {
        "id": "Q7uc82UBkC22",
        "colab_type": "text"
      },
      "source": [
        "## Importacion de Dataset"
      ]
    },
    {
      "cell_type": "code",
      "metadata": {
        "id": "HSMxtEexWmhP",
        "colab_type": "code",
        "colab": {}
      },
      "source": [
        "import numpy as np\n",
        "import pandas as pd\n",
        "import re"
      ],
      "execution_count": 0,
      "outputs": []
    },
    {
      "cell_type": "code",
      "metadata": {
        "id": "nqqlMlkhWmhV",
        "colab_type": "code",
        "colab": {}
      },
      "source": [
        "twt = pd.read_json (r'datasets/BarackObama.json',typ='series')"
      ],
      "execution_count": 0,
      "outputs": []
    },
    {
      "cell_type": "code",
      "metadata": {
        "id": "x9IA-wYrWmhW",
        "colab_type": "code",
        "colab": {}
      },
      "source": [
        "df = twt.to_frame()"
      ],
      "execution_count": 0,
      "outputs": []
    },
    {
      "cell_type": "code",
      "metadata": {
        "id": "KMYAvq32WmhY",
        "colab_type": "code",
        "colab": {}
      },
      "source": [
        "df.columns = ['tweet']"
      ],
      "execution_count": 0,
      "outputs": []
    },
    {
      "cell_type": "markdown",
      "metadata": {
        "id": "VqQudTTA6uhr",
        "colab_type": "text"
      },
      "source": [
        "Vemos que hay tweets duplicados"
      ]
    },
    {
      "cell_type": "code",
      "metadata": {
        "id": "qNejWyFIWmhZ",
        "colab_type": "code",
        "outputId": "458e732b-6bb6-468b-ef1c-c8afded9d9e0",
        "colab": {
          "base_uri": "https://localhost:8080/",
          "height": 35
        }
      },
      "source": [
        "df.shape"
      ],
      "execution_count": 0,
      "outputs": [
        {
          "output_type": "execute_result",
          "data": {
            "text/plain": [
              "(2894, 1)"
            ]
          },
          "metadata": {
            "tags": []
          },
          "execution_count": 6
        }
      ]
    },
    {
      "cell_type": "code",
      "metadata": {
        "id": "TveRYGRsWmhb",
        "colab_type": "code",
        "outputId": "78f57d19-c3fc-409c-e419-140bec84b780",
        "colab": {
          "base_uri": "https://localhost:8080/",
          "height": 35
        }
      },
      "source": [
        "df = df.drop_duplicates()\n",
        "df.shape"
      ],
      "execution_count": 0,
      "outputs": [
        {
          "output_type": "execute_result",
          "data": {
            "text/plain": [
              "(2861, 1)"
            ]
          },
          "metadata": {
            "tags": []
          },
          "execution_count": 7
        }
      ]
    },
    {
      "cell_type": "markdown",
      "metadata": {
        "id": "HomGMPNG6xqP",
        "colab_type": "text"
      },
      "source": [
        "Limpiamos los tweets de la misma manera que en el primer ejercicio."
      ]
    },
    {
      "cell_type": "code",
      "metadata": {
        "id": "RaXuuHBeWmhc",
        "colab_type": "code",
        "colab": {}
      },
      "source": [
        "def replace_re (cad, regex, token):\n",
        "    return re.sub(regex, token, cad)"
      ],
      "execution_count": 0,
      "outputs": []
    },
    {
      "cell_type": "code",
      "metadata": {
        "id": "VtsAV__BWmhe",
        "colab_type": "code",
        "colab": {}
      },
      "source": [
        "# quitar espacios antes y despues del texto\n",
        "df['tweet'] = df['tweet'].map(lambda SentimentText: SentimentText.strip())  \n",
        " \n",
        "# Cambiar special HTML entities (de http://www.htmlhelp.com/reference/html40/entities/special.html)\n",
        "#  &amp; \t&lt; \t&gt; &circ; &tilde;\n",
        "df['tweet'] = df['tweet'].map(lambda tweet: tweet.replace('&amp;', '& '))\n",
        "df['tweet'] = df['tweet'].map(lambda tweet: tweet.replace('&lt;', '<'))\n",
        "df['tweet'] = df['tweet'].map(lambda tweet: tweet.replace('&gt;', '>'))\n",
        "df['tweet'] = df['tweet'].map(lambda tweet: tweet.replace('&circ;', '^'))\n",
        "\n",
        "# &ensp; &emsp; &thinsp; -> ' '\n",
        "df['tweet'] = df['tweet'].map(lambda tweet: tweet.replace('&ensp;', ' '))\n",
        "df['tweet'] = df['tweet'].map(lambda tweet: tweet.replace('&thinsp;', ' '))\n",
        "df['tweet'] = df['tweet'].map(lambda tweet: tweet.replace('&emsp;', ' '))\n",
        "\n",
        "# &ndash; \t&mdash; -> '-'\n",
        "df['tweet'] = df['tweet'].map(lambda tweet: tweet.replace('&ndash;', '-'))\n",
        "df['tweet'] = df['tweet'].map(lambda tweet: tweet.replace('&mdash;', '-'))\n",
        "\n",
        "# ' &quot; &lsquo; &rsquo; &sbquo; &ldquo; &rdquo; &bdquo; &lsaquo; &rsaquo;  -> \"'\"\n",
        "df['tweet'] = df['tweet'].map(lambda tweet: tweet.replace('\"', \"'\"))\n",
        "df['tweet'] = df['tweet'].map(lambda tweet: tweet.replace('&quot;', \"'\"))\n",
        "df['tweet'] = df['tweet'].map(lambda tweet: tweet.replace('&lsquo;', \"'\"))\n",
        "df['tweet'] = df['tweet'].map(lambda tweet: tweet.replace('&rsquo;', \"'\"))\n",
        "df['tweet'] = df['tweet'].map(lambda tweet: tweet.replace('&sbquo;', \"'\"))\n",
        "df['tweet'] = df['tweet'].map(lambda tweet: tweet.replace('&ldquo;', \"'\"))\n",
        "df['tweet'] = df['tweet'].map(lambda tweet: tweet.replace('&rdquo;', \"'\"))\n",
        "df['tweet'] = df['tweet'].map(lambda tweet: tweet.replace('&bdquo;', \"'\"))\n",
        "df['tweet'] = df['tweet'].map(lambda tweet: tweet.replace('&lsaquo;', \"'\"))\n",
        "df['tweet'] = df['tweet'].map(lambda tweet: tweet.replace('&rsaquo;', \"'\"))\n",
        "df['tweet'] = df['tweet'].map(lambda tweet: tweet.replace('&quot;', \"'\"))\n",
        "df['tweet'] = df['tweet'].map(lambda tweet: tweet.replace('“', \"'\"))\n",
        "df['tweet'] = df['tweet'].map(lambda tweet: tweet.replace('”', \"'\"))\n",
        "df['tweet'] = df['tweet'].map(lambda tweet: tweet.replace('’', \"'\"))\n",
        "\n",
        "# euro sign\t&euro;\t&#8364;\t&#x20AC;\t€\t€\t€\n",
        "df['tweet'] = df['tweet'].map(lambda tweet: tweet.replace('&euro;', '€'))\n",
        "\n",
        "# quitar /n\n",
        "escape_char_re = r'\\n|\\t'\n",
        "df['tweet'] = df['tweet'].apply(lambda x: replace_re(x, escape_char_re, \"\"))\n",
        "\n",
        "# quitar @username (mentions)\n",
        "twitterHandle_re = r'(^|[^@\\w])@(\\w{1,15})\\b'\n",
        "df['tweet'] = df['tweet'].apply(lambda x: replace_re(x, twitterHandle_re, \"\")) \n",
        "\n",
        "# hashtag \n",
        "# los quito por \n",
        "hashtag_re = r'(?:^|\\s|\\')[＃#]{1}(\\w+)'\n",
        "df['tweet'] = df['tweet'].apply(lambda x: replace_re(x, hashtag_re, \"\")) \n",
        "\n",
        "# quitar urls\n",
        "url_re = r'[localhost|http|https|ftp|file]+://[\\w\\S(\\.|:|/)]+'\n",
        "df['tweet'] = df['tweet'].apply(lambda x: replace_re(x, url_re, \"\")) \n",
        "\n",
        "# quitar espacios multiples en la cadena 'The    quick  lazy    fox'->'The quick lazy fox' \n",
        "extraSpaces_re = r' +'\n",
        "df['tweet'] = df['tweet'].apply(lambda x: replace_re(x, extraSpaces_re, \" \"))\n",
        "\n",
        "# quitar espacios antes y despues del texto (los que se hayan podido meter despues de las sustituciones)\n",
        "df['tweet'] = df['tweet'].map(lambda tweet: tweet.strip())  \n",
        "\n",
        "# minusculas\n",
        "df['tweet'] = df['tweet'].map(lambda tweet: tweet.lower()) "
      ],
      "execution_count": 0,
      "outputs": []
    },
    {
      "cell_type": "markdown",
      "metadata": {
        "id": "81oESzfuRTRa",
        "colab_type": "text"
      },
      "source": [
        "En las pruebas que he hecho con el dataset completo he visto que para lograr algun resultado decente se necesitaban muchas épocas, si no, el modelo, repetia sin cesar la salida 'in in in in'\n",
        "Con el dataset completo, cada época lleva 10 minutos, y consigo buenos resultados a partir de  la época 200, lo que no es operativo.\n",
        "\n",
        "Para poder mostrar algo, me he generado un conjunto mucho más pequeño, que se entrena relativamente rápido y genera frases con sentido."
      ]
    },
    {
      "cell_type": "code",
      "metadata": {
        "id": "RcJHX1tHQtNY",
        "colab_type": "code",
        "colab": {}
      },
      "source": [
        "smalldf = df.sample(50, random_state=42)"
      ],
      "execution_count": 0,
      "outputs": []
    },
    {
      "cell_type": "code",
      "metadata": {
        "id": "ahk9SDQpYLid",
        "colab_type": "code",
        "colab": {}
      },
      "source": [
        "lista_tweets = df['tweet'].tolist()\n",
        "small_lista_tweets = smalldf['tweet'].tolist()"
      ],
      "execution_count": 0,
      "outputs": []
    },
    {
      "cell_type": "code",
      "metadata": {
        "id": "sHrzqq4GxDaS",
        "colab_type": "code",
        "colab": {}
      },
      "source": [
        "frases = \"\"\n",
        "for e in lista_tweets:\n",
        "    frases += e + '\\n'\n",
        "\n",
        "small_frases = \"\"\n",
        "for e in small_lista_tweets:\n",
        "    small_frases += e + '\\n'"
      ],
      "execution_count": 0,
      "outputs": []
    },
    {
      "cell_type": "markdown",
      "metadata": {
        "id": "3wF8jlkK7UyE",
        "colab_type": "text"
      },
      "source": [
        "## Modelo"
      ]
    },
    {
      "cell_type": "markdown",
      "metadata": {
        "id": "YkazYbBtkVQx",
        "colab_type": "text"
      },
      "source": [
        "Como he dicho, usaremos Spacy para el tokenizador."
      ]
    },
    {
      "cell_type": "code",
      "metadata": {
        "id": "kdx4zSQaWmhg",
        "colab_type": "code",
        "colab": {}
      },
      "source": [
        "import spacy\n",
        "\n",
        "nlp = spacy.load('en_core_web_sm')"
      ],
      "execution_count": 0,
      "outputs": []
    },
    {
      "cell_type": "markdown",
      "metadata": {
        "id": "Wa1s2PPXmeQ_",
        "colab_type": "text"
      },
      "source": [
        "En clase, hemos visto Language Modelling con Bayes, el planteamiento que hago es similar, pero en lugar de usar Bayes como modelo uso una red neuronal con LSTMs.\n"
      ]
    },
    {
      "cell_type": "code",
      "metadata": {
        "id": "g2sh4BzEmwaR",
        "colab_type": "code",
        "outputId": "e2078518-1296-49bc-dfd3-e3c1d81718e6",
        "colab": {
          "base_uri": "https://localhost:8080/",
          "height": 35
        }
      },
      "source": [
        "from keras.preprocessing.sequence import pad_sequences\n",
        "from keras.layers import Embedding, LSTM, Dense, Dropout\n",
        "from keras.preprocessing.text import Tokenizer\n",
        "from keras.callbacks import EarlyStopping\n",
        "from keras.models import Sequential\n",
        "import keras.utils as ku \n",
        "import numpy as np"
      ],
      "execution_count": 0,
      "outputs": [
        {
          "output_type": "stream",
          "text": [
            "Using TensorFlow backend.\n"
          ],
          "name": "stderr"
        }
      ]
    },
    {
      "cell_type": "markdown",
      "metadata": {
        "id": "mf7WRLTIk31M",
        "colab_type": "text"
      },
      "source": [
        "Hay tres partes distintas en generar un modelo de lenguaje, preparar el dataset, entrenar el modelo con el dataset elegido y por último generar las frases.\n",
        "\n",
        "Podría poner todo en un mismo bloque de código, pero como quiero repetir el experimento con distintos datasets lo separo en tres fucniones, que habrá que llamar de forma sucesiva."
      ]
    },
    {
      "cell_type": "code",
      "metadata": {
        "id": "3splOS_VmWZu",
        "colab_type": "code",
        "colab": {}
      },
      "source": [
        "tokenizer = Tokenizer()\n",
        "\n",
        "def dataset_preparation(data):\n",
        "\n",
        "\t# Aunque los datos vienen en minusculas, viene bien de forma general asegurar\n",
        "\t# que estan todas las frases en minusculas\n",
        "\tcorpus = data.lower().split(\"\\n\")\n",
        "\n",
        "\t# tokenizacion\t\n",
        "\ttokenizer.fit_on_texts(corpus)\n",
        "\ttotal_words = len(tokenizer.word_index) + 1\n",
        "\n",
        "\t# Crear secuencia de entrada con la lista de los tokens\n",
        "\tinput_sequences = []\n",
        "\tfor line in corpus:\n",
        "\t\ttoken_list = tokenizer.texts_to_sequences([line])[0]\n",
        "\t\tfor i in range(1, len(token_list)):\n",
        "\t\t\tn_gram_sequence = token_list[:i+1]\n",
        "\t\t\tinput_sequences.append(n_gram_sequence)\n",
        "\n",
        "\t# pad sequences \n",
        "\tmax_sequence_len = max([len(x) for x in input_sequences])\n",
        "\tinput_sequences = np.array(pad_sequences(input_sequences, maxlen=max_sequence_len, padding='pre'))\n",
        "\n",
        "\t# crear predictore y etiquetas.\n",
        "\tpredictors, label = input_sequences[:,:-1],input_sequences[:,-1]\n",
        "\tlabel = ku.to_categorical(label, num_classes=total_words)\n",
        "\n",
        "\treturn predictors, label, max_sequence_len, total_words\n"
      ],
      "execution_count": 0,
      "outputs": []
    },
    {
      "cell_type": "code",
      "metadata": {
        "id": "6FwApoJVmWWd",
        "colab_type": "code",
        "colab": {}
      },
      "source": [
        "def create_model(predictors, label, max_sequence_len, total_words, epochs=100, verbose=1):\n",
        "\t#Definimos el modelo\n",
        "\tmodel = Sequential()\n",
        "\tmodel.add(Embedding(total_words, 10, input_length=max_sequence_len-1))\n",
        "\tmodel.add(LSTM(150, return_sequences = True))\n",
        "\tmodel.add(LSTM(100))\n",
        "\tmodel.add(Dense(total_words, activation='softmax'))\n",
        "\n",
        "\tmodel.compile(loss='categorical_crossentropy', optimizer='adam', metrics=['accuracy'])\n",
        "\tearlystop = EarlyStopping(monitor='loss', min_delta=0, patience=50, verbose=0, mode='auto')\n",
        "\tmodel.fit(predictors, label, epochs=epochs, verbose=verbose, callbacks=[earlystop])\n",
        "\tif verbose != 0: \n",
        "\t\tprint (model.summary())\n",
        "\treturn model "
      ],
      "execution_count": 0,
      "outputs": []
    },
    {
      "cell_type": "code",
      "metadata": {
        "id": "ekSPZ8HNmWTT",
        "colab_type": "code",
        "colab": {}
      },
      "source": [
        "\n",
        "def generate_text(seed_text, next_words, max_sequence_len, model):\n",
        "    for j in range(next_words):\n",
        "        token_list = tokenizer.texts_to_sequences([seed_text])[0]\n",
        "        token_list = pad_sequences([token_list], maxlen= \n",
        "                             max_sequence_len-1, padding='pre')\n",
        "        predicted = model.predict_classes(token_list, verbose=0)\n",
        "  \n",
        "        output_word = \"\"\n",
        "        for word, index in tokenizer.word_index.items():\n",
        "            if index == predicted:\n",
        "                output_word = word\n",
        "                break\n",
        "        seed_text += \" \" + output_word\n",
        "    return seed_text"
      ],
      "execution_count": 0,
      "outputs": []
    },
    {
      "cell_type": "markdown",
      "metadata": {
        "id": "7W0ewQhamltz",
        "colab_type": "text"
      },
      "source": [
        "Y ahora bastaría con preparar el dataset que queramos usar, entrenar la red y generar la frase."
      ]
    },
    {
      "cell_type": "code",
      "metadata": {
        "id": "KCEkFdeAv7Qx",
        "colab_type": "code",
        "colab": {}
      },
      "source": [
        "predictors, label, max_sequence_len, total_words = dataset_preparation(small_frases)\n",
        "\n",
        "#Si te gusta ver como un modelo entrena durante media vida, descomenta la siguiente linea\n",
        "#predictors, label, max_sequence_len, total_words = dataset_preparation(frases)\n"
      ],
      "execution_count": 0,
      "outputs": []
    },
    {
      "cell_type": "code",
      "metadata": {
        "id": "VCROtVn6v7Ip",
        "colab_type": "code",
        "outputId": "2cb2729c-ec42-4822-b3d2-3471efea0d43",
        "colab": {
          "base_uri": "https://localhost:8080/",
          "height": 1000
        }
      },
      "source": [
        "model = create_model(predictors, label, max_sequence_len, total_words, epochs=500)"
      ],
      "execution_count": 0,
      "outputs": [
        {
          "output_type": "stream",
          "text": [
            "Epoch 1/500\n",
            "718/718 [==============================] - 7s 9ms/step - loss: 6.2303 - acc: 0.0348\n",
            "Epoch 2/500\n",
            "718/718 [==============================] - 2s 3ms/step - loss: 5.7131 - acc: 0.0418\n",
            "Epoch 3/500\n",
            "718/718 [==============================] - 2s 3ms/step - loss: 5.5205 - acc: 0.0292\n",
            "Epoch 4/500\n",
            "718/718 [==============================] - 2s 3ms/step - loss: 5.4821 - acc: 0.0376\n",
            "Epoch 5/500\n",
            "718/718 [==============================] - 2s 3ms/step - loss: 5.4667 - acc: 0.0223\n",
            "Epoch 6/500\n",
            "718/718 [==============================] - 2s 3ms/step - loss: 5.4510 - acc: 0.0446\n",
            "Epoch 7/500\n",
            "718/718 [==============================] - 2s 3ms/step - loss: 5.4506 - acc: 0.0418\n",
            "Epoch 8/500\n",
            "718/718 [==============================] - 2s 3ms/step - loss: 5.4473 - acc: 0.0418\n",
            "Epoch 9/500\n",
            "718/718 [==============================] - 2s 3ms/step - loss: 5.4438 - acc: 0.0418\n",
            "Epoch 10/500\n",
            "718/718 [==============================] - 2s 3ms/step - loss: 5.4395 - acc: 0.0418\n",
            "Epoch 11/500\n",
            "718/718 [==============================] - 2s 3ms/step - loss: 5.4355 - acc: 0.0418\n",
            "Epoch 12/500\n",
            "718/718 [==============================] - 2s 3ms/step - loss: 5.4344 - acc: 0.0418\n",
            "Epoch 13/500\n",
            "718/718 [==============================] - 2s 3ms/step - loss: 5.4277 - acc: 0.0418\n",
            "Epoch 14/500\n",
            "718/718 [==============================] - 2s 3ms/step - loss: 5.4246 - acc: 0.0418\n",
            "Epoch 15/500\n",
            "718/718 [==============================] - 2s 3ms/step - loss: 5.4076 - acc: 0.0571\n",
            "Epoch 16/500\n",
            "718/718 [==============================] - 2s 3ms/step - loss: 5.3859 - acc: 0.0460\n",
            "Epoch 17/500\n",
            "718/718 [==============================] - 2s 3ms/step - loss: 5.3400 - acc: 0.0669\n",
            "Epoch 18/500\n",
            "718/718 [==============================] - 2s 3ms/step - loss: 5.2811 - acc: 0.0474\n",
            "Epoch 19/500\n",
            "718/718 [==============================] - 2s 3ms/step - loss: 5.2178 - acc: 0.0724\n",
            "Epoch 20/500\n",
            "718/718 [==============================] - 2s 3ms/step - loss: 5.1507 - acc: 0.0613\n",
            "Epoch 21/500\n",
            "718/718 [==============================] - 2s 3ms/step - loss: 5.0896 - acc: 0.0710\n",
            "Epoch 22/500\n",
            "718/718 [==============================] - 2s 3ms/step - loss: 5.0106 - acc: 0.0724\n",
            "Epoch 23/500\n",
            "718/718 [==============================] - 2s 3ms/step - loss: 4.9561 - acc: 0.0877\n",
            "Epoch 24/500\n",
            "718/718 [==============================] - 2s 3ms/step - loss: 4.8986 - acc: 0.0905\n",
            "Epoch 25/500\n",
            "718/718 [==============================] - 2s 3ms/step - loss: 4.8298 - acc: 0.1031\n",
            "Epoch 26/500\n",
            "718/718 [==============================] - 2s 3ms/step - loss: 4.7747 - acc: 0.1045\n",
            "Epoch 27/500\n",
            "718/718 [==============================] - 2s 3ms/step - loss: 4.7277 - acc: 0.1031\n",
            "Epoch 28/500\n",
            "718/718 [==============================] - 2s 3ms/step - loss: 4.6729 - acc: 0.1086\n",
            "Epoch 29/500\n",
            "718/718 [==============================] - 2s 3ms/step - loss: 4.6249 - acc: 0.1128\n",
            "Epoch 30/500\n",
            "718/718 [==============================] - 2s 3ms/step - loss: 4.5787 - acc: 0.1128\n",
            "Epoch 31/500\n",
            "718/718 [==============================] - 2s 3ms/step - loss: 4.5355 - acc: 0.1156\n",
            "Epoch 32/500\n",
            "718/718 [==============================] - 2s 3ms/step - loss: 4.4917 - acc: 0.1142\n",
            "Epoch 33/500\n",
            "718/718 [==============================] - 2s 3ms/step - loss: 4.4524 - acc: 0.1253\n",
            "Epoch 34/500\n",
            "718/718 [==============================] - 2s 3ms/step - loss: 4.4080 - acc: 0.1267\n",
            "Epoch 35/500\n",
            "718/718 [==============================] - 2s 3ms/step - loss: 4.3592 - acc: 0.1253\n",
            "Epoch 36/500\n",
            "718/718 [==============================] - 2s 3ms/step - loss: 4.3231 - acc: 0.1267\n",
            "Epoch 37/500\n",
            "718/718 [==============================] - 2s 3ms/step - loss: 4.2873 - acc: 0.1365\n",
            "Epoch 38/500\n",
            "718/718 [==============================] - 2s 3ms/step - loss: 4.2364 - acc: 0.1323\n",
            "Epoch 39/500\n",
            "718/718 [==============================] - 2s 3ms/step - loss: 4.1875 - acc: 0.1421\n",
            "Epoch 40/500\n",
            "718/718 [==============================] - 2s 3ms/step - loss: 4.1370 - acc: 0.1435\n",
            "Epoch 41/500\n",
            "718/718 [==============================] - 2s 3ms/step - loss: 4.0862 - acc: 0.1490\n",
            "Epoch 42/500\n",
            "718/718 [==============================] - 2s 3ms/step - loss: 4.0426 - acc: 0.1518\n",
            "Epoch 43/500\n",
            "718/718 [==============================] - 2s 3ms/step - loss: 3.9974 - acc: 0.1560\n",
            "Epoch 44/500\n",
            "718/718 [==============================] - 2s 3ms/step - loss: 3.9592 - acc: 0.1630\n",
            "Epoch 45/500\n",
            "718/718 [==============================] - 2s 3ms/step - loss: 3.9159 - acc: 0.1727\n",
            "Epoch 46/500\n",
            "718/718 [==============================] - 2s 3ms/step - loss: 3.8749 - acc: 0.1657\n",
            "Epoch 47/500\n",
            "718/718 [==============================] - 2s 3ms/step - loss: 3.8366 - acc: 0.1866\n",
            "Epoch 48/500\n",
            "718/718 [==============================] - 2s 3ms/step - loss: 3.7907 - acc: 0.1838\n",
            "Epoch 49/500\n",
            "718/718 [==============================] - 2s 3ms/step - loss: 3.7566 - acc: 0.1838\n",
            "Epoch 50/500\n",
            "718/718 [==============================] - 2s 3ms/step - loss: 3.7104 - acc: 0.1978\n",
            "Epoch 51/500\n",
            "718/718 [==============================] - 2s 3ms/step - loss: 3.6748 - acc: 0.1964\n",
            "Epoch 52/500\n",
            "718/718 [==============================] - 2s 3ms/step - loss: 3.6354 - acc: 0.2019\n",
            "Epoch 53/500\n",
            "718/718 [==============================] - 2s 3ms/step - loss: 3.5915 - acc: 0.2061\n",
            "Epoch 54/500\n",
            "718/718 [==============================] - 2s 3ms/step - loss: 3.5608 - acc: 0.2159\n",
            "Epoch 55/500\n",
            "718/718 [==============================] - 2s 3ms/step - loss: 3.5329 - acc: 0.2117\n",
            "Epoch 56/500\n",
            "718/718 [==============================] - 2s 3ms/step - loss: 3.4885 - acc: 0.2214\n",
            "Epoch 57/500\n",
            "718/718 [==============================] - 2s 3ms/step - loss: 3.4491 - acc: 0.2312\n",
            "Epoch 58/500\n",
            "718/718 [==============================] - 2s 3ms/step - loss: 3.4170 - acc: 0.2256\n",
            "Epoch 59/500\n",
            "718/718 [==============================] - 2s 3ms/step - loss: 3.3740 - acc: 0.2242\n",
            "Epoch 60/500\n",
            "718/718 [==============================] - 2s 3ms/step - loss: 3.3374 - acc: 0.2284\n",
            "Epoch 61/500\n",
            "718/718 [==============================] - 2s 3ms/step - loss: 3.2936 - acc: 0.2396\n",
            "Epoch 62/500\n",
            "718/718 [==============================] - 2s 3ms/step - loss: 3.2557 - acc: 0.2549\n",
            "Epoch 63/500\n",
            "718/718 [==============================] - 2s 3ms/step - loss: 3.2148 - acc: 0.2577\n",
            "Epoch 64/500\n",
            "718/718 [==============================] - 2s 3ms/step - loss: 3.1775 - acc: 0.2646\n",
            "Epoch 65/500\n",
            "718/718 [==============================] - 2s 3ms/step - loss: 3.1466 - acc: 0.2688\n",
            "Epoch 66/500\n",
            "718/718 [==============================] - 2s 3ms/step - loss: 3.1129 - acc: 0.2827\n",
            "Epoch 67/500\n",
            "718/718 [==============================] - 2s 3ms/step - loss: 3.0786 - acc: 0.2897\n",
            "Epoch 68/500\n",
            "718/718 [==============================] - 2s 3ms/step - loss: 3.0400 - acc: 0.3064\n",
            "Epoch 69/500\n",
            "718/718 [==============================] - 2s 3ms/step - loss: 3.0173 - acc: 0.3148\n",
            "Epoch 70/500\n",
            "718/718 [==============================] - 2s 3ms/step - loss: 2.9794 - acc: 0.3162\n",
            "Epoch 71/500\n",
            "718/718 [==============================] - 2s 3ms/step - loss: 2.9410 - acc: 0.3384\n",
            "Epoch 72/500\n",
            "718/718 [==============================] - 2s 3ms/step - loss: 2.9084 - acc: 0.3398\n",
            "Epoch 73/500\n",
            "718/718 [==============================] - 2s 3ms/step - loss: 2.8791 - acc: 0.3482\n",
            "Epoch 74/500\n",
            "718/718 [==============================] - 2s 3ms/step - loss: 2.8505 - acc: 0.3482\n",
            "Epoch 75/500\n",
            "718/718 [==============================] - 2s 3ms/step - loss: 2.8195 - acc: 0.3524\n",
            "Epoch 76/500\n",
            "718/718 [==============================] - 2s 3ms/step - loss: 2.7836 - acc: 0.3747\n",
            "Epoch 77/500\n",
            "718/718 [==============================] - 2s 3ms/step - loss: 2.7554 - acc: 0.3900\n",
            "Epoch 78/500\n",
            "718/718 [==============================] - 2s 3ms/step - loss: 2.7293 - acc: 0.3900\n",
            "Epoch 79/500\n",
            "718/718 [==============================] - 2s 3ms/step - loss: 2.6905 - acc: 0.4053\n",
            "Epoch 80/500\n",
            "718/718 [==============================] - 2s 3ms/step - loss: 2.6630 - acc: 0.4234\n",
            "Epoch 81/500\n",
            "718/718 [==============================] - 2s 3ms/step - loss: 2.6319 - acc: 0.4304\n",
            "Epoch 82/500\n",
            "718/718 [==============================] - 2s 3ms/step - loss: 2.6100 - acc: 0.4387\n",
            "Epoch 83/500\n",
            "718/718 [==============================] - 2s 3ms/step - loss: 2.5752 - acc: 0.4485\n",
            "Epoch 84/500\n",
            "718/718 [==============================] - 2s 3ms/step - loss: 2.5497 - acc: 0.4624\n",
            "Epoch 85/500\n",
            "718/718 [==============================] - 2s 3ms/step - loss: 2.5180 - acc: 0.4708\n",
            "Epoch 86/500\n",
            "718/718 [==============================] - 2s 3ms/step - loss: 2.4885 - acc: 0.4805\n",
            "Epoch 87/500\n",
            "718/718 [==============================] - 2s 3ms/step - loss: 2.4621 - acc: 0.4916\n",
            "Epoch 88/500\n",
            "718/718 [==============================] - 2s 3ms/step - loss: 2.4320 - acc: 0.4903\n",
            "Epoch 89/500\n",
            "718/718 [==============================] - 2s 3ms/step - loss: 2.4065 - acc: 0.4861\n",
            "Epoch 90/500\n",
            "718/718 [==============================] - 2s 3ms/step - loss: 2.3765 - acc: 0.5181\n",
            "Epoch 91/500\n",
            "718/718 [==============================] - 2s 3ms/step - loss: 2.3534 - acc: 0.5084\n",
            "Epoch 92/500\n",
            "718/718 [==============================] - 2s 3ms/step - loss: 2.3293 - acc: 0.5251\n",
            "Epoch 93/500\n",
            "718/718 [==============================] - 2s 3ms/step - loss: 2.3023 - acc: 0.5390\n",
            "Epoch 94/500\n",
            "718/718 [==============================] - 2s 3ms/step - loss: 2.2741 - acc: 0.5460\n",
            "Epoch 95/500\n",
            "718/718 [==============================] - 2s 3ms/step - loss: 2.2487 - acc: 0.5641\n",
            "Epoch 96/500\n",
            "718/718 [==============================] - 2s 3ms/step - loss: 2.2218 - acc: 0.5585\n",
            "Epoch 97/500\n",
            "718/718 [==============================] - 2s 3ms/step - loss: 2.2014 - acc: 0.5599\n",
            "Epoch 98/500\n",
            "718/718 [==============================] - 2s 3ms/step - loss: 2.1857 - acc: 0.5655\n",
            "Epoch 99/500\n",
            "718/718 [==============================] - 2s 3ms/step - loss: 2.1664 - acc: 0.5766\n",
            "Epoch 100/500\n",
            "718/718 [==============================] - 2s 3ms/step - loss: 2.1303 - acc: 0.5752\n",
            "Epoch 101/500\n",
            "718/718 [==============================] - 2s 3ms/step - loss: 2.1017 - acc: 0.5891\n",
            "Epoch 102/500\n",
            "718/718 [==============================] - 2s 3ms/step - loss: 2.0745 - acc: 0.6058\n",
            "Epoch 103/500\n",
            "718/718 [==============================] - 2s 3ms/step - loss: 2.0484 - acc: 0.6086\n",
            "Epoch 104/500\n",
            "718/718 [==============================] - 2s 3ms/step - loss: 2.0230 - acc: 0.6337\n",
            "Epoch 105/500\n",
            "718/718 [==============================] - 2s 3ms/step - loss: 1.9962 - acc: 0.6295\n",
            "Epoch 106/500\n",
            "718/718 [==============================] - 2s 3ms/step - loss: 1.9747 - acc: 0.6337\n",
            "Epoch 107/500\n",
            "718/718 [==============================] - 2s 3ms/step - loss: 1.9514 - acc: 0.6351\n",
            "Epoch 108/500\n",
            "718/718 [==============================] - 2s 3ms/step - loss: 1.9263 - acc: 0.6532\n",
            "Epoch 109/500\n",
            "718/718 [==============================] - 2s 3ms/step - loss: 1.9057 - acc: 0.6462\n",
            "Epoch 110/500\n",
            "718/718 [==============================] - 2s 3ms/step - loss: 1.9075 - acc: 0.6616\n",
            "Epoch 111/500\n",
            "718/718 [==============================] - 2s 3ms/step - loss: 1.8830 - acc: 0.6602\n",
            "Epoch 112/500\n",
            "718/718 [==============================] - 2s 3ms/step - loss: 1.8508 - acc: 0.6616\n",
            "Epoch 113/500\n",
            "718/718 [==============================] - 2s 3ms/step - loss: 1.8163 - acc: 0.6811\n",
            "Epoch 114/500\n",
            "718/718 [==============================] - 2s 3ms/step - loss: 1.7908 - acc: 0.6880\n",
            "Epoch 115/500\n",
            "718/718 [==============================] - 2s 3ms/step - loss: 1.7690 - acc: 0.7019\n",
            "Epoch 116/500\n",
            "718/718 [==============================] - 2s 3ms/step - loss: 1.7486 - acc: 0.7006\n",
            "Epoch 117/500\n",
            "718/718 [==============================] - 2s 3ms/step - loss: 1.7349 - acc: 0.7033\n",
            "Epoch 118/500\n",
            "718/718 [==============================] - 2s 3ms/step - loss: 1.7035 - acc: 0.7103\n",
            "Epoch 119/500\n",
            "718/718 [==============================] - 2s 3ms/step - loss: 1.6796 - acc: 0.7242\n",
            "Epoch 120/500\n",
            "718/718 [==============================] - 2s 3ms/step - loss: 1.6602 - acc: 0.7159\n",
            "Epoch 121/500\n",
            "718/718 [==============================] - 2s 3ms/step - loss: 1.6377 - acc: 0.7284\n",
            "Epoch 122/500\n",
            "718/718 [==============================] - 2s 3ms/step - loss: 1.6191 - acc: 0.7256\n",
            "Epoch 123/500\n",
            "718/718 [==============================] - 2s 3ms/step - loss: 1.6011 - acc: 0.7326\n",
            "Epoch 124/500\n",
            "718/718 [==============================] - 2s 3ms/step - loss: 1.5793 - acc: 0.7451\n",
            "Epoch 125/500\n",
            "718/718 [==============================] - 2s 3ms/step - loss: 1.5648 - acc: 0.7437\n",
            "Epoch 126/500\n",
            "718/718 [==============================] - 2s 3ms/step - loss: 1.5468 - acc: 0.7535\n",
            "Epoch 127/500\n",
            "718/718 [==============================] - 2s 3ms/step - loss: 1.5233 - acc: 0.7563\n",
            "Epoch 128/500\n",
            "718/718 [==============================] - 2s 3ms/step - loss: 1.5057 - acc: 0.7604\n",
            "Epoch 129/500\n",
            "718/718 [==============================] - 2s 3ms/step - loss: 1.4876 - acc: 0.7521\n",
            "Epoch 130/500\n",
            "718/718 [==============================] - 2s 3ms/step - loss: 1.4634 - acc: 0.7577\n",
            "Epoch 131/500\n",
            "718/718 [==============================] - 2s 3ms/step - loss: 1.4430 - acc: 0.7632\n",
            "Epoch 132/500\n",
            "718/718 [==============================] - 2s 3ms/step - loss: 1.4307 - acc: 0.7744\n",
            "Epoch 133/500\n",
            "718/718 [==============================] - 2s 3ms/step - loss: 1.4136 - acc: 0.7744\n",
            "Epoch 134/500\n",
            "718/718 [==============================] - 2s 3ms/step - loss: 1.3973 - acc: 0.7730\n",
            "Epoch 135/500\n",
            "718/718 [==============================] - 2s 3ms/step - loss: 1.3783 - acc: 0.7855\n",
            "Epoch 136/500\n",
            "718/718 [==============================] - 2s 3ms/step - loss: 1.3562 - acc: 0.7883\n",
            "Epoch 137/500\n",
            "718/718 [==============================] - 2s 3ms/step - loss: 1.3413 - acc: 0.7925\n",
            "Epoch 138/500\n",
            "718/718 [==============================] - 2s 3ms/step - loss: 1.3242 - acc: 0.8022\n",
            "Epoch 139/500\n",
            "718/718 [==============================] - 2s 3ms/step - loss: 1.3075 - acc: 0.8022\n",
            "Epoch 140/500\n",
            "718/718 [==============================] - 2s 3ms/step - loss: 1.2910 - acc: 0.8022\n",
            "Epoch 141/500\n",
            "718/718 [==============================] - 2s 3ms/step - loss: 1.2666 - acc: 0.8106\n",
            "Epoch 142/500\n",
            "718/718 [==============================] - 2s 3ms/step - loss: 1.2521 - acc: 0.8092\n",
            "Epoch 143/500\n",
            "718/718 [==============================] - 2s 3ms/step - loss: 1.2349 - acc: 0.8148\n",
            "Epoch 144/500\n",
            "718/718 [==============================] - 2s 3ms/step - loss: 1.2190 - acc: 0.8189\n",
            "Epoch 145/500\n",
            "718/718 [==============================] - 2s 3ms/step - loss: 1.2076 - acc: 0.8259\n",
            "Epoch 146/500\n",
            "718/718 [==============================] - 2s 3ms/step - loss: 1.1926 - acc: 0.8175\n",
            "Epoch 147/500\n",
            "718/718 [==============================] - 2s 3ms/step - loss: 1.1744 - acc: 0.8273\n",
            "Epoch 148/500\n",
            "718/718 [==============================] - 2s 3ms/step - loss: 1.1647 - acc: 0.8287\n",
            "Epoch 149/500\n",
            "718/718 [==============================] - 2s 3ms/step - loss: 1.1545 - acc: 0.8301\n",
            "Epoch 150/500\n",
            "718/718 [==============================] - 2s 3ms/step - loss: 1.1414 - acc: 0.8343\n",
            "Epoch 151/500\n",
            "718/718 [==============================] - 2s 3ms/step - loss: 1.1199 - acc: 0.8301\n",
            "Epoch 152/500\n",
            "718/718 [==============================] - 2s 3ms/step - loss: 1.1045 - acc: 0.8384\n",
            "Epoch 153/500\n",
            "718/718 [==============================] - 2s 3ms/step - loss: 1.0880 - acc: 0.8482\n",
            "Epoch 154/500\n",
            "718/718 [==============================] - 2s 3ms/step - loss: 1.0717 - acc: 0.8468\n",
            "Epoch 155/500\n",
            "718/718 [==============================] - 2s 3ms/step - loss: 1.0610 - acc: 0.8524\n",
            "Epoch 156/500\n",
            "718/718 [==============================] - 2s 3ms/step - loss: 1.0464 - acc: 0.8510\n",
            "Epoch 157/500\n",
            "718/718 [==============================] - 2s 3ms/step - loss: 1.0340 - acc: 0.8552\n",
            "Epoch 158/500\n",
            "718/718 [==============================] - 2s 3ms/step - loss: 1.0213 - acc: 0.8524\n",
            "Epoch 159/500\n",
            "718/718 [==============================] - 2s 3ms/step - loss: 1.0034 - acc: 0.8621\n",
            "Epoch 160/500\n",
            "718/718 [==============================] - 2s 3ms/step - loss: 0.9993 - acc: 0.8649\n",
            "Epoch 161/500\n",
            "718/718 [==============================] - 2s 3ms/step - loss: 0.9959 - acc: 0.8649\n",
            "Epoch 162/500\n",
            "718/718 [==============================] - 2s 3ms/step - loss: 0.9711 - acc: 0.8705\n",
            "Epoch 163/500\n",
            "718/718 [==============================] - 2s 3ms/step - loss: 0.9598 - acc: 0.8649\n",
            "Epoch 164/500\n",
            "718/718 [==============================] - 2s 3ms/step - loss: 0.9449 - acc: 0.8719\n",
            "Epoch 165/500\n",
            "718/718 [==============================] - 2s 3ms/step - loss: 0.9285 - acc: 0.8774\n",
            "Epoch 166/500\n",
            "718/718 [==============================] - 2s 3ms/step - loss: 0.9192 - acc: 0.8747\n",
            "Epoch 167/500\n",
            "718/718 [==============================] - 2s 3ms/step - loss: 0.9059 - acc: 0.8802\n",
            "Epoch 168/500\n",
            "718/718 [==============================] - 2s 3ms/step - loss: 0.8938 - acc: 0.8788\n",
            "Epoch 169/500\n",
            "718/718 [==============================] - 2s 3ms/step - loss: 0.8878 - acc: 0.8816\n",
            "Epoch 170/500\n",
            "718/718 [==============================] - 2s 3ms/step - loss: 0.8775 - acc: 0.8788\n",
            "Epoch 171/500\n",
            "718/718 [==============================] - 2s 3ms/step - loss: 0.8629 - acc: 0.8830\n",
            "Epoch 172/500\n",
            "718/718 [==============================] - 2s 3ms/step - loss: 0.8575 - acc: 0.8872\n",
            "Epoch 173/500\n",
            "718/718 [==============================] - 2s 3ms/step - loss: 0.8467 - acc: 0.8844\n",
            "Epoch 174/500\n",
            "718/718 [==============================] - 2s 3ms/step - loss: 0.8379 - acc: 0.8858\n",
            "Epoch 175/500\n",
            "718/718 [==============================] - 2s 3ms/step - loss: 0.8252 - acc: 0.8928\n",
            "Epoch 176/500\n",
            "718/718 [==============================] - 2s 3ms/step - loss: 0.8162 - acc: 0.8788\n",
            "Epoch 177/500\n",
            "718/718 [==============================] - 2s 3ms/step - loss: 0.8018 - acc: 0.8942\n",
            "Epoch 178/500\n",
            "718/718 [==============================] - 2s 3ms/step - loss: 0.7900 - acc: 0.8983\n",
            "Epoch 179/500\n",
            "718/718 [==============================] - 2s 3ms/step - loss: 0.7820 - acc: 0.8969\n",
            "Epoch 180/500\n",
            "718/718 [==============================] - 2s 3ms/step - loss: 0.7692 - acc: 0.8942\n",
            "Epoch 181/500\n",
            "718/718 [==============================] - 2s 3ms/step - loss: 0.7615 - acc: 0.8942\n",
            "Epoch 182/500\n",
            "718/718 [==============================] - 2s 3ms/step - loss: 0.7540 - acc: 0.8969\n",
            "Epoch 183/500\n",
            "718/718 [==============================] - 2s 3ms/step - loss: 0.7470 - acc: 0.8983\n",
            "Epoch 184/500\n",
            "718/718 [==============================] - 2s 3ms/step - loss: 0.7333 - acc: 0.8983\n",
            "Epoch 185/500\n",
            "718/718 [==============================] - 2s 3ms/step - loss: 0.7287 - acc: 0.9011\n",
            "Epoch 186/500\n",
            "718/718 [==============================] - 2s 3ms/step - loss: 0.7211 - acc: 0.8983\n",
            "Epoch 187/500\n",
            "718/718 [==============================] - 2s 3ms/step - loss: 0.7071 - acc: 0.9025\n",
            "Epoch 188/500\n",
            "718/718 [==============================] - 2s 3ms/step - loss: 0.7075 - acc: 0.8997\n",
            "Epoch 189/500\n",
            "718/718 [==============================] - 2s 3ms/step - loss: 0.6948 - acc: 0.9011\n",
            "Epoch 190/500\n",
            "718/718 [==============================] - 2s 3ms/step - loss: 0.6847 - acc: 0.9109\n",
            "Epoch 191/500\n",
            "718/718 [==============================] - 2s 3ms/step - loss: 0.6751 - acc: 0.9053\n",
            "Epoch 192/500\n",
            "718/718 [==============================] - 2s 3ms/step - loss: 0.6643 - acc: 0.9095\n",
            "Epoch 193/500\n",
            "718/718 [==============================] - 2s 3ms/step - loss: 0.6588 - acc: 0.9039\n",
            "Epoch 194/500\n",
            "718/718 [==============================] - 2s 3ms/step - loss: 0.6519 - acc: 0.9025\n",
            "Epoch 195/500\n",
            "718/718 [==============================] - 2s 3ms/step - loss: 0.6426 - acc: 0.9109\n",
            "Epoch 196/500\n",
            "718/718 [==============================] - 2s 3ms/step - loss: 0.6325 - acc: 0.9136\n",
            "Epoch 197/500\n",
            "718/718 [==============================] - 2s 3ms/step - loss: 0.6257 - acc: 0.9164\n",
            "Epoch 198/500\n",
            "718/718 [==============================] - 2s 3ms/step - loss: 0.6185 - acc: 0.9150\n",
            "Epoch 199/500\n",
            "718/718 [==============================] - 2s 3ms/step - loss: 0.6135 - acc: 0.9150\n",
            "Epoch 200/500\n",
            "718/718 [==============================] - 2s 3ms/step - loss: 0.6073 - acc: 0.9178\n",
            "Epoch 201/500\n",
            "718/718 [==============================] - 2s 3ms/step - loss: 0.5970 - acc: 0.9206\n",
            "Epoch 202/500\n",
            "718/718 [==============================] - 2s 3ms/step - loss: 0.6023 - acc: 0.9206\n",
            "Epoch 203/500\n",
            "718/718 [==============================] - 2s 3ms/step - loss: 0.6195 - acc: 0.9067\n",
            "Epoch 204/500\n",
            "718/718 [==============================] - 2s 3ms/step - loss: 0.5925 - acc: 0.9150\n",
            "Epoch 205/500\n",
            "718/718 [==============================] - 2s 3ms/step - loss: 0.5782 - acc: 0.9192\n",
            "Epoch 206/500\n",
            "718/718 [==============================] - 2s 3ms/step - loss: 0.5660 - acc: 0.9248\n",
            "Epoch 207/500\n",
            "718/718 [==============================] - 2s 3ms/step - loss: 0.5587 - acc: 0.9276\n",
            "Epoch 208/500\n",
            "718/718 [==============================] - 2s 3ms/step - loss: 0.5521 - acc: 0.9178\n",
            "Epoch 209/500\n",
            "718/718 [==============================] - 2s 3ms/step - loss: 0.5479 - acc: 0.9220\n",
            "Epoch 210/500\n",
            "718/718 [==============================] - 2s 3ms/step - loss: 0.5407 - acc: 0.9304\n",
            "Epoch 211/500\n",
            "718/718 [==============================] - 2s 3ms/step - loss: 0.5344 - acc: 0.9262\n",
            "Epoch 212/500\n",
            "718/718 [==============================] - 2s 3ms/step - loss: 0.5269 - acc: 0.9276\n",
            "Epoch 213/500\n",
            "718/718 [==============================] - 2s 3ms/step - loss: 0.5197 - acc: 0.9276\n",
            "Epoch 214/500\n",
            "718/718 [==============================] - 2s 3ms/step - loss: 0.5150 - acc: 0.9318\n",
            "Epoch 215/500\n",
            "718/718 [==============================] - 2s 3ms/step - loss: 0.5095 - acc: 0.9276\n",
            "Epoch 216/500\n",
            "718/718 [==============================] - 2s 3ms/step - loss: 0.5046 - acc: 0.9276\n",
            "Epoch 217/500\n",
            "718/718 [==============================] - 2s 3ms/step - loss: 0.4963 - acc: 0.9415\n",
            "Epoch 218/500\n",
            "718/718 [==============================] - 2s 3ms/step - loss: 0.4904 - acc: 0.9345\n",
            "Epoch 219/500\n",
            "718/718 [==============================] - 2s 3ms/step - loss: 0.4865 - acc: 0.9304\n",
            "Epoch 220/500\n",
            "718/718 [==============================] - 2s 3ms/step - loss: 0.4800 - acc: 0.9345\n",
            "Epoch 221/500\n",
            "718/718 [==============================] - 2s 3ms/step - loss: 0.4766 - acc: 0.9401\n",
            "Epoch 222/500\n",
            "718/718 [==============================] - 2s 3ms/step - loss: 0.4709 - acc: 0.9331\n",
            "Epoch 223/500\n",
            "718/718 [==============================] - 2s 3ms/step - loss: 0.4656 - acc: 0.9429\n",
            "Epoch 224/500\n",
            "718/718 [==============================] - 2s 3ms/step - loss: 0.4599 - acc: 0.9359\n",
            "Epoch 225/500\n",
            "718/718 [==============================] - 2s 3ms/step - loss: 0.4574 - acc: 0.9359\n",
            "Epoch 226/500\n",
            "718/718 [==============================] - 2s 3ms/step - loss: 0.4489 - acc: 0.9387\n",
            "Epoch 227/500\n",
            "718/718 [==============================] - 2s 3ms/step - loss: 0.4430 - acc: 0.9387\n",
            "Epoch 228/500\n",
            "718/718 [==============================] - 2s 3ms/step - loss: 0.4387 - acc: 0.9401\n",
            "Epoch 229/500\n",
            "718/718 [==============================] - 2s 3ms/step - loss: 0.4354 - acc: 0.9429\n",
            "Epoch 230/500\n",
            "718/718 [==============================] - 2s 3ms/step - loss: 0.4305 - acc: 0.9429\n",
            "Epoch 231/500\n",
            "718/718 [==============================] - 2s 3ms/step - loss: 0.4256 - acc: 0.9401\n",
            "Epoch 232/500\n",
            "718/718 [==============================] - 2s 3ms/step - loss: 0.4210 - acc: 0.9513\n",
            "Epoch 233/500\n",
            "718/718 [==============================] - 2s 3ms/step - loss: 0.4195 - acc: 0.9373\n",
            "Epoch 234/500\n",
            "718/718 [==============================] - 2s 3ms/step - loss: 0.4125 - acc: 0.9415\n",
            "Epoch 235/500\n",
            "718/718 [==============================] - 2s 3ms/step - loss: 0.4096 - acc: 0.9387\n",
            "Epoch 236/500\n",
            "718/718 [==============================] - 2s 3ms/step - loss: 0.4030 - acc: 0.9485\n",
            "Epoch 237/500\n",
            "718/718 [==============================] - 2s 3ms/step - loss: 0.3990 - acc: 0.9415\n",
            "Epoch 238/500\n",
            "718/718 [==============================] - 2s 3ms/step - loss: 0.3979 - acc: 0.9471\n",
            "Epoch 239/500\n",
            "718/718 [==============================] - 2s 3ms/step - loss: 0.3920 - acc: 0.9415\n",
            "Epoch 240/500\n",
            "718/718 [==============================] - 2s 3ms/step - loss: 0.3847 - acc: 0.9485\n",
            "Epoch 241/500\n",
            "718/718 [==============================] - 2s 3ms/step - loss: 0.3856 - acc: 0.9471\n",
            "Epoch 242/500\n",
            "718/718 [==============================] - 2s 3ms/step - loss: 0.3865 - acc: 0.9499\n",
            "Epoch 243/500\n",
            "718/718 [==============================] - 2s 3ms/step - loss: 0.3834 - acc: 0.9429\n",
            "Epoch 244/500\n",
            "718/718 [==============================] - 2s 3ms/step - loss: 0.3725 - acc: 0.9485\n",
            "Epoch 245/500\n",
            "718/718 [==============================] - 2s 3ms/step - loss: 0.3671 - acc: 0.9499\n",
            "Epoch 246/500\n",
            "718/718 [==============================] - 2s 3ms/step - loss: 0.3644 - acc: 0.9540\n",
            "Epoch 247/500\n",
            "718/718 [==============================] - 2s 3ms/step - loss: 0.3579 - acc: 0.9554\n",
            "Epoch 248/500\n",
            "718/718 [==============================] - 2s 3ms/step - loss: 0.3564 - acc: 0.9526\n",
            "Epoch 249/500\n",
            "718/718 [==============================] - 2s 3ms/step - loss: 0.3521 - acc: 0.9499\n",
            "Epoch 250/500\n",
            "718/718 [==============================] - 2s 3ms/step - loss: 0.3484 - acc: 0.9540\n",
            "Epoch 251/500\n",
            "718/718 [==============================] - 2s 3ms/step - loss: 0.3438 - acc: 0.9554\n",
            "Epoch 252/500\n",
            "718/718 [==============================] - 2s 3ms/step - loss: 0.3447 - acc: 0.9499\n",
            "Epoch 253/500\n",
            "718/718 [==============================] - 2s 3ms/step - loss: 0.3441 - acc: 0.9526\n",
            "Epoch 254/500\n",
            "718/718 [==============================] - 2s 3ms/step - loss: 0.3359 - acc: 0.9513\n",
            "Epoch 255/500\n",
            "718/718 [==============================] - 2s 3ms/step - loss: 0.3299 - acc: 0.9568\n",
            "Epoch 256/500\n",
            "718/718 [==============================] - 2s 3ms/step - loss: 0.3265 - acc: 0.9526\n",
            "Epoch 257/500\n",
            "718/718 [==============================] - 2s 3ms/step - loss: 0.3240 - acc: 0.9526\n",
            "Epoch 258/500\n",
            "718/718 [==============================] - 2s 3ms/step - loss: 0.3214 - acc: 0.9568\n",
            "Epoch 259/500\n",
            "718/718 [==============================] - 2s 3ms/step - loss: 0.3175 - acc: 0.9526\n",
            "Epoch 260/500\n",
            "718/718 [==============================] - 2s 3ms/step - loss: 0.3140 - acc: 0.9596\n",
            "Epoch 261/500\n",
            "718/718 [==============================] - 2s 3ms/step - loss: 0.3137 - acc: 0.9526\n",
            "Epoch 262/500\n",
            "718/718 [==============================] - 2s 3ms/step - loss: 0.3087 - acc: 0.9513\n",
            "Epoch 263/500\n",
            "718/718 [==============================] - 2s 3ms/step - loss: 0.3063 - acc: 0.9568\n",
            "Epoch 264/500\n",
            "718/718 [==============================] - 2s 3ms/step - loss: 0.3014 - acc: 0.9554\n",
            "Epoch 265/500\n",
            "718/718 [==============================] - 2s 3ms/step - loss: 0.2995 - acc: 0.9582\n",
            "Epoch 266/500\n",
            "718/718 [==============================] - 2s 3ms/step - loss: 0.2964 - acc: 0.9540\n",
            "Epoch 267/500\n",
            "718/718 [==============================] - 2s 3ms/step - loss: 0.2968 - acc: 0.9513\n",
            "Epoch 268/500\n",
            "718/718 [==============================] - 2s 3ms/step - loss: 0.2946 - acc: 0.9582\n",
            "Epoch 269/500\n",
            "718/718 [==============================] - 2s 3ms/step - loss: 0.2912 - acc: 0.9554\n",
            "Epoch 270/500\n",
            "718/718 [==============================] - 2s 3ms/step - loss: 0.2835 - acc: 0.9540\n",
            "Epoch 271/500\n",
            "718/718 [==============================] - 2s 3ms/step - loss: 0.2816 - acc: 0.9582\n",
            "Epoch 272/500\n",
            "718/718 [==============================] - 2s 3ms/step - loss: 0.2796 - acc: 0.9554\n",
            "Epoch 273/500\n",
            "718/718 [==============================] - 2s 3ms/step - loss: 0.2759 - acc: 0.9596\n",
            "Epoch 274/500\n",
            "718/718 [==============================] - 2s 3ms/step - loss: 0.2731 - acc: 0.9568\n",
            "Epoch 275/500\n",
            "718/718 [==============================] - 2s 3ms/step - loss: 0.2714 - acc: 0.9596\n",
            "Epoch 276/500\n",
            "718/718 [==============================] - 2s 3ms/step - loss: 0.2700 - acc: 0.9540\n",
            "Epoch 277/500\n",
            "718/718 [==============================] - 2s 3ms/step - loss: 0.2651 - acc: 0.9666\n",
            "Epoch 278/500\n",
            "718/718 [==============================] - 2s 3ms/step - loss: 0.2634 - acc: 0.9596\n",
            "Epoch 279/500\n",
            "718/718 [==============================] - 2s 3ms/step - loss: 0.2606 - acc: 0.9624\n",
            "Epoch 280/500\n",
            "718/718 [==============================] - 2s 3ms/step - loss: 0.2593 - acc: 0.9652\n",
            "Epoch 281/500\n",
            "718/718 [==============================] - 2s 3ms/step - loss: 0.2567 - acc: 0.9610\n",
            "Epoch 282/500\n",
            "718/718 [==============================] - 2s 3ms/step - loss: 0.2538 - acc: 0.9582\n",
            "Epoch 283/500\n",
            "718/718 [==============================] - 2s 3ms/step - loss: 0.2514 - acc: 0.9638\n",
            "Epoch 284/500\n",
            "718/718 [==============================] - 2s 3ms/step - loss: 0.2477 - acc: 0.9624\n",
            "Epoch 285/500\n",
            "718/718 [==============================] - 2s 3ms/step - loss: 0.2464 - acc: 0.9652\n",
            "Epoch 286/500\n",
            "718/718 [==============================] - 2s 3ms/step - loss: 0.2446 - acc: 0.9638\n",
            "Epoch 287/500\n",
            "718/718 [==============================] - 2s 3ms/step - loss: 0.2432 - acc: 0.9624\n",
            "Epoch 288/500\n",
            "718/718 [==============================] - 2s 3ms/step - loss: 0.2397 - acc: 0.9596\n",
            "Epoch 289/500\n",
            "718/718 [==============================] - 2s 3ms/step - loss: 0.2383 - acc: 0.9638\n",
            "Epoch 290/500\n",
            "718/718 [==============================] - 2s 3ms/step - loss: 0.2410 - acc: 0.9624\n",
            "Epoch 291/500\n",
            "718/718 [==============================] - 2s 3ms/step - loss: 0.2360 - acc: 0.9638\n",
            "Epoch 292/500\n",
            "718/718 [==============================] - 2s 3ms/step - loss: 0.2343 - acc: 0.9610\n",
            "Epoch 293/500\n",
            "718/718 [==============================] - 2s 3ms/step - loss: 0.2317 - acc: 0.9610\n",
            "Epoch 294/500\n",
            "718/718 [==============================] - 2s 3ms/step - loss: 0.2278 - acc: 0.9666\n",
            "Epoch 295/500\n",
            "718/718 [==============================] - 2s 3ms/step - loss: 0.2250 - acc: 0.9652\n",
            "Epoch 296/500\n",
            "718/718 [==============================] - 2s 3ms/step - loss: 0.2205 - acc: 0.9694\n",
            "Epoch 297/500\n",
            "718/718 [==============================] - 2s 3ms/step - loss: 0.2199 - acc: 0.9624\n",
            "Epoch 298/500\n",
            "718/718 [==============================] - 2s 3ms/step - loss: 0.2183 - acc: 0.9666\n",
            "Epoch 299/500\n",
            "718/718 [==============================] - 2s 3ms/step - loss: 0.2187 - acc: 0.9680\n",
            "Epoch 300/500\n",
            "718/718 [==============================] - 2s 3ms/step - loss: 0.2157 - acc: 0.9624\n",
            "Epoch 301/500\n",
            "718/718 [==============================] - 2s 3ms/step - loss: 0.2136 - acc: 0.9638\n",
            "Epoch 302/500\n",
            "718/718 [==============================] - 2s 3ms/step - loss: 0.2135 - acc: 0.9652\n",
            "Epoch 303/500\n",
            "718/718 [==============================] - 2s 3ms/step - loss: 0.2110 - acc: 0.9596\n",
            "Epoch 304/500\n",
            "718/718 [==============================] - 2s 3ms/step - loss: 0.2083 - acc: 0.9666\n",
            "Epoch 305/500\n",
            "718/718 [==============================] - 2s 3ms/step - loss: 0.2098 - acc: 0.9652\n",
            "Epoch 306/500\n",
            "718/718 [==============================] - 2s 3ms/step - loss: 0.2123 - acc: 0.9680\n",
            "Epoch 307/500\n",
            "718/718 [==============================] - 2s 3ms/step - loss: 0.2063 - acc: 0.9694\n",
            "Epoch 308/500\n",
            "718/718 [==============================] - 2s 3ms/step - loss: 0.2040 - acc: 0.9652\n",
            "Epoch 309/500\n",
            "718/718 [==============================] - 2s 3ms/step - loss: 0.1990 - acc: 0.9652\n",
            "Epoch 310/500\n",
            "718/718 [==============================] - 2s 3ms/step - loss: 0.1961 - acc: 0.9721\n",
            "Epoch 311/500\n",
            "718/718 [==============================] - 2s 3ms/step - loss: 0.1966 - acc: 0.9694\n",
            "Epoch 312/500\n",
            "718/718 [==============================] - 2s 3ms/step - loss: 0.1924 - acc: 0.9638\n",
            "Epoch 313/500\n",
            "718/718 [==============================] - 2s 3ms/step - loss: 0.1910 - acc: 0.9694\n",
            "Epoch 314/500\n",
            "718/718 [==============================] - 2s 3ms/step - loss: 0.1913 - acc: 0.9680\n",
            "Epoch 315/500\n",
            "718/718 [==============================] - 2s 3ms/step - loss: 0.1890 - acc: 0.9708\n",
            "Epoch 316/500\n",
            "718/718 [==============================] - 2s 3ms/step - loss: 0.1893 - acc: 0.9666\n",
            "Epoch 317/500\n",
            "718/718 [==============================] - 2s 3ms/step - loss: 0.1903 - acc: 0.9666\n",
            "Epoch 318/500\n",
            "718/718 [==============================] - 2s 3ms/step - loss: 0.1863 - acc: 0.9680\n",
            "Epoch 319/500\n",
            "718/718 [==============================] - 2s 3ms/step - loss: 0.1863 - acc: 0.9680\n",
            "Epoch 320/500\n",
            "718/718 [==============================] - 2s 3ms/step - loss: 0.1861 - acc: 0.9638\n",
            "Epoch 321/500\n",
            "718/718 [==============================] - 2s 3ms/step - loss: 0.1796 - acc: 0.9735\n",
            "Epoch 322/500\n",
            "718/718 [==============================] - 2s 3ms/step - loss: 0.1793 - acc: 0.9652\n",
            "Epoch 323/500\n",
            "718/718 [==============================] - 2s 3ms/step - loss: 0.1771 - acc: 0.9708\n",
            "Epoch 324/500\n",
            "718/718 [==============================] - 2s 3ms/step - loss: 0.1765 - acc: 0.9694\n",
            "Epoch 325/500\n",
            "718/718 [==============================] - 2s 3ms/step - loss: 0.1744 - acc: 0.9680\n",
            "Epoch 326/500\n",
            "718/718 [==============================] - 2s 3ms/step - loss: 0.1720 - acc: 0.9680\n",
            "Epoch 327/500\n",
            "718/718 [==============================] - 2s 3ms/step - loss: 0.1716 - acc: 0.9666\n",
            "Epoch 328/500\n",
            "718/718 [==============================] - 2s 3ms/step - loss: 0.1699 - acc: 0.9708\n",
            "Epoch 329/500\n",
            "718/718 [==============================] - 2s 3ms/step - loss: 0.1671 - acc: 0.9680\n",
            "Epoch 330/500\n",
            "718/718 [==============================] - 2s 3ms/step - loss: 0.1659 - acc: 0.9680\n",
            "Epoch 331/500\n",
            "718/718 [==============================] - 2s 3ms/step - loss: 0.1659 - acc: 0.9694\n",
            "Epoch 332/500\n",
            "718/718 [==============================] - 2s 3ms/step - loss: 0.1632 - acc: 0.9666\n",
            "Epoch 333/500\n",
            "718/718 [==============================] - 2s 3ms/step - loss: 0.1628 - acc: 0.9721\n",
            "Epoch 334/500\n",
            "718/718 [==============================] - 2s 3ms/step - loss: 0.1605 - acc: 0.9694\n",
            "Epoch 335/500\n",
            "718/718 [==============================] - 2s 3ms/step - loss: 0.1593 - acc: 0.9680\n",
            "Epoch 336/500\n",
            "718/718 [==============================] - 2s 3ms/step - loss: 0.1570 - acc: 0.9721\n",
            "Epoch 337/500\n",
            "718/718 [==============================] - 2s 3ms/step - loss: 0.1575 - acc: 0.9694\n",
            "Epoch 338/500\n",
            "718/718 [==============================] - 2s 3ms/step - loss: 0.1590 - acc: 0.9708\n",
            "Epoch 339/500\n",
            "718/718 [==============================] - 2s 3ms/step - loss: 0.1598 - acc: 0.9708\n",
            "Epoch 340/500\n",
            "718/718 [==============================] - 2s 3ms/step - loss: 0.1576 - acc: 0.9708\n",
            "Epoch 341/500\n",
            "718/718 [==============================] - 2s 3ms/step - loss: 0.1527 - acc: 0.9708\n",
            "Epoch 342/500\n",
            "718/718 [==============================] - 2s 3ms/step - loss: 0.1502 - acc: 0.9680\n",
            "Epoch 343/500\n",
            "718/718 [==============================] - 2s 3ms/step - loss: 0.1492 - acc: 0.9708\n",
            "Epoch 344/500\n",
            "718/718 [==============================] - 2s 3ms/step - loss: 0.1480 - acc: 0.9680\n",
            "Epoch 345/500\n",
            "718/718 [==============================] - 2s 3ms/step - loss: 0.1470 - acc: 0.9708\n",
            "Epoch 346/500\n",
            "718/718 [==============================] - 2s 3ms/step - loss: 0.1458 - acc: 0.9666\n",
            "Epoch 347/500\n",
            "718/718 [==============================] - 2s 3ms/step - loss: 0.1432 - acc: 0.9708\n",
            "Epoch 348/500\n",
            "718/718 [==============================] - 2s 3ms/step - loss: 0.1417 - acc: 0.9694\n",
            "Epoch 349/500\n",
            "718/718 [==============================] - 2s 3ms/step - loss: 0.1404 - acc: 0.9708\n",
            "Epoch 350/500\n",
            "718/718 [==============================] - 2s 3ms/step - loss: 0.1408 - acc: 0.9638\n",
            "Epoch 351/500\n",
            "718/718 [==============================] - 2s 3ms/step - loss: 0.1386 - acc: 0.9694\n",
            "Epoch 352/500\n",
            "718/718 [==============================] - 2s 3ms/step - loss: 0.1391 - acc: 0.9721\n",
            "Epoch 353/500\n",
            "718/718 [==============================] - 2s 3ms/step - loss: 0.1393 - acc: 0.9721\n",
            "Epoch 354/500\n",
            "718/718 [==============================] - 2s 3ms/step - loss: 0.1390 - acc: 0.9749\n",
            "Epoch 355/500\n",
            "718/718 [==============================] - 2s 3ms/step - loss: 0.1369 - acc: 0.9694\n",
            "Epoch 356/500\n",
            "718/718 [==============================] - 2s 3ms/step - loss: 0.1367 - acc: 0.9708\n",
            "Epoch 357/500\n",
            "718/718 [==============================] - 2s 3ms/step - loss: 0.1387 - acc: 0.9694\n",
            "Epoch 358/500\n",
            "718/718 [==============================] - 2s 3ms/step - loss: 0.1400 - acc: 0.9652\n",
            "Epoch 359/500\n",
            "718/718 [==============================] - 2s 3ms/step - loss: 0.1352 - acc: 0.9652\n",
            "Epoch 360/500\n",
            "718/718 [==============================] - 2s 3ms/step - loss: 0.1350 - acc: 0.9735\n",
            "Epoch 361/500\n",
            "718/718 [==============================] - 2s 3ms/step - loss: 0.1369 - acc: 0.9721\n",
            "Epoch 362/500\n",
            "718/718 [==============================] - 2s 3ms/step - loss: 0.1311 - acc: 0.9735\n",
            "Epoch 363/500\n",
            "718/718 [==============================] - 2s 3ms/step - loss: 0.1282 - acc: 0.9749\n",
            "Epoch 364/500\n",
            "718/718 [==============================] - 2s 3ms/step - loss: 0.1284 - acc: 0.9708\n",
            "Epoch 365/500\n",
            "718/718 [==============================] - 2s 3ms/step - loss: 0.1257 - acc: 0.9708\n",
            "Epoch 366/500\n",
            "718/718 [==============================] - 2s 3ms/step - loss: 0.1256 - acc: 0.9666\n",
            "Epoch 367/500\n",
            "718/718 [==============================] - 2s 3ms/step - loss: 0.1235 - acc: 0.9721\n",
            "Epoch 368/500\n",
            "718/718 [==============================] - 2s 3ms/step - loss: 0.1222 - acc: 0.9694\n",
            "Epoch 369/500\n",
            "718/718 [==============================] - 2s 3ms/step - loss: 0.1211 - acc: 0.9694\n",
            "Epoch 370/500\n",
            "718/718 [==============================] - 2s 3ms/step - loss: 0.1210 - acc: 0.9694\n",
            "Epoch 371/500\n",
            "718/718 [==============================] - 2s 3ms/step - loss: 0.1196 - acc: 0.9763\n",
            "Epoch 372/500\n",
            "718/718 [==============================] - 2s 3ms/step - loss: 0.1201 - acc: 0.9721\n",
            "Epoch 373/500\n",
            "718/718 [==============================] - 2s 3ms/step - loss: 0.1195 - acc: 0.9708\n",
            "Epoch 374/500\n",
            "718/718 [==============================] - 2s 3ms/step - loss: 0.1196 - acc: 0.9721\n",
            "Epoch 375/500\n",
            "718/718 [==============================] - 2s 3ms/step - loss: 0.1225 - acc: 0.9735\n",
            "Epoch 376/500\n",
            "718/718 [==============================] - 2s 3ms/step - loss: 0.1195 - acc: 0.9708\n",
            "Epoch 377/500\n",
            "718/718 [==============================] - 2s 3ms/step - loss: 0.1181 - acc: 0.9694\n",
            "Epoch 378/500\n",
            "718/718 [==============================] - 2s 3ms/step - loss: 0.1153 - acc: 0.9735\n",
            "Epoch 379/500\n",
            "718/718 [==============================] - 2s 3ms/step - loss: 0.1151 - acc: 0.9666\n",
            "Epoch 380/500\n",
            "718/718 [==============================] - 2s 3ms/step - loss: 0.1136 - acc: 0.9708\n",
            "Epoch 381/500\n",
            "718/718 [==============================] - 2s 3ms/step - loss: 0.1133 - acc: 0.9666\n",
            "Epoch 382/500\n",
            "718/718 [==============================] - 2s 3ms/step - loss: 0.1121 - acc: 0.9735\n",
            "Epoch 383/500\n",
            "718/718 [==============================] - 2s 3ms/step - loss: 0.1106 - acc: 0.9708\n",
            "Epoch 384/500\n",
            "718/718 [==============================] - 2s 3ms/step - loss: 0.1123 - acc: 0.9694\n",
            "Epoch 385/500\n",
            "718/718 [==============================] - 2s 3ms/step - loss: 0.1112 - acc: 0.9652\n",
            "Epoch 386/500\n",
            "718/718 [==============================] - 2s 3ms/step - loss: 0.1107 - acc: 0.9721\n",
            "Epoch 387/500\n",
            "718/718 [==============================] - 2s 3ms/step - loss: 0.1108 - acc: 0.9721\n",
            "Epoch 388/500\n",
            "718/718 [==============================] - 2s 3ms/step - loss: 0.1071 - acc: 0.9694\n",
            "Epoch 389/500\n",
            "718/718 [==============================] - 2s 3ms/step - loss: 0.1053 - acc: 0.9735\n",
            "Epoch 390/500\n",
            "718/718 [==============================] - 2s 3ms/step - loss: 0.1072 - acc: 0.9680\n",
            "Epoch 391/500\n",
            "718/718 [==============================] - 2s 3ms/step - loss: 0.1058 - acc: 0.9708\n",
            "Epoch 392/500\n",
            "718/718 [==============================] - 2s 3ms/step - loss: 0.1048 - acc: 0.9735\n",
            "Epoch 393/500\n",
            "718/718 [==============================] - 2s 3ms/step - loss: 0.1046 - acc: 0.9680\n",
            "Epoch 394/500\n",
            "718/718 [==============================] - 2s 3ms/step - loss: 0.1047 - acc: 0.9735\n",
            "Epoch 395/500\n",
            "718/718 [==============================] - 2s 3ms/step - loss: 0.1028 - acc: 0.9694\n",
            "Epoch 396/500\n",
            "718/718 [==============================] - 2s 3ms/step - loss: 0.1035 - acc: 0.9694\n",
            "Epoch 397/500\n",
            "718/718 [==============================] - 2s 3ms/step - loss: 0.1026 - acc: 0.9694\n",
            "Epoch 398/500\n",
            "718/718 [==============================] - 2s 3ms/step - loss: 0.1014 - acc: 0.9721\n",
            "Epoch 399/500\n",
            "718/718 [==============================] - 2s 3ms/step - loss: 0.1001 - acc: 0.9735\n",
            "Epoch 400/500\n",
            "718/718 [==============================] - 2s 3ms/step - loss: 0.1048 - acc: 0.9680\n",
            "Epoch 401/500\n",
            "718/718 [==============================] - 2s 3ms/step - loss: 0.1042 - acc: 0.9708\n",
            "Epoch 402/500\n",
            "718/718 [==============================] - 2s 3ms/step - loss: 0.1019 - acc: 0.9694\n",
            "Epoch 403/500\n",
            "718/718 [==============================] - 2s 3ms/step - loss: 0.1008 - acc: 0.9721\n",
            "Epoch 404/500\n",
            "718/718 [==============================] - 2s 3ms/step - loss: 0.0988 - acc: 0.9708\n",
            "Epoch 405/500\n",
            "718/718 [==============================] - 2s 3ms/step - loss: 0.0988 - acc: 0.9694\n",
            "Epoch 406/500\n",
            "718/718 [==============================] - 2s 3ms/step - loss: 0.0990 - acc: 0.9680\n",
            "Epoch 407/500\n",
            "718/718 [==============================] - 2s 3ms/step - loss: 0.0990 - acc: 0.9763\n",
            "Epoch 408/500\n",
            "718/718 [==============================] - 2s 3ms/step - loss: 0.0987 - acc: 0.9721\n",
            "Epoch 409/500\n",
            "718/718 [==============================] - 2s 3ms/step - loss: 0.0954 - acc: 0.9721\n",
            "Epoch 410/500\n",
            "718/718 [==============================] - 2s 3ms/step - loss: 0.0948 - acc: 0.9708\n",
            "Epoch 411/500\n",
            "718/718 [==============================] - 2s 3ms/step - loss: 0.0962 - acc: 0.9694\n",
            "Epoch 412/500\n",
            "718/718 [==============================] - 2s 3ms/step - loss: 0.0961 - acc: 0.9708\n",
            "Epoch 413/500\n",
            "718/718 [==============================] - 2s 3ms/step - loss: 0.0943 - acc: 0.9749\n",
            "Epoch 414/500\n",
            "718/718 [==============================] - 2s 3ms/step - loss: 0.0958 - acc: 0.9708\n",
            "Epoch 415/500\n",
            "718/718 [==============================] - 2s 3ms/step - loss: 0.0953 - acc: 0.9721\n",
            "Epoch 416/500\n",
            "718/718 [==============================] - 2s 3ms/step - loss: 0.0991 - acc: 0.9680\n",
            "Epoch 417/500\n",
            "718/718 [==============================] - 2s 3ms/step - loss: 0.1399 - acc: 0.9596\n",
            "Epoch 418/500\n",
            "718/718 [==============================] - 2s 3ms/step - loss: 0.2479 - acc: 0.9401\n",
            "Epoch 419/500\n",
            "718/718 [==============================] - 2s 3ms/step - loss: 0.2789 - acc: 0.9178\n",
            "Epoch 420/500\n",
            "718/718 [==============================] - 2s 3ms/step - loss: 0.1955 - acc: 0.9540\n",
            "Epoch 421/500\n",
            "718/718 [==============================] - 2s 3ms/step - loss: 0.1369 - acc: 0.9735\n",
            "Epoch 422/500\n",
            "718/718 [==============================] - 2s 3ms/step - loss: 0.1174 - acc: 0.9708\n",
            "Epoch 423/500\n",
            "718/718 [==============================] - 2s 3ms/step - loss: 0.1074 - acc: 0.9666\n",
            "Epoch 424/500\n",
            "718/718 [==============================] - 2s 3ms/step - loss: 0.0996 - acc: 0.9721\n",
            "Epoch 425/500\n",
            "718/718 [==============================] - 2s 3ms/step - loss: 0.0948 - acc: 0.9708\n",
            "Epoch 426/500\n",
            "718/718 [==============================] - 2s 3ms/step - loss: 0.0920 - acc: 0.9694\n",
            "Epoch 427/500\n",
            "718/718 [==============================] - 2s 3ms/step - loss: 0.0897 - acc: 0.9708\n",
            "Epoch 428/500\n",
            "718/718 [==============================] - 2s 3ms/step - loss: 0.0897 - acc: 0.9708\n",
            "Epoch 429/500\n",
            "718/718 [==============================] - 2s 3ms/step - loss: 0.0882 - acc: 0.9721\n",
            "Epoch 430/500\n",
            "718/718 [==============================] - 2s 3ms/step - loss: 0.0866 - acc: 0.9721\n",
            "Epoch 431/500\n",
            "718/718 [==============================] - 2s 3ms/step - loss: 0.0869 - acc: 0.9708\n",
            "Epoch 432/500\n",
            "718/718 [==============================] - 2s 3ms/step - loss: 0.0869 - acc: 0.9680\n",
            "Epoch 433/500\n",
            "718/718 [==============================] - 2s 3ms/step - loss: 0.0849 - acc: 0.9708\n",
            "Epoch 434/500\n",
            "718/718 [==============================] - 2s 3ms/step - loss: 0.0849 - acc: 0.9721\n",
            "Epoch 435/500\n",
            "718/718 [==============================] - 2s 3ms/step - loss: 0.0836 - acc: 0.9680\n",
            "Epoch 436/500\n",
            "718/718 [==============================] - 2s 3ms/step - loss: 0.0839 - acc: 0.9694\n",
            "Epoch 437/500\n",
            "718/718 [==============================] - 2s 3ms/step - loss: 0.0827 - acc: 0.9721\n",
            "Epoch 438/500\n",
            "718/718 [==============================] - 2s 3ms/step - loss: 0.0826 - acc: 0.9694\n",
            "Epoch 439/500\n",
            "718/718 [==============================] - 2s 3ms/step - loss: 0.0819 - acc: 0.9735\n",
            "Epoch 440/500\n",
            "718/718 [==============================] - 2s 3ms/step - loss: 0.0810 - acc: 0.9735\n",
            "Epoch 441/500\n",
            "718/718 [==============================] - 2s 3ms/step - loss: 0.0812 - acc: 0.9735\n",
            "Epoch 442/500\n",
            "718/718 [==============================] - 2s 3ms/step - loss: 0.0809 - acc: 0.9763\n",
            "Epoch 443/500\n",
            "718/718 [==============================] - 2s 3ms/step - loss: 0.0797 - acc: 0.9735\n",
            "Epoch 444/500\n",
            "718/718 [==============================] - 2s 3ms/step - loss: 0.0799 - acc: 0.9721\n",
            "Epoch 445/500\n",
            "718/718 [==============================] - 2s 3ms/step - loss: 0.0798 - acc: 0.9708\n",
            "Epoch 446/500\n",
            "718/718 [==============================] - 2s 3ms/step - loss: 0.0781 - acc: 0.9694\n",
            "Epoch 447/500\n",
            "718/718 [==============================] - 2s 3ms/step - loss: 0.0788 - acc: 0.9721\n",
            "Epoch 448/500\n",
            "718/718 [==============================] - 2s 3ms/step - loss: 0.0779 - acc: 0.9735\n",
            "Epoch 449/500\n",
            "718/718 [==============================] - 2s 3ms/step - loss: 0.0796 - acc: 0.9708\n",
            "Epoch 450/500\n",
            "718/718 [==============================] - 2s 3ms/step - loss: 0.0780 - acc: 0.9721\n",
            "Epoch 451/500\n",
            "718/718 [==============================] - 2s 3ms/step - loss: 0.0769 - acc: 0.9708\n",
            "Epoch 452/500\n",
            "718/718 [==============================] - 2s 3ms/step - loss: 0.0761 - acc: 0.9749\n",
            "Epoch 453/500\n",
            "718/718 [==============================] - 2s 3ms/step - loss: 0.0755 - acc: 0.9763\n",
            "Epoch 454/500\n",
            "718/718 [==============================] - 2s 3ms/step - loss: 0.0763 - acc: 0.9680\n",
            "Epoch 455/500\n",
            "718/718 [==============================] - 2s 3ms/step - loss: 0.0758 - acc: 0.9694\n",
            "Epoch 456/500\n",
            "718/718 [==============================] - 2s 3ms/step - loss: 0.0761 - acc: 0.9708\n",
            "Epoch 457/500\n",
            "718/718 [==============================] - 2s 3ms/step - loss: 0.0765 - acc: 0.9721\n",
            "Epoch 458/500\n",
            "718/718 [==============================] - 2s 3ms/step - loss: 0.0754 - acc: 0.9763\n",
            "Epoch 459/500\n",
            "718/718 [==============================] - 2s 3ms/step - loss: 0.0771 - acc: 0.9708\n",
            "Epoch 460/500\n",
            "718/718 [==============================] - 2s 3ms/step - loss: 0.0742 - acc: 0.9721\n",
            "Epoch 461/500\n",
            "718/718 [==============================] - 2s 3ms/step - loss: 0.0749 - acc: 0.9749\n",
            "Epoch 462/500\n",
            "718/718 [==============================] - 2s 3ms/step - loss: 0.0794 - acc: 0.9708\n",
            "Epoch 463/500\n",
            "718/718 [==============================] - 2s 3ms/step - loss: 0.0786 - acc: 0.9680\n",
            "Epoch 464/500\n",
            "718/718 [==============================] - 2s 3ms/step - loss: 0.0736 - acc: 0.9749\n",
            "Epoch 465/500\n",
            "718/718 [==============================] - 2s 3ms/step - loss: 0.0730 - acc: 0.9721\n",
            "Epoch 466/500\n",
            "718/718 [==============================] - 2s 3ms/step - loss: 0.0716 - acc: 0.9763\n",
            "Epoch 467/500\n",
            "718/718 [==============================] - 2s 3ms/step - loss: 0.0724 - acc: 0.9721\n",
            "Epoch 468/500\n",
            "718/718 [==============================] - 2s 3ms/step - loss: 0.0719 - acc: 0.9721\n",
            "Epoch 469/500\n",
            "718/718 [==============================] - 2s 3ms/step - loss: 0.0715 - acc: 0.9735\n",
            "Epoch 470/500\n",
            "718/718 [==============================] - 2s 3ms/step - loss: 0.0703 - acc: 0.9735\n",
            "Epoch 471/500\n",
            "718/718 [==============================] - 2s 3ms/step - loss: 0.0717 - acc: 0.9708\n",
            "Epoch 472/500\n",
            "718/718 [==============================] - 2s 3ms/step - loss: 0.0697 - acc: 0.9735\n",
            "Epoch 473/500\n",
            "718/718 [==============================] - 2s 3ms/step - loss: 0.0699 - acc: 0.9680\n",
            "Epoch 474/500\n",
            "718/718 [==============================] - 2s 3ms/step - loss: 0.0696 - acc: 0.9708\n",
            "Epoch 475/500\n",
            "718/718 [==============================] - 2s 3ms/step - loss: 0.0698 - acc: 0.9694\n",
            "Epoch 476/500\n",
            "718/718 [==============================] - 2s 3ms/step - loss: 0.0694 - acc: 0.9694\n",
            "Epoch 477/500\n",
            "718/718 [==============================] - 2s 3ms/step - loss: 0.0687 - acc: 0.9721\n",
            "Epoch 478/500\n",
            "718/718 [==============================] - 2s 3ms/step - loss: 0.0688 - acc: 0.9721\n",
            "Epoch 479/500\n",
            "718/718 [==============================] - 2s 3ms/step - loss: 0.0693 - acc: 0.9721\n",
            "Epoch 480/500\n",
            "718/718 [==============================] - 2s 3ms/step - loss: 0.0691 - acc: 0.9721\n",
            "Epoch 481/500\n",
            "718/718 [==============================] - 2s 3ms/step - loss: 0.0683 - acc: 0.9735\n",
            "Epoch 482/500\n",
            "718/718 [==============================] - 2s 3ms/step - loss: 0.0677 - acc: 0.9735\n",
            "Epoch 483/500\n",
            "718/718 [==============================] - 2s 3ms/step - loss: 0.0675 - acc: 0.9763\n",
            "Epoch 484/500\n",
            "718/718 [==============================] - 2s 3ms/step - loss: 0.0668 - acc: 0.9749\n",
            "Epoch 485/500\n",
            "718/718 [==============================] - 2s 3ms/step - loss: 0.0671 - acc: 0.9708\n",
            "Epoch 486/500\n",
            "718/718 [==============================] - 2s 3ms/step - loss: 0.0668 - acc: 0.9680\n",
            "Epoch 487/500\n",
            "718/718 [==============================] - 2s 3ms/step - loss: 0.0660 - acc: 0.9721\n",
            "Epoch 488/500\n",
            "718/718 [==============================] - 2s 3ms/step - loss: 0.0663 - acc: 0.9749\n",
            "Epoch 489/500\n",
            "718/718 [==============================] - 2s 3ms/step - loss: 0.0693 - acc: 0.9721\n",
            "Epoch 490/500\n",
            "718/718 [==============================] - 2s 3ms/step - loss: 0.0670 - acc: 0.9708\n",
            "Epoch 491/500\n",
            "718/718 [==============================] - 2s 3ms/step - loss: 0.0660 - acc: 0.9735\n",
            "Epoch 492/500\n",
            "718/718 [==============================] - 2s 3ms/step - loss: 0.0669 - acc: 0.9708\n",
            "Epoch 493/500\n",
            "718/718 [==============================] - 2s 3ms/step - loss: 0.0656 - acc: 0.9749\n",
            "Epoch 494/500\n",
            "718/718 [==============================] - 2s 3ms/step - loss: 0.0661 - acc: 0.9652\n",
            "Epoch 495/500\n",
            "718/718 [==============================] - 2s 3ms/step - loss: 0.0664 - acc: 0.9721\n",
            "Epoch 496/500\n",
            "718/718 [==============================] - 2s 3ms/step - loss: 0.0658 - acc: 0.9735\n",
            "Epoch 497/500\n",
            "718/718 [==============================] - 2s 3ms/step - loss: 0.0659 - acc: 0.9708\n",
            "Epoch 498/500\n",
            "718/718 [==============================] - 2s 3ms/step - loss: 0.0655 - acc: 0.9708\n",
            "Epoch 499/500\n",
            "718/718 [==============================] - 2s 3ms/step - loss: 0.0660 - acc: 0.9735\n",
            "Epoch 500/500\n",
            "718/718 [==============================] - 2s 3ms/step - loss: 0.0643 - acc: 0.9721\n",
            "Model: \"sequential_11\"\n",
            "_________________________________________________________________\n",
            "Layer (type)                 Output Shape              Param #   \n",
            "=================================================================\n",
            "embedding_11 (Embedding)     (None, 23, 10)            5470      \n",
            "_________________________________________________________________\n",
            "lstm_21 (LSTM)               (None, 23, 150)           96600     \n",
            "_________________________________________________________________\n",
            "lstm_22 (LSTM)               (None, 100)               100400    \n",
            "_________________________________________________________________\n",
            "dense_11 (Dense)             (None, 547)               55247     \n",
            "=================================================================\n",
            "Total params: 257,717\n",
            "Trainable params: 257,717\n",
            "Non-trainable params: 0\n",
            "_________________________________________________________________\n",
            "None\n"
          ],
          "name": "stdout"
        }
      ]
    },
    {
      "cell_type": "markdown",
      "metadata": {
        "id": "BeR6kSPuyt7C",
        "colab_type": "text"
      },
      "source": [
        "![Barack Obama](https://media.metrolatam.com/2018/12/29/barackobama04-ba3c0c481c307ead52a4469c620532d5-1200x600.jpg)"
      ]
    },
    {
      "cell_type": "code",
      "metadata": {
        "id": "3C6mHDSgWRHo",
        "colab_type": "code",
        "outputId": "a524c845-64a9-43f5-a058-f907341eecc6",
        "colab": {
          "base_uri": "https://localhost:8080/",
          "height": 69
        }
      },
      "source": [
        "print (generate_text(\"helping americans\", 18, max_sequence_len, model))\n",
        "print (generate_text(\"american conference is\", 16, max_sequence_len, model))\n",
        "print (generate_text(\"on jobs\", 14, max_sequence_len, model))\n"
      ],
      "execution_count": 0,
      "outputs": [
        {
          "output_type": "stream",
          "text": [
            "helping americans as i'm president america will lead the world ' —president obama at hill air force base in utah\n",
            "american conference is speaking at the consumer financial protection bureau may be but to be reformed ' —president obama\n",
            "on jobs across the country are calling on senate leaders to fill the supreme court vacancy\n"
          ],
          "name": "stdout"
        }
      ]
    },
    {
      "cell_type": "markdown",
      "metadata": {
        "id": "vmopmaE7vdeG",
        "colab_type": "text"
      },
      "source": [
        "Entrenar la red neuronal con todo el dataset de Obama es muy largo, con lo que el usar sólo el dataset reducido nos ha dado un resultado linguistico correcto.\n",
        "\n",
        "Pese a todo, el modelo tiene poco vocabulario, con lo que hace que estemos un poco limitados a la hora de empezar el texto, para que genere decente. Además, tiende a repetirse en las salidas.\n",
        "\n",
        "Pese a todo, con mucho tiempo y mucha máquina, se podría entrenar el modelo con  todo el dataset y evaluar como sale, pero como prueba de concepto funciona."
      ]
    },
    {
      "cell_type": "markdown",
      "metadata": {
        "id": "MWf6S4g3g8kf",
        "colab_type": "text"
      },
      "source": [
        "## Y como postre..."
      ]
    },
    {
      "cell_type": "markdown",
      "metadata": {
        "id": "GkB90vS1hAP3",
        "colab_type": "text"
      },
      "source": [
        "Pero me apetecía probar si el modelo puede aplicarse a otros usos. Así que, por puro entretenimiento, he intentado repetir los entrenos con letras de canciones, a ver que tal."
      ]
    },
    {
      "cell_type": "code",
      "metadata": {
        "id": "XZbNfMo1Ge0k",
        "colab_type": "code",
        "colab": {}
      },
      "source": [
        "elvis = \"\"\"Maybe I didn't treat you\n",
        "Quite as good as I should have\n",
        "Maybe I didn't love you\n",
        "Quite as often as I could have\n",
        "Little things I should have said and done\n",
        "I just never took the time\n",
        "You were always on my mind\n",
        "You were always on my mind\n",
        "Maybe I didn't hold you\n",
        "All those lonely, lonely times\n",
        "And I guess I never told you\n",
        "I'm so happy that you're mine\n",
        "If I make you feel second best\n",
        "Girl, I'm so sorry I was blind\n",
        "You were always on my mind\n",
        "You were always on my mind\n",
        "Tell me, tell me that your sweet love hasn't died\n",
        "Give me, give me one more chance\n",
        "To keep you satisfied, satisfied\n",
        "Little things I should have said and done\n",
        "I just never took the time\n",
        "You were always on my mind\n",
        "You were always on my mind\n",
        "You were always on my mind\n",
        "Maybe I didn't treat you\n",
        "Quite as good as I should have\n",
        "Maybe I didn't love you\n",
        "Quite as often as I could have\n",
        "Maybe I didn't hold you\n",
        "All those lonely, lonely times\n",
        "And I guess I never told you\n",
        "I'm so happy that you're mine\n",
        "Maybe I didn't treat you\n",
        "Quite as good as I should have\"\"\""
      ],
      "execution_count": 0,
      "outputs": []
    },
    {
      "cell_type": "code",
      "metadata": {
        "id": "fhoa3kyMNo6z",
        "colab_type": "code",
        "colab": {}
      },
      "source": [
        "abba = \"\"\"Ooh\n",
        "You can dance\n",
        "You can jive\n",
        "Having the time of your life\n",
        "Ooh, see that girl\n",
        "Watch that scene\n",
        "Dig in the dancing queen\n",
        "Friday night and the lights are low\n",
        "Looking out for a place to go\n",
        "Where they play the right music\n",
        "Getting in the swing\n",
        "You come to look for a king\n",
        "Anybody could be that guy\n",
        "Night is young and the music's high\n",
        "With a bit of rock music\n",
        "Everything is fine\n",
        "You're in the mood for a dance\n",
        "And when you get the chance\n",
        "You are the dancing queen\n",
        "Young and sweet\n",
        "Only seventeen\n",
        "Dancing queen\n",
        "Feel the beat from the tambourine, oh yeah\n",
        "You can dance\n",
        "You can jive\n",
        "Having the time of your life\n",
        "Ooh, see that girl\n",
        "Watch that scene\n",
        "Dig in the dancing queen\n",
        "You're a teaser, you turn 'em on\n",
        "Leave 'em burning and then you're gone\n",
        "Looking out…\"\"\""
      ],
      "execution_count": 0,
      "outputs": []
    },
    {
      "cell_type": "code",
      "metadata": {
        "id": "nStVc3nFNzPw",
        "colab_type": "code",
        "colab": {}
      },
      "source": [
        "gloria = \"\"\"At first I was afraid, I was petrified\n",
        "Kept thinking I could never live without you by my side\n",
        "But then I spent so many nights thinking how you did me wrong\n",
        "And I grew strong\n",
        "And I learned how to get along\n",
        "And so you're back\n",
        "From outer space\n",
        "I just walked in to find you here with that sad look upon your face\n",
        "I should have changed that stupid lock, I should have made you leave your key\n",
        "If I'd known for just one second you'd be back to bother me\n",
        "Go on now, go, walk out the door\n",
        "Just turn around now\n",
        "'Cause you're not welcome anymore\n",
        "Weren't you the one who tried to hurt me with goodbye\n",
        "Do you think I'd crumble\n",
        "Did you think I'd lay down and die?\n",
        "Oh no, not I, I will survive\n",
        "Oh, as long as I know how to love, I know I'll stay alive\n",
        "I've got all my life to live\n",
        "And I've got all my love to give and I'll survive\n",
        "I will survive, hey, hey\n",
        "It took all the strength I had not to fall apart\n",
        "Kept trying hard to mend the pieces of my broken heart\n",
        "And I spent oh-so many nights just feeling sorry for myself\n",
        "I used to cry\n",
        "But now I hold my head up high and you see me\n",
        "Somebody new\n",
        "I'm not that chained-up little person and still in love with you\n",
        "And so you felt like dropping in and just expect me to be free\n",
        "Well, now I'm saving all my lovin' for someone who's loving me\n",
        "Go on now, go, walk out the door\n",
        "Just turn around now\n",
        "'Cause you're not welcome anymore\n",
        "Weren't you the one who tried to break me with goodbye\n",
        "Do you think I'd crumble\n",
        "Did you think I'd lay down and die?\n",
        "Oh no, not I, I will survive\n",
        "Oh, as long as I know how to love, I know I'll stay alive\n",
        "I've got all my life to live\n",
        "And I've got all my love to give and I'll survive\n",
        "I will survive\n",
        "Oh\n",
        "Go on now, go, walk out the door\n",
        "Just turn around now\n",
        "'Cause you're not welcome anymore\n",
        "Weren't you the one who tried to break me with goodbye\n",
        "Do you think I'd crumble\n",
        "Did you think I'd lay down and die?\n",
        "Oh no, not I, I will survive\n",
        "Oh, as long as I know how to love, I know I'll stay alive\n",
        "I've got all my life to live\n",
        "And I've got all my love to give and I'll survive\n",
        "I will survive\n",
        "I will survive\n",
        "\"\"\""
      ],
      "execution_count": 0,
      "outputs": []
    },
    {
      "cell_type": "markdown",
      "metadata": {
        "id": "eBneqWZzq6Wo",
        "colab_type": "text"
      },
      "source": [
        "### Gloria Gaynor - I Will Survive\n",
        "![Gloria Gaynor](https://timedotcom.files.wordpress.com/2016/03/library-of-congress-national-recording-registry-gloria-gaynor-billy-joel-metallica.jpg)"
      ]
    },
    {
      "cell_type": "code",
      "metadata": {
        "id": "uxj4HgdZJlKN",
        "colab_type": "code",
        "colab": {}
      },
      "source": [
        "predictors, label, max_sequence_len, total_words = dataset_preparation(gloria)"
      ],
      "execution_count": 0,
      "outputs": []
    },
    {
      "cell_type": "code",
      "metadata": {
        "id": "_8UQETcnJqOv",
        "colab_type": "code",
        "colab": {}
      },
      "source": [
        "model = create_model(predictors, label, max_sequence_len, total_words, epochs=500, verbose=0)"
      ],
      "execution_count": 0,
      "outputs": []
    },
    {
      "cell_type": "code",
      "metadata": {
        "id": "CCzHtPbqJtX1",
        "colab_type": "code",
        "outputId": "14a2bd7b-55cd-4a7d-e3f0-385ab64b7a13",
        "colab": {
          "base_uri": "https://localhost:8080/",
          "height": 52
        }
      },
      "source": [
        "print (generate_text(\"the pieces are\", 14, max_sequence_len, model))\n",
        "print (generate_text(\"i change for\", 8, max_sequence_len, model))"
      ],
      "execution_count": 0,
      "outputs": [
        {
          "output_type": "stream",
          "text": [
            "the pieces are so many nights thinking i was not i know i'll stay alive pieces of\n",
            "i change for now i was afraid i was petrified look\n"
          ],
          "name": "stdout"
        }
      ]
    },
    {
      "cell_type": "markdown",
      "metadata": {
        "id": "j6Cjul5YrlHL",
        "colab_type": "text"
      },
      "source": [
        "### Elvis Prestley - Always On My Mind\n",
        "![Elvis](https://www.duna.cl/media/2018/03/elvis-ok-e1520544500211.jpg)"
      ]
    },
    {
      "cell_type": "code",
      "metadata": {
        "id": "X7Dd-NLbQeXC",
        "colab_type": "code",
        "colab": {}
      },
      "source": [
        "predictors, label, max_sequence_len, total_words = dataset_preparation(elvis)\n",
        "model = create_model(predictors, label, max_sequence_len, total_words, epochs=500, verbose=0)"
      ],
      "execution_count": 0,
      "outputs": []
    },
    {
      "cell_type": "code",
      "metadata": {
        "id": "e4qwYgw0si5F",
        "colab_type": "code",
        "outputId": "0fd0fd84-e27f-497c-94c0-350d05db1766",
        "colab": {
          "base_uri": "https://localhost:8080/",
          "height": 52
        }
      },
      "source": [
        "print (generate_text(\"i should always guess\", 6, max_sequence_len, model))\n",
        "print (generate_text(\"you were second best\", 4, max_sequence_len, model))\n"
      ],
      "execution_count": 0,
      "outputs": [
        {
          "output_type": "stream",
          "text": [
            "i should always guess i should have said and done\n",
            "you were second best my best second best\n"
          ],
          "name": "stdout"
        }
      ]
    },
    {
      "cell_type": "markdown",
      "metadata": {
        "id": "koLTSheTr-dp",
        "colab_type": "text"
      },
      "source": [
        "### Abba - Dancing Queen\n",
        "![Abba](https://culto.latercera.com/wp-content/uploads/2018/04/abba-900x600.jpg)"
      ]
    },
    {
      "cell_type": "code",
      "metadata": {
        "id": "OtOuoIu5r4IT",
        "colab_type": "code",
        "colab": {}
      },
      "source": [
        "predictors, label, max_sequence_len, total_words = dataset_preparation(abba)\n",
        "model = create_model(predictors, label, max_sequence_len, total_words, epochs=500, verbose=0)"
      ],
      "execution_count": 0,
      "outputs": []
    },
    {
      "cell_type": "code",
      "metadata": {
        "id": "yyHAmHWbs1gv",
        "colab_type": "code",
        "outputId": "09efdc2f-c557-4ccb-fe30-dedd186a731a",
        "colab": {
          "base_uri": "https://localhost:8080/",
          "height": 52
        }
      },
      "source": [
        "print (generate_text(\"hard dancing girl\", 5, max_sequence_len, model))\n",
        "print (generate_text(\"gone girl in\", 8, max_sequence_len, model))\n"
      ],
      "execution_count": 0,
      "outputs": [
        {
          "output_type": "stream",
          "text": [
            "hard dancing girl fine and the music's high\n",
            "gone girl in the dancing queen fine and the dancing music\n"
          ],
          "name": "stdout"
        }
      ]
    },
    {
      "cell_type": "markdown",
      "metadata": {
        "id": "7xFPz_oBzm1y",
        "colab_type": "text"
      },
      "source": [
        "Al ser tan repetitiva la canción, no tenemos muy buen resultado."
      ]
    },
    {
      "cell_type": "markdown",
      "metadata": {
        "id": "LVMrJFht0S5i",
        "colab_type": "text"
      },
      "source": [
        "### Todos juntos\n",
        "Por último, vemos que pasa si entrenamos con las tres canciones.\n",
        "\n",
        "![Oldies](https://images-na.ssl-images-amazon.com/images/I/9179F-G7-%2BL._SL1500_.jpg)"
      ]
    },
    {
      "cell_type": "code",
      "metadata": {
        "id": "qoaHoxewz7YH",
        "colab_type": "code",
        "colab": {}
      },
      "source": [
        "todos = abba + elvis + gloria"
      ],
      "execution_count": 0,
      "outputs": []
    },
    {
      "cell_type": "code",
      "metadata": {
        "id": "ZiBFVhoPz7FM",
        "colab_type": "code",
        "colab": {}
      },
      "source": [
        "predictors, label, max_sequence_len, total_words = dataset_preparation(todos)\n",
        "model = create_model(predictors, label, max_sequence_len, total_words, epochs=500, verbose=0)"
      ],
      "execution_count": 0,
      "outputs": []
    },
    {
      "cell_type": "code",
      "metadata": {
        "id": "gKalTQlaz64Q",
        "colab_type": "code",
        "outputId": "168ff881-8241-4636-b2e0-e344ce387df0",
        "colab": {
          "base_uri": "https://localhost:8080/",
          "height": 121
        }
      },
      "source": [
        "print (generate_text(\"the pieces are\", 14, max_sequence_len, model))\n",
        "print (generate_text(\"i change for you\", 8, max_sequence_len, model))\n",
        "\n",
        "print (generate_text(\"i should always guess\", 6, max_sequence_len, model))\n",
        "print (generate_text(\"you were second best\", 7, max_sequence_len, model))\n",
        "\n",
        "print (generate_text(\"hard dancing girl\", 5, max_sequence_len, model))\n",
        "print (generate_text(\"gone girl in\", 16, max_sequence_len, model))"
      ],
      "execution_count": 0,
      "outputs": [
        {
          "output_type": "stream",
          "text": [
            "the pieces are rock music to be free your your side with that sad look upon you\n",
            "i change for you felt like dropping in and just expect me\n",
            "i should always guess i should have changed that stupid\n",
            "you were second best i spent have took the door free\n",
            "hard dancing girl go walk out the door\n",
            "gone girl in and just tell for myself so so many just expect me that your time to long\n"
          ],
          "name": "stdout"
        }
      ]
    }
  ]
}