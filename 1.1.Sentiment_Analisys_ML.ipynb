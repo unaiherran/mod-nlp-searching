{
 "cells": [
  {
   "cell_type": "markdown",
   "metadata": {
    "colab_type": "text",
    "id": "HQgMfs4iCTiH"
   },
   "source": [
    "# 1. Sentiment Analisys"
   ]
  },
  {
   "cell_type": "markdown",
   "metadata": {
    "colab_type": "text",
    "id": "GvUsNQJoCaPt"
   },
   "source": [
    "## 1.0 Preparación de datos"
   ]
  },
  {
   "cell_type": "markdown",
   "metadata": {},
   "source": [
    "El problema de sentiment analysis se puede entender como un problema de clasificación."
   ]
  },
  {
   "cell_type": "markdown",
   "metadata": {},
   "source": [
    "### Imports y funciones auxiliares"
   ]
  },
  {
   "cell_type": "code",
   "execution_count": 15,
   "metadata": {
    "colab": {},
    "colab_type": "code",
    "id": "mZ3vKrhsDsos"
   },
   "outputs": [],
   "source": [
    "import numpy as np\n",
    "import pandas as pd\n",
    "import io, re\n",
    "import matplotlib.pyplot as plt\n",
    "from datetime import datetime\n",
    "from random import sample"
   ]
  },
  {
   "cell_type": "code",
   "execution_count": 16,
   "metadata": {},
   "outputs": [],
   "source": [
    "from sklearn.metrics import confusion_matrix"
   ]
  },
  {
   "cell_type": "code",
   "execution_count": 1,
   "metadata": {},
   "outputs": [],
   "source": [
    "RESULT_FILE='results/resultados_modelos.csv'"
   ]
  },
  {
   "cell_type": "code",
   "execution_count": 17,
   "metadata": {
    "colab": {},
    "colab_type": "code",
    "id": "zk3NUg6IpXMA"
   },
   "outputs": [],
   "source": [
    "def plot_confusion_matrix(confmat):\n",
    "    fig, ax = plt.subplots(figsize=(7, 7))\n",
    "    ax.matshow(confmat, cmap=plt.cm.Blues, alpha=0.5)\n",
    "    for i in range(confmat.shape[0]):\n",
    "        for j in range(confmat.shape[1]):\n",
    "            ax.text(x=j, y=i, s=confmat[i, j], va='center', ha='center')\n",
    "\n",
    "    plt.xlabel('predicted label')\n",
    "    plt.ylabel('true label')\n",
    "\n",
    "    plt.tight_layout()\n",
    "    plt.show()"
   ]
  },
  {
   "cell_type": "code",
   "execution_count": 18,
   "metadata": {},
   "outputs": [],
   "source": [
    "def calcula_metricas(confmat):\n",
    "    \n",
    "    tn, fp, fn, tp = confmat.ravel()\n",
    "\n",
    "    acc = (tp+tn)/(tn + fp + fn + tp)\n",
    "    sen = tp/(tp+fn)\n",
    "    esp = tn/(tn+fp)\n",
    "    ppv = tp/(tp+fp)\n",
    "    fsc = 2*(sen*ppv/(sen+ppv))\n",
    "\n",
    "    print('ACC: ', acc)\n",
    "    print('SEN: ', sen)\n",
    "    print('ESP: ', esp)\n",
    "    print('PPV: ', ppv)\n",
    "    print('FSC: ', fsc)\n",
    "    \n",
    "    plt.bar(range(5),[acc,sen,esp,ppv,fsc])\n",
    "    plt.xticks(range(5),['ACC','SEN','ESP','PPV','FSC'])\n",
    "    plt.plot([-1, 6], [1, 1], color=(0.6, 0.6, 0.6), linestyle='--')\n",
    "    plt.xlim((-0.5,4.5))\n",
    "    plt.ylim((0,1.1))\n",
    "    plt.title('Metricas')\n",
    "    plt.show()\n",
    "    metricas = [acc, sen,esp,ppv,fsc]\n",
    "    return metricas"
   ]
  },
  {
   "cell_type": "code",
   "execution_count": 19,
   "metadata": {},
   "outputs": [],
   "source": [
    "columns = ['Modelo', 'parametros-optimos', 'train', 'test', 'confusion_matrix', 'acc_sen_esp_ppv_fsc']\n",
    "\n",
    "resultadosModelo = pd.DataFrame(columns=columns)\n",
    "\n",
    "def add_row(df, row):\n",
    "    df.loc[-1] = row\n",
    "    df.index = df.index + 1  \n",
    "    return df.sort_index()"
   ]
  },
  {
   "cell_type": "code",
   "execution_count": 21,
   "metadata": {
    "colab": {
     "base_uri": "https://localhost:8080/",
     "height": 35
    },
    "colab_type": "code",
    "id": "F8yDXAezFga6",
    "outputId": "42aacd9e-7568-4761-d21a-3e3673bcfcde"
   },
   "outputs": [
    {
     "name": "stdout",
     "output_type": "stream",
     "text": [
      "Pretty printing has been turned ON\n"
     ]
    }
   ],
   "source": [
    "%pprint"
   ]
  },
  {
   "cell_type": "markdown",
   "metadata": {
    "colab_type": "text",
    "id": "7YwCDETZDtLN"
   },
   "source": [
    "### Lectura"
   ]
  },
  {
   "cell_type": "markdown",
   "metadata": {},
   "source": [
    "Se lee el dataset en un dataframe para su manipulación."
   ]
  },
  {
   "cell_type": "code",
   "execution_count": 165,
   "metadata": {
    "colab": {},
    "colab_type": "code",
    "id": "U0QCs5NEDsAG"
   },
   "outputs": [],
   "source": [
    "df = pd.read_csv('datasets/train_sentiment_utf8.csv')"
   ]
  },
  {
   "cell_type": "code",
   "execution_count": 166,
   "metadata": {
    "colab": {
     "base_uri": "https://localhost:8080/",
     "height": 348
    },
    "colab_type": "code",
    "id": "aBGt1sXaGDrl",
    "outputId": "317b141f-1242-411a-a531-468b81bb2a73"
   },
   "outputs": [
    {
     "data": {
      "text/html": [
       "<div>\n",
       "<style scoped>\n",
       "    .dataframe tbody tr th:only-of-type {\n",
       "        vertical-align: middle;\n",
       "    }\n",
       "\n",
       "    .dataframe tbody tr th {\n",
       "        vertical-align: top;\n",
       "    }\n",
       "\n",
       "    .dataframe thead th {\n",
       "        text-align: right;\n",
       "    }\n",
       "</style>\n",
       "<table border=\"1\" class=\"dataframe\">\n",
       "  <thead>\n",
       "    <tr style=\"text-align: right;\">\n",
       "      <th></th>\n",
       "      <th>ItemID</th>\n",
       "      <th>Sentiment</th>\n",
       "      <th>SentimentText</th>\n",
       "    </tr>\n",
       "  </thead>\n",
       "  <tbody>\n",
       "    <tr>\n",
       "      <th>0</th>\n",
       "      <td>1</td>\n",
       "      <td>0</td>\n",
       "      <td>is so sad for my APL frie...</td>\n",
       "    </tr>\n",
       "    <tr>\n",
       "      <th>1</th>\n",
       "      <td>2</td>\n",
       "      <td>0</td>\n",
       "      <td>I missed the New Moon trail...</td>\n",
       "    </tr>\n",
       "    <tr>\n",
       "      <th>2</th>\n",
       "      <td>3</td>\n",
       "      <td>1</td>\n",
       "      <td>omg its already 7:30 :O</td>\n",
       "    </tr>\n",
       "    <tr>\n",
       "      <th>3</th>\n",
       "      <td>4</td>\n",
       "      <td>0</td>\n",
       "      <td>.. Omgaga. Im sooo  im gunna CRy. I'...</td>\n",
       "    </tr>\n",
       "    <tr>\n",
       "      <th>4</th>\n",
       "      <td>5</td>\n",
       "      <td>0</td>\n",
       "      <td>i think mi bf is cheating on me!!!   ...</td>\n",
       "    </tr>\n",
       "    <tr>\n",
       "      <th>5</th>\n",
       "      <td>6</td>\n",
       "      <td>0</td>\n",
       "      <td>or i just worry too much?</td>\n",
       "    </tr>\n",
       "    <tr>\n",
       "      <th>6</th>\n",
       "      <td>7</td>\n",
       "      <td>1</td>\n",
       "      <td>Juuuuuuuuuuuuuuuuussssst Chillin!!</td>\n",
       "    </tr>\n",
       "    <tr>\n",
       "      <th>7</th>\n",
       "      <td>8</td>\n",
       "      <td>0</td>\n",
       "      <td>Sunny Again        Work Tomorrow  :-|  ...</td>\n",
       "    </tr>\n",
       "    <tr>\n",
       "      <th>8</th>\n",
       "      <td>9</td>\n",
       "      <td>1</td>\n",
       "      <td>handed in my uniform today . i miss you ...</td>\n",
       "    </tr>\n",
       "    <tr>\n",
       "      <th>9</th>\n",
       "      <td>10</td>\n",
       "      <td>1</td>\n",
       "      <td>hmmmm.... i wonder how she my number @-)</td>\n",
       "    </tr>\n",
       "  </tbody>\n",
       "</table>\n",
       "</div>"
      ],
      "text/plain": [
       "   ItemID  Sentiment                                      SentimentText\n",
       "0       1          0                       is so sad for my APL frie...\n",
       "1       2          0                     I missed the New Moon trail...\n",
       "2       3          1                            omg its already 7:30 :O\n",
       "3       4          0            .. Omgaga. Im sooo  im gunna CRy. I'...\n",
       "4       5          0           i think mi bf is cheating on me!!!   ...\n",
       "5       6          0                  or i just worry too much?        \n",
       "6       7          1                 Juuuuuuuuuuuuuuuuussssst Chillin!!\n",
       "7       8          0         Sunny Again        Work Tomorrow  :-|  ...\n",
       "8       9          1        handed in my uniform today . i miss you ...\n",
       "9      10          1           hmmmm.... i wonder how she my number @-)"
      ]
     },
     "execution_count": 166,
     "metadata": {},
     "output_type": "execute_result"
    }
   ],
   "source": [
    "df = df.rename(columns={'ï»¿ItemID': \"ItemID\"})\n",
    "\n",
    "df.head(10)"
   ]
  },
  {
   "cell_type": "markdown",
   "metadata": {
    "colab_type": "text",
    "id": "xnA-PwchxITh"
   },
   "source": [
    "### Limpieza"
   ]
  },
  {
   "cell_type": "markdown",
   "metadata": {},
   "source": [
    "Los entrenamientos de los modelos son importantes, pero se necesita que la información que se alimenta al modelo sea buena, con lo que es necesario antes de plantear cualquier tipo de modelo realizar una buena limpieza de los datos.\n",
    "\n",
    "Para ello, cargamos el dataset principal en un dataframe y realizamos una limpieza de los datos, eliminando espacios, caracteres especiales y demás."
   ]
  },
  {
   "cell_type": "markdown",
   "metadata": {
    "colab_type": "text",
    "id": "WCctb5m1GZOf"
   },
   "source": [
    "Sustituyo todos los caracteres especiales de HTML (&amp;amp, &amp;quote...) por caracteres normales.\n",
    "Tambien tokenizo algunas caracteriticas propias de twits, como menciones, hashtags y urls."
   ]
  },
  {
   "cell_type": "code",
   "execution_count": 167,
   "metadata": {
    "colab": {},
    "colab_type": "code",
    "id": "uA9aeMgFv7lN"
   },
   "outputs": [],
   "source": [
    "#Algunas filas de prueba para ver que funciona\n",
    "def sacaSentimentText(lista_ids):\n",
    "    respuesta = ''\n",
    "    for e in lista_ids:\n",
    "        respuesta += df.iloc[e][\"SentimentText\"] + '\\n'\n",
    "    \n",
    "    return respuesta\n",
    "\n",
    "antes = sacaSentimentText([56,126,181,650])"
   ]
  },
  {
   "cell_type": "code",
   "execution_count": 168,
   "metadata": {
    "colab": {},
    "colab_type": "code",
    "id": "bSH82PPrfCtW"
   },
   "outputs": [],
   "source": [
    "def replace_re (cad, regex, token):\n",
    "    return re.sub(regex, token, cad)"
   ]
  },
  {
   "cell_type": "code",
   "execution_count": 169,
   "metadata": {
    "colab": {},
    "colab_type": "code",
    "id": "zuiCAZoFSv4I"
   },
   "outputs": [],
   "source": [
    "# quitar espacios antes y despues del texto\n",
    "df['SentimentText'] = df['SentimentText'].map(lambda SentimentText: SentimentText.strip())  \n",
    "\n",
    "# quitar espacios multiples en la cadena 'The    quick  lazy    fox'->'The quick lazy fox' \n",
    "extraSpaces_re = r' +'\n",
    "df['SentimentText'] = df['SentimentText'].apply(lambda x: replace_re(x, extraSpaces_re, \" \")) \n",
    "\n",
    "# Cambiar special HTML entities (de http://www.htmlhelp.com/reference/html40/entities/special.html)\n",
    "#  &amp; \t&lt; \t&gt; &circ; &tilde;\n",
    "df['SentimentText'] = df['SentimentText'].map(lambda SentimentText: SentimentText.replace('&amp;', '& '))\n",
    "df['SentimentText'] = df['SentimentText'].map(lambda SentimentText: SentimentText.replace('&lt;', '<'))\n",
    "df['SentimentText'] = df['SentimentText'].map(lambda SentimentText: SentimentText.replace('&gt;', '>'))\n",
    "df['SentimentText'] = df['SentimentText'].map(lambda SentimentText: SentimentText.replace('&circ;', '^'))\n",
    "\n",
    "# &ensp; &emsp; &thinsp; -> ' '\n",
    "df['SentimentText'] = df['SentimentText'].map(lambda SentimentText: SentimentText.replace('&ensp;', ' '))\n",
    "df['SentimentText'] = df['SentimentText'].map(lambda SentimentText: SentimentText.replace('&thinsp;', ' '))\n",
    "df['SentimentText'] = df['SentimentText'].map(lambda SentimentText: SentimentText.replace('&emsp;', ' '))\n",
    "\n",
    "# &ndash; \t&mdash; -> '-'\n",
    "df['SentimentText'] = df['SentimentText'].map(lambda SentimentText: SentimentText.replace('&ndash;', '-'))\n",
    "df['SentimentText'] = df['SentimentText'].map(lambda SentimentText: SentimentText.replace('&mdash;', '-'))\n",
    "\n",
    "# ' &quot; &lsquo; &rsquo; &sbquo; &ldquo; &rdquo; &bdquo; &lsaquo; &rsaquo;  -> \"'\"\n",
    "df['SentimentText'] = df['SentimentText'].map(lambda SentimentText: SentimentText.replace('\"', \"'\"))\n",
    "df['SentimentText'] = df['SentimentText'].map(lambda SentimentText: SentimentText.replace('&quot;', \"'\"))\n",
    "df['SentimentText'] = df['SentimentText'].map(lambda SentimentText: SentimentText.replace('&lsquo;', \"'\"))\n",
    "df['SentimentText'] = df['SentimentText'].map(lambda SentimentText: SentimentText.replace('&rsquo;', \"'\"))\n",
    "df['SentimentText'] = df['SentimentText'].map(lambda SentimentText: SentimentText.replace('&sbquo;', \"'\"))\n",
    "df['SentimentText'] = df['SentimentText'].map(lambda SentimentText: SentimentText.replace('&ldquo;', \"'\"))\n",
    "df['SentimentText'] = df['SentimentText'].map(lambda SentimentText: SentimentText.replace('&rdquo;', \"'\"))\n",
    "df['SentimentText'] = df['SentimentText'].map(lambda SentimentText: SentimentText.replace('&bdquo;', \"'\"))\n",
    "df['SentimentText'] = df['SentimentText'].map(lambda SentimentText: SentimentText.replace('&lsaquo;', \"'\"))\n",
    "df['SentimentText'] = df['SentimentText'].map(lambda SentimentText: SentimentText.replace('&rsaquo;', \"'\"))\n",
    "df['SentimentText'] = df['SentimentText'].map(lambda SentimentText: SentimentText.replace('&quot;', \"'\"))\n",
    "\n",
    "# euro sign\t&euro;\t&#8364;\t&#x20AC;\t€\t€\t€\n",
    "df['SentimentText'] = df['SentimentText'].map(lambda SentimentText: SentimentText.replace('&euro;', '€'))\n",
    "\n",
    "# quitar @username (mentions) y cambiarlo por un token\n",
    "twitterHandle_re = r'(^|[^@\\w])@(\\w{1,15})\\b'\n",
    "df['SentimentText'] = df['SentimentText'].apply(lambda x: replace_re(x, twitterHandle_re, \"<MENTION>\")) \n",
    "\n",
    "# hashtag\n",
    "hashtag_re = r'(?:^|\\s|\\')[＃#]{1}(\\w+)'\n",
    "df['SentimentText'] = df['SentimentText'].apply(lambda x: replace_re(x, hashtag_re, \"<HASHTAG>\")) \n",
    "\n",
    "# urls\n",
    "url_re = r'[localhost|http|https|ftp|file]+://[\\w\\S(\\.|:|/)]+'\n",
    "df['SentimentText'] = df['SentimentText'].apply(lambda x: replace_re(x, url_re, \"<URL> \")) \n",
    "\n",
    "# quitar espacios antes y despues del texto (los que se hayan podido meter despues de las sustituciones)\n",
    "df['SentimentText'] = df['SentimentText'].map(lambda SentimentText: SentimentText.strip())  \n"
   ]
  },
  {
   "cell_type": "code",
   "execution_count": 170,
   "metadata": {
    "colab": {
     "base_uri": "https://localhost:8080/",
     "height": 242
    },
    "colab_type": "code",
    "id": "_YYlvXO2mI2T",
    "outputId": "5f8c906e-8b7a-49f8-88ff-8425f6e1981a"
   },
   "outputs": [
    {
     "name": "stdout",
     "output_type": "stream",
     "text": [
      "ANTES: \n",
      "  friends are leaving me 'cause of this stupid love  http://bit.ly/ZoxZC\n",
      "  Why Twitter will soon become obsolete? http://www.imediaconnection.com/content/23465.asp\n",
      " @adbert: &quot;#Video [Woody Woodpecker Ã¢â¬â The Barber of Seville] I am great, @klitoria, just wishing to be a ch... Ã¢â¢Â« http://blip.fm/~7g6r0\n",
      " #squaresp #squarespac #squarespace #trackle giveaways giveway iphonegiveway squarespace squarespce trackle\n",
      "\n",
      "\n",
      "DESPUES:\n",
      "friends are leaving me 'cause of this stupid love <URL>\n",
      "Why Twitter will soon become obsolete? <URL>\n",
      "<MENTION>: <HASHTAG> [Woody Woodpecker Ã¢â¬â The Barber of Seville] I am great,<MENTION>, just wishing to be a ch... Ã¢â¢Â« <URL>\n",
      "<HASHTAG><HASHTAG><HASHTAG><HASHTAG> giveaways giveway iphonegiveway squarespace squarespce trackle\n",
      "\n"
     ]
    }
   ],
   "source": [
    "despues = sacaSentimentText([56,126,181,650])\n",
    "\n",
    "print('ANTES: \\n'+antes+'\\n\\nDESPUES:\\n'+ despues)"
   ]
  },
  {
   "cell_type": "markdown",
   "metadata": {
    "colab_type": "text",
    "id": "BtO1oQi5xMLN"
   },
   "source": [
    "### Vectorizar el dataframe"
   ]
  },
  {
   "cell_type": "markdown",
   "metadata": {},
   "source": [
    "El dataframe ahora tiene que ser vectorizado."
   ]
  },
  {
   "cell_type": "code",
   "execution_count": 171,
   "metadata": {
    "colab": {
     "base_uri": "https://localhost:8080/",
     "height": 1000
    },
    "colab_type": "code",
    "id": "9RP45Z7TTY1L",
    "outputId": "e5213932-e081-48a1-a9e3-9ee46ebffa6b"
   },
   "outputs": [
    {
     "data": {
      "text/html": [
       "<div>\n",
       "<style scoped>\n",
       "    .dataframe tbody tr th:only-of-type {\n",
       "        vertical-align: middle;\n",
       "    }\n",
       "\n",
       "    .dataframe tbody tr th {\n",
       "        vertical-align: top;\n",
       "    }\n",
       "\n",
       "    .dataframe thead th {\n",
       "        text-align: right;\n",
       "    }\n",
       "</style>\n",
       "<table border=\"1\" class=\"dataframe\">\n",
       "  <thead>\n",
       "    <tr style=\"text-align: right;\">\n",
       "      <th></th>\n",
       "      <th>Sentiment</th>\n",
       "      <th>SentimentText</th>\n",
       "    </tr>\n",
       "  </thead>\n",
       "  <tbody>\n",
       "    <tr>\n",
       "      <th>0</th>\n",
       "      <td>0</td>\n",
       "      <td>is so sad for my APL friend.............</td>\n",
       "    </tr>\n",
       "    <tr>\n",
       "      <th>1</th>\n",
       "      <td>0</td>\n",
       "      <td>I missed the New Moon trailer...</td>\n",
       "    </tr>\n",
       "    <tr>\n",
       "      <th>2</th>\n",
       "      <td>1</td>\n",
       "      <td>omg its already 7:30 :O</td>\n",
       "    </tr>\n",
       "    <tr>\n",
       "      <th>3</th>\n",
       "      <td>0</td>\n",
       "      <td>.. Omgaga. Im sooo im gunna CRy. I've been at ...</td>\n",
       "    </tr>\n",
       "    <tr>\n",
       "      <th>4</th>\n",
       "      <td>0</td>\n",
       "      <td>i think mi bf is cheating on me!!! T_T</td>\n",
       "    </tr>\n",
       "    <tr>\n",
       "      <th>5</th>\n",
       "      <td>0</td>\n",
       "      <td>or i just worry too much?</td>\n",
       "    </tr>\n",
       "    <tr>\n",
       "      <th>6</th>\n",
       "      <td>1</td>\n",
       "      <td>Juuuuuuuuuuuuuuuuussssst Chillin!!</td>\n",
       "    </tr>\n",
       "    <tr>\n",
       "      <th>7</th>\n",
       "      <td>0</td>\n",
       "      <td>Sunny Again Work Tomorrow :-| TV Tonight</td>\n",
       "    </tr>\n",
       "    <tr>\n",
       "      <th>8</th>\n",
       "      <td>1</td>\n",
       "      <td>handed in my uniform today . i miss you already</td>\n",
       "    </tr>\n",
       "    <tr>\n",
       "      <th>9</th>\n",
       "      <td>1</td>\n",
       "      <td>hmmmm.... i wonder how she my number @-)</td>\n",
       "    </tr>\n",
       "  </tbody>\n",
       "</table>\n",
       "</div>"
      ],
      "text/plain": [
       "   Sentiment                                      SentimentText\n",
       "0          0           is so sad for my APL friend.............\n",
       "1          0                   I missed the New Moon trailer...\n",
       "2          1                            omg its already 7:30 :O\n",
       "3          0  .. Omgaga. Im sooo im gunna CRy. I've been at ...\n",
       "4          0             i think mi bf is cheating on me!!! T_T\n",
       "5          0                          or i just worry too much?\n",
       "6          1                 Juuuuuuuuuuuuuuuuussssst Chillin!!\n",
       "7          0           Sunny Again Work Tomorrow :-| TV Tonight\n",
       "8          1    handed in my uniform today . i miss you already\n",
       "9          1           hmmmm.... i wonder how she my number @-)"
      ]
     },
     "execution_count": 171,
     "metadata": {},
     "output_type": "execute_result"
    }
   ],
   "source": [
    "df = df.drop(['ItemID'], axis=1)\n",
    "df.head(10)"
   ]
  },
  {
   "cell_type": "code",
   "execution_count": 173,
   "metadata": {},
   "outputs": [],
   "source": [
    "df.to_csv('datasets/sentiment_dataset_limpio.csv')"
   ]
  },
  {
   "cell_type": "code",
   "execution_count": 17,
   "metadata": {
    "colab": {
     "base_uri": "https://localhost:8080/",
     "height": 89
    },
    "colab_type": "code",
    "id": "9VqG-5IvUphz",
    "outputId": "f97153fa-a301-4c64-d1a9-af6deed62e34"
   },
   "outputs": [
    {
     "name": "stdout",
     "output_type": "stream",
     "text": [
      "[('I missed the New Moon trailer...', 'NEG'), ('omg its already 7:30 :O', 'POS'), (\".. Omgaga. Im sooo im gunna CRy. I've been at this dentist since 11.. I was suposed 2 just get a crown put on (30mins)...\", 'NEG'), ('i think mi bf is cheating on me!!! T_T', 'NEG'), ('or i just worry too much?', 'NEG')]\n"
     ]
    },
    {
     "data": {
      "text/plain": [
       "99988"
      ]
     },
     "execution_count": 17,
     "metadata": {},
     "output_type": "execute_result"
    }
   ],
   "source": [
    "sentiment_dataset = []\n",
    "for index, row in df.iterrows():\n",
    "    if index>0:\n",
    "        label = 'POS' if row[0] == 1 else 'NEG' \n",
    "        sentiment_dataset.append((row[1],label))\n",
    "print(sentiment_dataset[0:5])\n",
    "len(sentiment_dataset)"
   ]
  },
  {
   "cell_type": "markdown",
   "metadata": {
    "colab_type": "text",
    "id": "6BF2LvdSCiy6"
   },
   "source": [
    "## 1.1 Sentiment Analisys con Machine Learning"
   ]
  },
  {
   "cell_type": "code",
   "execution_count": 18,
   "metadata": {
    "colab": {},
    "colab_type": "code",
    "id": "qdjiDzoYgqUo"
   },
   "outputs": [],
   "source": [
    "from sklearn.model_selection import StratifiedShuffleSplit\n",
    "\n",
    "from sklearn.feature_extraction.text import CountVectorizer\n",
    "from sklearn.feature_extraction.text import TfidfTransformer\n",
    "from sklearn.naive_bayes import MultinomialNB\n",
    "from sklearn.svm import SVC\n",
    "from sklearn.model_selection import GridSearchCV\n",
    "from sklearn.pipeline import Pipeline"
   ]
  },
  {
   "cell_type": "code",
   "execution_count": 19,
   "metadata": {
    "colab": {},
    "colab_type": "code",
    "id": "rOc72RELFgUu"
   },
   "outputs": [],
   "source": [
    "def split_train_val_test(dataset, split=0.2):\n",
    "\n",
    "    x, y = zip(*dataset)\n",
    "    x = np.array(list(x))\n",
    "    y = np.array(list(y))\n",
    "    sss = StratifiedShuffleSplit(n_splits=1, test_size=split, random_state=1337) #l33t seed\n",
    "    for train_index, test_index in sss.split(x, y):\n",
    "        x_train, x_val = x[train_index], x[test_index]\n",
    "        y_train, y_val = y[train_index], y[test_index]\n",
    "    splits = {'train':(x_train, y_train), 'test':(x_val, y_val)}\n",
    "    return splits"
   ]
  },
  {
   "cell_type": "code",
   "execution_count": 20,
   "metadata": {
    "colab": {
     "base_uri": "https://localhost:8080/",
     "height": 104
    },
    "colab_type": "code",
    "id": "Sz4ssh5eGDim",
    "outputId": "265dd99a-914b-4efc-fb96-da3cfc633307"
   },
   "outputs": [
    {
     "data": {
      "text/plain": [
       "['<MENTION> thank you for the follow',\n",
       " \"'Everythings Magic!'\",\n",
       " \"<MENTION> you shouldn't be.\",\n",
       " '<MENTION> i think im amazing too! you know i love you too! and im not jealous of you spitting so suck a dick love <3',\n",
       " \"<MENTION> *flys to Scotland, goes to lowri's house, kills fly*\"]"
      ]
     },
     "execution_count": 20,
     "metadata": {},
     "output_type": "execute_result"
    }
   ],
   "source": [
    "sample([x for x, y in sentiment_dataset if y=='POS'], 5)\n"
   ]
  },
  {
   "cell_type": "code",
   "execution_count": 21,
   "metadata": {
    "colab": {},
    "colab_type": "code",
    "id": "0ryEsF0CFgXt"
   },
   "outputs": [],
   "source": [
    "split = split_train_val_test(sentiment_dataset, 0.3)"
   ]
  },
  {
   "cell_type": "markdown",
   "metadata": {
    "colab_type": "text",
    "id": "7n2VBNdGCioM"
   },
   "source": [
    "### 1.1.1 Bayes"
   ]
  },
  {
   "cell_type": "code",
   "execution_count": 16,
   "metadata": {
    "colab": {
     "base_uri": "https://localhost:8080/",
     "height": 55
    },
    "colab_type": "code",
    "id": "a2lbCwABFgR8",
    "outputId": "1ddb36c4-74d4-46ff-cf81-6d7c876f9f4a"
   },
   "outputs": [
    {
     "data": {
      "text/plain": [
       "dict_keys(['memory', 'steps', 'vect', 'clf', 'vect__analyzer', 'vect__binary', 'vect__decode_error', 'vect__dtype', 'vect__encoding', 'vect__input', 'vect__lowercase', 'vect__max_df', 'vect__max_features', 'vect__min_df', 'vect__ngram_range', 'vect__preprocessor', 'vect__stop_words', 'vect__strip_accents', 'vect__token_pattern', 'vect__tokenizer', 'vect__vocabulary', 'clf__alpha', 'clf__class_prior', 'clf__fit_prior'])"
      ]
     },
     "execution_count": 16,
     "metadata": {},
     "output_type": "execute_result"
    }
   ],
   "source": [
    "pipeline = Pipeline([\n",
    "    ('vect', CountVectorizer()),\n",
    "    ('clf', MultinomialNB()), #MultinomialNB\n",
    "])\n",
    "pipeline.get_params().keys() # que parametros podemos tocar en el gridsearch!"
   ]
  },
  {
   "cell_type": "code",
   "execution_count": 17,
   "metadata": {
    "colab": {},
    "colab_type": "code",
    "id": "mODeE4xmFgPE"
   },
   "outputs": [],
   "source": [
    "parameters = {\n",
    "    'vect__max_df': (0.5, 0.75, 1.0),\n",
    "    'vect__ngram_range': ((1, 2), (1, 3), (2, 3), (1,4)),  #ngrams to test\n",
    "    'vect__analyzer': ('word', 'char', 'char_wb')\n",
    "    }"
   ]
  },
  {
   "cell_type": "code",
   "execution_count": 18,
   "metadata": {
    "colab": {},
    "colab_type": "code",
    "id": "TtofbjRTFgMQ"
   },
   "outputs": [],
   "source": [
    "grid_search = GridSearchCV(pipeline, parameters, n_jobs=7, verbose=1, cv=3)"
   ]
  },
  {
   "cell_type": "code",
   "execution_count": 19,
   "metadata": {
    "colab": {
     "base_uri": "https://localhost:8080/",
     "height": 106
    },
    "colab_type": "code",
    "id": "YwvJm6-mFgJc",
    "outputId": "5e609d79-640c-4ea6-b226-5f029b2823f1"
   },
   "outputs": [
    {
     "name": "stdout",
     "output_type": "stream",
     "text": [
      "Fitting 3 folds for each of 36 candidates, totalling 108 fits\n"
     ]
    },
    {
     "name": "stderr",
     "output_type": "stream",
     "text": [
      "[Parallel(n_jobs=7)]: Using backend LokyBackend with 7 concurrent workers.\n",
      "[Parallel(n_jobs=7)]: Done  36 tasks      | elapsed:   58.1s\n",
      "/anaconda3/lib/python3.7/site-packages/sklearn/externals/joblib/externals/loky/process_executor.py:706: UserWarning: A worker stopped while some jobs were given to the executor. This can be caused by a too short worker timeout or by a memory leak.\n",
      "  \"timeout or by a memory leak.\", UserWarning\n",
      "[Parallel(n_jobs=7)]: Done 108 out of 108 | elapsed:  4.5min finished\n"
     ]
    },
    {
     "name": "stdout",
     "output_type": "stream",
     "text": [
      "\tvect__analyzer: 'word'\n",
      "\tvect__max_df: 1.0\n",
      "\tvect__ngram_range: (1, 2)\n",
      "Best score: 0.761\n"
     ]
    }
   ],
   "source": [
    "grid_search.fit(split['train'][0], split['train'][1])\n",
    "best_parameters = grid_search.best_estimator_.get_params()\n",
    "for param_name in sorted(parameters.keys()):\n",
    "    print(\"\\t%s: %r\" % (param_name, best_parameters[param_name]))\n",
    "print(\"Best score: %0.3f\" % grid_search.best_score_)"
   ]
  },
  {
   "cell_type": "code",
   "execution_count": 20,
   "metadata": {
    "colab": {
     "base_uri": "https://localhost:8080/",
     "height": 35
    },
    "colab_type": "code",
    "id": "lnsLW11bFgGp",
    "outputId": "a699541f-4cef-4cea-a5d1-77be8b07f2d6"
   },
   "outputs": [
    {
     "name": "stdout",
     "output_type": "stream",
     "text": [
      "TEST SCORE: 0.7715438210487715\n"
     ]
    }
   ],
   "source": [
    "pipeline.set_params(**best_parameters)\n",
    "predictions = pipeline.score(split['test'][0], split['test'][1])\n",
    "print('TEST SCORE: {}'.format(predictions))"
   ]
  },
  {
   "cell_type": "code",
   "execution_count": 24,
   "metadata": {},
   "outputs": [],
   "source": [
    "predictions = pipeline.predict(split['test'][0])"
   ]
  },
  {
   "cell_type": "code",
   "execution_count": 25,
   "metadata": {
    "colab": {},
    "colab_type": "code",
    "id": "fAwj7obHFf7N"
   },
   "outputs": [],
   "source": [
    "confmat = confusion_matrix(split['test'][1], predictions)"
   ]
  },
  {
   "cell_type": "code",
   "execution_count": 23,
   "metadata": {},
   "outputs": [
    {
     "data": {
      "text/plain": [
       "array(['NEG', 'POS', 'POS', ..., 'POS', 'POS', 'NEG'], dtype='<U3')"
      ]
     },
     "execution_count": 23,
     "metadata": {},
     "output_type": "execute_result"
    }
   ],
   "source": [
    "split['test'][1]"
   ]
  },
  {
   "cell_type": "code",
   "execution_count": 26,
   "metadata": {},
   "outputs": [
    {
     "data": {
      "text/plain": [
       "array([[ 9144,  3916],\n",
       "       [ 2937, 14000]])"
      ]
     },
     "execution_count": 26,
     "metadata": {},
     "output_type": "execute_result"
    }
   ],
   "source": [
    "confmat"
   ]
  },
  {
   "cell_type": "code",
   "execution_count": 30,
   "metadata": {
    "colab": {
     "base_uri": "https://localhost:8080/",
     "height": 165
    },
    "colab_type": "code",
    "id": "HMXQEIkrqyVL",
    "outputId": "8ee7854a-9ad3-4bbd-e067-4fd695a2d485"
   },
   "outputs": [
    {
     "data": {
      "image/png": "[encoded data removed]",
      "text/plain": [
       "<Figure size 504x504 with 1 Axes>"
      ]
     },
     "metadata": {
      "needs_background": "light"
     },
     "output_type": "display_data"
    },
    {
     "name": "stdout",
     "output_type": "stream",
     "text": [
      "ACC:  0.7715438210487715\n",
      "SEN:  0.8265926669421976\n",
      "ESP:  0.7001531393568147\n",
      "PPV:  0.7814244250948873\n",
      "FSC:  0.8033741715203856\n"
     ]
    },
    {
     "data": {
      "image/png": "[encoded data removed]",
      "text/plain": [
       "<Figure size 432x288 with 1 Axes>"
      ]
     },
     "metadata": {
      "needs_background": "light"
     },
     "output_type": "display_data"
    },
    {
     "data": {
      "text/plain": [
       "[0.7715438210487715, 0.8265926669421976, 0.7001531393568147, 0.7814244250948873, 0.8033741715203856]"
      ]
     },
     "execution_count": 30,
     "metadata": {},
     "output_type": "execute_result"
    }
   ],
   "source": [
    "plot_confusion_matrix(confmat)\n",
    "calcula_metricas(confmat)"
   ]
  },
  {
   "cell_type": "markdown",
   "metadata": {
    "colab_type": "text",
    "id": "iAyOhbZCCiW9"
   },
   "source": [
    "### 1.1.2 SVM"
   ]
  },
  {
   "cell_type": "markdown",
   "metadata": {},
   "source": [
    "En la implementación de SVMs, el elegir de forma correcta los parametros de la misma (C y gamma) es bastante critico. Al ser el cáculo de estos parametros muy intenso, voy a usar un metodo de aproximaciones sucesivas, para centrar cual es la región de los parametros que dá mejor resultado, fijar los parámetros del vectorizador, y intentar afinar C y Gamma para esos parametros."
   ]
  },
  {
   "cell_type": "code",
   "execution_count": 22,
   "metadata": {},
   "outputs": [
    {
     "data": {
      "text/plain": [
       "dict_keys(['memory', 'steps', 'vect', 'svm', 'vect__analyzer', 'vect__binary', 'vect__decode_error', 'vect__dtype', 'vect__encoding', 'vect__input', 'vect__lowercase', 'vect__max_df', 'vect__max_features', 'vect__min_df', 'vect__ngram_range', 'vect__preprocessor', 'vect__stop_words', 'vect__strip_accents', 'vect__token_pattern', 'vect__tokenizer', 'vect__vocabulary', 'svm__C', 'svm__cache_size', 'svm__class_weight', 'svm__coef0', 'svm__decision_function_shape', 'svm__degree', 'svm__gamma', 'svm__kernel', 'svm__max_iter', 'svm__probability', 'svm__random_state', 'svm__shrinking', 'svm__tol', 'svm__verbose'])"
      ]
     },
     "execution_count": 22,
     "metadata": {},
     "output_type": "execute_result"
    }
   ],
   "source": [
    "pipeline = Pipeline([\n",
    "    ('vect', CountVectorizer()),\n",
    "    ('svm', SVC()), #SVC\n",
    "])\n",
    "pipeline.get_params().keys() # que parametros podemos tocar en el gridsearch!"
   ]
  },
  {
   "cell_type": "code",
   "execution_count": 42,
   "metadata": {},
   "outputs": [],
   "source": [
    "vetorC = vectorC = np.logspace(-9, 0, 5)\n",
    "vectorG = np.logspace(-3, 3, 5)\n",
    "\n",
    "parameters = {\n",
    "    'vect__max_df': (0.5, 0.75, 1.0),\n",
    "    'vect__ngram_range': ((1, 2), (1, 3), (2, 3), (1,4)),  #ngrams to test\n",
    "    'vect__analyzer': ('word', 'char', 'char_wb'),\n",
    "    'svm__C': vectorC, \n",
    "    'svm__gamma':vectorG\n",
    "    }"
   ]
  },
  {
   "cell_type": "code",
   "execution_count": 43,
   "metadata": {},
   "outputs": [],
   "source": [
    "grid_search = GridSearchCV(pipeline, parameters, n_jobs=-1, verbose=1, cv=3)"
   ]
  },
  {
   "cell_type": "code",
   "execution_count": 45,
   "metadata": {},
   "outputs": [
    {
     "name": "stdout",
     "output_type": "stream",
     "text": [
      "He empezado a las:  2019-09-18 19:58:51.236947\n",
      "Fitting 3 folds for each of 900 candidates, totalling 2700 fits\n"
     ]
    },
    {
     "name": "stderr",
     "output_type": "stream",
     "text": [
      "[Parallel(n_jobs=-1)]: Using backend LokyBackend with 8 concurrent workers.\n",
      "[Parallel(n_jobs=-1)]: Done  34 tasks      | elapsed: 91.3min\n",
      "/anaconda3/lib/python3.7/site-packages/sklearn/externals/joblib/externals/loky/process_executor.py:706: UserWarning: A worker stopped while some jobs were given to the executor. This can be caused by a too short worker timeout or by a memory leak.\n",
      "  \"timeout or by a memory leak.\", UserWarning\n",
      "[Parallel(n_jobs=-1)]: Done 184 tasks      | elapsed: 1187.3min\n"
     ]
    },
    {
     "ename": "KeyboardInterrupt",
     "evalue": "",
     "output_type": "error",
     "traceback": [
      "\u001b[0;31m---------------------------------------------------------------------------\u001b[0m",
      "\u001b[0;31mKeyboardInterrupt\u001b[0m                         Traceback (most recent call last)",
      "\u001b[0;32m<ipython-input-45-712e7c5a303c>\u001b[0m in \u001b[0;36m<module>\u001b[0;34m\u001b[0m\n\u001b[1;32m      3\u001b[0m \u001b[0mprint\u001b[0m\u001b[0;34m(\u001b[0m\u001b[0;34m\"He empezado a las: \"\u001b[0m\u001b[0;34m,\u001b[0m\u001b[0mhora_inicio\u001b[0m\u001b[0;34m)\u001b[0m\u001b[0;34m\u001b[0m\u001b[0;34m\u001b[0m\u001b[0m\n\u001b[1;32m      4\u001b[0m \u001b[0;34m\u001b[0m\u001b[0m\n\u001b[0;32m----> 5\u001b[0;31m \u001b[0mgrid_search\u001b[0m\u001b[0;34m.\u001b[0m\u001b[0mfit\u001b[0m\u001b[0;34m(\u001b[0m\u001b[0msplit\u001b[0m\u001b[0;34m[\u001b[0m\u001b[0;34m'train'\u001b[0m\u001b[0;34m]\u001b[0m\u001b[0;34m[\u001b[0m\u001b[0;36m0\u001b[0m\u001b[0;34m]\u001b[0m\u001b[0;34m,\u001b[0m \u001b[0msplit\u001b[0m\u001b[0;34m[\u001b[0m\u001b[0;34m'train'\u001b[0m\u001b[0;34m]\u001b[0m\u001b[0;34m[\u001b[0m\u001b[0;36m1\u001b[0m\u001b[0;34m]\u001b[0m\u001b[0;34m)\u001b[0m\u001b[0;34m\u001b[0m\u001b[0;34m\u001b[0m\u001b[0m\n\u001b[0m\u001b[1;32m      6\u001b[0m \u001b[0;34m\u001b[0m\u001b[0m\n\u001b[1;32m      7\u001b[0m \u001b[0mhora_fin\u001b[0m \u001b[0;34m=\u001b[0m \u001b[0mdatetime\u001b[0m\u001b[0;34m.\u001b[0m\u001b[0mnow\u001b[0m\u001b[0;34m(\u001b[0m\u001b[0;34m)\u001b[0m\u001b[0;34m\u001b[0m\u001b[0;34m\u001b[0m\u001b[0m\n",
      "\u001b[0;32m/anaconda3/lib/python3.7/site-packages/sklearn/model_selection/_search.py\u001b[0m in \u001b[0;36mfit\u001b[0;34m(self, X, y, groups, **fit_params)\u001b[0m\n\u001b[1;32m    720\u001b[0m                 \u001b[0;32mreturn\u001b[0m \u001b[0mresults_container\u001b[0m\u001b[0;34m[\u001b[0m\u001b[0;36m0\u001b[0m\u001b[0;34m]\u001b[0m\u001b[0;34m\u001b[0m\u001b[0;34m\u001b[0m\u001b[0m\n\u001b[1;32m    721\u001b[0m \u001b[0;34m\u001b[0m\u001b[0m\n\u001b[0;32m--> 722\u001b[0;31m             \u001b[0mself\u001b[0m\u001b[0;34m.\u001b[0m\u001b[0m_run_search\u001b[0m\u001b[0;34m(\u001b[0m\u001b[0mevaluate_candidates\u001b[0m\u001b[0;34m)\u001b[0m\u001b[0;34m\u001b[0m\u001b[0;34m\u001b[0m\u001b[0m\n\u001b[0m\u001b[1;32m    723\u001b[0m \u001b[0;34m\u001b[0m\u001b[0m\n\u001b[1;32m    724\u001b[0m         \u001b[0mresults\u001b[0m \u001b[0;34m=\u001b[0m \u001b[0mresults_container\u001b[0m\u001b[0;34m[\u001b[0m\u001b[0;36m0\u001b[0m\u001b[0;34m]\u001b[0m\u001b[0;34m\u001b[0m\u001b[0;34m\u001b[0m\u001b[0m\n",
      "\u001b[0;32m/anaconda3/lib/python3.7/site-packages/sklearn/model_selection/_search.py\u001b[0m in \u001b[0;36m_run_search\u001b[0;34m(self, evaluate_candidates)\u001b[0m\n\u001b[1;32m   1189\u001b[0m     \u001b[0;32mdef\u001b[0m \u001b[0m_run_search\u001b[0m\u001b[0;34m(\u001b[0m\u001b[0mself\u001b[0m\u001b[0;34m,\u001b[0m \u001b[0mevaluate_candidates\u001b[0m\u001b[0;34m)\u001b[0m\u001b[0;34m:\u001b[0m\u001b[0;34m\u001b[0m\u001b[0;34m\u001b[0m\u001b[0m\n\u001b[1;32m   1190\u001b[0m         \u001b[0;34m\"\"\"Search all candidates in param_grid\"\"\"\u001b[0m\u001b[0;34m\u001b[0m\u001b[0;34m\u001b[0m\u001b[0m\n\u001b[0;32m-> 1191\u001b[0;31m         \u001b[0mevaluate_candidates\u001b[0m\u001b[0;34m(\u001b[0m\u001b[0mParameterGrid\u001b[0m\u001b[0;34m(\u001b[0m\u001b[0mself\u001b[0m\u001b[0;34m.\u001b[0m\u001b[0mparam_grid\u001b[0m\u001b[0;34m)\u001b[0m\u001b[0;34m)\u001b[0m\u001b[0;34m\u001b[0m\u001b[0;34m\u001b[0m\u001b[0m\n\u001b[0m\u001b[1;32m   1192\u001b[0m \u001b[0;34m\u001b[0m\u001b[0m\n\u001b[1;32m   1193\u001b[0m \u001b[0;34m\u001b[0m\u001b[0m\n",
      "\u001b[0;32m/anaconda3/lib/python3.7/site-packages/sklearn/model_selection/_search.py\u001b[0m in \u001b[0;36mevaluate_candidates\u001b[0;34m(candidate_params)\u001b[0m\n\u001b[1;32m    709\u001b[0m                                \u001b[0;32mfor\u001b[0m \u001b[0mparameters\u001b[0m\u001b[0;34m,\u001b[0m \u001b[0;34m(\u001b[0m\u001b[0mtrain\u001b[0m\u001b[0;34m,\u001b[0m \u001b[0mtest\u001b[0m\u001b[0;34m)\u001b[0m\u001b[0;34m\u001b[0m\u001b[0;34m\u001b[0m\u001b[0m\n\u001b[1;32m    710\u001b[0m                                in product(candidate_params,\n\u001b[0;32m--> 711\u001b[0;31m                                           cv.split(X, y, groups)))\n\u001b[0m\u001b[1;32m    712\u001b[0m \u001b[0;34m\u001b[0m\u001b[0m\n\u001b[1;32m    713\u001b[0m                 \u001b[0mall_candidate_params\u001b[0m\u001b[0;34m.\u001b[0m\u001b[0mextend\u001b[0m\u001b[0;34m(\u001b[0m\u001b[0mcandidate_params\u001b[0m\u001b[0;34m)\u001b[0m\u001b[0;34m\u001b[0m\u001b[0;34m\u001b[0m\u001b[0m\n",
      "\u001b[0;32m/anaconda3/lib/python3.7/site-packages/sklearn/externals/joblib/parallel.py\u001b[0m in \u001b[0;36m__call__\u001b[0;34m(self, iterable)\u001b[0m\n\u001b[1;32m    928\u001b[0m \u001b[0;34m\u001b[0m\u001b[0m\n\u001b[1;32m    929\u001b[0m             \u001b[0;32mwith\u001b[0m \u001b[0mself\u001b[0m\u001b[0;34m.\u001b[0m\u001b[0m_backend\u001b[0m\u001b[0;34m.\u001b[0m\u001b[0mretrieval_context\u001b[0m\u001b[0;34m(\u001b[0m\u001b[0;34m)\u001b[0m\u001b[0;34m:\u001b[0m\u001b[0;34m\u001b[0m\u001b[0;34m\u001b[0m\u001b[0m\n\u001b[0;32m--> 930\u001b[0;31m                 \u001b[0mself\u001b[0m\u001b[0;34m.\u001b[0m\u001b[0mretrieve\u001b[0m\u001b[0;34m(\u001b[0m\u001b[0;34m)\u001b[0m\u001b[0;34m\u001b[0m\u001b[0;34m\u001b[0m\u001b[0m\n\u001b[0m\u001b[1;32m    931\u001b[0m             \u001b[0;31m# Make sure that we get a last message telling us we are done\u001b[0m\u001b[0;34m\u001b[0m\u001b[0;34m\u001b[0m\u001b[0;34m\u001b[0m\u001b[0m\n\u001b[1;32m    932\u001b[0m             \u001b[0melapsed_time\u001b[0m \u001b[0;34m=\u001b[0m \u001b[0mtime\u001b[0m\u001b[0;34m.\u001b[0m\u001b[0mtime\u001b[0m\u001b[0;34m(\u001b[0m\u001b[0;34m)\u001b[0m \u001b[0;34m-\u001b[0m \u001b[0mself\u001b[0m\u001b[0;34m.\u001b[0m\u001b[0m_start_time\u001b[0m\u001b[0;34m\u001b[0m\u001b[0;34m\u001b[0m\u001b[0m\n",
      "\u001b[0;32m/anaconda3/lib/python3.7/site-packages/sklearn/externals/joblib/parallel.py\u001b[0m in \u001b[0;36mretrieve\u001b[0;34m(self)\u001b[0m\n\u001b[1;32m    831\u001b[0m             \u001b[0;32mtry\u001b[0m\u001b[0;34m:\u001b[0m\u001b[0;34m\u001b[0m\u001b[0;34m\u001b[0m\u001b[0m\n\u001b[1;32m    832\u001b[0m                 \u001b[0;32mif\u001b[0m \u001b[0mgetattr\u001b[0m\u001b[0;34m(\u001b[0m\u001b[0mself\u001b[0m\u001b[0;34m.\u001b[0m\u001b[0m_backend\u001b[0m\u001b[0;34m,\u001b[0m \u001b[0;34m'supports_timeout'\u001b[0m\u001b[0;34m,\u001b[0m \u001b[0;32mFalse\u001b[0m\u001b[0;34m)\u001b[0m\u001b[0;34m:\u001b[0m\u001b[0;34m\u001b[0m\u001b[0;34m\u001b[0m\u001b[0m\n\u001b[0;32m--> 833\u001b[0;31m                     \u001b[0mself\u001b[0m\u001b[0;34m.\u001b[0m\u001b[0m_output\u001b[0m\u001b[0;34m.\u001b[0m\u001b[0mextend\u001b[0m\u001b[0;34m(\u001b[0m\u001b[0mjob\u001b[0m\u001b[0;34m.\u001b[0m\u001b[0mget\u001b[0m\u001b[0;34m(\u001b[0m\u001b[0mtimeout\u001b[0m\u001b[0;34m=\u001b[0m\u001b[0mself\u001b[0m\u001b[0;34m.\u001b[0m\u001b[0mtimeout\u001b[0m\u001b[0;34m)\u001b[0m\u001b[0;34m)\u001b[0m\u001b[0;34m\u001b[0m\u001b[0;34m\u001b[0m\u001b[0m\n\u001b[0m\u001b[1;32m    834\u001b[0m                 \u001b[0;32melse\u001b[0m\u001b[0;34m:\u001b[0m\u001b[0;34m\u001b[0m\u001b[0;34m\u001b[0m\u001b[0m\n\u001b[1;32m    835\u001b[0m                     \u001b[0mself\u001b[0m\u001b[0;34m.\u001b[0m\u001b[0m_output\u001b[0m\u001b[0;34m.\u001b[0m\u001b[0mextend\u001b[0m\u001b[0;34m(\u001b[0m\u001b[0mjob\u001b[0m\u001b[0;34m.\u001b[0m\u001b[0mget\u001b[0m\u001b[0;34m(\u001b[0m\u001b[0;34m)\u001b[0m\u001b[0;34m)\u001b[0m\u001b[0;34m\u001b[0m\u001b[0;34m\u001b[0m\u001b[0m\n",
      "\u001b[0;32m/anaconda3/lib/python3.7/site-packages/sklearn/externals/joblib/_parallel_backends.py\u001b[0m in \u001b[0;36mwrap_future_result\u001b[0;34m(future, timeout)\u001b[0m\n\u001b[1;32m    519\u001b[0m         AsyncResults.get from multiprocessing.\"\"\"\n\u001b[1;32m    520\u001b[0m         \u001b[0;32mtry\u001b[0m\u001b[0;34m:\u001b[0m\u001b[0;34m\u001b[0m\u001b[0;34m\u001b[0m\u001b[0m\n\u001b[0;32m--> 521\u001b[0;31m             \u001b[0;32mreturn\u001b[0m \u001b[0mfuture\u001b[0m\u001b[0;34m.\u001b[0m\u001b[0mresult\u001b[0m\u001b[0;34m(\u001b[0m\u001b[0mtimeout\u001b[0m\u001b[0;34m=\u001b[0m\u001b[0mtimeout\u001b[0m\u001b[0;34m)\u001b[0m\u001b[0;34m\u001b[0m\u001b[0;34m\u001b[0m\u001b[0m\n\u001b[0m\u001b[1;32m    522\u001b[0m         \u001b[0;32mexcept\u001b[0m \u001b[0mLokyTimeoutError\u001b[0m\u001b[0;34m:\u001b[0m\u001b[0;34m\u001b[0m\u001b[0;34m\u001b[0m\u001b[0m\n\u001b[1;32m    523\u001b[0m             \u001b[0;32mraise\u001b[0m \u001b[0mTimeoutError\u001b[0m\u001b[0;34m(\u001b[0m\u001b[0;34m)\u001b[0m\u001b[0;34m\u001b[0m\u001b[0;34m\u001b[0m\u001b[0m\n",
      "\u001b[0;32m/anaconda3/lib/python3.7/concurrent/futures/_base.py\u001b[0m in \u001b[0;36mresult\u001b[0;34m(self, timeout)\u001b[0m\n\u001b[1;32m    425\u001b[0m                 \u001b[0;32mreturn\u001b[0m \u001b[0mself\u001b[0m\u001b[0;34m.\u001b[0m\u001b[0m__get_result\u001b[0m\u001b[0;34m(\u001b[0m\u001b[0;34m)\u001b[0m\u001b[0;34m\u001b[0m\u001b[0;34m\u001b[0m\u001b[0m\n\u001b[1;32m    426\u001b[0m \u001b[0;34m\u001b[0m\u001b[0m\n\u001b[0;32m--> 427\u001b[0;31m             \u001b[0mself\u001b[0m\u001b[0;34m.\u001b[0m\u001b[0m_condition\u001b[0m\u001b[0;34m.\u001b[0m\u001b[0mwait\u001b[0m\u001b[0;34m(\u001b[0m\u001b[0mtimeout\u001b[0m\u001b[0;34m)\u001b[0m\u001b[0;34m\u001b[0m\u001b[0;34m\u001b[0m\u001b[0m\n\u001b[0m\u001b[1;32m    428\u001b[0m \u001b[0;34m\u001b[0m\u001b[0m\n\u001b[1;32m    429\u001b[0m             \u001b[0;32mif\u001b[0m \u001b[0mself\u001b[0m\u001b[0;34m.\u001b[0m\u001b[0m_state\u001b[0m \u001b[0;32min\u001b[0m \u001b[0;34m[\u001b[0m\u001b[0mCANCELLED\u001b[0m\u001b[0;34m,\u001b[0m \u001b[0mCANCELLED_AND_NOTIFIED\u001b[0m\u001b[0;34m]\u001b[0m\u001b[0;34m:\u001b[0m\u001b[0;34m\u001b[0m\u001b[0;34m\u001b[0m\u001b[0m\n",
      "\u001b[0;32m/anaconda3/lib/python3.7/threading.py\u001b[0m in \u001b[0;36mwait\u001b[0;34m(self, timeout)\u001b[0m\n\u001b[1;32m    294\u001b[0m         \u001b[0;32mtry\u001b[0m\u001b[0;34m:\u001b[0m    \u001b[0;31m# restore state no matter what (e.g., KeyboardInterrupt)\u001b[0m\u001b[0;34m\u001b[0m\u001b[0;34m\u001b[0m\u001b[0m\n\u001b[1;32m    295\u001b[0m             \u001b[0;32mif\u001b[0m \u001b[0mtimeout\u001b[0m \u001b[0;32mis\u001b[0m \u001b[0;32mNone\u001b[0m\u001b[0;34m:\u001b[0m\u001b[0;34m\u001b[0m\u001b[0;34m\u001b[0m\u001b[0m\n\u001b[0;32m--> 296\u001b[0;31m                 \u001b[0mwaiter\u001b[0m\u001b[0;34m.\u001b[0m\u001b[0macquire\u001b[0m\u001b[0;34m(\u001b[0m\u001b[0;34m)\u001b[0m\u001b[0;34m\u001b[0m\u001b[0;34m\u001b[0m\u001b[0m\n\u001b[0m\u001b[1;32m    297\u001b[0m                 \u001b[0mgotit\u001b[0m \u001b[0;34m=\u001b[0m \u001b[0;32mTrue\u001b[0m\u001b[0;34m\u001b[0m\u001b[0;34m\u001b[0m\u001b[0m\n\u001b[1;32m    298\u001b[0m             \u001b[0;32melse\u001b[0m\u001b[0;34m:\u001b[0m\u001b[0;34m\u001b[0m\u001b[0;34m\u001b[0m\u001b[0m\n",
      "\u001b[0;31mKeyboardInterrupt\u001b[0m: "
     ]
    }
   ],
   "source": [
    "hora_inicio = datetime.now()\n",
    "\n",
    "print(\"He empezado a las: \",hora_inicio)\n",
    "\n",
    "grid_search.fit(split['train'][0], split['train'][1])\n",
    "\n",
    "hora_fin = datetime.now()\n",
    "\n",
    "tiempo_train = hora_fin - hora_inicio\n",
    "\n",
    "print(\"He terminado a las: \",hora_fin)\n",
    "print(\"Me ha costado: \", tiempo_train)\n",
    "\n",
    "best_parameters = grid_search.best_estimator_.get_params()"
   ]
  },
  {
   "cell_type": "markdown",
   "metadata": {},
   "source": [
    "![](https://media.giphy.com/media/rftarkt7Ki2Gs/200w_d.gif)\n",
    "\n",
    "Después de usar un **día** en realizar un primer intento de cálculo con los 99989 datos y los parámetros elegidos, me he dado cuenta que al ritmo que iba, tardaría 96 horas en realizar el GridSearch. Como no es una opción, y el objetivo no es sacar un modelo certero sino mostrar la metodología, voy a generar un dataset nuevo y más pequeño (10000 datos) y repito el estudio con menos parámetros.\n",
    "\n",
    "Quiero usar un dataset proporcional al que tengo originalmente, con lo que saco la cantidad de registros que hay de cada uno de los sentimientos y sampleo en proporción."
   ]
  },
  {
   "cell_type": "code",
   "execution_count": 23,
   "metadata": {},
   "outputs": [
    {
     "data": {
      "text/html": [
       "<div>\n",
       "<style scoped>\n",
       "    .dataframe tbody tr th:only-of-type {\n",
       "        vertical-align: middle;\n",
       "    }\n",
       "\n",
       "    .dataframe tbody tr th {\n",
       "        vertical-align: top;\n",
       "    }\n",
       "\n",
       "    .dataframe thead th {\n",
       "        text-align: right;\n",
       "    }\n",
       "</style>\n",
       "<table border=\"1\" class=\"dataframe\">\n",
       "  <thead>\n",
       "    <tr style=\"text-align: right;\">\n",
       "      <th></th>\n",
       "      <th></th>\n",
       "      <th>SentimentText</th>\n",
       "    </tr>\n",
       "    <tr>\n",
       "      <th>Sentiment</th>\n",
       "      <th></th>\n",
       "      <th></th>\n",
       "    </tr>\n",
       "  </thead>\n",
       "  <tbody>\n",
       "    <tr>\n",
       "      <th>0</th>\n",
       "      <th>count</th>\n",
       "      <td>43532</td>\n",
       "    </tr>\n",
       "    <tr>\n",
       "      <th>1</th>\n",
       "      <th>count</th>\n",
       "      <td>56457</td>\n",
       "    </tr>\n",
       "  </tbody>\n",
       "</table>\n",
       "</div>"
      ],
      "text/plain": [
       "                 SentimentText\n",
       "Sentiment                     \n",
       "0         count          43532\n",
       "1         count          56457"
      ]
     },
     "execution_count": 23,
     "metadata": {},
     "output_type": "execute_result"
    }
   ],
   "source": [
    "df.groupby('Sentiment').agg(['count']).stack()"
   ]
  },
  {
   "cell_type": "code",
   "execution_count": 24,
   "metadata": {},
   "outputs": [],
   "source": [
    "#cojo un 10% de los valores\n",
    "dfNeg = df[df.Sentiment == 0].sample(4353, random_state=42)\n",
    "dfPos = df[df.Sentiment == 1].sample(5647, random_state=42)\n",
    "\n",
    "#concateno los dataframes\n",
    "frames = [dfNeg, dfPos]\n",
    "smallDf = pd.concat(frames)\n",
    "\n",
    "#lo barajeo para que los positivos no esten todos juntos\n",
    "smallDf = smallDf.sample(frac=1)"
   ]
  },
  {
   "cell_type": "code",
   "execution_count": 25,
   "metadata": {},
   "outputs": [],
   "source": [
    "#lo guardo para poder usar el dataset en el futuro sin tener que volver a sacarlo\n",
    "smallDf.to_csv('datasets/train_sentiment_small.csv')"
   ]
  },
  {
   "cell_type": "code",
   "execution_count": 26,
   "metadata": {},
   "outputs": [
    {
     "name": "stdout",
     "output_type": "stream",
     "text": [
      "[('<MENTION> lol ok thanks. anyway watcha doing?', 'POS'), ('<MENTION> -- yeah, thank ya kindly!', 'POS'), ('<MENTION>, is being a horrible friend. tears.', 'NEG'), (\"Jonas Brothers 3D Concert Movie is out on the 7th of May and i can't go because of school interviews. BUT i'LL see it sat!!(Hopefully)\", 'NEG'), ('<MENTION> k just call asap', 'POS')]\n"
     ]
    },
    {
     "data": {
      "text/plain": [
       "10000"
      ]
     },
     "execution_count": 26,
     "metadata": {},
     "output_type": "execute_result"
    }
   ],
   "source": [
    "small_sentiment_dataset = []\n",
    "for index, row in smallDf.iterrows():\n",
    "    if index>0:\n",
    "        label = 'POS' if row[0] == 1 else 'NEG' \n",
    "        small_sentiment_dataset.append((row[1],label))\n",
    "print(small_sentiment_dataset[0:5])\n",
    "len(small_sentiment_dataset)"
   ]
  },
  {
   "cell_type": "code",
   "execution_count": 27,
   "metadata": {},
   "outputs": [],
   "source": [
    "small_split = split_train_val_test(small_sentiment_dataset, 0.3)"
   ]
  },
  {
   "cell_type": "code",
   "execution_count": 28,
   "metadata": {},
   "outputs": [
    {
     "data": {
      "text/plain": [
       "dict_keys(['memory', 'steps', 'vect', 'svm', 'vect__analyzer', 'vect__binary', 'vect__decode_error', 'vect__dtype', 'vect__encoding', 'vect__input', 'vect__lowercase', 'vect__max_df', 'vect__max_features', 'vect__min_df', 'vect__ngram_range', 'vect__preprocessor', 'vect__stop_words', 'vect__strip_accents', 'vect__token_pattern', 'vect__tokenizer', 'vect__vocabulary', 'svm__C', 'svm__cache_size', 'svm__class_weight', 'svm__coef0', 'svm__decision_function_shape', 'svm__degree', 'svm__gamma', 'svm__kernel', 'svm__max_iter', 'svm__probability', 'svm__random_state', 'svm__shrinking', 'svm__tol', 'svm__verbose'])"
      ]
     },
     "execution_count": 28,
     "metadata": {},
     "output_type": "execute_result"
    }
   ],
   "source": [
    "pipeline = Pipeline([\n",
    "    ('vect', CountVectorizer()),\n",
    "    ('svm', SVC()), #SVC\n",
    "])\n",
    "pipeline.get_params().keys() # que parametros podemos tocar en el gridsearch!"
   ]
  },
  {
   "cell_type": "code",
   "execution_count": 29,
   "metadata": {},
   "outputs": [],
   "source": [
    "vetorC = vectorC = np.logspace(-9, 0, 5)\n",
    "vectorG = np.logspace(-3, 3, 5)\n",
    "\n",
    "parameters = {\n",
    "    'vect__max_df': (0.5, 0.75, 1.0),\n",
    "    'vect__ngram_range': ((1, 2), (1, 3), (2, 3)),  #ngrams to test\n",
    "    'vect__analyzer': ('word', 'char', 'char_wb'),\n",
    "    'svm__C': vectorC, \n",
    "    'svm__gamma':vectorG\n",
    "    }"
   ]
  },
  {
   "cell_type": "code",
   "execution_count": 30,
   "metadata": {},
   "outputs": [],
   "source": [
    "grid_search = GridSearchCV(pipeline, parameters, n_jobs=-1, verbose=1, cv=3)"
   ]
  },
  {
   "cell_type": "code",
   "execution_count": 163,
   "metadata": {},
   "outputs": [
    {
     "name": "stdout",
     "output_type": "stream",
     "text": [
      "He empezado a las:  2019-09-19 20:03:32.704503\n",
      "Fitting 3 folds for each of 675 candidates, totalling 2025 fits\n"
     ]
    },
    {
     "name": "stderr",
     "output_type": "stream",
     "text": [
      "[Parallel(n_jobs=-1)]: Using backend LokyBackend with 8 concurrent workers.\n",
      "/anaconda3/lib/python3.7/site-packages/sklearn/externals/joblib/externals/loky/process_executor.py:706: UserWarning: A worker stopped while some jobs were given to the executor. This can be caused by a too short worker timeout or by a memory leak.\n",
      "  \"timeout or by a memory leak.\", UserWarning\n",
      "[Parallel(n_jobs=-1)]: Done  34 tasks      | elapsed:  1.2min\n",
      "[Parallel(n_jobs=-1)]: Done 184 tasks      | elapsed: 10.9min\n",
      "[Parallel(n_jobs=-1)]: Done 434 tasks      | elapsed: 26.4min\n",
      "[Parallel(n_jobs=-1)]: Done 784 tasks      | elapsed: 48.8min\n",
      "[Parallel(n_jobs=-1)]: Done 1234 tasks      | elapsed: 77.5min\n",
      "[Parallel(n_jobs=-1)]: Done 1784 tasks      | elapsed: 117.0min\n",
      "[Parallel(n_jobs=-1)]: Done 2025 out of 2025 | elapsed: 135.0min finished\n"
     ]
    },
    {
     "name": "stdout",
     "output_type": "stream",
     "text": [
      "He terminado a las:  2019-09-19 22:18:40.317531\n",
      "Me ha costado:  2:15:07.613028\n"
     ]
    }
   ],
   "source": [
    "hora_inicio = datetime.now()\n",
    "\n",
    "print(\"He empezado a las: \",hora_inicio)\n",
    "\n",
    "grid_search.fit(small_split['train'][0], small_split['train'][1])\n",
    "\n",
    "hora_fin = datetime.now()\n",
    "\n",
    "tiempo_train = hora_fin - hora_inicio\n",
    "\n",
    "print(\"He terminado a las: \",hora_fin)\n",
    "print(\"Me ha costado: \", tiempo_train)\n",
    "\n",
    "best_parameters = grid_search.best_estimator_.get_params()"
   ]
  },
  {
   "cell_type": "code",
   "execution_count": 167,
   "metadata": {},
   "outputs": [
    {
     "name": "stdout",
     "output_type": "stream",
     "text": [
      "best mean cross-validation score: 0.704\n",
      "best parameters: {'svm__C': 1.0, 'svm__gamma': 0.03162277660168379, 'vect__analyzer': 'word', 'vect__max_df': 1.0, 'vect__ngram_range': (1, 2)}\n"
     ]
    }
   ],
   "source": [
    "print(\"best mean cross-validation score: {:.3f}\".format(grid_search.best_score_))\n",
    "print(\"best parameters: {}\".format(grid_search.best_params_))"
   ]
  },
  {
   "cell_type": "markdown",
   "metadata": {},
   "source": [
    "Fijamos los parametros del vectorizador y hago varias iteraciones con distintos valores de  C y Gamma. No muestro todos los pasos, realizados, sino simplemente el resultado final por no agrandar innecesariamente el notebook.\n",
    "\n",
    "Primero he usado sólo tres folds y un espacio de C de -5 a 5 y de gamma de -3 a 0 y según como iba evolucionando la gráfica he ido acotando más el rango tanto de C como de gamma. Cuando he logrado acotar el rango de estos valores ha lanzado un entrenamiento con más valores de test de C y G, entrenando con 5 folds (para estar más seguro de la respuesta)\n",
    "\n",
    "**Iteraciones con C**\n",
    "\n",
    "```vectorC = np.logspace(-5, 5, 5)```\n",
    "\n",
    "```vectorC = np.logspace(-4, 3, 5)```\n",
    "\n",
    "```vectorC = np.logspace(-2, 3, 5)```\n",
    "\n",
    "```vectorC = np.logspace(-2, 3, 10)```\n",
    "\n",
    "\n",
    "**Iteraciones con G**\n",
    "\n",
    "```vectorG = np.logspace(-3, 3, 5)```\n",
    "\n",
    "```vectorG = np.logspace(-3, 0, 5)```\n",
    "\n",
    "```vectorG = np.logspace(-3, -0.75, 5)```\n",
    "\n",
    "```vectorG = np.logspace(-3, -0.75, 10)```\n"
   ]
  },
  {
   "cell_type": "code",
   "execution_count": 31,
   "metadata": {},
   "outputs": [],
   "source": [
    "#Fijamos los parametros del Vectorizador\n",
    "vectorC = np.logspace(-2, 3, 10)\n",
    "vectorG = np.logspace(-3, -0.75, 10)\n",
    "\n",
    "parameters = {\n",
    "    'vect__max_df': ([1.0]),\n",
    "    'vect__ngram_range': ([(1, 2)]),  #ngrams to test\n",
    "    'vect__analyzer': (['word']),\n",
    "    'vect__stop_words': (['english',None]),\n",
    "    'svm__C': vectorC, \n",
    "    'svm__gamma':vectorG\n",
    "    }"
   ]
  },
  {
   "cell_type": "code",
   "execution_count": 32,
   "metadata": {},
   "outputs": [],
   "source": [
    "grid_search = GridSearchCV(pipeline, parameters, n_jobs=-1, verbose=1, cv=3)"
   ]
  },
  {
   "cell_type": "code",
   "execution_count": 33,
   "metadata": {},
   "outputs": [
    {
     "name": "stdout",
     "output_type": "stream",
     "text": [
      "He empezado a las:  2019-09-20 21:31:03.487932\n",
      "Fitting 3 folds for each of 200 candidates, totalling 600 fits\n"
     ]
    },
    {
     "name": "stderr",
     "output_type": "stream",
     "text": [
      "[Parallel(n_jobs=-1)]: Using backend LokyBackend with 8 concurrent workers.\n",
      "[Parallel(n_jobs=-1)]: Done  34 tasks      | elapsed:   38.1s\n",
      "[Parallel(n_jobs=-1)]: Done 184 tasks      | elapsed:  3.1min\n",
      "[Parallel(n_jobs=-1)]: Done 434 tasks      | elapsed:  7.2min\n",
      "[Parallel(n_jobs=-1)]: Done 600 out of 600 | elapsed: 10.1min finished\n"
     ]
    },
    {
     "name": "stdout",
     "output_type": "stream",
     "text": [
      "He terminado a las:  2019-09-20 21:41:15.313026\n",
      "Me ha costado:  0:10:11.825094\n"
     ]
    }
   ],
   "source": [
    "hora_inicio = datetime.now()\n",
    "\n",
    "print(\"He empezado a las: \",hora_inicio)\n",
    "\n",
    "grid_search.fit(small_split['train'][0], small_split['train'][1])\n",
    "\n",
    "hora_fin = datetime.now()\n",
    "\n",
    "tiempo_train = hora_fin - hora_inicio\n",
    "\n",
    "print(\"He terminado a las: \",hora_fin)\n",
    "print(\"Me ha costado: \", tiempo_train)\n",
    "\n",
    "best_parameters = grid_search.best_estimator_.get_params()"
   ]
  },
  {
   "cell_type": "code",
   "execution_count": 34,
   "metadata": {},
   "outputs": [
    {
     "name": "stdout",
     "output_type": "stream",
     "text": [
      "\tsvm__C: 5.994842503189409\n",
      "\tsvm__gamma: 0.01\n",
      "\tvect__analyzer: 'word'\n",
      "\tvect__max_df: 1.0\n",
      "\tvect__ngram_range: (1, 2)\n",
      "\tvect__stop_words: None\n",
      "Best score: 0.716\n"
     ]
    }
   ],
   "source": [
    "best_parameters = grid_search.best_estimator_.get_params()\n",
    "for param_name in sorted(parameters.keys()):\n",
    "    print(\"\\t%s: %r\" % (param_name, best_parameters[param_name]))\n",
    "print(\"Best score: %0.3f\" % grid_search.best_score_)"
   ]
  },
  {
   "cell_type": "code",
   "execution_count": 35,
   "metadata": {},
   "outputs": [
    {
     "data": {
      "image/png": "[encoded data removed]",
      "text/plain": [
       "<Figure size 720x432 with 2 Axes>"
      ]
     },
     "metadata": {
      "needs_background": "light"
     },
     "output_type": "display_data"
    }
   ],
   "source": [
    "# Mostramos prestaciones en CV\n",
    "scores = grid_search.cv_results_['mean_test_score'].reshape(len(vectorC),len(vectorG)*2)\n",
    "\n",
    "plt.figure(figsize=(10,6))\n",
    "plt.imshow(scores, interpolation='nearest', vmin= 0.6, vmax=0.8)\n",
    "plt.xlabel('log(gamma)')\n",
    "plt.ylabel('log(C)')\n",
    "plt.colorbar()\n",
    "plt.xticks(np.arange(len(vectorG)), np.log10(vectorG)*2, rotation=90)\n",
    "plt.yticks(np.arange(len(vectorC)), np.log10(vectorC))\n",
    "plt.title('3-fold accuracy')\n",
    "plt.show()"
   ]
  },
  {
   "cell_type": "markdown",
   "metadata": {},
   "source": [
    "Finalmente elegimos los parametros de entrenamiento y comprobamos en test.\n",
    "Con estos valores obtenemos la matriz de confusión y almacenamos los resultados en un dataframe para facilitar la comparación entre modelos más tarde."
   ]
  },
  {
   "cell_type": "code",
   "execution_count": 36,
   "metadata": {},
   "outputs": [],
   "source": [
    "train_score = grid_search.best_score_"
   ]
  },
  {
   "cell_type": "code",
   "execution_count": 37,
   "metadata": {},
   "outputs": [
    {
     "name": "stdout",
     "output_type": "stream",
     "text": [
      "TEST SCORE: 0.733\n"
     ]
    }
   ],
   "source": [
    "pipeline.set_params(**best_parameters)\n",
    "predictions = pipeline.score(small_split['test'][0], small_split['test'][1])\n",
    "print('TEST SCORE: {}'.format(predictions))\n",
    "test_score = predictions"
   ]
  },
  {
   "cell_type": "code",
   "execution_count": 38,
   "metadata": {},
   "outputs": [],
   "source": [
    "predicciones_para_confmat = pipeline.predict(small_split['test'][0])"
   ]
  },
  {
   "cell_type": "code",
   "execution_count": 39,
   "metadata": {},
   "outputs": [],
   "source": [
    "confmat = confusion_matrix(small_split['test'][1], predicciones_para_confmat)"
   ]
  },
  {
   "cell_type": "code",
   "execution_count": 40,
   "metadata": {},
   "outputs": [
    {
     "data": {
      "image/png": "[encoded data removed]",
      "text/plain": [
       "<Figure size 504x504 with 1 Axes>"
      ]
     },
     "metadata": {
      "needs_background": "light"
     },
     "output_type": "display_data"
    },
    {
     "name": "stdout",
     "output_type": "stream",
     "text": [
      "ACC:  0.733\n",
      "SEN:  0.8264462809917356\n",
      "ESP:  0.611791730474732\n",
      "PPV:  0.7341373885684321\n",
      "FSC:  0.7775617883921133\n"
     ]
    },
    {
     "data": {
      "image/png": "[encoded data removed]",
      "text/plain": [
       "<Figure size 432x288 with 1 Axes>"
      ]
     },
     "metadata": {
      "needs_background": "light"
     },
     "output_type": "display_data"
    }
   ],
   "source": [
    "plot_confusion_matrix(confmat)\n",
    "metricas = calcula_metricas(confmat)"
   ]
  },
  {
   "cell_type": "code",
   "execution_count": 41,
   "metadata": {},
   "outputs": [
    {
     "data": {
      "text/html": [
       "<div>\n",
       "<style scoped>\n",
       "    .dataframe tbody tr th:only-of-type {\n",
       "        vertical-align: middle;\n",
       "    }\n",
       "\n",
       "    .dataframe tbody tr th {\n",
       "        vertical-align: top;\n",
       "    }\n",
       "\n",
       "    .dataframe thead th {\n",
       "        text-align: right;\n",
       "    }\n",
       "</style>\n",
       "<table border=\"1\" class=\"dataframe\">\n",
       "  <thead>\n",
       "    <tr style=\"text-align: right;\">\n",
       "      <th></th>\n",
       "      <th>Modelo</th>\n",
       "      <th>parametros-optimos</th>\n",
       "      <th>train</th>\n",
       "      <th>test</th>\n",
       "      <th>confusion_matrix</th>\n",
       "      <th>acc_sen_esp_ppv_fsc</th>\n",
       "    </tr>\n",
       "  </thead>\n",
       "  <tbody>\n",
       "    <tr>\n",
       "      <th>0</th>\n",
       "      <td>SVM - Small Dataset</td>\n",
       "      <td>{'svm__C': 5.994842503189409, 'svm__gamma': 0....</td>\n",
       "      <td>0.716</td>\n",
       "      <td>0.733</td>\n",
       "      <td>[[799, 507], [294, 1400]]</td>\n",
       "      <td>[0.733, 0.8264462809917356, 0.611791730474732,...</td>\n",
       "    </tr>\n",
       "  </tbody>\n",
       "</table>\n",
       "</div>"
      ],
      "text/plain": [
       "                Modelo                                 parametros-optimos  \\\n",
       "0  SVM - Small Dataset  {'svm__C': 5.994842503189409, 'svm__gamma': 0....   \n",
       "\n",
       "   train   test           confusion_matrix  \\\n",
       "0  0.716  0.733  [[799, 507], [294, 1400]]   \n",
       "\n",
       "                                 acc_sen_esp_ppv_fsc  \n",
       "0  [0.733, 0.8264462809917356, 0.611791730474732,...  "
      ]
     },
     "execution_count": 41,
     "metadata": {},
     "output_type": "execute_result"
    }
   ],
   "source": [
    "resultado = ['SVM - Small Dataset', grid_search.best_params_, train_score, test_score,\n",
    "             confmat, metricas]\n",
    "\n",
    "add_row(resultadosModelo, resultado)"
   ]
  },
  {
   "cell_type": "markdown",
   "metadata": {},
   "source": [
    "### 1.1.1b Bayes Reloaded"
   ]
  },
  {
   "cell_type": "markdown",
   "metadata": {},
   "source": [
    "Como en el entrenamiento con SVM he decidido disminuir el dataset, para poder realizar una comparación homogenea entre distintos algoritmos, es necesario que vuelva a entrenar el modelo de Bayes, pero esta vez con el dataset pequeño."
   ]
  },
  {
   "cell_type": "code",
   "execution_count": 42,
   "metadata": {},
   "outputs": [
    {
     "data": {
      "text/plain": [
       "dict_keys(['memory', 'steps', 'vect', 'clf', 'vect__analyzer', 'vect__binary', 'vect__decode_error', 'vect__dtype', 'vect__encoding', 'vect__input', 'vect__lowercase', 'vect__max_df', 'vect__max_features', 'vect__min_df', 'vect__ngram_range', 'vect__preprocessor', 'vect__stop_words', 'vect__strip_accents', 'vect__token_pattern', 'vect__tokenizer', 'vect__vocabulary', 'clf__alpha', 'clf__class_prior', 'clf__fit_prior'])"
      ]
     },
     "execution_count": 42,
     "metadata": {},
     "output_type": "execute_result"
    }
   ],
   "source": [
    "pipeline = Pipeline([\n",
    "    ('vect', CountVectorizer()),\n",
    "    ('clf', MultinomialNB()), #MultinomialNB\n",
    "])\n",
    "pipeline.get_params().keys() # que parametros podemos tocar en el gridsearch!"
   ]
  },
  {
   "cell_type": "code",
   "execution_count": 43,
   "metadata": {},
   "outputs": [],
   "source": [
    "parameters = {\n",
    "    'vect__max_df': (0.5, 0.75, 1.0),\n",
    "    'vect__ngram_range': ((1, 2), (1, 3), (2, 3), (1,4)),  #ngrams to test\n",
    "    'vect__analyzer': ('word', 'char', 'char_wb'),\n",
    "    'vect__stop_words': (['english',None])\n",
    "    }"
   ]
  },
  {
   "cell_type": "code",
   "execution_count": 44,
   "metadata": {},
   "outputs": [],
   "source": [
    "grid_search = GridSearchCV(pipeline, parameters, n_jobs=-1, verbose=1, cv=3)"
   ]
  },
  {
   "cell_type": "code",
   "execution_count": 46,
   "metadata": {},
   "outputs": [
    {
     "name": "stdout",
     "output_type": "stream",
     "text": [
      "Fitting 3 folds for each of 72 candidates, totalling 216 fits\n"
     ]
    },
    {
     "name": "stderr",
     "output_type": "stream",
     "text": [
      "[Parallel(n_jobs=-1)]: Using backend LokyBackend with 8 concurrent workers.\n",
      "[Parallel(n_jobs=-1)]: Done  34 tasks      | elapsed:    4.4s\n",
      "[Parallel(n_jobs=-1)]: Done 184 tasks      | elapsed:   39.2s\n",
      "[Parallel(n_jobs=-1)]: Done 216 out of 216 | elapsed:   49.3s finished\n"
     ]
    },
    {
     "name": "stdout",
     "output_type": "stream",
     "text": [
      "\tvect__analyzer: 'char'\n",
      "\tvect__max_df: 1.0\n",
      "\tvect__ngram_range: (1, 4)\n",
      "\tvect__stop_words: 'english'\n",
      "Best score: 0.717\n"
     ]
    }
   ],
   "source": [
    "grid_search.fit(small_split['train'][0], small_split['train'][1])\n",
    "best_parameters = grid_search.best_estimator_.get_params()\n",
    "for param_name in sorted(parameters.keys()):\n",
    "    print(\"\\t%s: %r\" % (param_name, best_parameters[param_name]))\n",
    "print(\"Best score: %0.3f\" % grid_search.best_score_)"
   ]
  },
  {
   "cell_type": "code",
   "execution_count": 47,
   "metadata": {},
   "outputs": [],
   "source": [
    "train_score = grid_search.best_score_"
   ]
  },
  {
   "cell_type": "code",
   "execution_count": 48,
   "metadata": {},
   "outputs": [
    {
     "name": "stdout",
     "output_type": "stream",
     "text": [
      "TEST SCORE: 0.7223333333333334\n"
     ]
    }
   ],
   "source": [
    "pipeline.set_params(**best_parameters)\n",
    "predictions = pipeline.score(small_split['test'][0], small_split['test'][1])\n",
    "print('TEST SCORE: {}'.format(predictions))\n",
    "test_score = predictions"
   ]
  },
  {
   "cell_type": "code",
   "execution_count": 49,
   "metadata": {},
   "outputs": [],
   "source": [
    "predicciones_para_confmat = pipeline.predict(small_split['test'][0])"
   ]
  },
  {
   "cell_type": "code",
   "execution_count": 50,
   "metadata": {},
   "outputs": [],
   "source": [
    "confmat = confusion_matrix(small_split['test'][1], predicciones_para_confmat)"
   ]
  },
  {
   "cell_type": "code",
   "execution_count": 51,
   "metadata": {},
   "outputs": [
    {
     "data": {
      "image/png": "[encoded data removed]",
      "text/plain": [
       "<Figure size 504x504 with 1 Axes>"
      ]
     },
     "metadata": {
      "needs_background": "light"
     },
     "output_type": "display_data"
    },
    {
     "name": "stdout",
     "output_type": "stream",
     "text": [
      "ACC:  0.7223333333333334\n",
      "SEN:  0.7426210153482881\n",
      "ESP:  0.6960183767228177\n",
      "PPV:  0.7601208459214501\n",
      "FSC:  0.751269035532995\n"
     ]
    },
    {
     "data": {
      "image/png": "[encoded data removed]",
      "text/plain": [
       "<Figure size 432x288 with 1 Axes>"
      ]
     },
     "metadata": {
      "needs_background": "light"
     },
     "output_type": "display_data"
    }
   ],
   "source": [
    "plot_confusion_matrix(confmat)\n",
    "metricas = calcula_metricas(confmat)"
   ]
  },
  {
   "cell_type": "code",
   "execution_count": 52,
   "metadata": {},
   "outputs": [
    {
     "data": {
      "text/html": [
       "<div>\n",
       "<style scoped>\n",
       "    .dataframe tbody tr th:only-of-type {\n",
       "        vertical-align: middle;\n",
       "    }\n",
       "\n",
       "    .dataframe tbody tr th {\n",
       "        vertical-align: top;\n",
       "    }\n",
       "\n",
       "    .dataframe thead th {\n",
       "        text-align: right;\n",
       "    }\n",
       "</style>\n",
       "<table border=\"1\" class=\"dataframe\">\n",
       "  <thead>\n",
       "    <tr style=\"text-align: right;\">\n",
       "      <th></th>\n",
       "      <th>Modelo</th>\n",
       "      <th>parametros-optimos</th>\n",
       "      <th>train</th>\n",
       "      <th>test</th>\n",
       "      <th>confusion_matrix</th>\n",
       "      <th>acc_sen_esp_ppv_fsc</th>\n",
       "    </tr>\n",
       "  </thead>\n",
       "  <tbody>\n",
       "    <tr>\n",
       "      <th>0</th>\n",
       "      <td>Bayes - Small Dataset</td>\n",
       "      <td>{'vect__analyzer': 'char', 'vect__max_df': 1.0...</td>\n",
       "      <td>0.717</td>\n",
       "      <td>0.722333</td>\n",
       "      <td>[[909, 397], [436, 1258]]</td>\n",
       "      <td>[0.7223333333333334, 0.7426210153482881, 0.696...</td>\n",
       "    </tr>\n",
       "    <tr>\n",
       "      <th>1</th>\n",
       "      <td>SVM - Small Dataset</td>\n",
       "      <td>{'svm__C': 5.994842503189409, 'svm__gamma': 0....</td>\n",
       "      <td>0.716</td>\n",
       "      <td>0.733000</td>\n",
       "      <td>[[799, 507], [294, 1400]]</td>\n",
       "      <td>[0.733, 0.8264462809917356, 0.611791730474732,...</td>\n",
       "    </tr>\n",
       "  </tbody>\n",
       "</table>\n",
       "</div>"
      ],
      "text/plain": [
       "                  Modelo                                 parametros-optimos  \\\n",
       "0  Bayes - Small Dataset  {'vect__analyzer': 'char', 'vect__max_df': 1.0...   \n",
       "1    SVM - Small Dataset  {'svm__C': 5.994842503189409, 'svm__gamma': 0....   \n",
       "\n",
       "   train      test           confusion_matrix  \\\n",
       "0  0.717  0.722333  [[909, 397], [436, 1258]]   \n",
       "1  0.716  0.733000  [[799, 507], [294, 1400]]   \n",
       "\n",
       "                                 acc_sen_esp_ppv_fsc  \n",
       "0  [0.7223333333333334, 0.7426210153482881, 0.696...  \n",
       "1  [0.733, 0.8264462809917356, 0.611791730474732,...  "
      ]
     },
     "execution_count": 52,
     "metadata": {},
     "output_type": "execute_result"
    }
   ],
   "source": [
    "resultado = ['Bayes - Small Dataset', grid_search.best_params_, train_score, test_score,\n",
    "             confmat, metricas]\n",
    "\n",
    "add_row(resultadosModelo, resultado)"
   ]
  },
  {
   "cell_type": "markdown",
   "metadata": {
    "colab_type": "text",
    "id": "4TRG95ZvDDQW"
   },
   "source": [
    "### 1.1.3 Decision Tree"
   ]
  },
  {
   "cell_type": "code",
   "execution_count": 55,
   "metadata": {},
   "outputs": [],
   "source": [
    "from sklearn.tree import DecisionTreeClassifier\n",
    "from sklearn import tree"
   ]
  },
  {
   "cell_type": "code",
   "execution_count": 56,
   "metadata": {},
   "outputs": [
    {
     "data": {
      "text/plain": [
       "dict_keys(['memory', 'steps', 'vect', 'tree', 'vect__analyzer', 'vect__binary', 'vect__decode_error', 'vect__dtype', 'vect__encoding', 'vect__input', 'vect__lowercase', 'vect__max_df', 'vect__max_features', 'vect__min_df', 'vect__ngram_range', 'vect__preprocessor', 'vect__stop_words', 'vect__strip_accents', 'vect__token_pattern', 'vect__tokenizer', 'vect__vocabulary', 'tree__class_weight', 'tree__criterion', 'tree__max_depth', 'tree__max_features', 'tree__max_leaf_nodes', 'tree__min_impurity_decrease', 'tree__min_impurity_split', 'tree__min_samples_leaf', 'tree__min_samples_split', 'tree__min_weight_fraction_leaf', 'tree__presort', 'tree__random_state', 'tree__splitter'])"
      ]
     },
     "execution_count": 56,
     "metadata": {},
     "output_type": "execute_result"
    }
   ],
   "source": [
    "pipeline = Pipeline([\n",
    "    ('vect', CountVectorizer()),\n",
    "    ('tree', DecisionTreeClassifier()), #Decission Tree\n",
    "])\n",
    "pipeline.get_params().keys() # que parametros podemos tocar en el gridsearch!"
   ]
  },
  {
   "cell_type": "code",
   "execution_count": 57,
   "metadata": {},
   "outputs": [],
   "source": [
    "parameters = {\n",
    "    'vect__max_df': (0.5, 0.75, 1.0),\n",
    "    'vect__ngram_range': ((1, 2), (1, 3), (2, 3), (1,4)),  #ngrams to test\n",
    "    'vect__analyzer': ('word', 'char', 'char_wb'),\n",
    "    'vect__stop_words': (['english',None]),\n",
    "    'tree__max_depth': range(1,20)\n",
    "    }"
   ]
  },
  {
   "cell_type": "code",
   "execution_count": 58,
   "metadata": {},
   "outputs": [],
   "source": [
    "grid_search = GridSearchCV(pipeline, parameters, n_jobs=-1, verbose=1, cv=3)"
   ]
  },
  {
   "cell_type": "code",
   "execution_count": 59,
   "metadata": {},
   "outputs": [
    {
     "name": "stdout",
     "output_type": "stream",
     "text": [
      "Fitting 3 folds for each of 1368 candidates, totalling 4104 fits\n"
     ]
    },
    {
     "name": "stderr",
     "output_type": "stream",
     "text": [
      "[Parallel(n_jobs=-1)]: Using backend LokyBackend with 8 concurrent workers.\n",
      "[Parallel(n_jobs=-1)]: Done  34 tasks      | elapsed:    3.8s\n",
      "[Parallel(n_jobs=-1)]: Done 184 tasks      | elapsed:   38.8s\n",
      "[Parallel(n_jobs=-1)]: Done 434 tasks      | elapsed:  1.6min\n",
      "[Parallel(n_jobs=-1)]: Done 784 tasks      | elapsed:  2.8min\n",
      "[Parallel(n_jobs=-1)]: Done 1234 tasks      | elapsed:  4.6min\n",
      "[Parallel(n_jobs=-1)]: Done 1784 tasks      | elapsed:  6.9min\n",
      "[Parallel(n_jobs=-1)]: Done 2434 tasks      | elapsed:  9.9min\n",
      "[Parallel(n_jobs=-1)]: Done 3184 tasks      | elapsed: 13.8min\n",
      "[Parallel(n_jobs=-1)]: Done 4034 tasks      | elapsed: 18.6min\n",
      "[Parallel(n_jobs=-1)]: Done 4104 out of 4104 | elapsed: 19.2min finished\n"
     ]
    },
    {
     "name": "stdout",
     "output_type": "stream",
     "text": [
      "\ttree__max_depth: 19\n",
      "\tvect__analyzer: 'word'\n",
      "\tvect__max_df: 1.0\n",
      "\tvect__ngram_range: (1, 4)\n",
      "\tvect__stop_words: 'english'\n",
      "Best score: 0.653\n"
     ]
    }
   ],
   "source": [
    "grid_search.fit(small_split['train'][0], small_split['train'][1])\n",
    "best_parameters = grid_search.best_estimator_.get_params()\n",
    "for param_name in sorted(parameters.keys()):\n",
    "    print(\"\\t%s: %r\" % (param_name, best_parameters[param_name]))\n",
    "print(\"Best score: %0.3f\" % grid_search.best_score_)"
   ]
  },
  {
   "cell_type": "code",
   "execution_count": 60,
   "metadata": {},
   "outputs": [],
   "source": [
    "train_score = grid_search.best_score_"
   ]
  },
  {
   "cell_type": "code",
   "execution_count": 61,
   "metadata": {},
   "outputs": [
    {
     "name": "stdout",
     "output_type": "stream",
     "text": [
      "TEST SCORE: 0.6496666666666666\n"
     ]
    }
   ],
   "source": [
    "pipeline.set_params(**best_parameters)\n",
    "predictions = pipeline.score(small_split['test'][0], small_split['test'][1])\n",
    "print('TEST SCORE: {}'.format(predictions))\n",
    "test_score = predictions"
   ]
  },
  {
   "cell_type": "code",
   "execution_count": 62,
   "metadata": {},
   "outputs": [],
   "source": [
    "predicciones_para_confmat = pipeline.predict(small_split['test'][0])"
   ]
  },
  {
   "cell_type": "code",
   "execution_count": 63,
   "metadata": {},
   "outputs": [],
   "source": [
    "confmat = confusion_matrix(small_split['test'][1], predicciones_para_confmat)"
   ]
  },
  {
   "cell_type": "code",
   "execution_count": 64,
   "metadata": {},
   "outputs": [
    {
     "data": {
      "image/png": "[encoded data removed]",
      "text/plain": [
       "<Figure size 504x504 with 1 Axes>"
      ]
     },
     "metadata": {
      "needs_background": "light"
     },
     "output_type": "display_data"
    },
    {
     "name": "stdout",
     "output_type": "stream",
     "text": [
      "ACC:  0.6496666666666666\n",
      "SEN:  0.8677685950413223\n",
      "ESP:  0.3667687595712098\n",
      "PPV:  0.6399651719634306\n",
      "FSC:  0.736657479328489\n"
     ]
    },
    {
     "data": {
      "image/png": "[encoded data removed]",
      "text/plain": [
       "<Figure size 432x288 with 1 Axes>"
      ]
     },
     "metadata": {
      "needs_background": "light"
     },
     "output_type": "display_data"
    }
   ],
   "source": [
    "plot_confusion_matrix(confmat)\n",
    "metricas = calcula_metricas(confmat)"
   ]
  },
  {
   "cell_type": "code",
   "execution_count": 65,
   "metadata": {},
   "outputs": [
    {
     "data": {
      "text/html": [
       "<div>\n",
       "<style scoped>\n",
       "    .dataframe tbody tr th:only-of-type {\n",
       "        vertical-align: middle;\n",
       "    }\n",
       "\n",
       "    .dataframe tbody tr th {\n",
       "        vertical-align: top;\n",
       "    }\n",
       "\n",
       "    .dataframe thead th {\n",
       "        text-align: right;\n",
       "    }\n",
       "</style>\n",
       "<table border=\"1\" class=\"dataframe\">\n",
       "  <thead>\n",
       "    <tr style=\"text-align: right;\">\n",
       "      <th></th>\n",
       "      <th>Modelo</th>\n",
       "      <th>parametros-optimos</th>\n",
       "      <th>train</th>\n",
       "      <th>test</th>\n",
       "      <th>confusion_matrix</th>\n",
       "      <th>acc_sen_esp_ppv_fsc</th>\n",
       "    </tr>\n",
       "  </thead>\n",
       "  <tbody>\n",
       "    <tr>\n",
       "      <th>0</th>\n",
       "      <td>Decision Tree - Small Dataset</td>\n",
       "      <td>{'tree__max_depth': 19, 'vect__analyzer': 'wor...</td>\n",
       "      <td>0.653286</td>\n",
       "      <td>0.649667</td>\n",
       "      <td>[[479, 827], [224, 1470]]</td>\n",
       "      <td>[0.6496666666666666, 0.8677685950413223, 0.366...</td>\n",
       "    </tr>\n",
       "    <tr>\n",
       "      <th>1</th>\n",
       "      <td>Bayes - Small Dataset</td>\n",
       "      <td>{'vect__analyzer': 'char', 'vect__max_df': 1.0...</td>\n",
       "      <td>0.717000</td>\n",
       "      <td>0.722333</td>\n",
       "      <td>[[909, 397], [436, 1258]]</td>\n",
       "      <td>[0.7223333333333334, 0.7426210153482881, 0.696...</td>\n",
       "    </tr>\n",
       "    <tr>\n",
       "      <th>2</th>\n",
       "      <td>SVM - Small Dataset</td>\n",
       "      <td>{'svm__C': 5.994842503189409, 'svm__gamma': 0....</td>\n",
       "      <td>0.716000</td>\n",
       "      <td>0.733000</td>\n",
       "      <td>[[799, 507], [294, 1400]]</td>\n",
       "      <td>[0.733, 0.8264462809917356, 0.611791730474732,...</td>\n",
       "    </tr>\n",
       "  </tbody>\n",
       "</table>\n",
       "</div>"
      ],
      "text/plain": [
       "                          Modelo  \\\n",
       "0  Decision Tree - Small Dataset   \n",
       "1          Bayes - Small Dataset   \n",
       "2            SVM - Small Dataset   \n",
       "\n",
       "                                  parametros-optimos     train      test  \\\n",
       "0  {'tree__max_depth': 19, 'vect__analyzer': 'wor...  0.653286  0.649667   \n",
       "1  {'vect__analyzer': 'char', 'vect__max_df': 1.0...  0.717000  0.722333   \n",
       "2  {'svm__C': 5.994842503189409, 'svm__gamma': 0....  0.716000  0.733000   \n",
       "\n",
       "            confusion_matrix  \\\n",
       "0  [[479, 827], [224, 1470]]   \n",
       "1  [[909, 397], [436, 1258]]   \n",
       "2  [[799, 507], [294, 1400]]   \n",
       "\n",
       "                                 acc_sen_esp_ppv_fsc  \n",
       "0  [0.6496666666666666, 0.8677685950413223, 0.366...  \n",
       "1  [0.7223333333333334, 0.7426210153482881, 0.696...  \n",
       "2  [0.733, 0.8264462809917356, 0.611791730474732,...  "
      ]
     },
     "execution_count": 65,
     "metadata": {},
     "output_type": "execute_result"
    }
   ],
   "source": [
    "resultado = ['Decision Tree - Small Dataset', grid_search.best_params_, train_score, test_score,\n",
    "             confmat, metricas]\n",
    "\n",
    "add_row(resultadosModelo, resultado)"
   ]
  },
  {
   "cell_type": "markdown",
   "metadata": {
    "colab_type": "text",
    "id": "tdOxZ28dDDON"
   },
   "source": [
    "### 1.1.4 Random Forest"
   ]
  },
  {
   "cell_type": "code",
   "execution_count": 69,
   "metadata": {},
   "outputs": [],
   "source": [
    "from sklearn.ensemble import RandomForestClassifier"
   ]
  },
  {
   "cell_type": "code",
   "execution_count": 70,
   "metadata": {},
   "outputs": [
    {
     "data": {
      "text/plain": [
       "dict_keys(['memory', 'steps', 'vect', 'forest', 'vect__analyzer', 'vect__binary', 'vect__decode_error', 'vect__dtype', 'vect__encoding', 'vect__input', 'vect__lowercase', 'vect__max_df', 'vect__max_features', 'vect__min_df', 'vect__ngram_range', 'vect__preprocessor', 'vect__stop_words', 'vect__strip_accents', 'vect__token_pattern', 'vect__tokenizer', 'vect__vocabulary', 'forest__bootstrap', 'forest__class_weight', 'forest__criterion', 'forest__max_depth', 'forest__max_features', 'forest__max_leaf_nodes', 'forest__min_impurity_decrease', 'forest__min_impurity_split', 'forest__min_samples_leaf', 'forest__min_samples_split', 'forest__min_weight_fraction_leaf', 'forest__n_estimators', 'forest__n_jobs', 'forest__oob_score', 'forest__random_state', 'forest__verbose', 'forest__warm_start'])"
      ]
     },
     "execution_count": 70,
     "metadata": {},
     "output_type": "execute_result"
    }
   ],
   "source": [
    "pipeline = Pipeline([\n",
    "    ('vect', CountVectorizer()),\n",
    "    ('forest', RandomForestClassifier()), #Random Forest\n",
    "])\n",
    "pipeline.get_params().keys() # que parametros podemos tocar en el gridsearch!"
   ]
  },
  {
   "cell_type": "code",
   "execution_count": 71,
   "metadata": {},
   "outputs": [],
   "source": [
    "parameters = {\n",
    "    'vect__max_df': (0.5, 0.75, 1.0),\n",
    "    'vect__ngram_range': ((1, 2), (1, 3), (2, 3), (1,4)),  #ngrams to test\n",
    "    'vect__analyzer': ('word', 'char', 'char_wb'),\n",
    "    'vect__stop_words': (['english',None]),\n",
    "    'forest__max_depth': range(1,30)\n",
    "    }"
   ]
  },
  {
   "cell_type": "code",
   "execution_count": 72,
   "metadata": {},
   "outputs": [],
   "source": [
    "grid_search = GridSearchCV(pipeline, parameters, n_jobs=-1, verbose=1, cv=3)"
   ]
  },
  {
   "cell_type": "code",
   "execution_count": 73,
   "metadata": {},
   "outputs": [
    {
     "name": "stdout",
     "output_type": "stream",
     "text": [
      "Fitting 3 folds for each of 2088 candidates, totalling 6264 fits\n"
     ]
    },
    {
     "name": "stderr",
     "output_type": "stream",
     "text": [
      "[Parallel(n_jobs=-1)]: Using backend LokyBackend with 8 concurrent workers.\n",
      "[Parallel(n_jobs=-1)]: Done  34 tasks      | elapsed:    4.8s\n",
      "[Parallel(n_jobs=-1)]: Done 184 tasks      | elapsed:   40.0s\n",
      "[Parallel(n_jobs=-1)]: Done 434 tasks      | elapsed:  1.6min\n",
      "[Parallel(n_jobs=-1)]: Done 784 tasks      | elapsed:  2.8min\n",
      "[Parallel(n_jobs=-1)]: Done 1234 tasks      | elapsed:  4.5min\n",
      "[Parallel(n_jobs=-1)]: Done 1784 tasks      | elapsed:  6.5min\n",
      "[Parallel(n_jobs=-1)]: Done 2434 tasks      | elapsed:  8.9min\n",
      "[Parallel(n_jobs=-1)]: Done 3184 tasks      | elapsed: 11.7min\n",
      "[Parallel(n_jobs=-1)]: Done 4034 tasks      | elapsed: 15.0min\n",
      "[Parallel(n_jobs=-1)]: Done 4984 tasks      | elapsed: 18.7min\n",
      "[Parallel(n_jobs=-1)]: Done 6034 tasks      | elapsed: 23.2min\n",
      "[Parallel(n_jobs=-1)]: Done 6264 out of 6264 | elapsed: 24.2min finished\n",
      "/anaconda3/lib/python3.7/site-packages/sklearn/ensemble/forest.py:246: FutureWarning: The default value of n_estimators will change from 10 in version 0.20 to 100 in 0.22.\n",
      "  \"10 in version 0.20 to 100 in 0.22.\", FutureWarning)\n"
     ]
    },
    {
     "name": "stdout",
     "output_type": "stream",
     "text": [
      "\tforest__max_depth: 23\n",
      "\tvect__analyzer: 'char_wb'\n",
      "\tvect__max_df: 1.0\n",
      "\tvect__ngram_range: (1, 4)\n",
      "\tvect__stop_words: 'english'\n",
      "Best score: 0.669\n"
     ]
    }
   ],
   "source": [
    "grid_search.fit(small_split['train'][0], small_split['train'][1])\n",
    "best_parameters = grid_search.best_estimator_.get_params()\n",
    "for param_name in sorted(parameters.keys()):\n",
    "    print(\"\\t%s: %r\" % (param_name, best_parameters[param_name]))\n",
    "print(\"Best score: %0.3f\" % grid_search.best_score_)"
   ]
  },
  {
   "cell_type": "code",
   "execution_count": 74,
   "metadata": {},
   "outputs": [],
   "source": [
    "train_score = grid_search.best_score_"
   ]
  },
  {
   "cell_type": "code",
   "execution_count": 75,
   "metadata": {},
   "outputs": [
    {
     "name": "stdout",
     "output_type": "stream",
     "text": [
      "TEST SCORE: 0.665\n"
     ]
    }
   ],
   "source": [
    "pipeline.set_params(**best_parameters)\n",
    "predictions = pipeline.score(small_split['test'][0], small_split['test'][1])\n",
    "print('TEST SCORE: {}'.format(predictions))\n",
    "test_score = predictions"
   ]
  },
  {
   "cell_type": "code",
   "execution_count": 76,
   "metadata": {},
   "outputs": [],
   "source": [
    "predicciones_para_confmat = pipeline.predict(small_split['test'][0])"
   ]
  },
  {
   "cell_type": "code",
   "execution_count": 77,
   "metadata": {},
   "outputs": [],
   "source": [
    "confmat = confusion_matrix(small_split['test'][1], predicciones_para_confmat)"
   ]
  },
  {
   "cell_type": "code",
   "execution_count": 78,
   "metadata": {},
   "outputs": [
    {
     "data": {
      "image/png": "[encoded data removed]",
      "text/plain": [
       "<Figure size 504x504 with 1 Axes>"
      ]
     },
     "metadata": {
      "needs_background": "light"
     },
     "output_type": "display_data"
    },
    {
     "name": "stdout",
     "output_type": "stream",
     "text": [
      "ACC:  0.665\n",
      "SEN:  0.8057851239669421\n",
      "ESP:  0.48238897396630936\n",
      "PPV:  0.6687898089171974\n",
      "FSC:  0.7309236947791165\n"
     ]
    },
    {
     "data": {
      "image/png": "[encoded data removed]",
      "text/plain": [
       "<Figure size 432x288 with 1 Axes>"
      ]
     },
     "metadata": {
      "needs_background": "light"
     },
     "output_type": "display_data"
    }
   ],
   "source": [
    "plot_confusion_matrix(confmat)\n",
    "metricas = calcula_metricas(confmat)"
   ]
  },
  {
   "cell_type": "code",
   "execution_count": 79,
   "metadata": {},
   "outputs": [
    {
     "data": {
      "text/html": [
       "<div>\n",
       "<style scoped>\n",
       "    .dataframe tbody tr th:only-of-type {\n",
       "        vertical-align: middle;\n",
       "    }\n",
       "\n",
       "    .dataframe tbody tr th {\n",
       "        vertical-align: top;\n",
       "    }\n",
       "\n",
       "    .dataframe thead th {\n",
       "        text-align: right;\n",
       "    }\n",
       "</style>\n",
       "<table border=\"1\" class=\"dataframe\">\n",
       "  <thead>\n",
       "    <tr style=\"text-align: right;\">\n",
       "      <th></th>\n",
       "      <th>Modelo</th>\n",
       "      <th>parametros-optimos</th>\n",
       "      <th>train</th>\n",
       "      <th>test</th>\n",
       "      <th>confusion_matrix</th>\n",
       "      <th>acc_sen_esp_ppv_fsc</th>\n",
       "    </tr>\n",
       "  </thead>\n",
       "  <tbody>\n",
       "    <tr>\n",
       "      <th>0</th>\n",
       "      <td>Random Forestyes - Small Dataset</td>\n",
       "      <td>{'forest__max_depth': 23, 'vect__analyzer': 'c...</td>\n",
       "      <td>0.668857</td>\n",
       "      <td>0.665000</td>\n",
       "      <td>[[630, 676], [329, 1365]]</td>\n",
       "      <td>[0.665, 0.8057851239669421, 0.4823889739663093...</td>\n",
       "    </tr>\n",
       "    <tr>\n",
       "      <th>1</th>\n",
       "      <td>Decision Tree - Small Dataset</td>\n",
       "      <td>{'tree__max_depth': 19, 'vect__analyzer': 'wor...</td>\n",
       "      <td>0.653286</td>\n",
       "      <td>0.649667</td>\n",
       "      <td>[[479, 827], [224, 1470]]</td>\n",
       "      <td>[0.6496666666666666, 0.8677685950413223, 0.366...</td>\n",
       "    </tr>\n",
       "    <tr>\n",
       "      <th>2</th>\n",
       "      <td>Bayes - Small Dataset</td>\n",
       "      <td>{'vect__analyzer': 'char', 'vect__max_df': 1.0...</td>\n",
       "      <td>0.717000</td>\n",
       "      <td>0.722333</td>\n",
       "      <td>[[909, 397], [436, 1258]]</td>\n",
       "      <td>[0.7223333333333334, 0.7426210153482881, 0.696...</td>\n",
       "    </tr>\n",
       "    <tr>\n",
       "      <th>3</th>\n",
       "      <td>SVM - Small Dataset</td>\n",
       "      <td>{'svm__C': 5.994842503189409, 'svm__gamma': 0....</td>\n",
       "      <td>0.716000</td>\n",
       "      <td>0.733000</td>\n",
       "      <td>[[799, 507], [294, 1400]]</td>\n",
       "      <td>[0.733, 0.8264462809917356, 0.611791730474732,...</td>\n",
       "    </tr>\n",
       "  </tbody>\n",
       "</table>\n",
       "</div>"
      ],
      "text/plain": [
       "                             Modelo  \\\n",
       "0  Random Forestyes - Small Dataset   \n",
       "1     Decision Tree - Small Dataset   \n",
       "2             Bayes - Small Dataset   \n",
       "3               SVM - Small Dataset   \n",
       "\n",
       "                                  parametros-optimos     train      test  \\\n",
       "0  {'forest__max_depth': 23, 'vect__analyzer': 'c...  0.668857  0.665000   \n",
       "1  {'tree__max_depth': 19, 'vect__analyzer': 'wor...  0.653286  0.649667   \n",
       "2  {'vect__analyzer': 'char', 'vect__max_df': 1.0...  0.717000  0.722333   \n",
       "3  {'svm__C': 5.994842503189409, 'svm__gamma': 0....  0.716000  0.733000   \n",
       "\n",
       "            confusion_matrix  \\\n",
       "0  [[630, 676], [329, 1365]]   \n",
       "1  [[479, 827], [224, 1470]]   \n",
       "2  [[909, 397], [436, 1258]]   \n",
       "3  [[799, 507], [294, 1400]]   \n",
       "\n",
       "                                 acc_sen_esp_ppv_fsc  \n",
       "0  [0.665, 0.8057851239669421, 0.4823889739663093...  \n",
       "1  [0.6496666666666666, 0.8677685950413223, 0.366...  \n",
       "2  [0.7223333333333334, 0.7426210153482881, 0.696...  \n",
       "3  [0.733, 0.8264462809917356, 0.611791730474732,...  "
      ]
     },
     "execution_count": 79,
     "metadata": {},
     "output_type": "execute_result"
    }
   ],
   "source": [
    "resultado = ['Random Forestyes - Small Dataset', grid_search.best_params_, train_score, test_score,\n",
    "             confmat, metricas]\n",
    "\n",
    "add_row(resultadosModelo, resultado)"
   ]
  },
  {
   "cell_type": "code",
   "execution_count": 80,
   "metadata": {},
   "outputs": [],
   "source": [
    "resultadosModelo.to_csv(RESULT_FILE)"
   ]
  },
  {
   "cell_type": "markdown",
   "metadata": {},
   "source": [
    "### 1.4 Boosted Tree"
   ]
  },
  {
   "cell_type": "code",
   "execution_count": 81,
   "metadata": {},
   "outputs": [],
   "source": [
    "from sklearn.ensemble import GradientBoostingClassifier\n",
    "\n",
    "Niterations = [25,100,300]\n",
    "learningRate = [0.1,0.05,0.01]\n",
    "max_depth_tried = [5,7,9]"
   ]
  },
  {
   "cell_type": "code",
   "execution_count": 82,
   "metadata": {},
   "outputs": [
    {
     "data": {
      "text/plain": [
       "dict_keys(['memory', 'steps', 'vect', 'boosted', 'vect__analyzer', 'vect__binary', 'vect__decode_error', 'vect__dtype', 'vect__encoding', 'vect__input', 'vect__lowercase', 'vect__max_df', 'vect__max_features', 'vect__min_df', 'vect__ngram_range', 'vect__preprocessor', 'vect__stop_words', 'vect__strip_accents', 'vect__token_pattern', 'vect__tokenizer', 'vect__vocabulary', 'boosted__criterion', 'boosted__init', 'boosted__learning_rate', 'boosted__loss', 'boosted__max_depth', 'boosted__max_features', 'boosted__max_leaf_nodes', 'boosted__min_impurity_decrease', 'boosted__min_impurity_split', 'boosted__min_samples_leaf', 'boosted__min_samples_split', 'boosted__min_weight_fraction_leaf', 'boosted__n_estimators', 'boosted__n_iter_no_change', 'boosted__presort', 'boosted__random_state', 'boosted__subsample', 'boosted__tol', 'boosted__validation_fraction', 'boosted__verbose', 'boosted__warm_start'])"
      ]
     },
     "execution_count": 82,
     "metadata": {},
     "output_type": "execute_result"
    }
   ],
   "source": [
    "pipeline = Pipeline([\n",
    "    ('vect', CountVectorizer()),\n",
    "    ('boosted', GradientBoostingClassifier()), #Gradient Boosting\n",
    "])\n",
    "pipeline.get_params().keys() # que parametros podemos tocar en el gridsearch!"
   ]
  },
  {
   "cell_type": "code",
   "execution_count": 83,
   "metadata": {},
   "outputs": [],
   "source": [
    "parameters = {\n",
    "    'vect__max_df': (0.5, 0.75, 1.0),\n",
    "    'vect__ngram_range': ((1, 2), (1, 3), (2, 3), (1,4)),  #ngrams to test\n",
    "    'vect__analyzer': ('word', 'char', 'char_wb'),\n",
    "    'vect__stop_words': (['english',None]),\n",
    "    'boosted__n_estimators': Niterations,\n",
    "    'boosted__learning_rate': learningRate,\n",
    "    'boosted__max_depth': max_depth_tried,\n",
    "    }"
   ]
  },
  {
   "cell_type": "code",
   "execution_count": 84,
   "metadata": {},
   "outputs": [],
   "source": [
    "grid_search = GridSearchCV(pipeline, parameters, n_jobs=-1, verbose=1, cv=3)"
   ]
  },
  {
   "cell_type": "code",
   "execution_count": 85,
   "metadata": {},
   "outputs": [
    {
     "name": "stdout",
     "output_type": "stream",
     "text": [
      "Fitting 3 folds for each of 1944 candidates, totalling 5832 fits\n"
     ]
    },
    {
     "name": "stderr",
     "output_type": "stream",
     "text": [
      "[Parallel(n_jobs=-1)]: Using backend LokyBackend with 8 concurrent workers.\n",
      "[Parallel(n_jobs=-1)]: Done  34 tasks      | elapsed:   17.3s\n",
      "[Parallel(n_jobs=-1)]: Done 184 tasks      | elapsed:  2.0min\n",
      "[Parallel(n_jobs=-1)]: Done 434 tasks      | elapsed:  8.9min\n",
      "[Parallel(n_jobs=-1)]: Done 784 tasks      | elapsed: 27.0min\n",
      "[Parallel(n_jobs=-1)]: Done 1234 tasks      | elapsed: 56.6min\n",
      "[Parallel(n_jobs=-1)]: Done 1784 tasks      | elapsed: 91.6min\n",
      "[Parallel(n_jobs=-1)]: Done 2434 tasks      | elapsed: 132.4min\n",
      "[Parallel(n_jobs=-1)]: Done 3184 tasks      | elapsed: 181.3min\n",
      "[Parallel(n_jobs=-1)]: Done 4034 tasks      | elapsed: 252.9min\n",
      "[Parallel(n_jobs=-1)]: Done 4984 tasks      | elapsed: 301.9min\n",
      "[Parallel(n_jobs=-1)]: Done 5832 out of 5832 | elapsed: 424.4min finished\n"
     ]
    },
    {
     "name": "stdout",
     "output_type": "stream",
     "text": [
      "\tboosted__learning_rate: 0.1\n",
      "\tboosted__max_depth: 7\n",
      "\tboosted__n_estimators: 300\n",
      "\tvect__analyzer: 'char_wb'\n",
      "\tvect__max_df: 0.5\n",
      "\tvect__ngram_range: (1, 4)\n",
      "\tvect__stop_words: None\n",
      "Best score: 0.715\n"
     ]
    }
   ],
   "source": [
    "grid_search.fit(small_split['train'][0], small_split['train'][1])\n",
    "best_parameters = grid_search.best_estimator_.get_params()\n",
    "for param_name in sorted(parameters.keys()):\n",
    "    print(\"\\t%s: %r\" % (param_name, best_parameters[param_name]))\n",
    "print(\"Best score: %0.3f\" % grid_search.best_score_)"
   ]
  },
  {
   "cell_type": "code",
   "execution_count": 86,
   "metadata": {},
   "outputs": [],
   "source": [
    "train_score = grid_search.best_score_"
   ]
  },
  {
   "cell_type": "code",
   "execution_count": 87,
   "metadata": {},
   "outputs": [
    {
     "name": "stdout",
     "output_type": "stream",
     "text": [
      "TEST SCORE: 0.7286666666666667\n"
     ]
    }
   ],
   "source": [
    "pipeline.set_params(**best_parameters)\n",
    "predictions = pipeline.score(small_split['test'][0], small_split['test'][1])\n",
    "print('TEST SCORE: {}'.format(predictions))\n",
    "test_score = predictions"
   ]
  },
  {
   "cell_type": "code",
   "execution_count": 88,
   "metadata": {},
   "outputs": [],
   "source": [
    "predicciones_para_confmat = pipeline.predict(small_split['test'][0])"
   ]
  },
  {
   "cell_type": "code",
   "execution_count": 89,
   "metadata": {},
   "outputs": [],
   "source": [
    "confmat = confusion_matrix(small_split['test'][1], predicciones_para_confmat)"
   ]
  },
  {
   "cell_type": "code",
   "execution_count": 90,
   "metadata": {},
   "outputs": [
    {
     "data": {
      "image/png": "[encoded data removed]",
      "text/plain": [
       "<Figure size 504x504 with 1 Axes>"
      ]
     },
     "metadata": {
      "needs_background": "light"
     },
     "output_type": "display_data"
    },
    {
     "name": "stdout",
     "output_type": "stream",
     "text": [
      "ACC:  0.7286666666666667\n",
      "SEN:  0.8276269185360094\n",
      "ESP:  0.6003062787136294\n",
      "PPV:  0.7286902286902287\n",
      "FSC:  0.7750138197899391\n"
     ]
    },
    {
     "data": {
      "image/png": "[encoded data removed]",
      "text/plain": [
       "<Figure size 432x288 with 1 Axes>"
      ]
     },
     "metadata": {
      "needs_background": "light"
     },
     "output_type": "display_data"
    }
   ],
   "source": [
    "plot_confusion_matrix(confmat)\n",
    "metricas = calcula_metricas(confmat)"
   ]
  },
  {
   "cell_type": "code",
   "execution_count": 91,
   "metadata": {},
   "outputs": [
    {
     "data": {
      "text/html": [
       "<div>\n",
       "<style scoped>\n",
       "    .dataframe tbody tr th:only-of-type {\n",
       "        vertical-align: middle;\n",
       "    }\n",
       "\n",
       "    .dataframe tbody tr th {\n",
       "        vertical-align: top;\n",
       "    }\n",
       "\n",
       "    .dataframe thead th {\n",
       "        text-align: right;\n",
       "    }\n",
       "</style>\n",
       "<table border=\"1\" class=\"dataframe\">\n",
       "  <thead>\n",
       "    <tr style=\"text-align: right;\">\n",
       "      <th></th>\n",
       "      <th>Modelo</th>\n",
       "      <th>parametros-optimos</th>\n",
       "      <th>train</th>\n",
       "      <th>test</th>\n",
       "      <th>confusion_matrix</th>\n",
       "      <th>acc_sen_esp_ppv_fsc</th>\n",
       "    </tr>\n",
       "  </thead>\n",
       "  <tbody>\n",
       "    <tr>\n",
       "      <th>0</th>\n",
       "      <td>Boosted Tree - Small Dataset</td>\n",
       "      <td>{'boosted__learning_rate': 0.1, 'boosted__max_...</td>\n",
       "      <td>0.714857</td>\n",
       "      <td>0.728667</td>\n",
       "      <td>[[784, 522], [292, 1402]]</td>\n",
       "      <td>[0.7286666666666667, 0.8276269185360094, 0.600...</td>\n",
       "    </tr>\n",
       "    <tr>\n",
       "      <th>1</th>\n",
       "      <td>Random Forestyes - Small Dataset</td>\n",
       "      <td>{'forest__max_depth': 23, 'vect__analyzer': 'c...</td>\n",
       "      <td>0.668857</td>\n",
       "      <td>0.665000</td>\n",
       "      <td>[[630, 676], [329, 1365]]</td>\n",
       "      <td>[0.665, 0.8057851239669421, 0.4823889739663093...</td>\n",
       "    </tr>\n",
       "    <tr>\n",
       "      <th>2</th>\n",
       "      <td>Decision Tree - Small Dataset</td>\n",
       "      <td>{'tree__max_depth': 19, 'vect__analyzer': 'wor...</td>\n",
       "      <td>0.653286</td>\n",
       "      <td>0.649667</td>\n",
       "      <td>[[479, 827], [224, 1470]]</td>\n",
       "      <td>[0.6496666666666666, 0.8677685950413223, 0.366...</td>\n",
       "    </tr>\n",
       "    <tr>\n",
       "      <th>3</th>\n",
       "      <td>Bayes - Small Dataset</td>\n",
       "      <td>{'vect__analyzer': 'char', 'vect__max_df': 1.0...</td>\n",
       "      <td>0.717000</td>\n",
       "      <td>0.722333</td>\n",
       "      <td>[[909, 397], [436, 1258]]</td>\n",
       "      <td>[0.7223333333333334, 0.7426210153482881, 0.696...</td>\n",
       "    </tr>\n",
       "    <tr>\n",
       "      <th>4</th>\n",
       "      <td>SVM - Small Dataset</td>\n",
       "      <td>{'svm__C': 5.994842503189409, 'svm__gamma': 0....</td>\n",
       "      <td>0.716000</td>\n",
       "      <td>0.733000</td>\n",
       "      <td>[[799, 507], [294, 1400]]</td>\n",
       "      <td>[0.733, 0.8264462809917356, 0.611791730474732,...</td>\n",
       "    </tr>\n",
       "  </tbody>\n",
       "</table>\n",
       "</div>"
      ],
      "text/plain": [
       "                             Modelo  \\\n",
       "0      Boosted Tree - Small Dataset   \n",
       "1  Random Forestyes - Small Dataset   \n",
       "2     Decision Tree - Small Dataset   \n",
       "3             Bayes - Small Dataset   \n",
       "4               SVM - Small Dataset   \n",
       "\n",
       "                                  parametros-optimos     train      test  \\\n",
       "0  {'boosted__learning_rate': 0.1, 'boosted__max_...  0.714857  0.728667   \n",
       "1  {'forest__max_depth': 23, 'vect__analyzer': 'c...  0.668857  0.665000   \n",
       "2  {'tree__max_depth': 19, 'vect__analyzer': 'wor...  0.653286  0.649667   \n",
       "3  {'vect__analyzer': 'char', 'vect__max_df': 1.0...  0.717000  0.722333   \n",
       "4  {'svm__C': 5.994842503189409, 'svm__gamma': 0....  0.716000  0.733000   \n",
       "\n",
       "            confusion_matrix  \\\n",
       "0  [[784, 522], [292, 1402]]   \n",
       "1  [[630, 676], [329, 1365]]   \n",
       "2  [[479, 827], [224, 1470]]   \n",
       "3  [[909, 397], [436, 1258]]   \n",
       "4  [[799, 507], [294, 1400]]   \n",
       "\n",
       "                                 acc_sen_esp_ppv_fsc  \n",
       "0  [0.7286666666666667, 0.8276269185360094, 0.600...  \n",
       "1  [0.665, 0.8057851239669421, 0.4823889739663093...  \n",
       "2  [0.6496666666666666, 0.8677685950413223, 0.366...  \n",
       "3  [0.7223333333333334, 0.7426210153482881, 0.696...  \n",
       "4  [0.733, 0.8264462809917356, 0.611791730474732,...  "
      ]
     },
     "execution_count": 91,
     "metadata": {},
     "output_type": "execute_result"
    }
   ],
   "source": [
    "resultado = ['Boosted Tree - Small Dataset', grid_search.best_params_, train_score, test_score,\n",
    "             confmat, metricas]\n",
    "\n",
    "add_row(resultadosModelo, resultado)"
   ]
  },
  {
   "cell_type": "code",
   "execution_count": 92,
   "metadata": {},
   "outputs": [],
   "source": [
    "resultadosModelo.to_csv(RESULT_FILE)"
   ]
  },
  {
   "cell_type": "markdown",
   "metadata": {},
   "source": [
    "### 1.1.5 Mejoras posibles"
   ]
  },
  {
   "cell_type": "markdown",
   "metadata": {},
   "source": [
    "El análisis de sentimientos se ha hecho con varios modelos distintos obteniendo resultados similares, siendo el mejor el modelo más sencillo, lo que me hace pensar que si hay mejoras que se pueden obtener pasan por mejorar los datos de entrada.\n",
    "\n",
    "Así pues, voy a aplicar algo de stemming y probar de nuevo con los modelos anteriores, usando la misma algún modelo.\n"
   ]
  },
  {
   "cell_type": "code",
   "execution_count": 64,
   "metadata": {},
   "outputs": [
    {
     "data": {
      "text/html": [
       "<div>\n",
       "<style scoped>\n",
       "    .dataframe tbody tr th:only-of-type {\n",
       "        vertical-align: middle;\n",
       "    }\n",
       "\n",
       "    .dataframe tbody tr th {\n",
       "        vertical-align: top;\n",
       "    }\n",
       "\n",
       "    .dataframe thead th {\n",
       "        text-align: right;\n",
       "    }\n",
       "</style>\n",
       "<table border=\"1\" class=\"dataframe\">\n",
       "  <thead>\n",
       "    <tr style=\"text-align: right;\">\n",
       "      <th></th>\n",
       "      <th>Unnamed: 0</th>\n",
       "      <th>Sentiment</th>\n",
       "      <th>SentimentText</th>\n",
       "    </tr>\n",
       "  </thead>\n",
       "  <tbody>\n",
       "    <tr>\n",
       "      <th>0</th>\n",
       "      <td>33872</td>\n",
       "      <td>1</td>\n",
       "      <td>&lt;MENTION&gt; lol ok thanks. anyway watcha doing?</td>\n",
       "    </tr>\n",
       "    <tr>\n",
       "      <th>1</th>\n",
       "      <td>22259</td>\n",
       "      <td>1</td>\n",
       "      <td>&lt;MENTION&gt; -- yeah, thank ya kindly!</td>\n",
       "    </tr>\n",
       "    <tr>\n",
       "      <th>2</th>\n",
       "      <td>72135</td>\n",
       "      <td>0</td>\n",
       "      <td>&lt;MENTION&gt;, is being a horrible friend. tears.</td>\n",
       "    </tr>\n",
       "    <tr>\n",
       "      <th>3</th>\n",
       "      <td>2448</td>\n",
       "      <td>0</td>\n",
       "      <td>Jonas Brothers 3D Concert Movie is out on the ...</td>\n",
       "    </tr>\n",
       "    <tr>\n",
       "      <th>4</th>\n",
       "      <td>85082</td>\n",
       "      <td>1</td>\n",
       "      <td>&lt;MENTION&gt; k just call asap</td>\n",
       "    </tr>\n",
       "  </tbody>\n",
       "</table>\n",
       "</div>"
      ],
      "text/plain": [
       "   Unnamed: 0  Sentiment                                      SentimentText\n",
       "0       33872          1      <MENTION> lol ok thanks. anyway watcha doing?\n",
       "1       22259          1                <MENTION> -- yeah, thank ya kindly!\n",
       "2       72135          0      <MENTION>, is being a horrible friend. tears.\n",
       "3        2448          0  Jonas Brothers 3D Concert Movie is out on the ...\n",
       "4       85082          1                         <MENTION> k just call asap"
      ]
     },
     "execution_count": 64,
     "metadata": {},
     "output_type": "execute_result"
    }
   ],
   "source": [
    "# coger el dataset pequeño\n",
    "stem_df = pd.read_csv('datasets/train_sentiment_small.csv')\n",
    "stem_df.head()"
   ]
  },
  {
   "cell_type": "code",
   "execution_count": 65,
   "metadata": {},
   "outputs": [],
   "source": [
    "stem_df = stem_df.drop(['Unnamed: 0'], axis=1)"
   ]
  },
  {
   "cell_type": "code",
   "execution_count": 3,
   "metadata": {},
   "outputs": [
    {
     "name": "stdout",
     "output_type": "stream",
     "text": [
      "Requirement already satisfied: stop_words in /Users/unaiherran1/.pyenv/versions/3.7.3/lib/python3.7/site-packages (2018.7.23)\r\n"
     ]
    }
   ],
   "source": [
    "!pip3 install stop_words"
   ]
  },
  {
   "cell_type": "code",
   "execution_count": 4,
   "metadata": {},
   "outputs": [
    {
     "name": "stdout",
     "output_type": "stream",
     "text": [
      "Requirement already satisfied: spacy in /Users/unaiherran1/.pyenv/versions/3.7.3/lib/python3.7/site-packages (2.1.8)\n",
      "Requirement already satisfied: cymem<2.1.0,>=2.0.2 in /Users/unaiherran1/.pyenv/versions/3.7.3/lib/python3.7/site-packages (from spacy) (2.0.2)\n",
      "Requirement already satisfied: thinc<7.1.0,>=7.0.8 in /Users/unaiherran1/.pyenv/versions/3.7.3/lib/python3.7/site-packages (from spacy) (7.0.8)\n",
      "Requirement already satisfied: plac<1.0.0,>=0.9.6 in /Users/unaiherran1/.pyenv/versions/3.7.3/lib/python3.7/site-packages (from spacy) (0.9.6)\n",
      "Requirement already satisfied: murmurhash<1.1.0,>=0.28.0 in /Users/unaiherran1/.pyenv/versions/3.7.3/lib/python3.7/site-packages (from spacy) (1.0.2)\n",
      "Requirement already satisfied: blis<0.3.0,>=0.2.2 in /Users/unaiherran1/.pyenv/versions/3.7.3/lib/python3.7/site-packages (from spacy) (0.2.4)\n",
      "Requirement already satisfied: requests<3.0.0,>=2.13.0 in /Users/unaiherran1/.pyenv/versions/3.7.3/lib/python3.7/site-packages (from spacy) (2.22.0)\n",
      "Requirement already satisfied: srsly<1.1.0,>=0.0.6 in /Users/unaiherran1/.pyenv/versions/3.7.3/lib/python3.7/site-packages (from spacy) (0.1.0)\n",
      "Requirement already satisfied: preshed<2.1.0,>=2.0.1 in /Users/unaiherran1/.pyenv/versions/3.7.3/lib/python3.7/site-packages (from spacy) (2.0.1)\n",
      "Requirement already satisfied: wasabi<1.1.0,>=0.2.0 in /Users/unaiherran1/.pyenv/versions/3.7.3/lib/python3.7/site-packages (from spacy) (0.2.2)\n",
      "Requirement already satisfied: numpy>=1.15.0 in /Users/unaiherran1/.pyenv/versions/3.7.3/lib/python3.7/site-packages (from spacy) (1.17.2)\n",
      "Requirement already satisfied: tqdm<5.0.0,>=4.10.0 in /Users/unaiherran1/.pyenv/versions/3.7.3/lib/python3.7/site-packages (from thinc<7.1.0,>=7.0.8->spacy) (4.36.1)\n",
      "Requirement already satisfied: certifi>=2017.4.17 in /Users/unaiherran1/.pyenv/versions/3.7.3/lib/python3.7/site-packages (from requests<3.0.0,>=2.13.0->spacy) (2019.9.11)\n",
      "Requirement already satisfied: idna<2.9,>=2.5 in /Users/unaiherran1/.pyenv/versions/3.7.3/lib/python3.7/site-packages (from requests<3.0.0,>=2.13.0->spacy) (2.8)\n",
      "Requirement already satisfied: chardet<3.1.0,>=3.0.2 in /Users/unaiherran1/.pyenv/versions/3.7.3/lib/python3.7/site-packages (from requests<3.0.0,>=2.13.0->spacy) (3.0.4)\n",
      "Requirement already satisfied: urllib3!=1.25.0,!=1.25.1,<1.26,>=1.21.1 in /Users/unaiherran1/.pyenv/versions/3.7.3/lib/python3.7/site-packages (from requests<3.0.0,>=2.13.0->spacy) (1.25.5)\n"
     ]
    }
   ],
   "source": [
    "!pip3 install spacy"
   ]
  },
  {
   "cell_type": "code",
   "execution_count": 5,
   "metadata": {},
   "outputs": [
    {
     "name": "stdout",
     "output_type": "stream",
     "text": [
      "Requirement already satisfied: en_core_web_sm==2.1.0 from https://github.com/explosion/spacy-models/releases/download/en_core_web_sm-2.1.0/en_core_web_sm-2.1.0.tar.gz#egg=en_core_web_sm==2.1.0 in /Users/unaiherran1/.pyenv/versions/3.7.3/lib/python3.7/site-packages (2.1.0)\n",
      "\u001b[38;5;2m✔ Download and installation successful\u001b[0m\n",
      "You can now load the model via spacy.load('en_core_web_sm')\n"
     ]
    }
   ],
   "source": [
    "!python3 -m spacy download en_core_web_sm"
   ]
  },
  {
   "cell_type": "code",
   "execution_count": 7,
   "metadata": {},
   "outputs": [],
   "source": [
    "import sys\n",
    "sys.path.append('/usr/local/lib/python3.7/site-packages')\n",
    "sys.path.append('/Users/unaiherran1/.pyenv/versions/3.7.3/lib/python3.7/site-packages')"
   ]
  },
  {
   "cell_type": "code",
   "execution_count": 8,
   "metadata": {},
   "outputs": [],
   "source": [
    "import spacy\n",
    "from stop_words import get_stop_words\n",
    "from string import punctuation"
   ]
  },
  {
   "cell_type": "code",
   "execution_count": null,
   "metadata": {},
   "outputs": [
    {
     "name": "stdout",
     "output_type": "stream",
     "text": [
      "Collecting https://github.com/explosion/spacy-models/releases/download/en_core_web_sm-2.0.0/en_core_web_sm-2.0.0.tar.gz\n",
      "\u001b[?25l  Downloading https://github.com/explosion/spacy-models/releases/download/en_core_web_sm-2.0.0/en_core_web_sm-2.0.0.tar.gz (37.4MB)\n",
      "\u001b[K     |█████████████████▍              | 20.3MB 1.7MB/s eta 0:00:10"
     ]
    }
   ],
   "source": [
    "!pip install https://github.com/explosion/spacy-models/releases/download/en_core_web_sm-2.0.0/en_core_web_sm-2.0.0.tar.gz --no-deps"
   ]
  },
  {
   "cell_type": "code",
   "execution_count": 78,
   "metadata": {},
   "outputs": [],
   "source": [
    "# lematizar\n",
    "customize_stop_words = get_stop_words('en') + list(punctuation) + [' ', '<URL>', '<MENTION>', '<HASHTAG>',\n",
    "                                                                  'MENTION', 'URL', 'HASHTAG']"
   ]
  },
  {
   "cell_type": "code",
   "execution_count": 11,
   "metadata": {},
   "outputs": [
    {
     "name": "stdout",
     "output_type": "stream",
     "text": [
      "Requirement already satisfied: en_core_web_sm==2.1.0 from https://github.com/explosion/spacy-models/releases/download/en_core_web_sm-2.1.0/en_core_web_sm-2.1.0.tar.gz#egg=en_core_web_sm==2.1.0 in /Users/unaiherran1/.pyenv/versions/3.7.3/lib/python3.7/site-packages (2.1.0)\n",
      "\u001b[38;5;2m✔ Download and installation successful\u001b[0m\n",
      "You can now load the model via spacy.load('en_core_web_sm')\n"
     ]
    }
   ],
   "source": [
    "!python3 -m spacy download en_core_web_sm"
   ]
  },
  {
   "cell_type": "code",
   "execution_count": 67,
   "metadata": {},
   "outputs": [],
   "source": [
    "nlp = spacy.load('en_core_web_sm')"
   ]
  },
  {
   "cell_type": "code",
   "execution_count": 79,
   "metadata": {},
   "outputs": [],
   "source": [
    "# Mark them as stop words\n",
    "for w in customize_stop_words:\n",
    "    nlp.vocab[w].is_stop = True"
   ]
  },
  {
   "cell_type": "code",
   "execution_count": 80,
   "metadata": {},
   "outputs": [],
   "source": [
    "stem_df['SentimentLema'] = stem_df.SentimentText.apply(lambda text: \n",
    "                                          \" \".join(token.lemma_ for token in nlp(text,disable=['parser', 'tagger', 'ner']) if not token.is_stop))"
   ]
  },
  {
   "cell_type": "code",
   "execution_count": 82,
   "metadata": {},
   "outputs": [],
   "source": [
    "from nltk.stem.snowball import SnowballStemmer\n",
    "\n",
    "stemmer = SnowballStemmer(language='english')"
   ]
  },
  {
   "cell_type": "code",
   "execution_count": 84,
   "metadata": {},
   "outputs": [],
   "source": [
    "stem_df['SentimentStem'] = stem_df['SentimentLema'].map(lambda SentimentLema: stemmer.stem(SentimentLema))"
   ]
  },
  {
   "cell_type": "code",
   "execution_count": 87,
   "metadata": {},
   "outputs": [
    {
     "data": {
      "text/html": [
       "<div>\n",
       "<style scoped>\n",
       "    .dataframe tbody tr th:only-of-type {\n",
       "        vertical-align: middle;\n",
       "    }\n",
       "\n",
       "    .dataframe tbody tr th {\n",
       "        vertical-align: top;\n",
       "    }\n",
       "\n",
       "    .dataframe thead th {\n",
       "        text-align: right;\n",
       "    }\n",
       "</style>\n",
       "<table border=\"1\" class=\"dataframe\">\n",
       "  <thead>\n",
       "    <tr style=\"text-align: right;\">\n",
       "      <th></th>\n",
       "      <th>Sentiment</th>\n",
       "      <th>SentimentText</th>\n",
       "      <th>SentimentLema</th>\n",
       "      <th>SentimentStem</th>\n",
       "    </tr>\n",
       "  </thead>\n",
       "  <tbody>\n",
       "    <tr>\n",
       "      <th>0</th>\n",
       "      <td>1</td>\n",
       "      <td>&lt;MENTION&gt; lol ok thanks. anyway watcha doing?</td>\n",
       "      <td>lol okay thank watcha</td>\n",
       "      <td>lol okay thank watcha</td>\n",
       "    </tr>\n",
       "    <tr>\n",
       "      <th>1</th>\n",
       "      <td>1</td>\n",
       "      <td>&lt;MENTION&gt; -- yeah, thank ya kindly!</td>\n",
       "      <td>-- yes thank you kindly</td>\n",
       "      <td>-- yes thank you kind</td>\n",
       "    </tr>\n",
       "    <tr>\n",
       "      <th>2</th>\n",
       "      <td>0</td>\n",
       "      <td>&lt;MENTION&gt;, is being a horrible friend. tears.</td>\n",
       "      <td>horrible friend tear</td>\n",
       "      <td>horrible friend tear</td>\n",
       "    </tr>\n",
       "    <tr>\n",
       "      <th>3</th>\n",
       "      <td>0</td>\n",
       "      <td>Jonas Brothers 3D Concert Movie is out on the ...</td>\n",
       "      <td>Jonas Brothers 3D Concert Movie 7th school int...</td>\n",
       "      <td>jonas brothers 3d concert movie 7th school int...</td>\n",
       "    </tr>\n",
       "    <tr>\n",
       "      <th>4</th>\n",
       "      <td>1</td>\n",
       "      <td>&lt;MENTION&gt; k just call asap</td>\n",
       "      <td>k asap</td>\n",
       "      <td>k asap</td>\n",
       "    </tr>\n",
       "  </tbody>\n",
       "</table>\n",
       "</div>"
      ],
      "text/plain": [
       "   Sentiment                                      SentimentText  \\\n",
       "0          1      <MENTION> lol ok thanks. anyway watcha doing?   \n",
       "1          1                <MENTION> -- yeah, thank ya kindly!   \n",
       "2          0      <MENTION>, is being a horrible friend. tears.   \n",
       "3          0  Jonas Brothers 3D Concert Movie is out on the ...   \n",
       "4          1                         <MENTION> k just call asap   \n",
       "\n",
       "                                       SentimentLema  \\\n",
       "0                              lol okay thank watcha   \n",
       "1                            -- yes thank you kindly   \n",
       "2                               horrible friend tear   \n",
       "3  Jonas Brothers 3D Concert Movie 7th school int...   \n",
       "4                                             k asap   \n",
       "\n",
       "                                       SentimentStem  \n",
       "0                              lol okay thank watcha  \n",
       "1                              -- yes thank you kind  \n",
       "2                               horrible friend tear  \n",
       "3  jonas brothers 3d concert movie 7th school int...  \n",
       "4                                             k asap  "
      ]
     },
     "execution_count": 87,
     "metadata": {},
     "output_type": "execute_result"
    }
   ],
   "source": [
    "# guardarlo lematizado\n",
    "stem_df.to_csv('datasets/sentiment_text_lemma_stem.csv')\n",
    "stem_df.head()"
   ]
  },
  {
   "cell_type": "code",
   "execution_count": 91,
   "metadata": {},
   "outputs": [
    {
     "name": "stdout",
     "output_type": "stream",
     "text": [
      "[('-- yes thank you kind', 'POS'), ('horrible friend tear', 'NEG'), (\"jonas brothers 3d concert movie 7th school interview i'll sat!!(hop\", 'NEG'), ('k asap', 'POS'), ('hello mr ryan ross', 'POS')]\n"
     ]
    },
    {
     "data": {
      "text/plain": [
       "9999"
      ]
     },
     "execution_count": 91,
     "metadata": {},
     "output_type": "execute_result"
    }
   ],
   "source": [
    "# repetir analisis anterior\n",
    "\n",
    "# vectorizar\n",
    "\n",
    "sentiment_dataset = []\n",
    "for index, row in stem_df.iterrows():\n",
    "    if index>0:\n",
    "        label = 'POS' if row[0] == 1 else 'NEG' \n",
    "        sentiment_dataset.append((row[3],label))\n",
    "print(sentiment_dataset[0:5])\n",
    "len(sentiment_dataset)"
   ]
  },
  {
   "cell_type": "code",
   "execution_count": 92,
   "metadata": {},
   "outputs": [],
   "source": [
    "\n",
    "from sklearn.model_selection import StratifiedShuffleSplit\n",
    "\n",
    "from sklearn.feature_extraction.text import CountVectorizer\n",
    "from sklearn.feature_extraction.text import TfidfTransformer\n",
    "from sklearn.naive_bayes import MultinomialNB\n",
    "from sklearn.svm import SVC\n",
    "from sklearn.model_selection import GridSearchCV\n",
    "from sklearn.pipeline import Pipeline"
   ]
  },
  {
   "cell_type": "code",
   "execution_count": 93,
   "metadata": {},
   "outputs": [],
   "source": [
    "# split\n",
    "def split_train_val_test(dataset, split=0.2):\n",
    "\n",
    "    x, y = zip(*dataset)\n",
    "    x = np.array(list(x))\n",
    "    y = np.array(list(y))\n",
    "    sss = StratifiedShuffleSplit(n_splits=1, test_size=split, random_state=1337) #l33t seed\n",
    "    for train_index, test_index in sss.split(x, y):\n",
    "        x_train, x_val = x[train_index], x[test_index]\n",
    "        y_train, y_val = y[train_index], y[test_index]\n",
    "    splits = {'train':(x_train, y_train), 'test':(x_val, y_val)}\n",
    "    return splits"
   ]
  },
  {
   "cell_type": "code",
   "execution_count": 95,
   "metadata": {},
   "outputs": [],
   "source": [
    "small_split = split_train_val_test(sentiment_dataset, 0.3)"
   ]
  },
  {
   "cell_type": "code",
   "execution_count": 98,
   "metadata": {},
   "outputs": [],
   "source": [
    "resultadosModelo = pd.read_csv(RESULT_FILE)\n",
    "resultadosModelo = resultadosModelo.drop(['Unnamed: 0'], axis=1)"
   ]
  },
  {
   "cell_type": "code",
   "execution_count": 99,
   "metadata": {},
   "outputs": [
    {
     "data": {
      "text/html": [
       "<div>\n",
       "<style scoped>\n",
       "    .dataframe tbody tr th:only-of-type {\n",
       "        vertical-align: middle;\n",
       "    }\n",
       "\n",
       "    .dataframe tbody tr th {\n",
       "        vertical-align: top;\n",
       "    }\n",
       "\n",
       "    .dataframe thead th {\n",
       "        text-align: right;\n",
       "    }\n",
       "</style>\n",
       "<table border=\"1\" class=\"dataframe\">\n",
       "  <thead>\n",
       "    <tr style=\"text-align: right;\">\n",
       "      <th></th>\n",
       "      <th>Modelo</th>\n",
       "      <th>parametros-optimos</th>\n",
       "      <th>train</th>\n",
       "      <th>test</th>\n",
       "      <th>confusion_matrix</th>\n",
       "      <th>acc_sen_esp_ppv_fsc</th>\n",
       "    </tr>\n",
       "  </thead>\n",
       "  <tbody>\n",
       "    <tr>\n",
       "      <th>0</th>\n",
       "      <td>SVM - Small Dataset</td>\n",
       "      <td>{'svm__C': 5.994842503189409, 'svm__gamma': 0....</td>\n",
       "      <td>0.716000</td>\n",
       "      <td>0.733000</td>\n",
       "      <td>[[ 799  507]\\n [ 294 1400]]</td>\n",
       "      <td>[0.733, 0.8264462809917356, 0.611791730474732,...</td>\n",
       "    </tr>\n",
       "    <tr>\n",
       "      <th>1</th>\n",
       "      <td>Bayes - Small Dataset</td>\n",
       "      <td>{'vect__analyzer': 'char', 'vect__max_df': 1.0...</td>\n",
       "      <td>0.717000</td>\n",
       "      <td>0.722333</td>\n",
       "      <td>[[ 909  397]\\n [ 436 1258]]</td>\n",
       "      <td>[0.7223333333333334, 0.7426210153482881, 0.696...</td>\n",
       "    </tr>\n",
       "    <tr>\n",
       "      <th>2</th>\n",
       "      <td>Decision Tree - Small Dataset</td>\n",
       "      <td>{'tree__max_depth': 19, 'vect__analyzer': 'wor...</td>\n",
       "      <td>0.653286</td>\n",
       "      <td>0.649667</td>\n",
       "      <td>[[ 479  827]\\n [ 224 1470]]</td>\n",
       "      <td>[0.6496666666666666, 0.8677685950413223, 0.366...</td>\n",
       "    </tr>\n",
       "    <tr>\n",
       "      <th>3</th>\n",
       "      <td>Random Forestyes - Small Dataset</td>\n",
       "      <td>{'forest__max_depth': 23, 'vect__analyzer': 'c...</td>\n",
       "      <td>0.668857</td>\n",
       "      <td>0.665000</td>\n",
       "      <td>[[ 630  676]\\n [ 329 1365]]</td>\n",
       "      <td>[0.665, 0.8057851239669421, 0.4823889739663093...</td>\n",
       "    </tr>\n",
       "    <tr>\n",
       "      <th>4</th>\n",
       "      <td>Boosted Tree - Small Dataset</td>\n",
       "      <td>{'boosted__learning_rate': 0.1, 'boosted__max_...</td>\n",
       "      <td>0.714857</td>\n",
       "      <td>0.728667</td>\n",
       "      <td>[[ 784  522]\\n [ 292 1402]]</td>\n",
       "      <td>[0.7286666666666667, 0.8276269185360094, 0.600...</td>\n",
       "    </tr>\n",
       "  </tbody>\n",
       "</table>\n",
       "</div>"
      ],
      "text/plain": [
       "                             Modelo  \\\n",
       "0               SVM - Small Dataset   \n",
       "1             Bayes - Small Dataset   \n",
       "2     Decision Tree - Small Dataset   \n",
       "3  Random Forestyes - Small Dataset   \n",
       "4      Boosted Tree - Small Dataset   \n",
       "\n",
       "                                  parametros-optimos     train      test  \\\n",
       "0  {'svm__C': 5.994842503189409, 'svm__gamma': 0....  0.716000  0.733000   \n",
       "1  {'vect__analyzer': 'char', 'vect__max_df': 1.0...  0.717000  0.722333   \n",
       "2  {'tree__max_depth': 19, 'vect__analyzer': 'wor...  0.653286  0.649667   \n",
       "3  {'forest__max_depth': 23, 'vect__analyzer': 'c...  0.668857  0.665000   \n",
       "4  {'boosted__learning_rate': 0.1, 'boosted__max_...  0.714857  0.728667   \n",
       "\n",
       "              confusion_matrix  \\\n",
       "0  [[ 799  507]\\n [ 294 1400]]   \n",
       "1  [[ 909  397]\\n [ 436 1258]]   \n",
       "2  [[ 479  827]\\n [ 224 1470]]   \n",
       "3  [[ 630  676]\\n [ 329 1365]]   \n",
       "4  [[ 784  522]\\n [ 292 1402]]   \n",
       "\n",
       "                                 acc_sen_esp_ppv_fsc  \n",
       "0  [0.733, 0.8264462809917356, 0.611791730474732,...  \n",
       "1  [0.7223333333333334, 0.7426210153482881, 0.696...  \n",
       "2  [0.6496666666666666, 0.8677685950413223, 0.366...  \n",
       "3  [0.665, 0.8057851239669421, 0.4823889739663093...  \n",
       "4  [0.7286666666666667, 0.8276269185360094, 0.600...  "
      ]
     },
     "execution_count": 99,
     "metadata": {},
     "output_type": "execute_result"
    }
   ],
   "source": [
    "resultadosModelo"
   ]
  },
  {
   "cell_type": "code",
   "execution_count": 101,
   "metadata": {},
   "outputs": [],
   "source": [
    "# Bayes\n",
    "pipeline = Pipeline([\n",
    "    ('vect', CountVectorizer()),\n",
    "    ('clf', MultinomialNB()), #MultinomialNB\n",
    "])"
   ]
  },
  {
   "cell_type": "code",
   "execution_count": 102,
   "metadata": {},
   "outputs": [],
   "source": [
    "parameters = {\n",
    "    'vect__max_df': (0.5, 0.75, 1.0),\n",
    "    'vect__ngram_range': ((1, 2), (1, 3), (2, 3), (1,4)),  #ngrams to test\n",
    "    'vect__analyzer': ('word', 'char', 'char_wb'),\n",
    "    'vect__stop_words': (['english',None])\n",
    "    }"
   ]
  },
  {
   "cell_type": "code",
   "execution_count": 103,
   "metadata": {},
   "outputs": [],
   "source": [
    "grid_search = GridSearchCV(pipeline, parameters, n_jobs=-1, verbose=1, cv=3)"
   ]
  },
  {
   "cell_type": "code",
   "execution_count": 104,
   "metadata": {},
   "outputs": [
    {
     "name": "stdout",
     "output_type": "stream",
     "text": [
      "Fitting 3 folds for each of 72 candidates, totalling 216 fits\n"
     ]
    },
    {
     "name": "stderr",
     "output_type": "stream",
     "text": [
      "[Parallel(n_jobs=-1)]: Using backend LokyBackend with 8 concurrent workers.\n",
      "[Parallel(n_jobs=-1)]: Done  34 tasks      | elapsed:    3.6s\n",
      "[Parallel(n_jobs=-1)]: Done 184 tasks      | elapsed:   21.7s\n",
      "[Parallel(n_jobs=-1)]: Done 216 out of 216 | elapsed:   26.7s finished\n"
     ]
    },
    {
     "name": "stdout",
     "output_type": "stream",
     "text": [
      "\tvect__analyzer: 'word'\n",
      "\tvect__max_df: 0.5\n",
      "\tvect__ngram_range: (1, 4)\n",
      "\tvect__stop_words: None\n",
      "Best score: 0.687\n"
     ]
    }
   ],
   "source": [
    "grid_search.fit(small_split['train'][0], small_split['train'][1])\n",
    "best_parameters = grid_search.best_estimator_.get_params()\n",
    "for param_name in sorted(parameters.keys()):\n",
    "    print(\"\\t%s: %r\" % (param_name, best_parameters[param_name]))\n",
    "print(\"Best score: %0.3f\" % grid_search.best_score_)"
   ]
  },
  {
   "cell_type": "code",
   "execution_count": 105,
   "metadata": {},
   "outputs": [],
   "source": [
    "train_score = grid_search.best_score_"
   ]
  },
  {
   "cell_type": "code",
   "execution_count": 106,
   "metadata": {},
   "outputs": [
    {
     "name": "stdout",
     "output_type": "stream",
     "text": [
      "TEST SCORE: 0.6903333333333334\n"
     ]
    }
   ],
   "source": [
    "pipeline.set_params(**best_parameters)\n",
    "predictions = pipeline.score(small_split['test'][0], small_split['test'][1])\n",
    "print('TEST SCORE: {}'.format(predictions))\n",
    "test_score = predictions"
   ]
  },
  {
   "cell_type": "code",
   "execution_count": 107,
   "metadata": {},
   "outputs": [
    {
     "name": "stdout",
     "output_type": "stream",
     "text": [
      "ACC:  0.6903333333333334\n",
      "SEN:  0.806965761511216\n",
      "ESP:  0.5390505359877489\n",
      "PPV:  0.6942610462163534\n",
      "FSC:  0.7463827463827463\n"
     ]
    },
    {
     "data": {
      "image/png": "[encoded data removed]",
      "text/plain": [
       "<Figure size 432x288 with 1 Axes>"
      ]
     },
     "metadata": {
      "needs_background": "light"
     },
     "output_type": "display_data"
    }
   ],
   "source": [
    "predicciones_para_confmat = pipeline.predict(small_split['test'][0])\n",
    "confmat = confusion_matrix(small_split['test'][1], predicciones_para_confmat)\n",
    "metricas = calcula_metricas(confmat)\n"
   ]
  },
  {
   "cell_type": "code",
   "execution_count": 108,
   "metadata": {},
   "outputs": [
    {
     "data": {
      "text/html": [
       "<div>\n",
       "<style scoped>\n",
       "    .dataframe tbody tr th:only-of-type {\n",
       "        vertical-align: middle;\n",
       "    }\n",
       "\n",
       "    .dataframe tbody tr th {\n",
       "        vertical-align: top;\n",
       "    }\n",
       "\n",
       "    .dataframe thead th {\n",
       "        text-align: right;\n",
       "    }\n",
       "</style>\n",
       "<table border=\"1\" class=\"dataframe\">\n",
       "  <thead>\n",
       "    <tr style=\"text-align: right;\">\n",
       "      <th></th>\n",
       "      <th>Modelo</th>\n",
       "      <th>parametros-optimos</th>\n",
       "      <th>train</th>\n",
       "      <th>test</th>\n",
       "      <th>confusion_matrix</th>\n",
       "      <th>acc_sen_esp_ppv_fsc</th>\n",
       "    </tr>\n",
       "  </thead>\n",
       "  <tbody>\n",
       "    <tr>\n",
       "      <th>0</th>\n",
       "      <td>Bayes - Lemma - Small Dataset</td>\n",
       "      <td>{'vect__analyzer': 'word', 'vect__max_df': 0.5...</td>\n",
       "      <td>0.686670</td>\n",
       "      <td>0.690333</td>\n",
       "      <td>[[704, 602], [327, 1367]]</td>\n",
       "      <td>[0.6903333333333334, 0.806965761511216, 0.5390...</td>\n",
       "    </tr>\n",
       "    <tr>\n",
       "      <th>1</th>\n",
       "      <td>SVM - Small Dataset</td>\n",
       "      <td>{'svm__C': 5.994842503189409, 'svm__gamma': 0....</td>\n",
       "      <td>0.716000</td>\n",
       "      <td>0.733000</td>\n",
       "      <td>[[ 799  507]\\n [ 294 1400]]</td>\n",
       "      <td>[0.733, 0.8264462809917356, 0.611791730474732,...</td>\n",
       "    </tr>\n",
       "    <tr>\n",
       "      <th>2</th>\n",
       "      <td>Bayes - Small Dataset</td>\n",
       "      <td>{'vect__analyzer': 'char', 'vect__max_df': 1.0...</td>\n",
       "      <td>0.717000</td>\n",
       "      <td>0.722333</td>\n",
       "      <td>[[ 909  397]\\n [ 436 1258]]</td>\n",
       "      <td>[0.7223333333333334, 0.7426210153482881, 0.696...</td>\n",
       "    </tr>\n",
       "    <tr>\n",
       "      <th>3</th>\n",
       "      <td>Decision Tree - Small Dataset</td>\n",
       "      <td>{'tree__max_depth': 19, 'vect__analyzer': 'wor...</td>\n",
       "      <td>0.653286</td>\n",
       "      <td>0.649667</td>\n",
       "      <td>[[ 479  827]\\n [ 224 1470]]</td>\n",
       "      <td>[0.6496666666666666, 0.8677685950413223, 0.366...</td>\n",
       "    </tr>\n",
       "    <tr>\n",
       "      <th>4</th>\n",
       "      <td>Random Forestyes - Small Dataset</td>\n",
       "      <td>{'forest__max_depth': 23, 'vect__analyzer': 'c...</td>\n",
       "      <td>0.668857</td>\n",
       "      <td>0.665000</td>\n",
       "      <td>[[ 630  676]\\n [ 329 1365]]</td>\n",
       "      <td>[0.665, 0.8057851239669421, 0.4823889739663093...</td>\n",
       "    </tr>\n",
       "    <tr>\n",
       "      <th>5</th>\n",
       "      <td>Boosted Tree - Small Dataset</td>\n",
       "      <td>{'boosted__learning_rate': 0.1, 'boosted__max_...</td>\n",
       "      <td>0.714857</td>\n",
       "      <td>0.728667</td>\n",
       "      <td>[[ 784  522]\\n [ 292 1402]]</td>\n",
       "      <td>[0.7286666666666667, 0.8276269185360094, 0.600...</td>\n",
       "    </tr>\n",
       "  </tbody>\n",
       "</table>\n",
       "</div>"
      ],
      "text/plain": [
       "                             Modelo  \\\n",
       "0     Bayes - Lemma - Small Dataset   \n",
       "1               SVM - Small Dataset   \n",
       "2             Bayes - Small Dataset   \n",
       "3     Decision Tree - Small Dataset   \n",
       "4  Random Forestyes - Small Dataset   \n",
       "5      Boosted Tree - Small Dataset   \n",
       "\n",
       "                                  parametros-optimos     train      test  \\\n",
       "0  {'vect__analyzer': 'word', 'vect__max_df': 0.5...  0.686670  0.690333   \n",
       "1  {'svm__C': 5.994842503189409, 'svm__gamma': 0....  0.716000  0.733000   \n",
       "2  {'vect__analyzer': 'char', 'vect__max_df': 1.0...  0.717000  0.722333   \n",
       "3  {'tree__max_depth': 19, 'vect__analyzer': 'wor...  0.653286  0.649667   \n",
       "4  {'forest__max_depth': 23, 'vect__analyzer': 'c...  0.668857  0.665000   \n",
       "5  {'boosted__learning_rate': 0.1, 'boosted__max_...  0.714857  0.728667   \n",
       "\n",
       "              confusion_matrix  \\\n",
       "0    [[704, 602], [327, 1367]]   \n",
       "1  [[ 799  507]\\n [ 294 1400]]   \n",
       "2  [[ 909  397]\\n [ 436 1258]]   \n",
       "3  [[ 479  827]\\n [ 224 1470]]   \n",
       "4  [[ 630  676]\\n [ 329 1365]]   \n",
       "5  [[ 784  522]\\n [ 292 1402]]   \n",
       "\n",
       "                                 acc_sen_esp_ppv_fsc  \n",
       "0  [0.6903333333333334, 0.806965761511216, 0.5390...  \n",
       "1  [0.733, 0.8264462809917356, 0.611791730474732,...  \n",
       "2  [0.7223333333333334, 0.7426210153482881, 0.696...  \n",
       "3  [0.6496666666666666, 0.8677685950413223, 0.366...  \n",
       "4  [0.665, 0.8057851239669421, 0.4823889739663093...  \n",
       "5  [0.7286666666666667, 0.8276269185360094, 0.600...  "
      ]
     },
     "execution_count": 108,
     "metadata": {},
     "output_type": "execute_result"
    }
   ],
   "source": [
    "resultado = ['Bayes - Lemma - Small Dataset', grid_search.best_params_, train_score, test_score,\n",
    "             confmat, metricas]\n",
    "\n",
    "add_row(resultadosModelo, resultado)"
   ]
  },
  {
   "cell_type": "code",
   "execution_count": null,
   "metadata": {},
   "outputs": [],
   "source": [
    "# svm"
   ]
  },
  {
   "cell_type": "code",
   "execution_count": 142,
   "metadata": {},
   "outputs": [],
   "source": [
    "pipeline = Pipeline([\n",
    "    ('vect', CountVectorizer()),\n",
    "    ('svm', SVC()), #SVC\n",
    "])"
   ]
  },
  {
   "cell_type": "code",
   "execution_count": 143,
   "metadata": {},
   "outputs": [],
   "source": [
    "vetorC = vectorC = np.logspace(-9, 0, 5)\n",
    "vectorG = np.logspace(-3, 3, 5)\n",
    "\n",
    "parameters = {\n",
    "    'vect__max_df': (0.5, 0.75, 1.0),\n",
    "    'vect__ngram_range': ((1, 2), (1, 3), (2, 3)),  #ngrams to test\n",
    "    'vect__analyzer': ('word', 'char', 'char_wb'),\n",
    "    'svm__C': vectorC, \n",
    "    'svm__gamma':vectorG\n",
    "    }"
   ]
  },
  {
   "cell_type": "code",
   "execution_count": 144,
   "metadata": {},
   "outputs": [],
   "source": [
    "grid_search = GridSearchCV(pipeline, parameters, n_jobs=-1, verbose=1, cv=3)"
   ]
  },
  {
   "cell_type": "code",
   "execution_count": 145,
   "metadata": {},
   "outputs": [
    {
     "name": "stdout",
     "output_type": "stream",
     "text": [
      "He empezado a las:  2019-09-21 18:34:38.994193\n",
      "Fitting 3 folds for each of 675 candidates, totalling 2025 fits\n"
     ]
    },
    {
     "name": "stderr",
     "output_type": "stream",
     "text": [
      "[Parallel(n_jobs=-1)]: Using backend LokyBackend with 8 concurrent workers.\n",
      "/anaconda3/lib/python3.7/site-packages/sklearn/externals/joblib/externals/loky/process_executor.py:706: UserWarning: A worker stopped while some jobs were given to the executor. This can be caused by a too short worker timeout or by a memory leak.\n",
      "  \"timeout or by a memory leak.\", UserWarning\n",
      "[Parallel(n_jobs=-1)]: Done  34 tasks      | elapsed:   40.9s\n",
      "[Parallel(n_jobs=-1)]: Done 184 tasks      | elapsed:  6.2min\n",
      "[Parallel(n_jobs=-1)]: Done 434 tasks      | elapsed: 14.8min\n",
      "[Parallel(n_jobs=-1)]: Done 784 tasks      | elapsed: 26.7min\n",
      "[Parallel(n_jobs=-1)]: Done 1234 tasks      | elapsed: 41.7min\n",
      "[Parallel(n_jobs=-1)]: Done 1784 tasks      | elapsed: 63.0min\n",
      "[Parallel(n_jobs=-1)]: Done 2025 out of 2025 | elapsed: 72.7min finished\n"
     ]
    },
    {
     "name": "stdout",
     "output_type": "stream",
     "text": [
      "He terminado a las:  2019-09-21 19:47:26.167085\n",
      "Me ha costado:  1:12:47.172892\n"
     ]
    }
   ],
   "source": [
    "hora_inicio = datetime.now()\n",
    "\n",
    "print(\"He empezado a las: \",hora_inicio)\n",
    "\n",
    "grid_search.fit(small_split['train'][0], small_split['train'][1])\n",
    "\n",
    "hora_fin = datetime.now()\n",
    "\n",
    "tiempo_train = hora_fin - hora_inicio\n",
    "\n",
    "print(\"He terminado a las: \",hora_fin)\n",
    "print(\"Me ha costado: \", tiempo_train)\n",
    "\n",
    "best_parameters = grid_search.best_estimator_.get_params()"
   ]
  },
  {
   "cell_type": "code",
   "execution_count": 146,
   "metadata": {},
   "outputs": [
    {
     "name": "stdout",
     "output_type": "stream",
     "text": [
      "best mean cross-validation score: 0.666\n",
      "best parameters: {'svm__C': 1.0, 'svm__gamma': 0.03162277660168379, 'vect__analyzer': 'word', 'vect__max_df': 0.5, 'vect__ngram_range': (1, 2)}\n"
     ]
    }
   ],
   "source": [
    "print(\"best mean cross-validation score: {:.3f}\".format(grid_search.best_score_))\n",
    "print(\"best parameters: {}\".format(grid_search.best_params_))"
   ]
  },
  {
   "cell_type": "code",
   "execution_count": 149,
   "metadata": {},
   "outputs": [],
   "source": [
    "best_parameters = grid_search.best_estimator_.get_params()"
   ]
  },
  {
   "cell_type": "code",
   "execution_count": 150,
   "metadata": {},
   "outputs": [
    {
     "name": "stdout",
     "output_type": "stream",
     "text": [
      "\tsvm__C: 1.0\n",
      "\tsvm__gamma: 0.03162277660168379\n",
      "\tvect__analyzer: 'word'\n",
      "\tvect__max_df: 0.5\n",
      "\tvect__ngram_range: (1, 2)\n",
      "Best score: 0.666\n"
     ]
    }
   ],
   "source": [
    "best_parameters = grid_search.best_estimator_.get_params()\n",
    "for param_name in sorted(parameters.keys()):\n",
    "    print(\"\\t%s: %r\" % (param_name, best_parameters[param_name]))\n",
    "print(\"Best score: %0.3f\" % grid_search.best_score_)"
   ]
  },
  {
   "cell_type": "code",
   "execution_count": 151,
   "metadata": {},
   "outputs": [],
   "source": [
    "train_score = grid_search.best_score_"
   ]
  },
  {
   "cell_type": "code",
   "execution_count": 152,
   "metadata": {},
   "outputs": [
    {
     "name": "stdout",
     "output_type": "stream",
     "text": [
      "TEST SCORE: 0.685\n"
     ]
    }
   ],
   "source": [
    "pipeline.set_params(**best_parameters)\n",
    "predictions = pipeline.score(small_split['test'][0], small_split['test'][1])\n",
    "print('TEST SCORE: {}'.format(predictions))\n",
    "test_score = predictions"
   ]
  },
  {
   "cell_type": "code",
   "execution_count": 153,
   "metadata": {},
   "outputs": [],
   "source": [
    "predicciones_para_confmat = pipeline.predict(small_split['test'][0])"
   ]
  },
  {
   "cell_type": "code",
   "execution_count": 154,
   "metadata": {},
   "outputs": [
    {
     "name": "stdout",
     "output_type": "stream",
     "text": [
      "ACC:  0.685\n",
      "SEN:  0.9132231404958677\n",
      "ESP:  0.3889739663093415\n",
      "PPV:  0.6597014925373135\n",
      "FSC:  0.7660311958405546\n"
     ]
    },
    {
     "data": {
      "image/png": "[encoded data removed]",
      "text/plain": [
       "<Figure size 432x288 with 1 Axes>"
      ]
     },
     "metadata": {
      "needs_background": "light"
     },
     "output_type": "display_data"
    }
   ],
   "source": [
    "confmat = confusion_matrix(small_split['test'][1], predicciones_para_confmat)\n",
    "metricas = calcula_metricas(confmat)"
   ]
  },
  {
   "cell_type": "code",
   "execution_count": 155,
   "metadata": {},
   "outputs": [
    {
     "data": {
      "text/html": [
       "<div>\n",
       "<style scoped>\n",
       "    .dataframe tbody tr th:only-of-type {\n",
       "        vertical-align: middle;\n",
       "    }\n",
       "\n",
       "    .dataframe tbody tr th {\n",
       "        vertical-align: top;\n",
       "    }\n",
       "\n",
       "    .dataframe thead th {\n",
       "        text-align: right;\n",
       "    }\n",
       "</style>\n",
       "<table border=\"1\" class=\"dataframe\">\n",
       "  <thead>\n",
       "    <tr style=\"text-align: right;\">\n",
       "      <th></th>\n",
       "      <th>Modelo</th>\n",
       "      <th>parametros-optimos</th>\n",
       "      <th>train</th>\n",
       "      <th>test</th>\n",
       "      <th>confusion_matrix</th>\n",
       "      <th>acc_sen_esp_ppv_fsc</th>\n",
       "    </tr>\n",
       "  </thead>\n",
       "  <tbody>\n",
       "    <tr>\n",
       "      <th>0</th>\n",
       "      <td>SVM - Lemma - Small Dataset</td>\n",
       "      <td>{'svm__C': 1.0, 'svm__gamma': 0.03162277660168...</td>\n",
       "      <td>0.665524</td>\n",
       "      <td>0.685000</td>\n",
       "      <td>[[508, 798], [147, 1547]]</td>\n",
       "      <td>[0.685, 0.9132231404958677, 0.3889739663093415...</td>\n",
       "    </tr>\n",
       "    <tr>\n",
       "      <th>1</th>\n",
       "      <td>Boosted Tree - Lemma - Small Dataset</td>\n",
       "      <td>{'boosted__learning_rate': 0.1, 'boosted__max_...</td>\n",
       "      <td>0.686955</td>\n",
       "      <td>0.701333</td>\n",
       "      <td>[[692, 614], [282, 1412]]</td>\n",
       "      <td>[0.7013333333333334, 0.833530106257379, 0.5298...</td>\n",
       "    </tr>\n",
       "    <tr>\n",
       "      <th>2</th>\n",
       "      <td>Random Forestyes - Lemma - Small Dataset</td>\n",
       "      <td>{'forest__max_depth': 28, 'vect__analyzer': 'c...</td>\n",
       "      <td>0.660237</td>\n",
       "      <td>0.664667</td>\n",
       "      <td>[[562, 744], [262, 1432]]</td>\n",
       "      <td>[0.6646666666666666, 0.8453364817001181, 0.430...</td>\n",
       "    </tr>\n",
       "    <tr>\n",
       "      <th>3</th>\n",
       "      <td>Decision Tree - Lemma - Small Dataset</td>\n",
       "      <td>{'tree__max_depth': 19, 'vect__analyzer': 'wor...</td>\n",
       "      <td>0.650236</td>\n",
       "      <td>0.647333</td>\n",
       "      <td>[[362, 944], [114, 1580]]</td>\n",
       "      <td>[0.6473333333333333, 0.9327036599763873, 0.277...</td>\n",
       "    </tr>\n",
       "    <tr>\n",
       "      <th>4</th>\n",
       "      <td>Bayes - Lemma - Small Dataset</td>\n",
       "      <td>{'vect__analyzer': 'word', 'vect__max_df': 0.5...</td>\n",
       "      <td>0.686670</td>\n",
       "      <td>0.690333</td>\n",
       "      <td>[[704, 602], [327, 1367]]</td>\n",
       "      <td>[0.6903333333333334, 0.806965761511216, 0.5390...</td>\n",
       "    </tr>\n",
       "    <tr>\n",
       "      <th>5</th>\n",
       "      <td>SVM - Small Dataset</td>\n",
       "      <td>{'svm__C': 5.994842503189409, 'svm__gamma': 0....</td>\n",
       "      <td>0.716000</td>\n",
       "      <td>0.733000</td>\n",
       "      <td>[[ 799  507]\\n [ 294 1400]]</td>\n",
       "      <td>[0.733, 0.8264462809917356, 0.611791730474732,...</td>\n",
       "    </tr>\n",
       "    <tr>\n",
       "      <th>6</th>\n",
       "      <td>Bayes - Small Dataset</td>\n",
       "      <td>{'vect__analyzer': 'char', 'vect__max_df': 1.0...</td>\n",
       "      <td>0.717000</td>\n",
       "      <td>0.722333</td>\n",
       "      <td>[[ 909  397]\\n [ 436 1258]]</td>\n",
       "      <td>[0.7223333333333334, 0.7426210153482881, 0.696...</td>\n",
       "    </tr>\n",
       "    <tr>\n",
       "      <th>7</th>\n",
       "      <td>Decision Tree - Small Dataset</td>\n",
       "      <td>{'tree__max_depth': 19, 'vect__analyzer': 'wor...</td>\n",
       "      <td>0.653286</td>\n",
       "      <td>0.649667</td>\n",
       "      <td>[[ 479  827]\\n [ 224 1470]]</td>\n",
       "      <td>[0.6496666666666666, 0.8677685950413223, 0.366...</td>\n",
       "    </tr>\n",
       "    <tr>\n",
       "      <th>8</th>\n",
       "      <td>Random Forestyes - Small Dataset</td>\n",
       "      <td>{'forest__max_depth': 23, 'vect__analyzer': 'c...</td>\n",
       "      <td>0.668857</td>\n",
       "      <td>0.665000</td>\n",
       "      <td>[[ 630  676]\\n [ 329 1365]]</td>\n",
       "      <td>[0.665, 0.8057851239669421, 0.4823889739663093...</td>\n",
       "    </tr>\n",
       "    <tr>\n",
       "      <th>9</th>\n",
       "      <td>Boosted Tree - Small Dataset</td>\n",
       "      <td>{'boosted__learning_rate': 0.1, 'boosted__max_...</td>\n",
       "      <td>0.714857</td>\n",
       "      <td>0.728667</td>\n",
       "      <td>[[ 784  522]\\n [ 292 1402]]</td>\n",
       "      <td>[0.7286666666666667, 0.8276269185360094, 0.600...</td>\n",
       "    </tr>\n",
       "  </tbody>\n",
       "</table>\n",
       "</div>"
      ],
      "text/plain": [
       "                                     Modelo  \\\n",
       "0               SVM - Lemma - Small Dataset   \n",
       "1      Boosted Tree - Lemma - Small Dataset   \n",
       "2  Random Forestyes - Lemma - Small Dataset   \n",
       "3     Decision Tree - Lemma - Small Dataset   \n",
       "4             Bayes - Lemma - Small Dataset   \n",
       "5                       SVM - Small Dataset   \n",
       "6                     Bayes - Small Dataset   \n",
       "7             Decision Tree - Small Dataset   \n",
       "8          Random Forestyes - Small Dataset   \n",
       "9              Boosted Tree - Small Dataset   \n",
       "\n",
       "                                  parametros-optimos     train      test  \\\n",
       "0  {'svm__C': 1.0, 'svm__gamma': 0.03162277660168...  0.665524  0.685000   \n",
       "1  {'boosted__learning_rate': 0.1, 'boosted__max_...  0.686955  0.701333   \n",
       "2  {'forest__max_depth': 28, 'vect__analyzer': 'c...  0.660237  0.664667   \n",
       "3  {'tree__max_depth': 19, 'vect__analyzer': 'wor...  0.650236  0.647333   \n",
       "4  {'vect__analyzer': 'word', 'vect__max_df': 0.5...  0.686670  0.690333   \n",
       "5  {'svm__C': 5.994842503189409, 'svm__gamma': 0....  0.716000  0.733000   \n",
       "6  {'vect__analyzer': 'char', 'vect__max_df': 1.0...  0.717000  0.722333   \n",
       "7  {'tree__max_depth': 19, 'vect__analyzer': 'wor...  0.653286  0.649667   \n",
       "8  {'forest__max_depth': 23, 'vect__analyzer': 'c...  0.668857  0.665000   \n",
       "9  {'boosted__learning_rate': 0.1, 'boosted__max_...  0.714857  0.728667   \n",
       "\n",
       "              confusion_matrix  \\\n",
       "0    [[508, 798], [147, 1547]]   \n",
       "1    [[692, 614], [282, 1412]]   \n",
       "2    [[562, 744], [262, 1432]]   \n",
       "3    [[362, 944], [114, 1580]]   \n",
       "4    [[704, 602], [327, 1367]]   \n",
       "5  [[ 799  507]\\n [ 294 1400]]   \n",
       "6  [[ 909  397]\\n [ 436 1258]]   \n",
       "7  [[ 479  827]\\n [ 224 1470]]   \n",
       "8  [[ 630  676]\\n [ 329 1365]]   \n",
       "9  [[ 784  522]\\n [ 292 1402]]   \n",
       "\n",
       "                                 acc_sen_esp_ppv_fsc  \n",
       "0  [0.685, 0.9132231404958677, 0.3889739663093415...  \n",
       "1  [0.7013333333333334, 0.833530106257379, 0.5298...  \n",
       "2  [0.6646666666666666, 0.8453364817001181, 0.430...  \n",
       "3  [0.6473333333333333, 0.9327036599763873, 0.277...  \n",
       "4  [0.6903333333333334, 0.806965761511216, 0.5390...  \n",
       "5  [0.733, 0.8264462809917356, 0.611791730474732,...  \n",
       "6  [0.7223333333333334, 0.7426210153482881, 0.696...  \n",
       "7  [0.6496666666666666, 0.8677685950413223, 0.366...  \n",
       "8  [0.665, 0.8057851239669421, 0.4823889739663093...  \n",
       "9  [0.7286666666666667, 0.8276269185360094, 0.600...  "
      ]
     },
     "execution_count": 155,
     "metadata": {},
     "output_type": "execute_result"
    }
   ],
   "source": [
    "resultado = ['SVM - Lemma - Small Dataset', grid_search.best_params_, train_score, test_score,\n",
    "             confmat, metricas]\n",
    "\n",
    "add_row(resultadosModelo, resultado)"
   ]
  },
  {
   "cell_type": "code",
   "execution_count": null,
   "metadata": {},
   "outputs": [],
   "source": []
  },
  {
   "cell_type": "code",
   "execution_count": null,
   "metadata": {},
   "outputs": [],
   "source": []
  },
  {
   "cell_type": "code",
   "execution_count": null,
   "metadata": {},
   "outputs": [],
   "source": [
    "# Decision Tree"
   ]
  },
  {
   "cell_type": "code",
   "execution_count": 109,
   "metadata": {},
   "outputs": [],
   "source": [
    "from sklearn.tree import DecisionTreeClassifier\n",
    "from sklearn import tree"
   ]
  },
  {
   "cell_type": "code",
   "execution_count": 110,
   "metadata": {},
   "outputs": [],
   "source": [
    "pipeline = Pipeline([\n",
    "    ('vect', CountVectorizer()),\n",
    "    ('tree', DecisionTreeClassifier()), #Decission Tree\n",
    "])"
   ]
  },
  {
   "cell_type": "code",
   "execution_count": 111,
   "metadata": {},
   "outputs": [],
   "source": [
    "parameters = {\n",
    "    'vect__max_df': (0.5, 0.75, 1.0),\n",
    "    'vect__ngram_range': ((1, 2), (1, 3), (2, 3), (1,4)),  #ngrams to test\n",
    "    'vect__analyzer': ('word', 'char', 'char_wb'),\n",
    "    'vect__stop_words': (['english',None]),\n",
    "    'tree__max_depth': range(1,20)\n",
    "    }"
   ]
  },
  {
   "cell_type": "code",
   "execution_count": 112,
   "metadata": {},
   "outputs": [],
   "source": [
    "grid_search = GridSearchCV(pipeline, parameters, n_jobs=-1, verbose=1, cv=3)"
   ]
  },
  {
   "cell_type": "code",
   "execution_count": 113,
   "metadata": {},
   "outputs": [
    {
     "name": "stdout",
     "output_type": "stream",
     "text": [
      "Fitting 3 folds for each of 1368 candidates, totalling 4104 fits\n"
     ]
    },
    {
     "name": "stderr",
     "output_type": "stream",
     "text": [
      "[Parallel(n_jobs=-1)]: Using backend LokyBackend with 8 concurrent workers.\n",
      "[Parallel(n_jobs=-1)]: Done  34 tasks      | elapsed:    2.4s\n",
      "[Parallel(n_jobs=-1)]: Done 184 tasks      | elapsed:   21.7s\n",
      "[Parallel(n_jobs=-1)]: Done 434 tasks      | elapsed:   54.9s\n",
      "[Parallel(n_jobs=-1)]: Done 784 tasks      | elapsed:  1.6min\n",
      "[Parallel(n_jobs=-1)]: Done 1234 tasks      | elapsed:  2.6min\n",
      "[Parallel(n_jobs=-1)]: Done 1784 tasks      | elapsed:  3.9min\n",
      "[Parallel(n_jobs=-1)]: Done 2434 tasks      | elapsed:  5.5min\n",
      "[Parallel(n_jobs=-1)]: Done 3184 tasks      | elapsed:  7.4min\n",
      "[Parallel(n_jobs=-1)]: Done 4034 tasks      | elapsed:  9.7min\n",
      "[Parallel(n_jobs=-1)]: Done 4104 out of 4104 | elapsed: 10.0min finished\n"
     ]
    },
    {
     "name": "stdout",
     "output_type": "stream",
     "text": [
      "\ttree__max_depth: 19\n",
      "\tvect__analyzer: 'word'\n",
      "\tvect__max_df: 0.5\n",
      "\tvect__ngram_range: (1, 3)\n",
      "\tvect__stop_words: None\n",
      "Best score: 0.650\n"
     ]
    }
   ],
   "source": [
    "grid_search.fit(small_split['train'][0], small_split['train'][1])\n",
    "best_parameters = grid_search.best_estimator_.get_params()\n",
    "for param_name in sorted(parameters.keys()):\n",
    "    print(\"\\t%s: %r\" % (param_name, best_parameters[param_name]))\n",
    "print(\"Best score: %0.3f\" % grid_search.best_score_)"
   ]
  },
  {
   "cell_type": "code",
   "execution_count": 114,
   "metadata": {},
   "outputs": [],
   "source": [
    "train_score = grid_search.best_score_"
   ]
  },
  {
   "cell_type": "code",
   "execution_count": 115,
   "metadata": {},
   "outputs": [
    {
     "name": "stdout",
     "output_type": "stream",
     "text": [
      "TEST SCORE: 0.6473333333333333\n"
     ]
    }
   ],
   "source": [
    "pipeline.set_params(**best_parameters)\n",
    "predictions = pipeline.score(small_split['test'][0], small_split['test'][1])\n",
    "print('TEST SCORE: {}'.format(predictions))\n",
    "test_score = predictions"
   ]
  },
  {
   "cell_type": "code",
   "execution_count": 116,
   "metadata": {},
   "outputs": [],
   "source": [
    "predicciones_para_confmat = pipeline.predict(small_split['test'][0])"
   ]
  },
  {
   "cell_type": "code",
   "execution_count": 117,
   "metadata": {},
   "outputs": [
    {
     "name": "stdout",
     "output_type": "stream",
     "text": [
      "ACC:  0.6473333333333333\n",
      "SEN:  0.9327036599763873\n",
      "ESP:  0.2771822358346095\n",
      "PPV:  0.6259904912836767\n",
      "FSC:  0.7491702228544334\n"
     ]
    },
    {
     "data": {
      "image/png": "[encoded data removed]",
      "text/plain": [
       "<Figure size 432x288 with 1 Axes>"
      ]
     },
     "metadata": {
      "needs_background": "light"
     },
     "output_type": "display_data"
    }
   ],
   "source": [
    "confmat = confusion_matrix(small_split['test'][1], predicciones_para_confmat)\n",
    "metricas = calcula_metricas(confmat)"
   ]
  },
  {
   "cell_type": "code",
   "execution_count": 118,
   "metadata": {},
   "outputs": [
    {
     "data": {
      "text/html": [
       "<div>\n",
       "<style scoped>\n",
       "    .dataframe tbody tr th:only-of-type {\n",
       "        vertical-align: middle;\n",
       "    }\n",
       "\n",
       "    .dataframe tbody tr th {\n",
       "        vertical-align: top;\n",
       "    }\n",
       "\n",
       "    .dataframe thead th {\n",
       "        text-align: right;\n",
       "    }\n",
       "</style>\n",
       "<table border=\"1\" class=\"dataframe\">\n",
       "  <thead>\n",
       "    <tr style=\"text-align: right;\">\n",
       "      <th></th>\n",
       "      <th>Modelo</th>\n",
       "      <th>parametros-optimos</th>\n",
       "      <th>train</th>\n",
       "      <th>test</th>\n",
       "      <th>confusion_matrix</th>\n",
       "      <th>acc_sen_esp_ppv_fsc</th>\n",
       "    </tr>\n",
       "  </thead>\n",
       "  <tbody>\n",
       "    <tr>\n",
       "      <th>0</th>\n",
       "      <td>Decision Tree - Lemma - Small Dataset</td>\n",
       "      <td>{'tree__max_depth': 19, 'vect__analyzer': 'wor...</td>\n",
       "      <td>0.650236</td>\n",
       "      <td>0.647333</td>\n",
       "      <td>[[362, 944], [114, 1580]]</td>\n",
       "      <td>[0.6473333333333333, 0.9327036599763873, 0.277...</td>\n",
       "    </tr>\n",
       "    <tr>\n",
       "      <th>1</th>\n",
       "      <td>Bayes - Lemma - Small Dataset</td>\n",
       "      <td>{'vect__analyzer': 'word', 'vect__max_df': 0.5...</td>\n",
       "      <td>0.686670</td>\n",
       "      <td>0.690333</td>\n",
       "      <td>[[704, 602], [327, 1367]]</td>\n",
       "      <td>[0.6903333333333334, 0.806965761511216, 0.5390...</td>\n",
       "    </tr>\n",
       "    <tr>\n",
       "      <th>2</th>\n",
       "      <td>SVM - Small Dataset</td>\n",
       "      <td>{'svm__C': 5.994842503189409, 'svm__gamma': 0....</td>\n",
       "      <td>0.716000</td>\n",
       "      <td>0.733000</td>\n",
       "      <td>[[ 799  507]\\n [ 294 1400]]</td>\n",
       "      <td>[0.733, 0.8264462809917356, 0.611791730474732,...</td>\n",
       "    </tr>\n",
       "    <tr>\n",
       "      <th>3</th>\n",
       "      <td>Bayes - Small Dataset</td>\n",
       "      <td>{'vect__analyzer': 'char', 'vect__max_df': 1.0...</td>\n",
       "      <td>0.717000</td>\n",
       "      <td>0.722333</td>\n",
       "      <td>[[ 909  397]\\n [ 436 1258]]</td>\n",
       "      <td>[0.7223333333333334, 0.7426210153482881, 0.696...</td>\n",
       "    </tr>\n",
       "    <tr>\n",
       "      <th>4</th>\n",
       "      <td>Decision Tree - Small Dataset</td>\n",
       "      <td>{'tree__max_depth': 19, 'vect__analyzer': 'wor...</td>\n",
       "      <td>0.653286</td>\n",
       "      <td>0.649667</td>\n",
       "      <td>[[ 479  827]\\n [ 224 1470]]</td>\n",
       "      <td>[0.6496666666666666, 0.8677685950413223, 0.366...</td>\n",
       "    </tr>\n",
       "    <tr>\n",
       "      <th>5</th>\n",
       "      <td>Random Forestyes - Small Dataset</td>\n",
       "      <td>{'forest__max_depth': 23, 'vect__analyzer': 'c...</td>\n",
       "      <td>0.668857</td>\n",
       "      <td>0.665000</td>\n",
       "      <td>[[ 630  676]\\n [ 329 1365]]</td>\n",
       "      <td>[0.665, 0.8057851239669421, 0.4823889739663093...</td>\n",
       "    </tr>\n",
       "    <tr>\n",
       "      <th>6</th>\n",
       "      <td>Boosted Tree - Small Dataset</td>\n",
       "      <td>{'boosted__learning_rate': 0.1, 'boosted__max_...</td>\n",
       "      <td>0.714857</td>\n",
       "      <td>0.728667</td>\n",
       "      <td>[[ 784  522]\\n [ 292 1402]]</td>\n",
       "      <td>[0.7286666666666667, 0.8276269185360094, 0.600...</td>\n",
       "    </tr>\n",
       "  </tbody>\n",
       "</table>\n",
       "</div>"
      ],
      "text/plain": [
       "                                  Modelo  \\\n",
       "0  Decision Tree - Lemma - Small Dataset   \n",
       "1          Bayes - Lemma - Small Dataset   \n",
       "2                    SVM - Small Dataset   \n",
       "3                  Bayes - Small Dataset   \n",
       "4          Decision Tree - Small Dataset   \n",
       "5       Random Forestyes - Small Dataset   \n",
       "6           Boosted Tree - Small Dataset   \n",
       "\n",
       "                                  parametros-optimos     train      test  \\\n",
       "0  {'tree__max_depth': 19, 'vect__analyzer': 'wor...  0.650236  0.647333   \n",
       "1  {'vect__analyzer': 'word', 'vect__max_df': 0.5...  0.686670  0.690333   \n",
       "2  {'svm__C': 5.994842503189409, 'svm__gamma': 0....  0.716000  0.733000   \n",
       "3  {'vect__analyzer': 'char', 'vect__max_df': 1.0...  0.717000  0.722333   \n",
       "4  {'tree__max_depth': 19, 'vect__analyzer': 'wor...  0.653286  0.649667   \n",
       "5  {'forest__max_depth': 23, 'vect__analyzer': 'c...  0.668857  0.665000   \n",
       "6  {'boosted__learning_rate': 0.1, 'boosted__max_...  0.714857  0.728667   \n",
       "\n",
       "              confusion_matrix  \\\n",
       "0    [[362, 944], [114, 1580]]   \n",
       "1    [[704, 602], [327, 1367]]   \n",
       "2  [[ 799  507]\\n [ 294 1400]]   \n",
       "3  [[ 909  397]\\n [ 436 1258]]   \n",
       "4  [[ 479  827]\\n [ 224 1470]]   \n",
       "5  [[ 630  676]\\n [ 329 1365]]   \n",
       "6  [[ 784  522]\\n [ 292 1402]]   \n",
       "\n",
       "                                 acc_sen_esp_ppv_fsc  \n",
       "0  [0.6473333333333333, 0.9327036599763873, 0.277...  \n",
       "1  [0.6903333333333334, 0.806965761511216, 0.5390...  \n",
       "2  [0.733, 0.8264462809917356, 0.611791730474732,...  \n",
       "3  [0.7223333333333334, 0.7426210153482881, 0.696...  \n",
       "4  [0.6496666666666666, 0.8677685950413223, 0.366...  \n",
       "5  [0.665, 0.8057851239669421, 0.4823889739663093...  \n",
       "6  [0.7286666666666667, 0.8276269185360094, 0.600...  "
      ]
     },
     "execution_count": 118,
     "metadata": {},
     "output_type": "execute_result"
    }
   ],
   "source": [
    "resultado = ['Decision Tree - Lemma - Small Dataset', grid_search.best_params_, train_score, test_score,\n",
    "             confmat, metricas]\n",
    "\n",
    "add_row(resultadosModelo, resultado)"
   ]
  },
  {
   "cell_type": "code",
   "execution_count": null,
   "metadata": {},
   "outputs": [],
   "source": []
  },
  {
   "cell_type": "code",
   "execution_count": null,
   "metadata": {},
   "outputs": [],
   "source": [
    "# random forest"
   ]
  },
  {
   "cell_type": "code",
   "execution_count": 119,
   "metadata": {},
   "outputs": [],
   "source": [
    "from sklearn.ensemble import RandomForestClassifier"
   ]
  },
  {
   "cell_type": "code",
   "execution_count": 120,
   "metadata": {},
   "outputs": [],
   "source": [
    "pipeline = Pipeline([\n",
    "    ('vect', CountVectorizer()),\n",
    "    ('forest', RandomForestClassifier()), #Random Forest\n",
    "])"
   ]
  },
  {
   "cell_type": "code",
   "execution_count": 121,
   "metadata": {},
   "outputs": [],
   "source": [
    "parameters = {\n",
    "    'vect__max_df': (0.5, 0.75, 1.0),\n",
    "    'vect__ngram_range': ((1, 2), (1, 3), (2, 3), (1,4)),  #ngrams to test\n",
    "    'vect__analyzer': ('word', 'char', 'char_wb'),\n",
    "    'vect__stop_words': (['english',None]),\n",
    "    'forest__max_depth': range(1,30)\n",
    "    }"
   ]
  },
  {
   "cell_type": "code",
   "execution_count": 122,
   "metadata": {},
   "outputs": [],
   "source": [
    "grid_search = GridSearchCV(pipeline, parameters, n_jobs=-1, verbose=1, cv=3)"
   ]
  },
  {
   "cell_type": "code",
   "execution_count": 123,
   "metadata": {},
   "outputs": [
    {
     "name": "stdout",
     "output_type": "stream",
     "text": [
      "Fitting 3 folds for each of 2088 candidates, totalling 6264 fits\n"
     ]
    },
    {
     "name": "stderr",
     "output_type": "stream",
     "text": [
      "[Parallel(n_jobs=-1)]: Using backend LokyBackend with 8 concurrent workers.\n",
      "[Parallel(n_jobs=-1)]: Done  34 tasks      | elapsed:    2.6s\n",
      "[Parallel(n_jobs=-1)]: Done 184 tasks      | elapsed:   21.2s\n",
      "[Parallel(n_jobs=-1)]: Done 434 tasks      | elapsed:   51.8s\n",
      "[Parallel(n_jobs=-1)]: Done 784 tasks      | elapsed:  1.5min\n",
      "[Parallel(n_jobs=-1)]: Done 1234 tasks      | elapsed:  2.4min\n",
      "[Parallel(n_jobs=-1)]: Done 1784 tasks      | elapsed:  3.6min\n",
      "[Parallel(n_jobs=-1)]: Done 2434 tasks      | elapsed:  4.9min\n",
      "[Parallel(n_jobs=-1)]: Done 3184 tasks      | elapsed:  6.6min\n",
      "[Parallel(n_jobs=-1)]: Done 4034 tasks      | elapsed:  8.4min\n",
      "[Parallel(n_jobs=-1)]: Done 4984 tasks      | elapsed: 10.6min\n",
      "[Parallel(n_jobs=-1)]: Done 6034 tasks      | elapsed: 13.0min\n",
      "[Parallel(n_jobs=-1)]: Done 6264 out of 6264 | elapsed: 13.5min finished\n"
     ]
    },
    {
     "name": "stdout",
     "output_type": "stream",
     "text": [
      "\tforest__max_depth: 28\n",
      "\tvect__analyzer: 'char_wb'\n",
      "\tvect__max_df: 0.5\n",
      "\tvect__ngram_range: (1, 4)\n",
      "\tvect__stop_words: None\n",
      "Best score: 0.660\n"
     ]
    },
    {
     "name": "stderr",
     "output_type": "stream",
     "text": [
      "/anaconda3/lib/python3.7/site-packages/sklearn/ensemble/forest.py:246: FutureWarning: The default value of n_estimators will change from 10 in version 0.20 to 100 in 0.22.\n",
      "  \"10 in version 0.20 to 100 in 0.22.\", FutureWarning)\n"
     ]
    }
   ],
   "source": [
    "grid_search.fit(small_split['train'][0], small_split['train'][1])\n",
    "best_parameters = grid_search.best_estimator_.get_params()\n",
    "for param_name in sorted(parameters.keys()):\n",
    "    print(\"\\t%s: %r\" % (param_name, best_parameters[param_name]))\n",
    "print(\"Best score: %0.3f\" % grid_search.best_score_)"
   ]
  },
  {
   "cell_type": "code",
   "execution_count": 124,
   "metadata": {},
   "outputs": [],
   "source": [
    "train_score = grid_search.best_score_"
   ]
  },
  {
   "cell_type": "code",
   "execution_count": 125,
   "metadata": {},
   "outputs": [
    {
     "name": "stdout",
     "output_type": "stream",
     "text": [
      "TEST SCORE: 0.6646666666666666\n"
     ]
    }
   ],
   "source": [
    "pipeline.set_params(**best_parameters)\n",
    "predictions = pipeline.score(small_split['test'][0], small_split['test'][1])\n",
    "print('TEST SCORE: {}'.format(predictions))\n",
    "test_score = predictions"
   ]
  },
  {
   "cell_type": "code",
   "execution_count": 126,
   "metadata": {},
   "outputs": [],
   "source": [
    "predicciones_para_confmat = pipeline.predict(small_split['test'][0])"
   ]
  },
  {
   "cell_type": "code",
   "execution_count": 127,
   "metadata": {},
   "outputs": [],
   "source": [
    "confmat = confusion_matrix(small_split['test'][1], predicciones_para_confmat)"
   ]
  },
  {
   "cell_type": "code",
   "execution_count": 128,
   "metadata": {},
   "outputs": [
    {
     "name": "stdout",
     "output_type": "stream",
     "text": [
      "ACC:  0.6646666666666666\n",
      "SEN:  0.8453364817001181\n",
      "ESP:  0.43032159264931086\n",
      "PPV:  0.6580882352941176\n",
      "FSC:  0.7400516795865633\n"
     ]
    },
    {
     "data": {
      "image/png": "[encoded data removed]",
      "text/plain": [
       "<Figure size 432x288 with 1 Axes>"
      ]
     },
     "metadata": {
      "needs_background": "light"
     },
     "output_type": "display_data"
    }
   ],
   "source": [
    "metricas = calcula_metricas(confmat)"
   ]
  },
  {
   "cell_type": "code",
   "execution_count": 129,
   "metadata": {},
   "outputs": [
    {
     "data": {
      "text/html": [
       "<div>\n",
       "<style scoped>\n",
       "    .dataframe tbody tr th:only-of-type {\n",
       "        vertical-align: middle;\n",
       "    }\n",
       "\n",
       "    .dataframe tbody tr th {\n",
       "        vertical-align: top;\n",
       "    }\n",
       "\n",
       "    .dataframe thead th {\n",
       "        text-align: right;\n",
       "    }\n",
       "</style>\n",
       "<table border=\"1\" class=\"dataframe\">\n",
       "  <thead>\n",
       "    <tr style=\"text-align: right;\">\n",
       "      <th></th>\n",
       "      <th>Modelo</th>\n",
       "      <th>parametros-optimos</th>\n",
       "      <th>train</th>\n",
       "      <th>test</th>\n",
       "      <th>confusion_matrix</th>\n",
       "      <th>acc_sen_esp_ppv_fsc</th>\n",
       "    </tr>\n",
       "  </thead>\n",
       "  <tbody>\n",
       "    <tr>\n",
       "      <th>0</th>\n",
       "      <td>Random Forestyes - Lemma - Small Dataset</td>\n",
       "      <td>{'forest__max_depth': 28, 'vect__analyzer': 'c...</td>\n",
       "      <td>0.660237</td>\n",
       "      <td>0.664667</td>\n",
       "      <td>[[562, 744], [262, 1432]]</td>\n",
       "      <td>[0.6646666666666666, 0.8453364817001181, 0.430...</td>\n",
       "    </tr>\n",
       "    <tr>\n",
       "      <th>1</th>\n",
       "      <td>Decision Tree - Lemma - Small Dataset</td>\n",
       "      <td>{'tree__max_depth': 19, 'vect__analyzer': 'wor...</td>\n",
       "      <td>0.650236</td>\n",
       "      <td>0.647333</td>\n",
       "      <td>[[362, 944], [114, 1580]]</td>\n",
       "      <td>[0.6473333333333333, 0.9327036599763873, 0.277...</td>\n",
       "    </tr>\n",
       "    <tr>\n",
       "      <th>2</th>\n",
       "      <td>Bayes - Lemma - Small Dataset</td>\n",
       "      <td>{'vect__analyzer': 'word', 'vect__max_df': 0.5...</td>\n",
       "      <td>0.686670</td>\n",
       "      <td>0.690333</td>\n",
       "      <td>[[704, 602], [327, 1367]]</td>\n",
       "      <td>[0.6903333333333334, 0.806965761511216, 0.5390...</td>\n",
       "    </tr>\n",
       "    <tr>\n",
       "      <th>3</th>\n",
       "      <td>SVM - Small Dataset</td>\n",
       "      <td>{'svm__C': 5.994842503189409, 'svm__gamma': 0....</td>\n",
       "      <td>0.716000</td>\n",
       "      <td>0.733000</td>\n",
       "      <td>[[ 799  507]\\n [ 294 1400]]</td>\n",
       "      <td>[0.733, 0.8264462809917356, 0.611791730474732,...</td>\n",
       "    </tr>\n",
       "    <tr>\n",
       "      <th>4</th>\n",
       "      <td>Bayes - Small Dataset</td>\n",
       "      <td>{'vect__analyzer': 'char', 'vect__max_df': 1.0...</td>\n",
       "      <td>0.717000</td>\n",
       "      <td>0.722333</td>\n",
       "      <td>[[ 909  397]\\n [ 436 1258]]</td>\n",
       "      <td>[0.7223333333333334, 0.7426210153482881, 0.696...</td>\n",
       "    </tr>\n",
       "    <tr>\n",
       "      <th>5</th>\n",
       "      <td>Decision Tree - Small Dataset</td>\n",
       "      <td>{'tree__max_depth': 19, 'vect__analyzer': 'wor...</td>\n",
       "      <td>0.653286</td>\n",
       "      <td>0.649667</td>\n",
       "      <td>[[ 479  827]\\n [ 224 1470]]</td>\n",
       "      <td>[0.6496666666666666, 0.8677685950413223, 0.366...</td>\n",
       "    </tr>\n",
       "    <tr>\n",
       "      <th>6</th>\n",
       "      <td>Random Forestyes - Small Dataset</td>\n",
       "      <td>{'forest__max_depth': 23, 'vect__analyzer': 'c...</td>\n",
       "      <td>0.668857</td>\n",
       "      <td>0.665000</td>\n",
       "      <td>[[ 630  676]\\n [ 329 1365]]</td>\n",
       "      <td>[0.665, 0.8057851239669421, 0.4823889739663093...</td>\n",
       "    </tr>\n",
       "    <tr>\n",
       "      <th>7</th>\n",
       "      <td>Boosted Tree - Small Dataset</td>\n",
       "      <td>{'boosted__learning_rate': 0.1, 'boosted__max_...</td>\n",
       "      <td>0.714857</td>\n",
       "      <td>0.728667</td>\n",
       "      <td>[[ 784  522]\\n [ 292 1402]]</td>\n",
       "      <td>[0.7286666666666667, 0.8276269185360094, 0.600...</td>\n",
       "    </tr>\n",
       "  </tbody>\n",
       "</table>\n",
       "</div>"
      ],
      "text/plain": [
       "                                     Modelo  \\\n",
       "0  Random Forestyes - Lemma - Small Dataset   \n",
       "1     Decision Tree - Lemma - Small Dataset   \n",
       "2             Bayes - Lemma - Small Dataset   \n",
       "3                       SVM - Small Dataset   \n",
       "4                     Bayes - Small Dataset   \n",
       "5             Decision Tree - Small Dataset   \n",
       "6          Random Forestyes - Small Dataset   \n",
       "7              Boosted Tree - Small Dataset   \n",
       "\n",
       "                                  parametros-optimos     train      test  \\\n",
       "0  {'forest__max_depth': 28, 'vect__analyzer': 'c...  0.660237  0.664667   \n",
       "1  {'tree__max_depth': 19, 'vect__analyzer': 'wor...  0.650236  0.647333   \n",
       "2  {'vect__analyzer': 'word', 'vect__max_df': 0.5...  0.686670  0.690333   \n",
       "3  {'svm__C': 5.994842503189409, 'svm__gamma': 0....  0.716000  0.733000   \n",
       "4  {'vect__analyzer': 'char', 'vect__max_df': 1.0...  0.717000  0.722333   \n",
       "5  {'tree__max_depth': 19, 'vect__analyzer': 'wor...  0.653286  0.649667   \n",
       "6  {'forest__max_depth': 23, 'vect__analyzer': 'c...  0.668857  0.665000   \n",
       "7  {'boosted__learning_rate': 0.1, 'boosted__max_...  0.714857  0.728667   \n",
       "\n",
       "              confusion_matrix  \\\n",
       "0    [[562, 744], [262, 1432]]   \n",
       "1    [[362, 944], [114, 1580]]   \n",
       "2    [[704, 602], [327, 1367]]   \n",
       "3  [[ 799  507]\\n [ 294 1400]]   \n",
       "4  [[ 909  397]\\n [ 436 1258]]   \n",
       "5  [[ 479  827]\\n [ 224 1470]]   \n",
       "6  [[ 630  676]\\n [ 329 1365]]   \n",
       "7  [[ 784  522]\\n [ 292 1402]]   \n",
       "\n",
       "                                 acc_sen_esp_ppv_fsc  \n",
       "0  [0.6646666666666666, 0.8453364817001181, 0.430...  \n",
       "1  [0.6473333333333333, 0.9327036599763873, 0.277...  \n",
       "2  [0.6903333333333334, 0.806965761511216, 0.5390...  \n",
       "3  [0.733, 0.8264462809917356, 0.611791730474732,...  \n",
       "4  [0.7223333333333334, 0.7426210153482881, 0.696...  \n",
       "5  [0.6496666666666666, 0.8677685950413223, 0.366...  \n",
       "6  [0.665, 0.8057851239669421, 0.4823889739663093...  \n",
       "7  [0.7286666666666667, 0.8276269185360094, 0.600...  "
      ]
     },
     "execution_count": 129,
     "metadata": {},
     "output_type": "execute_result"
    }
   ],
   "source": [
    "resultado = ['Random Forestyes - Lemma - Small Dataset', grid_search.best_params_, train_score, test_score,\n",
    "             confmat, metricas]\n",
    "\n",
    "add_row(resultadosModelo, resultado)"
   ]
  },
  {
   "cell_type": "code",
   "execution_count": 130,
   "metadata": {},
   "outputs": [],
   "source": [
    "resultadosModelo.to_csv(RESULT_FILE)\n",
    "                       "
   ]
  },
  {
   "cell_type": "code",
   "execution_count": null,
   "metadata": {},
   "outputs": [],
   "source": [
    "# boosted tree"
   ]
  },
  {
   "cell_type": "code",
   "execution_count": 131,
   "metadata": {},
   "outputs": [],
   "source": [
    "from sklearn.ensemble import GradientBoostingClassifier\n",
    "\n",
    "Niterations = [30, 300]\n",
    "learningRate = [0.1, 0.01]\n",
    "max_depth_tried = [7, 9]"
   ]
  },
  {
   "cell_type": "code",
   "execution_count": 132,
   "metadata": {},
   "outputs": [
    {
     "data": {
      "text/plain": [
       "dict_keys(['memory', 'steps', 'vect', 'boosted', 'vect__analyzer', 'vect__binary', 'vect__decode_error', 'vect__dtype', 'vect__encoding', 'vect__input', 'vect__lowercase', 'vect__max_df', 'vect__max_features', 'vect__min_df', 'vect__ngram_range', 'vect__preprocessor', 'vect__stop_words', 'vect__strip_accents', 'vect__token_pattern', 'vect__tokenizer', 'vect__vocabulary', 'boosted__criterion', 'boosted__init', 'boosted__learning_rate', 'boosted__loss', 'boosted__max_depth', 'boosted__max_features', 'boosted__max_leaf_nodes', 'boosted__min_impurity_decrease', 'boosted__min_impurity_split', 'boosted__min_samples_leaf', 'boosted__min_samples_split', 'boosted__min_weight_fraction_leaf', 'boosted__n_estimators', 'boosted__n_iter_no_change', 'boosted__presort', 'boosted__random_state', 'boosted__subsample', 'boosted__tol', 'boosted__validation_fraction', 'boosted__verbose', 'boosted__warm_start'])"
      ]
     },
     "execution_count": 132,
     "metadata": {},
     "output_type": "execute_result"
    }
   ],
   "source": [
    "pipeline = Pipeline([\n",
    "    ('vect', CountVectorizer()),\n",
    "    ('boosted', GradientBoostingClassifier()), #Gradient Boosting\n",
    "])\n",
    "pipeline.get_params().keys() # que parametros podemos tocar en el gridsearch!"
   ]
  },
  {
   "cell_type": "code",
   "execution_count": 133,
   "metadata": {},
   "outputs": [],
   "source": [
    "parameters = {\n",
    "    'vect__max_df': (0.5, 0.75, 1.0),\n",
    "    'vect__ngram_range': ((1, 2), (1, 3), (2, 3), (1,4)),  #ngrams to test\n",
    "    'vect__analyzer': ('word', 'char', 'char_wb'),\n",
    "    'vect__stop_words': (['english',None]),\n",
    "    'boosted__n_estimators': Niterations,\n",
    "    'boosted__learning_rate': learningRate,\n",
    "    'boosted__max_depth': max_depth_tried,\n",
    "    }"
   ]
  },
  {
   "cell_type": "code",
   "execution_count": 134,
   "metadata": {},
   "outputs": [],
   "source": [
    "grid_search = GridSearchCV(pipeline, parameters, n_jobs=-1, verbose=1, cv=3)"
   ]
  },
  {
   "cell_type": "code",
   "execution_count": 135,
   "metadata": {},
   "outputs": [
    {
     "name": "stdout",
     "output_type": "stream",
     "text": [
      "Fitting 3 folds for each of 576 candidates, totalling 1728 fits\n"
     ]
    },
    {
     "name": "stderr",
     "output_type": "stream",
     "text": [
      "[Parallel(n_jobs=-1)]: Using backend LokyBackend with 8 concurrent workers.\n",
      "[Parallel(n_jobs=-1)]: Done  34 tasks      | elapsed:   15.5s\n",
      "[Parallel(n_jobs=-1)]: Done 184 tasks      | elapsed:  1.7min\n",
      "[Parallel(n_jobs=-1)]: Done 434 tasks      | elapsed: 14.9min\n",
      "[Parallel(n_jobs=-1)]: Done 784 tasks      | elapsed: 28.8min\n",
      "[Parallel(n_jobs=-1)]: Done 1234 tasks      | elapsed: 49.0min\n",
      "[Parallel(n_jobs=-1)]: Done 1728 out of 1728 | elapsed: 81.3min finished\n"
     ]
    },
    {
     "name": "stdout",
     "output_type": "stream",
     "text": [
      "\tboosted__learning_rate: 0.1\n",
      "\tboosted__max_depth: 7\n",
      "\tboosted__n_estimators: 300\n",
      "\tvect__analyzer: 'char_wb'\n",
      "\tvect__max_df: 1.0\n",
      "\tvect__ngram_range: (1, 4)\n",
      "\tvect__stop_words: None\n",
      "Best score: 0.687\n"
     ]
    }
   ],
   "source": [
    "grid_search.fit(small_split['train'][0], small_split['train'][1])\n",
    "best_parameters = grid_search.best_estimator_.get_params()\n",
    "for param_name in sorted(parameters.keys()):\n",
    "    print(\"\\t%s: %r\" % (param_name, best_parameters[param_name]))\n",
    "print(\"Best score: %0.3f\" % grid_search.best_score_)"
   ]
  },
  {
   "cell_type": "code",
   "execution_count": 136,
   "metadata": {},
   "outputs": [],
   "source": [
    "train_score = grid_search.best_score_"
   ]
  },
  {
   "cell_type": "code",
   "execution_count": 137,
   "metadata": {},
   "outputs": [
    {
     "name": "stdout",
     "output_type": "stream",
     "text": [
      "TEST SCORE: 0.7013333333333334\n"
     ]
    }
   ],
   "source": [
    "pipeline.set_params(**best_parameters)\n",
    "predictions = pipeline.score(small_split['test'][0], small_split['test'][1])\n",
    "print('TEST SCORE: {}'.format(predictions))\n",
    "test_score = predictions"
   ]
  },
  {
   "cell_type": "code",
   "execution_count": 138,
   "metadata": {},
   "outputs": [],
   "source": [
    "predicciones_para_confmat = pipeline.predict(small_split['test'][0])"
   ]
  },
  {
   "cell_type": "code",
   "execution_count": 139,
   "metadata": {},
   "outputs": [
    {
     "name": "stdout",
     "output_type": "stream",
     "text": [
      "ACC:  0.7013333333333334\n",
      "SEN:  0.833530106257379\n",
      "ESP:  0.5298621745788668\n",
      "PPV:  0.6969397828232972\n",
      "FSC:  0.7591397849462366\n"
     ]
    },
    {
     "data": {
      "image/png": "[encoded data removed]",
      "text/plain": [
       "<Figure size 432x288 with 1 Axes>"
      ]
     },
     "metadata": {
      "needs_background": "light"
     },
     "output_type": "display_data"
    }
   ],
   "source": [
    "confmat = confusion_matrix(small_split['test'][1], predicciones_para_confmat)\n",
    "metricas = calcula_metricas(confmat)"
   ]
  },
  {
   "cell_type": "code",
   "execution_count": 140,
   "metadata": {},
   "outputs": [
    {
     "data": {
      "text/html": [
       "<div>\n",
       "<style scoped>\n",
       "    .dataframe tbody tr th:only-of-type {\n",
       "        vertical-align: middle;\n",
       "    }\n",
       "\n",
       "    .dataframe tbody tr th {\n",
       "        vertical-align: top;\n",
       "    }\n",
       "\n",
       "    .dataframe thead th {\n",
       "        text-align: right;\n",
       "    }\n",
       "</style>\n",
       "<table border=\"1\" class=\"dataframe\">\n",
       "  <thead>\n",
       "    <tr style=\"text-align: right;\">\n",
       "      <th></th>\n",
       "      <th>Modelo</th>\n",
       "      <th>parametros-optimos</th>\n",
       "      <th>train</th>\n",
       "      <th>test</th>\n",
       "      <th>confusion_matrix</th>\n",
       "      <th>acc_sen_esp_ppv_fsc</th>\n",
       "    </tr>\n",
       "  </thead>\n",
       "  <tbody>\n",
       "    <tr>\n",
       "      <th>0</th>\n",
       "      <td>Boosted Tree - Lemma - Small Dataset</td>\n",
       "      <td>{'boosted__learning_rate': 0.1, 'boosted__max_...</td>\n",
       "      <td>0.686955</td>\n",
       "      <td>0.701333</td>\n",
       "      <td>[[692, 614], [282, 1412]]</td>\n",
       "      <td>[0.7013333333333334, 0.833530106257379, 0.5298...</td>\n",
       "    </tr>\n",
       "    <tr>\n",
       "      <th>1</th>\n",
       "      <td>Random Forestyes - Lemma - Small Dataset</td>\n",
       "      <td>{'forest__max_depth': 28, 'vect__analyzer': 'c...</td>\n",
       "      <td>0.660237</td>\n",
       "      <td>0.664667</td>\n",
       "      <td>[[562, 744], [262, 1432]]</td>\n",
       "      <td>[0.6646666666666666, 0.8453364817001181, 0.430...</td>\n",
       "    </tr>\n",
       "    <tr>\n",
       "      <th>2</th>\n",
       "      <td>Decision Tree - Lemma - Small Dataset</td>\n",
       "      <td>{'tree__max_depth': 19, 'vect__analyzer': 'wor...</td>\n",
       "      <td>0.650236</td>\n",
       "      <td>0.647333</td>\n",
       "      <td>[[362, 944], [114, 1580]]</td>\n",
       "      <td>[0.6473333333333333, 0.9327036599763873, 0.277...</td>\n",
       "    </tr>\n",
       "    <tr>\n",
       "      <th>3</th>\n",
       "      <td>Bayes - Lemma - Small Dataset</td>\n",
       "      <td>{'vect__analyzer': 'word', 'vect__max_df': 0.5...</td>\n",
       "      <td>0.686670</td>\n",
       "      <td>0.690333</td>\n",
       "      <td>[[704, 602], [327, 1367]]</td>\n",
       "      <td>[0.6903333333333334, 0.806965761511216, 0.5390...</td>\n",
       "    </tr>\n",
       "    <tr>\n",
       "      <th>4</th>\n",
       "      <td>SVM - Small Dataset</td>\n",
       "      <td>{'svm__C': 5.994842503189409, 'svm__gamma': 0....</td>\n",
       "      <td>0.716000</td>\n",
       "      <td>0.733000</td>\n",
       "      <td>[[ 799  507]\\n [ 294 1400]]</td>\n",
       "      <td>[0.733, 0.8264462809917356, 0.611791730474732,...</td>\n",
       "    </tr>\n",
       "    <tr>\n",
       "      <th>5</th>\n",
       "      <td>Bayes - Small Dataset</td>\n",
       "      <td>{'vect__analyzer': 'char', 'vect__max_df': 1.0...</td>\n",
       "      <td>0.717000</td>\n",
       "      <td>0.722333</td>\n",
       "      <td>[[ 909  397]\\n [ 436 1258]]</td>\n",
       "      <td>[0.7223333333333334, 0.7426210153482881, 0.696...</td>\n",
       "    </tr>\n",
       "    <tr>\n",
       "      <th>6</th>\n",
       "      <td>Decision Tree - Small Dataset</td>\n",
       "      <td>{'tree__max_depth': 19, 'vect__analyzer': 'wor...</td>\n",
       "      <td>0.653286</td>\n",
       "      <td>0.649667</td>\n",
       "      <td>[[ 479  827]\\n [ 224 1470]]</td>\n",
       "      <td>[0.6496666666666666, 0.8677685950413223, 0.366...</td>\n",
       "    </tr>\n",
       "    <tr>\n",
       "      <th>7</th>\n",
       "      <td>Random Forestyes - Small Dataset</td>\n",
       "      <td>{'forest__max_depth': 23, 'vect__analyzer': 'c...</td>\n",
       "      <td>0.668857</td>\n",
       "      <td>0.665000</td>\n",
       "      <td>[[ 630  676]\\n [ 329 1365]]</td>\n",
       "      <td>[0.665, 0.8057851239669421, 0.4823889739663093...</td>\n",
       "    </tr>\n",
       "    <tr>\n",
       "      <th>8</th>\n",
       "      <td>Boosted Tree - Small Dataset</td>\n",
       "      <td>{'boosted__learning_rate': 0.1, 'boosted__max_...</td>\n",
       "      <td>0.714857</td>\n",
       "      <td>0.728667</td>\n",
       "      <td>[[ 784  522]\\n [ 292 1402]]</td>\n",
       "      <td>[0.7286666666666667, 0.8276269185360094, 0.600...</td>\n",
       "    </tr>\n",
       "  </tbody>\n",
       "</table>\n",
       "</div>"
      ],
      "text/plain": [
       "                                     Modelo  \\\n",
       "0      Boosted Tree - Lemma - Small Dataset   \n",
       "1  Random Forestyes - Lemma - Small Dataset   \n",
       "2     Decision Tree - Lemma - Small Dataset   \n",
       "3             Bayes - Lemma - Small Dataset   \n",
       "4                       SVM - Small Dataset   \n",
       "5                     Bayes - Small Dataset   \n",
       "6             Decision Tree - Small Dataset   \n",
       "7          Random Forestyes - Small Dataset   \n",
       "8              Boosted Tree - Small Dataset   \n",
       "\n",
       "                                  parametros-optimos     train      test  \\\n",
       "0  {'boosted__learning_rate': 0.1, 'boosted__max_...  0.686955  0.701333   \n",
       "1  {'forest__max_depth': 28, 'vect__analyzer': 'c...  0.660237  0.664667   \n",
       "2  {'tree__max_depth': 19, 'vect__analyzer': 'wor...  0.650236  0.647333   \n",
       "3  {'vect__analyzer': 'word', 'vect__max_df': 0.5...  0.686670  0.690333   \n",
       "4  {'svm__C': 5.994842503189409, 'svm__gamma': 0....  0.716000  0.733000   \n",
       "5  {'vect__analyzer': 'char', 'vect__max_df': 1.0...  0.717000  0.722333   \n",
       "6  {'tree__max_depth': 19, 'vect__analyzer': 'wor...  0.653286  0.649667   \n",
       "7  {'forest__max_depth': 23, 'vect__analyzer': 'c...  0.668857  0.665000   \n",
       "8  {'boosted__learning_rate': 0.1, 'boosted__max_...  0.714857  0.728667   \n",
       "\n",
       "              confusion_matrix  \\\n",
       "0    [[692, 614], [282, 1412]]   \n",
       "1    [[562, 744], [262, 1432]]   \n",
       "2    [[362, 944], [114, 1580]]   \n",
       "3    [[704, 602], [327, 1367]]   \n",
       "4  [[ 799  507]\\n [ 294 1400]]   \n",
       "5  [[ 909  397]\\n [ 436 1258]]   \n",
       "6  [[ 479  827]\\n [ 224 1470]]   \n",
       "7  [[ 630  676]\\n [ 329 1365]]   \n",
       "8  [[ 784  522]\\n [ 292 1402]]   \n",
       "\n",
       "                                 acc_sen_esp_ppv_fsc  \n",
       "0  [0.7013333333333334, 0.833530106257379, 0.5298...  \n",
       "1  [0.6646666666666666, 0.8453364817001181, 0.430...  \n",
       "2  [0.6473333333333333, 0.9327036599763873, 0.277...  \n",
       "3  [0.6903333333333334, 0.806965761511216, 0.5390...  \n",
       "4  [0.733, 0.8264462809917356, 0.611791730474732,...  \n",
       "5  [0.7223333333333334, 0.7426210153482881, 0.696...  \n",
       "6  [0.6496666666666666, 0.8677685950413223, 0.366...  \n",
       "7  [0.665, 0.8057851239669421, 0.4823889739663093...  \n",
       "8  [0.7286666666666667, 0.8276269185360094, 0.600...  "
      ]
     },
     "execution_count": 140,
     "metadata": {},
     "output_type": "execute_result"
    }
   ],
   "source": [
    "resultado = ['Boosted Tree - Lemma - Small Dataset', grid_search.best_params_, train_score, test_score,\n",
    "             confmat, metricas]\n",
    "\n",
    "add_row(resultadosModelo, resultado)"
   ]
  },
  {
   "cell_type": "code",
   "execution_count": 156,
   "metadata": {},
   "outputs": [],
   "source": [
    "resultadosModelo.to_csv(RESULT_FILE)"
   ]
  },
  {
   "cell_type": "markdown",
   "metadata": {},
   "source": [
    "### 1.1.6 Conclusiones"
   ]
  },
  {
   "cell_type": "markdown",
   "metadata": {},
   "source": [
    "Resulta destacable que, aunque el modelo que mejor se comporta es el de SVM, uno de los mejores modelos es el más sencillo, un Bayes. \n",
    "\n",
    "**¿Qué puede indicar?**\n",
    "\n",
    "Pues probalemente que al quitar datos el modelo que  podiamos generar se ha resentido. En la primera iteración, cuando trabajaba con el dataset completo, al usar Bayes he obtenido un `acc=0.77` mientras que con el dataset reducido ha sido de `0.72`.\n",
    "\n",
    "Tambien es cierto que es posible que la selección de caracteristicas en el vectorizador (y en el stemming) no esté optimizada para el problema, y se pudiese trabajar más en ella. Por poner un ejemplo, se ve que en el dataset hay caracteres extraños, procedentes de un [error de decodificación de utf-8](https://www.i18nqa.com/debug/utf8-debug.html). Esos errores pueden enmascarar caracteres unicodes tipo emojis que pueden tambien ser interesantes en la interpretacion de sentimientos. No es lo mismo usar un 😊que 🙁, y cuando he hecho la vectorización he ignorado todos esos datos. \n",
    "\n",
    "En cualquier caso aqui tienes una tabla resumen de todos los experimentos."
   ]
  },
  {
   "cell_type": "code",
   "execution_count": 160,
   "metadata": {},
   "outputs": [
    {
     "data": {
      "text/html": [
       "<div>\n",
       "<style scoped>\n",
       "    .dataframe tbody tr th:only-of-type {\n",
       "        vertical-align: middle;\n",
       "    }\n",
       "\n",
       "    .dataframe tbody tr th {\n",
       "        vertical-align: top;\n",
       "    }\n",
       "\n",
       "    .dataframe thead th {\n",
       "        text-align: right;\n",
       "    }\n",
       "</style>\n",
       "<table border=\"1\" class=\"dataframe\">\n",
       "  <thead>\n",
       "    <tr style=\"text-align: right;\">\n",
       "      <th></th>\n",
       "      <th>Modelo</th>\n",
       "      <th>parametros-optimos</th>\n",
       "      <th>train</th>\n",
       "      <th>test</th>\n",
       "      <th>confusion_matrix</th>\n",
       "      <th>acc_sen_esp_ppv_fsc</th>\n",
       "    </tr>\n",
       "  </thead>\n",
       "  <tbody>\n",
       "    <tr>\n",
       "      <th>5</th>\n",
       "      <td>SVM - Small Dataset</td>\n",
       "      <td>{'svm__C': 5.994842503189409, 'svm__gamma': 0....</td>\n",
       "      <td>0.716000</td>\n",
       "      <td>0.733000</td>\n",
       "      <td>[[ 799  507]\\n [ 294 1400]]</td>\n",
       "      <td>[0.733, 0.8264462809917356, 0.611791730474732,...</td>\n",
       "    </tr>\n",
       "    <tr>\n",
       "      <th>9</th>\n",
       "      <td>Boosted Tree - Small Dataset</td>\n",
       "      <td>{'boosted__learning_rate': 0.1, 'boosted__max_...</td>\n",
       "      <td>0.714857</td>\n",
       "      <td>0.728667</td>\n",
       "      <td>[[ 784  522]\\n [ 292 1402]]</td>\n",
       "      <td>[0.7286666666666667, 0.8276269185360094, 0.600...</td>\n",
       "    </tr>\n",
       "    <tr>\n",
       "      <th>6</th>\n",
       "      <td>Bayes - Small Dataset</td>\n",
       "      <td>{'vect__analyzer': 'char', 'vect__max_df': 1.0...</td>\n",
       "      <td>0.717000</td>\n",
       "      <td>0.722333</td>\n",
       "      <td>[[ 909  397]\\n [ 436 1258]]</td>\n",
       "      <td>[0.7223333333333334, 0.7426210153482881, 0.696...</td>\n",
       "    </tr>\n",
       "    <tr>\n",
       "      <th>1</th>\n",
       "      <td>Boosted Tree - Lemma - Small Dataset</td>\n",
       "      <td>{'boosted__learning_rate': 0.1, 'boosted__max_...</td>\n",
       "      <td>0.686955</td>\n",
       "      <td>0.701333</td>\n",
       "      <td>[[692, 614], [282, 1412]]</td>\n",
       "      <td>[0.7013333333333334, 0.833530106257379, 0.5298...</td>\n",
       "    </tr>\n",
       "    <tr>\n",
       "      <th>4</th>\n",
       "      <td>Bayes - Lemma - Small Dataset</td>\n",
       "      <td>{'vect__analyzer': 'word', 'vect__max_df': 0.5...</td>\n",
       "      <td>0.686670</td>\n",
       "      <td>0.690333</td>\n",
       "      <td>[[704, 602], [327, 1367]]</td>\n",
       "      <td>[0.6903333333333334, 0.806965761511216, 0.5390...</td>\n",
       "    </tr>\n",
       "    <tr>\n",
       "      <th>0</th>\n",
       "      <td>SVM - Lemma - Small Dataset</td>\n",
       "      <td>{'svm__C': 1.0, 'svm__gamma': 0.03162277660168...</td>\n",
       "      <td>0.665524</td>\n",
       "      <td>0.685000</td>\n",
       "      <td>[[508, 798], [147, 1547]]</td>\n",
       "      <td>[0.685, 0.9132231404958677, 0.3889739663093415...</td>\n",
       "    </tr>\n",
       "    <tr>\n",
       "      <th>8</th>\n",
       "      <td>Random Forestyes - Small Dataset</td>\n",
       "      <td>{'forest__max_depth': 23, 'vect__analyzer': 'c...</td>\n",
       "      <td>0.668857</td>\n",
       "      <td>0.665000</td>\n",
       "      <td>[[ 630  676]\\n [ 329 1365]]</td>\n",
       "      <td>[0.665, 0.8057851239669421, 0.4823889739663093...</td>\n",
       "    </tr>\n",
       "    <tr>\n",
       "      <th>2</th>\n",
       "      <td>Random Forestyes - Lemma - Small Dataset</td>\n",
       "      <td>{'forest__max_depth': 28, 'vect__analyzer': 'c...</td>\n",
       "      <td>0.660237</td>\n",
       "      <td>0.664667</td>\n",
       "      <td>[[562, 744], [262, 1432]]</td>\n",
       "      <td>[0.6646666666666666, 0.8453364817001181, 0.430...</td>\n",
       "    </tr>\n",
       "    <tr>\n",
       "      <th>7</th>\n",
       "      <td>Decision Tree - Small Dataset</td>\n",
       "      <td>{'tree__max_depth': 19, 'vect__analyzer': 'wor...</td>\n",
       "      <td>0.653286</td>\n",
       "      <td>0.649667</td>\n",
       "      <td>[[ 479  827]\\n [ 224 1470]]</td>\n",
       "      <td>[0.6496666666666666, 0.8677685950413223, 0.366...</td>\n",
       "    </tr>\n",
       "    <tr>\n",
       "      <th>3</th>\n",
       "      <td>Decision Tree - Lemma - Small Dataset</td>\n",
       "      <td>{'tree__max_depth': 19, 'vect__analyzer': 'wor...</td>\n",
       "      <td>0.650236</td>\n",
       "      <td>0.647333</td>\n",
       "      <td>[[362, 944], [114, 1580]]</td>\n",
       "      <td>[0.6473333333333333, 0.9327036599763873, 0.277...</td>\n",
       "    </tr>\n",
       "  </tbody>\n",
       "</table>\n",
       "</div>"
      ],
      "text/plain": [
       "                                     Modelo  \\\n",
       "5                       SVM - Small Dataset   \n",
       "9              Boosted Tree - Small Dataset   \n",
       "6                     Bayes - Small Dataset   \n",
       "1      Boosted Tree - Lemma - Small Dataset   \n",
       "4             Bayes - Lemma - Small Dataset   \n",
       "0               SVM - Lemma - Small Dataset   \n",
       "8          Random Forestyes - Small Dataset   \n",
       "2  Random Forestyes - Lemma - Small Dataset   \n",
       "7             Decision Tree - Small Dataset   \n",
       "3     Decision Tree - Lemma - Small Dataset   \n",
       "\n",
       "                                  parametros-optimos     train      test  \\\n",
       "5  {'svm__C': 5.994842503189409, 'svm__gamma': 0....  0.716000  0.733000   \n",
       "9  {'boosted__learning_rate': 0.1, 'boosted__max_...  0.714857  0.728667   \n",
       "6  {'vect__analyzer': 'char', 'vect__max_df': 1.0...  0.717000  0.722333   \n",
       "1  {'boosted__learning_rate': 0.1, 'boosted__max_...  0.686955  0.701333   \n",
       "4  {'vect__analyzer': 'word', 'vect__max_df': 0.5...  0.686670  0.690333   \n",
       "0  {'svm__C': 1.0, 'svm__gamma': 0.03162277660168...  0.665524  0.685000   \n",
       "8  {'forest__max_depth': 23, 'vect__analyzer': 'c...  0.668857  0.665000   \n",
       "2  {'forest__max_depth': 28, 'vect__analyzer': 'c...  0.660237  0.664667   \n",
       "7  {'tree__max_depth': 19, 'vect__analyzer': 'wor...  0.653286  0.649667   \n",
       "3  {'tree__max_depth': 19, 'vect__analyzer': 'wor...  0.650236  0.647333   \n",
       "\n",
       "              confusion_matrix  \\\n",
       "5  [[ 799  507]\\n [ 294 1400]]   \n",
       "9  [[ 784  522]\\n [ 292 1402]]   \n",
       "6  [[ 909  397]\\n [ 436 1258]]   \n",
       "1    [[692, 614], [282, 1412]]   \n",
       "4    [[704, 602], [327, 1367]]   \n",
       "0    [[508, 798], [147, 1547]]   \n",
       "8  [[ 630  676]\\n [ 329 1365]]   \n",
       "2    [[562, 744], [262, 1432]]   \n",
       "7  [[ 479  827]\\n [ 224 1470]]   \n",
       "3    [[362, 944], [114, 1580]]   \n",
       "\n",
       "                                 acc_sen_esp_ppv_fsc  \n",
       "5  [0.733, 0.8264462809917356, 0.611791730474732,...  \n",
       "9  [0.7286666666666667, 0.8276269185360094, 0.600...  \n",
       "6  [0.7223333333333334, 0.7426210153482881, 0.696...  \n",
       "1  [0.7013333333333334, 0.833530106257379, 0.5298...  \n",
       "4  [0.6903333333333334, 0.806965761511216, 0.5390...  \n",
       "0  [0.685, 0.9132231404958677, 0.3889739663093415...  \n",
       "8  [0.665, 0.8057851239669421, 0.4823889739663093...  \n",
       "2  [0.6646666666666666, 0.8453364817001181, 0.430...  \n",
       "7  [0.6496666666666666, 0.8677685950413223, 0.366...  \n",
       "3  [0.6473333333333333, 0.9327036599763873, 0.277...  "
      ]
     },
     "execution_count": 160,
     "metadata": {},
     "output_type": "execute_result"
    }
   ],
   "source": [
    "resultadosModelo.sort_values(by=['test'], ascending=False)"
   ]
  },
  {
   "cell_type": "code",
   "execution_count": null,
   "metadata": {},
   "outputs": [],
   "source": [
    "resultadosModelo.to_csv(RESULT_FILE)"
   ]
  },
  {
   "cell_type": "markdown",
   "metadata": {
    "colab_type": "text",
    "id": "_H9bZRLdDC-Z"
   },
   "source": []
  },
  {
   "cell_type": "code",
   "execution_count": 0,
   "metadata": {
    "colab": {},
    "colab_type": "code",
    "id": "eyen8aq5B-x6"
   },
   "outputs": [],
   "source": []
  }
 ],
 "metadata": {
  "colab": {
   "name": "Sentiment Analisys.ipynb",
   "provenance": [],
   "version": "0.3.2"
  },
  "kernelspec": {
   "display_name": "Python 3",
   "language": "python",
   "name": "python3"
  },
  "language_info": {
   "codemirror_mode": {
    "name": "ipython",
    "version": 3
   },
   "file_extension": ".py",
   "mimetype": "text/x-python",
   "name": "python",
   "nbconvert_exporter": "python",
   "pygments_lexer": "ipython3",
   "version": "3.7.1"
  }
 },
 "nbformat": 4,
 "nbformat_minor": 1
}
