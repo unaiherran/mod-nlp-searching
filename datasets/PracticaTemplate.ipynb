{
  "nbformat": 4,
  "nbformat_minor": 0,
  "metadata": {
    "colab": {
      "name": "PracticaTemplate.ipynb",
      "version": "0.3.2",
      "provenance": []
    },
    "kernelspec": {
      "name": "python3",
      "display_name": "Python 3"
    }
  },
  "cells": [
    {
      "metadata": {
        "id": "Q_M_PYXGXlnH",
        "colab_type": "code",
        "colab": {}
      },
      "cell_type": "code",
      "source": [
        "import numpy as np\n",
        "#os hago el trabajo más duro"
      ],
      "execution_count": 0,
      "outputs": []
    },
    {
      "metadata": {
        "id": "pRJ7fiaDYMqo",
        "colab_type": "text"
      },
      "cell_type": "markdown",
      "source": [
        "# Introducción \n",
        "\n",
        "La idea de la práctica es visitar aquellos temas que en cierta manera nos permitan ver más contenido del curso.\n",
        "\n",
        "La práctica esta dividida en 4 o 5 subapartados, que ya tenéis en este mismo Notebook. Estos subapartados estan aquí para que rellenéis el código que hace falta para la realización de la práctica. Obviamente podéis usar tantas celdas como os hagan falta, es más es de agradecer si el código final esta algo \"limpio\". Usar funciones, algo de comentario, etc, etc...\n",
        "\n",
        "Usaremos 2 datasets, uno para el primer ejercicio, y otro para el resto de ejercicios.\n",
        "\n",
        "Ejercicios:\n",
        "\n",
        "\n",
        "1.   Machine Learning vs Deep Learning (Acordaros que hay que implementar el pipeline visto en clase entero)\n",
        "\n",
        "    1.1. Implementación de un modelo de Sentiment Analysis con algún algoritmo de Machine Learning Clásico.\n",
        "    \n",
        "    1.2. Implementación de un modelo de Sentiment Analysis con alguna arquitectura de Deep Learning.\n",
        "    \n",
        "    1.3. Breve Comparación de resultados. Confusion Matrix.\n",
        "    \n",
        "2. Hacer Analysis de los tweets del segundo dataset. Que temas aparecen? Como se representan estos temas? De que hablan unos y otros?\n",
        "\n",
        "3. Escoged a uno de los dos presidentes, y escribid tweets como ellos, usando un Modelo Generativo.\n",
        "\n",
        "En cada ejercicio, espero explicaciones y razonamientos del porque una arquitectura y no otra, por ejemplo en Deep Learning, porque usar Convolutionals en lugar de recurrentes, o en Machine Learning, Bayes en lugar de SVM. Hay que explicar el pipeline, sobretodo el preproceso de datos, con lo que habrá que hacer un pequeño estudio de que datos tenemos, y si hay cosas que se pueden ignorar, si hacéis stemming, o no, etc, etc...\n",
        "\n",
        "Acordaros de que objetivo final no es que obtengáis una accuracy brutal, es que comprendais que pasa cuando usais un algoritmo u otro, y que problemas o beneficios nos dan.\n",
        "\n",
        "![](https://i.pinimg.com/736x/19/63/8c/19638c0b33e2f7822d6806ce31d89d84--funny-cartoons-funny-jokes.jpg =400x)\n",
        "\n",
        "Mucha suerte y ánimo!\n",
        "\n"
      ]
    },
    {
      "metadata": {
        "id": "WMESTLF1YMyO",
        "colab_type": "text"
      },
      "cell_type": "markdown",
      "source": [
        "# Dataset\n",
        "\n",
        "Breve explicación del dataset"
      ]
    },
    {
      "metadata": {
        "id": "9MFulRoGYGdJ",
        "colab_type": "code",
        "outputId": "a1fef533-5462-4a4f-bfbb-7a24a29b4140",
        "colab": {
          "base_uri": "https://localhost:8080/",
          "height": 835
        }
      },
      "cell_type": "code",
      "source": [
        "!cat /proc/meminfo"
      ],
      "execution_count": 0,
      "outputs": [
        {
          "output_type": "stream",
          "text": [
            "MemTotal:       13335192 kB\r\n",
            "MemFree:          850204 kB\r\n",
            "MemAvailable:   12678612 kB\r\n",
            "Buffers:          134936 kB\r\n",
            "Cached:         11362636 kB\r\n",
            "SwapCached:            0 kB\r\n",
            "Active:           497936 kB\r\n",
            "Inactive:       11259572 kB\r\n",
            "Active(anon):     233264 kB\r\n",
            "Inactive(anon):      284 kB\r\n",
            "Active(file):     264672 kB\r\n",
            "Inactive(file): 11259288 kB\r\n",
            "Unevictable:           0 kB\r\n",
            "Mlocked:               0 kB\r\n",
            "SwapTotal:             0 kB\r\n",
            "SwapFree:              0 kB\r\n",
            "Dirty:               656 kB\r\n",
            "Writeback:             0 kB\r\n",
            "AnonPages:        260000 kB\r\n",
            "Mapped:           145752 kB\r\n",
            "Shmem:               696 kB\r\n",
            "Slab:             662696 kB\r\n",
            "SReclaimable:     630588 kB\r\n",
            "SUnreclaim:        32108 kB\r\n",
            "KernelStack:        3008 kB\r\n",
            "PageTables:         3976 kB\r\n",
            "NFS_Unstable:          0 kB\r\n",
            "Bounce:                0 kB\r\n",
            "WritebackTmp:          0 kB\r\n",
            "CommitLimit:     6667596 kB\r\n",
            "Committed_AS:    1281840 kB\r\n",
            "VmallocTotal:   34359738367 kB\r\n",
            "VmallocUsed:           0 kB\r\n",
            "VmallocChunk:          0 kB\r\n",
            "AnonHugePages:         0 kB\r\n",
            "ShmemHugePages:        0 kB\r\n",
            "ShmemPmdMapped:        0 kB\r\n",
            "HugePages_Total:       0\r\n",
            "HugePages_Free:        0\r\n",
            "HugePages_Rsvd:        0\r\n",
            "HugePages_Surp:        0\r\n",
            "Hugepagesize:       2048 kB\r\n",
            "DirectMap4k:       63436 kB\r\n",
            "DirectMap2M:     3082240 kB\r\n",
            "DirectMap1G:    12582912 kB\r\n"
          ],
          "name": "stdout"
        }
      ]
    },
    {
      "metadata": {
        "id": "nHZSaUfsYM0z",
        "colab_type": "text"
      },
      "cell_type": "markdown",
      "source": [
        "# Práctica/Código a entregar"
      ]
    },
    {
      "metadata": {
        "id": "jPw8jkZDYvqx",
        "colab_type": "text"
      },
      "cell_type": "markdown",
      "source": [
        "## Pre-train Sentiment Analysis Model"
      ]
    },
    {
      "metadata": {
        "id": "Evszh16eYvxF",
        "colab_type": "text"
      },
      "cell_type": "markdown",
      "source": [
        "## Sentiment Analysis with Politics"
      ]
    },
    {
      "metadata": {
        "id": "bvMjfdw5ZrUN",
        "colab_type": "code",
        "colab": {}
      },
      "cell_type": "code",
      "source": [
        "#Code aquí"
      ],
      "execution_count": 0,
      "outputs": []
    },
    {
      "metadata": {
        "id": "vthF8k2EYv6Y",
        "colab_type": "text"
      },
      "cell_type": "markdown",
      "source": [
        "## Tweet Analysis"
      ]
    },
    {
      "metadata": {
        "id": "oEiVY7foZrtU",
        "colab_type": "code",
        "colab": {}
      },
      "cell_type": "code",
      "source": [
        "#Code aquí"
      ],
      "execution_count": 0,
      "outputs": []
    },
    {
      "metadata": {
        "id": "cppYsQrSYwCw",
        "colab_type": "text"
      },
      "cell_type": "markdown",
      "source": [
        "## Tweet Generation"
      ]
    },
    {
      "metadata": {
        "id": "TshyDxMyZsJ0",
        "colab_type": "code",
        "colab": {}
      },
      "cell_type": "code",
      "source": [
        "#Code aquí ."
      ],
      "execution_count": 0,
      "outputs": []
    },
    {
      "metadata": {
        "id": "WKAIH4nkZvid",
        "colab_type": "code",
        "colab": {}
      },
      "cell_type": "code",
      "source": [
        ""
      ],
      "execution_count": 0,
      "outputs": []
    }
  ]
}