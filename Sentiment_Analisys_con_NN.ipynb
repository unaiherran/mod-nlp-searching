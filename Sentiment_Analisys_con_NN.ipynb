{
  "nbformat": 4,
  "nbformat_minor": 0,
  "metadata": {
    "colab": {
      "name": "Sentiment Analisys con NN.ipynb",
      "provenance": [],
      "collapsed_sections": []
    },
    "kernelspec": {
      "name": "python3",
      "display_name": "Python 3"
    },
    "accelerator": "TPU"
  },
  "cells": [
    {
      "cell_type": "markdown",
      "metadata": {
        "id": "B6_gmTOaO3M8",
        "colab_type": "text"
      },
      "source": [
        "# Sentiment Analysis con Redes Neuronales"
      ]
    },
    {
      "cell_type": "markdown",
      "metadata": {
        "id": "8ZlOPL_yO78q",
        "colab_type": "text"
      },
      "source": [
        "## Pasos Previos"
      ]
    },
    {
      "cell_type": "markdown",
      "metadata": {
        "id": "vlzGMNIvOcFy",
        "colab_type": "text"
      },
      "source": [
        "### Carga de datos en el entorno de ejecución"
      ]
    },
    {
      "cell_type": "markdown",
      "metadata": {
        "id": "riBbKHMLBmzN",
        "colab_type": "text"
      },
      "source": [
        "Antes de nada, y ya que he utilizado un Colab, tengo que crear y copiar todos los archivos que necesito, y moverlos a los directorios apropiados."
      ]
    },
    {
      "cell_type": "code",
      "metadata": {
        "id": "-0Hlawv5-wT_",
        "colab_type": "code",
        "outputId": "c357615a-8cea-4b56-cc90-ae7c88692c18",
        "colab": {
          "base_uri": "https://localhost:8080/",
          "height": 69
        }
      },
      "source": [
        "!mkdir data\n",
        "!mkdir data/glove_word_embeddings\n",
        "!mkdir datasets\n",
        "!mkdir results"
      ],
      "execution_count": 0,
      "outputs": [
        {
          "output_type": "stream",
          "text": [
            "mkdir: cannot create directory ‘data’: File exists\n",
            "mkdir: cannot create directory ‘data/glove_word_embeddings’: File exists\n",
            "mkdir: cannot create directory ‘datasets’: File exists\n"
          ],
          "name": "stdout"
        }
      ]
    },
    {
      "cell_type": "code",
      "metadata": {
        "id": "fqW8BSw88sDL",
        "colab_type": "code",
        "outputId": "660121bb-120c-4c5a-d06f-2c54625ecb5b",
        "colab": {
          "base_uri": "https://localhost:8080/",
          "height": 35
        }
      },
      "source": [
        "#antes de ejecutar esto tienes que subir el archivo datasets al notebook\n",
        "\n",
        "!mv glove.6B.50d.txt data/glove_word_embeddings"
      ],
      "execution_count": 0,
      "outputs": [
        {
          "output_type": "stream",
          "text": [
            "mv: cannot stat 'glove.6B.50d.txt': No such file or directory\n"
          ],
          "name": "stdout"
        }
      ]
    },
    {
      "cell_type": "code",
      "metadata": {
        "id": "tRzIJnAylFxV",
        "colab_type": "code",
        "colab": {}
      },
      "source": [
        "!mv resultados_modelos.csv results"
      ],
      "execution_count": 0,
      "outputs": []
    },
    {
      "cell_type": "code",
      "metadata": {
        "id": "q7hxGnprLo1x",
        "colab_type": "code",
        "outputId": "e7d0416d-f518-4dec-e72e-f790b8a41e28",
        "colab": {
          "base_uri": "https://localhost:8080/",
          "height": 52
        }
      },
      "source": [
        "!mv train_sentiment_small.csv datasets\n",
        "!mv sentiment_dataset_limpio.csv datasets"
      ],
      "execution_count": 0,
      "outputs": [
        {
          "output_type": "stream",
          "text": [
            "mv: cannot stat 'train_sentiment_small.csv': No such file or directory\n",
            "mv: cannot stat 'sentiment_dataset_limpio.csv': No such file or directory\n"
          ],
          "name": "stdout"
        }
      ]
    },
    {
      "cell_type": "markdown",
      "metadata": {
        "id": "qskQf8pyLv8s",
        "colab_type": "text"
      },
      "source": [
        "### Imports"
      ]
    },
    {
      "cell_type": "code",
      "metadata": {
        "id": "V0BRNRGsLdgq",
        "colab_type": "code",
        "outputId": "00a04a01-27c2-44c4-e4ec-411071b81899",
        "colab": {
          "base_uri": "https://localhost:8080/",
          "height": 35
        }
      },
      "source": [
        "import pickle\n",
        "import json\n",
        "import os\n",
        "import csv\n",
        "\n",
        "import seaborn as sns\n",
        "import matplotlib as mpl\n",
        "import matplotlib.pyplot as plt\n",
        "import pandas as pd\n",
        "import io\n",
        "from sklearn.metrics import confusion_matrix\n",
        "\n",
        "from random import sample\n",
        "\n",
        "from sklearn.model_selection import StratifiedShuffleSplit\n",
        "\n",
        "from keras.models import Model\n",
        "from keras.layers import Input\n",
        "\n",
        "import warnings\n",
        "warnings.filterwarnings('ignore')"
      ],
      "execution_count": 0,
      "outputs": [
        {
          "output_type": "stream",
          "text": [
            "Using TensorFlow backend.\n"
          ],
          "name": "stderr"
        }
      ]
    },
    {
      "cell_type": "code",
      "metadata": {
        "id": "0lgQ1EdILOvI",
        "colab_type": "code",
        "colab": {}
      },
      "source": [
        "import numpy as np\n",
        "from keras.layers import Conv1D, Conv2D, SimpleRNN, LSTM, Dense, Dropout\n",
        "from keras.models import Sequential"
      ],
      "execution_count": 0,
      "outputs": []
    },
    {
      "cell_type": "code",
      "metadata": {
        "id": "R9BYS-mq90F0",
        "colab_type": "code",
        "colab": {}
      },
      "source": [
        "from sklearn.model_selection import train_test_split             \n",
        "from keras.preprocessing.text import Tokenizer \n",
        "from keras.preprocessing.sequence import pad_sequences\n",
        "from keras.models import Sequential\n",
        "from keras import layers"
      ],
      "execution_count": 0,
      "outputs": []
    },
    {
      "cell_type": "markdown",
      "metadata": {
        "id": "9fVqzgodPU0j",
        "colab_type": "text"
      },
      "source": [
        "### Variables de Entorno"
      ]
    },
    {
      "cell_type": "code",
      "metadata": {
        "id": "QFYyLtFMPXdN",
        "colab_type": "code",
        "colab": {}
      },
      "source": [
        "NUM_WORDS = 5000\n",
        "maxlen = 100\n",
        "embedding_dim_glove = 50\n",
        "embedding_layer_dim = 100\n",
        "THRESHOLD = 0.5\n",
        "RESULTS_FILE = 'results/resultados_modelos.csv'"
      ],
      "execution_count": 0,
      "outputs": []
    },
    {
      "cell_type": "markdown",
      "metadata": {
        "id": "PBOA9GfLDwOE",
        "colab_type": "text"
      },
      "source": [
        "### Funciones Auxiliares"
      ]
    },
    {
      "cell_type": "markdown",
      "metadata": {
        "id": "Mop32td_LlfH",
        "colab_type": "text"
      },
      "source": [
        "Aqui defino unas funciones auxiliares para calcular metricas y presentar resultadios."
      ]
    },
    {
      "cell_type": "code",
      "metadata": {
        "id": "frHvZcSBGXDx",
        "colab_type": "code",
        "colab": {}
      },
      "source": [
        "def add_row(df, row):\n",
        "    df.loc[-1] = row\n",
        "    df.index = df.index + 1  \n",
        "    return df.sort_index()"
      ],
      "execution_count": 0,
      "outputs": []
    },
    {
      "cell_type": "code",
      "metadata": {
        "id": "tCBlHc1z9ik0",
        "colab_type": "code",
        "colab": {}
      },
      "source": [
        "def convertir_prediccion_en_array(prediccion):\n",
        "    i = 0\n",
        "\n",
        "    resp = []\n",
        "    while i < len(prediccion):\n",
        "        if prediccion[i] >= THRESHOLD:\n",
        "            e = 1.0\n",
        "        else:\n",
        "            e = 0.0\n",
        "        resp.append(e)\n",
        "        i += 1\n",
        "    return resp\n"
      ],
      "execution_count": 0,
      "outputs": []
    },
    {
      "cell_type": "code",
      "metadata": {
        "id": "7rd9uObiRY4Z",
        "colab_type": "code",
        "colab": {}
      },
      "source": [
        "def plot_confusion_matrix(confmat):\n",
        "    fig, ax = plt.subplots(figsize=(7, 7))\n",
        "    ax.matshow(confmat, cmap=plt.cm.Blues, alpha=0.5)\n",
        "    for i in range(confmat.shape[0]):\n",
        "        for j in range(confmat.shape[1]):\n",
        "            ax.text(x=j, y=i, s=confmat[i, j], va='center', ha='center')\n",
        "\n",
        "    plt.xlabel('predicted label')\n",
        "    plt.ylabel('true label')\n",
        "\n",
        "    plt.tight_layout()\n",
        "    plt.show()"
      ],
      "execution_count": 0,
      "outputs": []
    },
    {
      "cell_type": "code",
      "metadata": {
        "id": "7xY-YmhiRY1q",
        "colab_type": "code",
        "colab": {}
      },
      "source": [
        "def calcula_metricas(confmat, plot=True):\n",
        "    \n",
        "    tn, fp, fn, tp = confmat.ravel()\n",
        "\n",
        "    acc = (tp+tn)/(tn + fp + fn + tp)\n",
        "    sen = tp/(tp+fn)\n",
        "    esp = tn/(tn+fp)\n",
        "    ppv = tp/(tp+fp)\n",
        "    fsc = 2*(sen*ppv/(sen+ppv))\n",
        "\n",
        "    print('ACC: ', acc)\n",
        "    print('SEN: ', sen)\n",
        "    print('ESP: ', esp)\n",
        "    print('PPV: ', ppv)\n",
        "    print('FSC: ', fsc)\n",
        "\n",
        "    if plot:\n",
        "        plt.bar(range(5),[acc,sen,esp,ppv,fsc])\n",
        "        plt.xticks(range(5),['ACC','SEN','ESP','PPV','FSC'])\n",
        "        plt.plot([-1, 6], [1, 1], color=(0.6, 0.6, 0.6), linestyle='--')\n",
        "        plt.xlim((-0.5,4.5))\n",
        "        plt.ylim((0,1.1))\n",
        "        plt.title('Metricas')\n",
        "        plt.show()\n",
        "    \n",
        "    metricas = [acc, sen,esp,ppv,fsc]\n",
        "    return metricas"
      ],
      "execution_count": 0,
      "outputs": []
    },
    {
      "cell_type": "markdown",
      "metadata": {
        "id": "3hpckmnGD4PI",
        "colab_type": "text"
      },
      "source": [
        "## Carga y preparación de datos"
      ]
    },
    {
      "cell_type": "markdown",
      "metadata": {
        "id": "6qoE9AzGMI5Z",
        "colab_type": "text"
      },
      "source": [
        "Cargo el dataset pequeño. Esto es debido a que por incompatibilidad de alguna de las capas usadas con la GPU que tiene Colab, no se puede trabajar en GPU, con lo que para entrenar en un tiempo apropiado, uso un dataset pequeño (sacado de la sección 1.1)"
      ]
    },
    {
      "cell_type": "code",
      "metadata": {
        "id": "MT_GH2dDMo3l",
        "colab_type": "code",
        "colab": {}
      },
      "source": [
        "df = pd.read_csv('datasets/train_sentiment_small.csv')\n",
        "\n",
        "# Descomentar para entrenar con el conjunto grande\n",
        "#df = pd.read_csv('datasets/sentiment_dataset_limpio.csv')"
      ],
      "execution_count": 0,
      "outputs": []
    },
    {
      "cell_type": "code",
      "metadata": {
        "id": "XRIgGS2iNi7F",
        "colab_type": "code",
        "colab": {}
      },
      "source": [
        "df = df.drop(['Unnamed: 0'], axis=1)"
      ],
      "execution_count": 0,
      "outputs": []
    },
    {
      "cell_type": "code",
      "metadata": {
        "id": "OwlRY3QpNjtH",
        "colab_type": "code",
        "outputId": "d1908229-3632-4ce0-acf9-1db1fe881f3c",
        "colab": {
          "base_uri": "https://localhost:8080/",
          "height": 198
        }
      },
      "source": [
        "df.head(5)"
      ],
      "execution_count": 0,
      "outputs": [
        {
          "output_type": "execute_result",
          "data": {
            "text/html": [
              "<div>\n",
              "<style scoped>\n",
              "    .dataframe tbody tr th:only-of-type {\n",
              "        vertical-align: middle;\n",
              "    }\n",
              "\n",
              "    .dataframe tbody tr th {\n",
              "        vertical-align: top;\n",
              "    }\n",
              "\n",
              "    .dataframe thead th {\n",
              "        text-align: right;\n",
              "    }\n",
              "</style>\n",
              "<table border=\"1\" class=\"dataframe\">\n",
              "  <thead>\n",
              "    <tr style=\"text-align: right;\">\n",
              "      <th></th>\n",
              "      <th>Sentiment</th>\n",
              "      <th>SentimentText</th>\n",
              "    </tr>\n",
              "  </thead>\n",
              "  <tbody>\n",
              "    <tr>\n",
              "      <th>0</th>\n",
              "      <td>1</td>\n",
              "      <td>&lt;MENTION&gt; lol ok thanks. anyway watcha doing?</td>\n",
              "    </tr>\n",
              "    <tr>\n",
              "      <th>1</th>\n",
              "      <td>1</td>\n",
              "      <td>&lt;MENTION&gt; -- yeah, thank ya kindly!</td>\n",
              "    </tr>\n",
              "    <tr>\n",
              "      <th>2</th>\n",
              "      <td>0</td>\n",
              "      <td>&lt;MENTION&gt;, is being a horrible friend. tears.</td>\n",
              "    </tr>\n",
              "    <tr>\n",
              "      <th>3</th>\n",
              "      <td>0</td>\n",
              "      <td>Jonas Brothers 3D Concert Movie is out on the ...</td>\n",
              "    </tr>\n",
              "    <tr>\n",
              "      <th>4</th>\n",
              "      <td>1</td>\n",
              "      <td>&lt;MENTION&gt; k just call asap</td>\n",
              "    </tr>\n",
              "  </tbody>\n",
              "</table>\n",
              "</div>"
            ],
            "text/plain": [
              "   Sentiment                                      SentimentText\n",
              "0          1      <MENTION> lol ok thanks. anyway watcha doing?\n",
              "1          1                <MENTION> -- yeah, thank ya kindly!\n",
              "2          0      <MENTION>, is being a horrible friend. tears.\n",
              "3          0  Jonas Brothers 3D Concert Movie is out on the ...\n",
              "4          1                         <MENTION> k just call asap"
            ]
          },
          "metadata": {
            "tags": []
          },
          "execution_count": 11
        }
      ]
    },
    {
      "cell_type": "code",
      "metadata": {
        "id": "qiC-jS3s90BE",
        "colab_type": "code",
        "colab": {}
      },
      "source": [
        "sentiment_text = df['SentimentText'].values"
      ],
      "execution_count": 0,
      "outputs": []
    },
    {
      "cell_type": "code",
      "metadata": {
        "id": "ECDEgGCn9z-J",
        "colab_type": "code",
        "colab": {}
      },
      "source": [
        "y = df['Sentiment'].values"
      ],
      "execution_count": 0,
      "outputs": []
    },
    {
      "cell_type": "code",
      "metadata": {
        "id": "EohzqR6R9z7c",
        "colab_type": "code",
        "colab": {}
      },
      "source": [
        "sentiment_train,sentiment_test,y_train,y_test = train_test_split(\n",
        "                                                sentiment_text, y,  \n",
        "                                                test_size=0.25,  \n",
        "                                                random_state=42)"
      ],
      "execution_count": 0,
      "outputs": []
    },
    {
      "cell_type": "markdown",
      "metadata": {
        "id": "6HPFjFofuApV",
        "colab_type": "text"
      },
      "source": [
        "#Embedding"
      ]
    },
    {
      "cell_type": "code",
      "metadata": {
        "id": "XLcRYC1x9z4e",
        "colab_type": "code",
        "colab": {}
      },
      "source": [
        "tokenizer = Tokenizer(num_words=NUM_WORDS)\n",
        "tokenizer.fit_on_texts(sentiment_train)"
      ],
      "execution_count": 0,
      "outputs": []
    },
    {
      "cell_type": "code",
      "metadata": {
        "id": "iinJlu9t9z2L",
        "colab_type": "code",
        "colab": {}
      },
      "source": [
        "X_train = tokenizer.texts_to_sequences(sentiment_train)\n",
        "X_test = tokenizer.texts_to_sequences(sentiment_test)"
      ],
      "execution_count": 0,
      "outputs": []
    },
    {
      "cell_type": "code",
      "metadata": {
        "id": "SC9EbNxc9zzR",
        "colab_type": "code",
        "colab": {}
      },
      "source": [
        "# Adding 1 because of  reserved 0 index\n",
        "vocab_size = len(tokenizer.word_index) + 1 "
      ],
      "execution_count": 0,
      "outputs": []
    },
    {
      "cell_type": "code",
      "metadata": {
        "id": "LEbsuGnT9zt3",
        "colab_type": "code",
        "colab": {}
      },
      "source": [
        "X_train = pad_sequences(X_train, padding='post', maxlen=maxlen)\n",
        "X_test = pad_sequences(X_test, padding='post', maxlen=maxlen)"
      ],
      "execution_count": 0,
      "outputs": []
    },
    {
      "cell_type": "markdown",
      "metadata": {
        "id": "hmdRLNvVfQhk",
        "colab_type": "text"
      },
      "source": [
        "Para generar los wordembeddings uso [Glove](https://en.wikipedia.org/wiki/GloVe_(machine_learning)), que es un conjunto preentrenado de word embeddings.\n",
        "\n",
        "*GloVe is an unsupervised learning algorithm for obtaining vector representations for words. Training is performed on aggregated global word-word co-occurrence statistics from a corpus, and the resulting representations showcase interesting linear substructures of the word vector space.*"
      ]
    },
    {
      "cell_type": "code",
      "metadata": {
        "id": "ih46h0xa9zrh",
        "colab_type": "code",
        "colab": {}
      },
      "source": [
        "def create_embedding_matrix(filepath, word_index, embedding_dim):\n",
        "    vocab_size = len(word_index) + 1  \n",
        "    # Adding again 1 because of reserved 0 index\n",
        "    embedding_matrix = np.zeros((vocab_size, embedding_dim))\n",
        "\n",
        "    with open(filepath) as f:\n",
        "        for line in f:\n",
        "            word, *vector = line.split()\n",
        "            if word in word_index:\n",
        "                idx = word_index[word] \n",
        "                embedding_matrix[idx] = np.array(\n",
        "                    vector, dtype=np.float32)[:embedding_dim]\n",
        "\n",
        "    return embedding_matrix"
      ],
      "execution_count": 0,
      "outputs": []
    },
    {
      "cell_type": "code",
      "metadata": {
        "id": "j-Epcl49-wa4",
        "colab_type": "code",
        "colab": {}
      },
      "source": [
        "embedding_matrix = create_embedding_matrix('data/glove_word_embeddings/glove.6B.50d.txt' ,\n",
        "                                            tokenizer.word_index,  \n",
        "                                            embedding_dim_glove)"
      ],
      "execution_count": 0,
      "outputs": []
    },
    {
      "cell_type": "markdown",
      "metadata": {
        "id": "BAXbA-8Zd9Cf",
        "colab_type": "text"
      },
      "source": [
        "## Red Neuronal Convolucional"
      ]
    },
    {
      "cell_type": "code",
      "metadata": {
        "id": "MFeLRMx3-wYK",
        "colab_type": "code",
        "outputId": "c745d4cb-568c-4eb0-ff76-4384c65604c9",
        "colab": {
          "base_uri": "https://localhost:8080/",
          "height": 328
        }
      },
      "source": [
        "model = Sequential()\n",
        "model.add(layers.Embedding(vocab_size, embedding_layer_dim, input_length=maxlen))\n",
        "model.add(layers.Conv1D(128, 5, activation='relu'))\n",
        "model.add(layers.GlobalMaxPooling1D())\n",
        "model.add(layers.Dense(10, activation='relu'))\n",
        "model.add(layers.Dense(1, activation='sigmoid'))\n",
        "model.compile(optimizer='adam',\n",
        "              loss='binary_crossentropy',\n",
        "              metrics=['accuracy'])\n",
        "\n",
        "model.summary()"
      ],
      "execution_count": 0,
      "outputs": [
        {
          "output_type": "stream",
          "text": [
            "Model: \"sequential_2\"\n",
            "_________________________________________________________________\n",
            "Layer (type)                 Output Shape              Param #   \n",
            "=================================================================\n",
            "embedding_2 (Embedding)      (None, 100, 100)          1155100   \n",
            "_________________________________________________________________\n",
            "conv1d_2 (Conv1D)            (None, 96, 128)           64128     \n",
            "_________________________________________________________________\n",
            "global_max_pooling1d_2 (Glob (None, 128)               0         \n",
            "_________________________________________________________________\n",
            "dense_3 (Dense)              (None, 10)                1290      \n",
            "_________________________________________________________________\n",
            "dense_4 (Dense)              (None, 1)                 11        \n",
            "=================================================================\n",
            "Total params: 1,220,529\n",
            "Trainable params: 1,220,529\n",
            "Non-trainable params: 0\n",
            "_________________________________________________________________\n"
          ],
          "name": "stdout"
        }
      ]
    },
    {
      "cell_type": "markdown",
      "metadata": {
        "id": "u0f5g51Ue5A2",
        "colab_type": "text"
      },
      "source": [
        "Con todo el dataset se tarda un rato en entrenar (aprox 8 minutos por época), con el dataset pequeño 20s por época."
      ]
    },
    {
      "cell_type": "code",
      "metadata": {
        "id": "BlGUSIRP-wRe",
        "colab_type": "code",
        "outputId": "66ad8cc1-bc8b-47b6-b7ae-f0671201b4c5",
        "colab": {
          "base_uri": "https://localhost:8080/",
          "height": 227
        }
      },
      "source": [
        "history = model.fit(X_train, y_train,\n",
        "                    epochs=5,\n",
        "                    validation_data=(X_test, y_test),\n",
        "                    batch_size=16)"
      ],
      "execution_count": 0,
      "outputs": [
        {
          "output_type": "stream",
          "text": [
            "Train on 7500 samples, validate on 2500 samples\n",
            "Epoch 1/5\n",
            "7500/7500 [==============================] - 18s 2ms/step - loss: 0.5937 - acc: 0.6711 - val_loss: 0.5192 - val_acc: 0.7368\n",
            "Epoch 2/5\n",
            "7500/7500 [==============================] - 18s 2ms/step - loss: 0.4172 - acc: 0.8124 - val_loss: 0.5445 - val_acc: 0.7352\n",
            "Epoch 3/5\n",
            "7500/7500 [==============================] - 18s 2ms/step - loss: 0.2511 - acc: 0.9048 - val_loss: 0.6303 - val_acc: 0.7276\n",
            "Epoch 4/5\n",
            "7500/7500 [==============================] - 18s 2ms/step - loss: 0.1143 - acc: 0.9621 - val_loss: 0.8165 - val_acc: 0.7168\n",
            "Epoch 5/5\n",
            "7500/7500 [==============================] - 18s 2ms/step - loss: 0.0504 - acc: 0.9857 - val_loss: 0.9885 - val_acc: 0.7064\n"
          ],
          "name": "stdout"
        }
      ]
    },
    {
      "cell_type": "code",
      "metadata": {
        "id": "H8-9YuQW-wNW",
        "colab_type": "code",
        "outputId": "995f89d7-04b8-459d-d8b2-42bda024dae8",
        "colab": {
          "base_uri": "https://localhost:8080/",
          "height": 35
        }
      },
      "source": [
        "# Evaluamos\n",
        "train_acc = model.evaluate(X_train, y_train)[1]\n",
        "prediction = model.predict(X_test)"
      ],
      "execution_count": 0,
      "outputs": [
        {
          "output_type": "stream",
          "text": [
            "7500/7500 [==============================] - 2s 324us/step\n"
          ],
          "name": "stdout"
        }
      ]
    },
    {
      "cell_type": "code",
      "metadata": {
        "id": "m1PH4pQmQ-J_",
        "colab_type": "code",
        "colab": {}
      },
      "source": [
        "prediccion = convertir_prediccion_en_array(prediction)"
      ],
      "execution_count": 0,
      "outputs": []
    },
    {
      "cell_type": "code",
      "metadata": {
        "id": "IWOzhF7OQ-Ez",
        "colab_type": "code",
        "colab": {}
      },
      "source": [
        "confmat = confusion_matrix(y_test, prediccion)"
      ],
      "execution_count": 0,
      "outputs": []
    },
    {
      "cell_type": "code",
      "metadata": {
        "id": "ro4FxN9UQ-Cq",
        "colab_type": "code",
        "outputId": "b0884ee4-6269-418c-cf9c-99f340831f63",
        "colab": {
          "base_uri": "https://localhost:8080/",
          "height": 513
        }
      },
      "source": [
        "plot_confusion_matrix(confmat)\n"
      ],
      "execution_count": 0,
      "outputs": [
        {
          "output_type": "display_data",
          "data": {
            "image/png": "[encoded data removed]",
            "text/plain": [
              "<Figure size 504x504 with 1 Axes>"
            ]
          },
          "metadata": {
            "tags": []
          }
        }
      ]
    },
    {
      "cell_type": "code",
      "metadata": {
        "id": "ZBCSuvvoQ9_0",
        "colab_type": "code",
        "outputId": "a7da310f-206e-4875-ecd0-803832c14103",
        "colab": {
          "base_uri": "https://localhost:8080/",
          "height": 104
        }
      },
      "source": [
        "metricas = calcula_metricas(confmat, plot=False)"
      ],
      "execution_count": 0,
      "outputs": [
        {
          "output_type": "stream",
          "text": [
            "ACC:  0.7064\n",
            "SEN:  0.7475862068965518\n",
            "ESP:  0.6495238095238095\n",
            "PPV:  0.7465564738292011\n",
            "FSC:  0.7470709855272227\n"
          ],
          "name": "stdout"
        }
      ]
    },
    {
      "cell_type": "code",
      "metadata": {
        "id": "QVkiNggXl7pA",
        "colab_type": "code",
        "colab": {}
      },
      "source": [
        "test_acc = metricas[0]"
      ],
      "execution_count": 0,
      "outputs": []
    },
    {
      "cell_type": "code",
      "metadata": {
        "id": "WTV5yRYsQ98u",
        "colab_type": "code",
        "colab": {}
      },
      "source": [
        "resultadosModelo = pd.read_csv(RESULTS_FILE)\n",
        "resultadosModelo = resultadosModelo.drop(['Unnamed: 0'], axis=1)"
      ],
      "execution_count": 0,
      "outputs": []
    },
    {
      "cell_type": "code",
      "metadata": {
        "id": "en7hTz0e9zjg",
        "colab_type": "code",
        "colab": {}
      },
      "source": [
        "resultado = ['CNN - Small Dataset', '-', train_acc, test_acc, confmat, metricas]"
      ],
      "execution_count": 0,
      "outputs": []
    },
    {
      "cell_type": "code",
      "metadata": {
        "id": "_2PaGC0z9zgW",
        "colab_type": "code",
        "outputId": "daffb5b5-c316-43b0-d6e4-e1faa612a896",
        "colab": {
          "base_uri": "https://localhost:8080/",
          "height": 840
        }
      },
      "source": [
        "add_row(resultadosModelo, resultado)"
      ],
      "execution_count": 0,
      "outputs": [
        {
          "output_type": "execute_result",
          "data": {
            "text/html": [
              "<div>\n",
              "<style scoped>\n",
              "    .dataframe tbody tr th:only-of-type {\n",
              "        vertical-align: middle;\n",
              "    }\n",
              "\n",
              "    .dataframe tbody tr th {\n",
              "        vertical-align: top;\n",
              "    }\n",
              "\n",
              "    .dataframe thead th {\n",
              "        text-align: right;\n",
              "    }\n",
              "</style>\n",
              "<table border=\"1\" class=\"dataframe\">\n",
              "  <thead>\n",
              "    <tr style=\"text-align: right;\">\n",
              "      <th></th>\n",
              "      <th>Modelo</th>\n",
              "      <th>parametros-optimos</th>\n",
              "      <th>train</th>\n",
              "      <th>test</th>\n",
              "      <th>confusion_matrix</th>\n",
              "      <th>acc_sen_esp_ppv_fsc</th>\n",
              "    </tr>\n",
              "  </thead>\n",
              "  <tbody>\n",
              "    <tr>\n",
              "      <th>0</th>\n",
              "      <td>CNN - Small Dataset</td>\n",
              "      <td>-</td>\n",
              "      <td>0.992667</td>\n",
              "      <td>0.706400</td>\n",
              "      <td>[[682, 368], [366, 1084]]</td>\n",
              "      <td>[0.7064, 0.7475862068965518, 0.649523809523809...</td>\n",
              "    </tr>\n",
              "    <tr>\n",
              "      <th>1</th>\n",
              "      <td>SVM - Small Dataset</td>\n",
              "      <td>{'svm__C': 5.994842503189409, 'svm__gamma': 0....</td>\n",
              "      <td>0.716000</td>\n",
              "      <td>0.733000</td>\n",
              "      <td>[[ 799  507]\\n [ 294 1400]]</td>\n",
              "      <td>[0.733, 0.8264462809917356, 0.611791730474732,...</td>\n",
              "    </tr>\n",
              "    <tr>\n",
              "      <th>2</th>\n",
              "      <td>Bayes - Small Dataset</td>\n",
              "      <td>{'vect__analyzer': 'char', 'vect__max_df': 1.0...</td>\n",
              "      <td>0.717000</td>\n",
              "      <td>0.722333</td>\n",
              "      <td>[[ 909  397]\\n [ 436 1258]]</td>\n",
              "      <td>[0.7223333333333334, 0.7426210153482881, 0.696...</td>\n",
              "    </tr>\n",
              "    <tr>\n",
              "      <th>3</th>\n",
              "      <td>Decision Tree - Small Dataset</td>\n",
              "      <td>{'tree__max_depth': 19, 'vect__analyzer': 'wor...</td>\n",
              "      <td>0.653286</td>\n",
              "      <td>0.649667</td>\n",
              "      <td>[[ 479  827]\\n [ 224 1470]]</td>\n",
              "      <td>[0.6496666666666666, 0.8677685950413223, 0.366...</td>\n",
              "    </tr>\n",
              "    <tr>\n",
              "      <th>4</th>\n",
              "      <td>Random Forestyes - Small Dataset</td>\n",
              "      <td>{'forest__max_depth': 23, 'vect__analyzer': 'c...</td>\n",
              "      <td>0.668857</td>\n",
              "      <td>0.665000</td>\n",
              "      <td>[[ 630  676]\\n [ 329 1365]]</td>\n",
              "      <td>[0.665, 0.8057851239669421, 0.4823889739663093...</td>\n",
              "    </tr>\n",
              "    <tr>\n",
              "      <th>5</th>\n",
              "      <td>Boosted Tree - Small Dataset</td>\n",
              "      <td>{'boosted__learning_rate': 0.1, 'boosted__max_...</td>\n",
              "      <td>0.714857</td>\n",
              "      <td>0.728667</td>\n",
              "      <td>[[ 784  522]\\n [ 292 1402]]</td>\n",
              "      <td>[0.7286666666666667, 0.8276269185360094, 0.600...</td>\n",
              "    </tr>\n",
              "    <tr>\n",
              "      <th>6</th>\n",
              "      <td>Bayes - Lemma - Small Dataset</td>\n",
              "      <td>{'vect__analyzer': 'word', 'vect__max_df': 0.5...</td>\n",
              "      <td>0.686670</td>\n",
              "      <td>0.690333</td>\n",
              "      <td>[[ 704  602]\\n [ 327 1367]]</td>\n",
              "      <td>[0.6903333333333334, 0.806965761511216, 0.5390...</td>\n",
              "    </tr>\n",
              "    <tr>\n",
              "      <th>7</th>\n",
              "      <td>Decision Tree - Lemma - Small Dataset</td>\n",
              "      <td>{'tree__max_depth': 19, 'vect__analyzer': 'wor...</td>\n",
              "      <td>0.650236</td>\n",
              "      <td>0.647333</td>\n",
              "      <td>[[ 362  944]\\n [ 114 1580]]</td>\n",
              "      <td>[0.6473333333333333, 0.9327036599763873, 0.277...</td>\n",
              "    </tr>\n",
              "    <tr>\n",
              "      <th>8</th>\n",
              "      <td>Random Forestyes - Lemma - Small Dataset</td>\n",
              "      <td>{'forest__max_depth': 28, 'vect__analyzer': 'c...</td>\n",
              "      <td>0.660237</td>\n",
              "      <td>0.664667</td>\n",
              "      <td>[[ 562  744]\\n [ 262 1432]]</td>\n",
              "      <td>[0.6646666666666666, 0.8453364817001181, 0.430...</td>\n",
              "    </tr>\n",
              "    <tr>\n",
              "      <th>9</th>\n",
              "      <td>Boosted Tree - Lemma - Small Dataset</td>\n",
              "      <td>{'boosted__learning_rate': 0.1, 'boosted__max_...</td>\n",
              "      <td>0.686955</td>\n",
              "      <td>0.701333</td>\n",
              "      <td>[[ 692  614]\\n [ 282 1412]]</td>\n",
              "      <td>[0.7013333333333334, 0.833530106257379, 0.5298...</td>\n",
              "    </tr>\n",
              "    <tr>\n",
              "      <th>10</th>\n",
              "      <td>SVM - Lemma - Small Dataset</td>\n",
              "      <td>{'svm__C': 1.0, 'svm__gamma': 0.03162277660168...</td>\n",
              "      <td>0.665524</td>\n",
              "      <td>0.685000</td>\n",
              "      <td>[[ 508  798]\\n [ 147 1547]]</td>\n",
              "      <td>[0.685, 0.9132231404958677, 0.3889739663093415...</td>\n",
              "    </tr>\n",
              "    <tr>\n",
              "      <th>11</th>\n",
              "      <td>CNN - Big Dataset</td>\n",
              "      <td>-</td>\n",
              "      <td>0.927431</td>\n",
              "      <td>0.761541</td>\n",
              "      <td>[[ 7141  3821]\\n [ 2140 11896]]</td>\n",
              "      <td>[0.7615409232738619, 0.847534910230835, 0.6514...</td>\n",
              "    </tr>\n",
              "  </tbody>\n",
              "</table>\n",
              "</div>"
            ],
            "text/plain": [
              "                                      Modelo  ...                                acc_sen_esp_ppv_fsc\n",
              "0                        CNN - Small Dataset  ...  [0.7064, 0.7475862068965518, 0.649523809523809...\n",
              "1                        SVM - Small Dataset  ...  [0.733, 0.8264462809917356, 0.611791730474732,...\n",
              "2                      Bayes - Small Dataset  ...  [0.7223333333333334, 0.7426210153482881, 0.696...\n",
              "3              Decision Tree - Small Dataset  ...  [0.6496666666666666, 0.8677685950413223, 0.366...\n",
              "4           Random Forestyes - Small Dataset  ...  [0.665, 0.8057851239669421, 0.4823889739663093...\n",
              "5               Boosted Tree - Small Dataset  ...  [0.7286666666666667, 0.8276269185360094, 0.600...\n",
              "6              Bayes - Lemma - Small Dataset  ...  [0.6903333333333334, 0.806965761511216, 0.5390...\n",
              "7      Decision Tree - Lemma - Small Dataset  ...  [0.6473333333333333, 0.9327036599763873, 0.277...\n",
              "8   Random Forestyes - Lemma - Small Dataset  ...  [0.6646666666666666, 0.8453364817001181, 0.430...\n",
              "9       Boosted Tree - Lemma - Small Dataset  ...  [0.7013333333333334, 0.833530106257379, 0.5298...\n",
              "10               SVM - Lemma - Small Dataset  ...  [0.685, 0.9132231404958677, 0.3889739663093415...\n",
              "11                         CNN - Big Dataset  ...  [0.7615409232738619, 0.847534910230835, 0.6514...\n",
              "\n",
              "[12 rows x 6 columns]"
            ]
          },
          "metadata": {
            "tags": []
          },
          "execution_count": 75
        }
      ]
    },
    {
      "cell_type": "code",
      "metadata": {
        "id": "-9RVeMqAmgtj",
        "colab_type": "code",
        "colab": {}
      },
      "source": [
        "resultadosModelo.to_csv(RESULTS_FILE)"
      ],
      "execution_count": 0,
      "outputs": []
    },
    {
      "cell_type": "code",
      "metadata": {
        "id": "sTGhz20Omgqi",
        "colab_type": "code",
        "colab": {}
      },
      "source": [
        ""
      ],
      "execution_count": 0,
      "outputs": []
    },
    {
      "cell_type": "code",
      "metadata": {
        "id": "St5EB1QXmgnw",
        "colab_type": "code",
        "colab": {}
      },
      "source": [
        ""
      ],
      "execution_count": 0,
      "outputs": []
    },
    {
      "cell_type": "markdown",
      "metadata": {
        "id": "uws6Y5VqntFY",
        "colab_type": "text"
      },
      "source": [
        "## LSTM"
      ]
    },
    {
      "cell_type": "code",
      "metadata": {
        "id": "wC5xFzzcsSBS",
        "colab_type": "code",
        "outputId": "f61918d0-dc7f-409e-8662-2f89a81021de",
        "colab": {
          "base_uri": "https://localhost:8080/",
          "height": 415
        }
      },
      "source": [
        "# create the model\n",
        "embedding_vecor_length = 32\n",
        "model = Sequential()\n",
        "\n",
        "model.add(layers.Embedding(vocab_size, embedding_layer_dim, input_length=maxlen))\n",
        "model.add(LSTM(100))\n",
        "model.add(Dense(1, activation='relu'))\n",
        "model.add(Dropout(0.5))\n",
        "\n",
        "model.add(Dense(1, activation='relu'))\n",
        "model.add(Dropout(0.5))\n",
        "\n",
        "model.add(Dense(1, activation='softmax'))\n",
        "\n",
        "model.compile(loss='binary_crossentropy', optimizer='adam', metrics=['accuracy'])\n",
        "print(model.summary())\n"
      ],
      "execution_count": 0,
      "outputs": [
        {
          "output_type": "stream",
          "text": [
            "Model: \"sequential_2\"\n",
            "_________________________________________________________________\n",
            "Layer (type)                 Output Shape              Param #   \n",
            "=================================================================\n",
            "embedding_2 (Embedding)      (None, 100, 100)          1155100   \n",
            "_________________________________________________________________\n",
            "lstm_2 (LSTM)                (None, 100)               80400     \n",
            "_________________________________________________________________\n",
            "dense_4 (Dense)              (None, 1)                 101       \n",
            "_________________________________________________________________\n",
            "dropout_3 (Dropout)          (None, 1)                 0         \n",
            "_________________________________________________________________\n",
            "dense_5 (Dense)              (None, 1)                 2         \n",
            "_________________________________________________________________\n",
            "dropout_4 (Dropout)          (None, 1)                 0         \n",
            "_________________________________________________________________\n",
            "dense_6 (Dense)              (None, 1)                 2         \n",
            "=================================================================\n",
            "Total params: 1,235,605\n",
            "Trainable params: 1,235,605\n",
            "Non-trainable params: 0\n",
            "_________________________________________________________________\n",
            "None\n"
          ],
          "name": "stdout"
        }
      ]
    },
    {
      "cell_type": "code",
      "metadata": {
        "id": "vilTfd_Pmghz",
        "colab_type": "code",
        "outputId": "851da3af-eefc-44ab-9df1-6ef3fbdeb5c1",
        "colab": {
          "base_uri": "https://localhost:8080/",
          "height": 69
        }
      },
      "source": [
        "history = model.fit(X_train, y_train, validation_data=(X_test, y_test), epochs=3, batch_size=64)"
      ],
      "execution_count": 0,
      "outputs": [
        {
          "output_type": "stream",
          "text": [
            "Train on 7500 samples, validate on 2500 samples\n",
            "Epoch 1/3\n",
            "6848/7500 [==========================>...] - ETA: 2s - loss: 7.0237 - acc: 0.5594"
          ],
          "name": "stdout"
        }
      ]
    },
    {
      "cell_type": "code",
      "metadata": {
        "id": "3CWZKz_LqFAZ",
        "colab_type": "code",
        "colab": {}
      },
      "source": [
        ""
      ],
      "execution_count": 0,
      "outputs": []
    },
    {
      "cell_type": "code",
      "metadata": {
        "id": "GjlCDgoPqE78",
        "colab_type": "code",
        "outputId": "07ae9f95-ef37-412a-e168-5d106538b92c",
        "colab": {
          "base_uri": "https://localhost:8080/",
          "height": 328
        }
      },
      "source": [
        "model = Sequential()\n",
        "model.add(layers.Embedding(vocab_size, embedding_layer_dim, input_length=maxlen))\n",
        "model.add(layers.Conv1D(128, 5, activation='relu'))\n",
        "model.add(layers.GlobalMaxPooling1D())\n",
        "model.add(layers.Dense(10, activation='relu'))\n",
        "model.add(layers.Dense(1, activation='sigmoid'))\n",
        "model.compile(optimizer='adam',\n",
        "              loss='sparse_categorical_crossentropy',\n",
        "              metrics=['accuracy'])\n",
        "\n",
        "model.summary()"
      ],
      "execution_count": 0,
      "outputs": [
        {
          "output_type": "stream",
          "text": [
            "Model: \"sequential_6\"\n",
            "_________________________________________________________________\n",
            "Layer (type)                 Output Shape              Param #   \n",
            "=================================================================\n",
            "embedding_9 (Embedding)      (None, 100, 100)          1155100   \n",
            "_________________________________________________________________\n",
            "conv1d_3 (Conv1D)            (None, 96, 128)           64128     \n",
            "_________________________________________________________________\n",
            "global_max_pooling1d_3 (Glob (None, 128)               0         \n",
            "_________________________________________________________________\n",
            "dense_15 (Dense)             (None, 10)                1290      \n",
            "_________________________________________________________________\n",
            "dense_16 (Dense)             (None, 1)                 11        \n",
            "=================================================================\n",
            "Total params: 1,220,529\n",
            "Trainable params: 1,220,529\n",
            "Non-trainable params: 0\n",
            "_________________________________________________________________\n"
          ],
          "name": "stdout"
        }
      ]
    },
    {
      "cell_type": "code",
      "metadata": {
        "id": "3SaPcdRnqE31",
        "colab_type": "code",
        "colab": {}
      },
      "source": [
        ""
      ],
      "execution_count": 0,
      "outputs": []
    },
    {
      "cell_type": "code",
      "metadata": {
        "id": "PrCnAuc2mgk6",
        "colab_type": "code",
        "outputId": "f44b3cc4-db8a-47cd-b767-194e86124369",
        "colab": {
          "base_uri": "https://localhost:8080/",
          "height": 417
        }
      },
      "source": [
        "\n"
      ],
      "execution_count": 0,
      "outputs": [
        {
          "output_type": "stream",
          "text": [
            "WARNING:tensorflow:From /usr/local/lib/python3.6/dist-packages/keras/backend/tensorflow_backend.py:3733: calling dropout (from tensorflow.python.ops.nn_ops) with keep_prob is deprecated and will be removed in a future version.\n",
            "Instructions for updating:\n",
            "Please use `rate` instead of `keep_prob`. Rate should be set to `rate = 1 - keep_prob`.\n",
            "Model: \"sequential_5\"\n",
            "_________________________________________________________________\n",
            "Layer (type)                 Output Shape              Param #   \n",
            "=================================================================\n",
            "embedding_4 (Embedding)      (None, 100, 100)          1155100   \n",
            "_________________________________________________________________\n",
            "dropout_1 (Dropout)          (None, 100, 100)          0         \n",
            "_________________________________________________________________\n",
            "lstm_2 (LSTM)                (None, 100)               80400     \n",
            "_________________________________________________________________\n",
            "dropout_2 (Dropout)          (None, 100)               0         \n",
            "_________________________________________________________________\n",
            "dense_6 (Dense)              (None, 1)                 101       \n",
            "=================================================================\n",
            "Total params: 1,235,601\n",
            "Trainable params: 1,235,601\n",
            "Non-trainable params: 0\n",
            "_________________________________________________________________\n",
            "None\n"
          ],
          "name": "stdout"
        }
      ]
    },
    {
      "cell_type": "code",
      "metadata": {
        "id": "OgiiX3N_mgef",
        "colab_type": "code",
        "outputId": "b0feded3-3eca-4d24-a3f5-6ea155367f59",
        "colab": {
          "base_uri": "https://localhost:8080/",
          "height": 35
        }
      },
      "source": [
        "# Evaluamos\n",
        "train_acc = model.evaluate(X_train, y_train)[1]\n",
        "prediction = model.predict(X_test)"
      ],
      "execution_count": 0,
      "outputs": [
        {
          "output_type": "stream",
          "text": [
            "7500/7500 [==============================] - 6s 819us/step\n"
          ],
          "name": "stdout"
        }
      ]
    },
    {
      "cell_type": "code",
      "metadata": {
        "id": "CxmIfHqdpIJQ",
        "colab_type": "code",
        "colab": {}
      },
      "source": [
        "prediccion = convertir_prediccion_en_array(prediction)"
      ],
      "execution_count": 0,
      "outputs": []
    },
    {
      "cell_type": "code",
      "metadata": {
        "id": "nEdFHo28pIGS",
        "colab_type": "code",
        "outputId": "9d5dbd5a-5e03-41f7-a914-61181c72db90",
        "colab": {
          "base_uri": "https://localhost:8080/",
          "height": 1000
        }
      },
      "source": [
        "prediccion"
      ],
      "execution_count": 0,
      "outputs": [
        {
          "output_type": "execute_result",
          "data": {
            "text/plain": [
              "[1.0,\n",
              " 1.0,\n",
              " 1.0,\n",
              " 1.0,\n",
              " 1.0,\n",
              " 1.0,\n",
              " 1.0,\n",
              " 1.0,\n",
              " 1.0,\n",
              " 1.0,\n",
              " 1.0,\n",
              " 1.0,\n",
              " 1.0,\n",
              " 1.0,\n",
              " 1.0,\n",
              " 1.0,\n",
              " 1.0,\n",
              " 1.0,\n",
              " 1.0,\n",
              " 1.0,\n",
              " 1.0,\n",
              " 1.0,\n",
              " 1.0,\n",
              " 1.0,\n",
              " 1.0,\n",
              " 1.0,\n",
              " 1.0,\n",
              " 1.0,\n",
              " 1.0,\n",
              " 1.0,\n",
              " 1.0,\n",
              " 1.0,\n",
              " 1.0,\n",
              " 1.0,\n",
              " 1.0,\n",
              " 1.0,\n",
              " 1.0,\n",
              " 1.0,\n",
              " 1.0,\n",
              " 1.0,\n",
              " 1.0,\n",
              " 1.0,\n",
              " 1.0,\n",
              " 1.0,\n",
              " 1.0,\n",
              " 1.0,\n",
              " 1.0,\n",
              " 1.0,\n",
              " 1.0,\n",
              " 1.0,\n",
              " 1.0,\n",
              " 1.0,\n",
              " 1.0,\n",
              " 1.0,\n",
              " 1.0,\n",
              " 1.0,\n",
              " 1.0,\n",
              " 1.0,\n",
              " 1.0,\n",
              " 1.0,\n",
              " 1.0,\n",
              " 1.0,\n",
              " 1.0,\n",
              " 1.0,\n",
              " 1.0,\n",
              " 1.0,\n",
              " 1.0,\n",
              " 1.0,\n",
              " 1.0,\n",
              " 1.0,\n",
              " 1.0,\n",
              " 1.0,\n",
              " 1.0,\n",
              " 1.0,\n",
              " 1.0,\n",
              " 1.0,\n",
              " 1.0,\n",
              " 1.0,\n",
              " 1.0,\n",
              " 1.0,\n",
              " 1.0,\n",
              " 1.0,\n",
              " 1.0,\n",
              " 1.0,\n",
              " 1.0,\n",
              " 1.0,\n",
              " 1.0,\n",
              " 1.0,\n",
              " 1.0,\n",
              " 1.0,\n",
              " 1.0,\n",
              " 1.0,\n",
              " 1.0,\n",
              " 1.0,\n",
              " 1.0,\n",
              " 1.0,\n",
              " 1.0,\n",
              " 1.0,\n",
              " 1.0,\n",
              " 1.0,\n",
              " 1.0,\n",
              " 1.0,\n",
              " 1.0,\n",
              " 1.0,\n",
              " 1.0,\n",
              " 1.0,\n",
              " 1.0,\n",
              " 1.0,\n",
              " 1.0,\n",
              " 1.0,\n",
              " 1.0,\n",
              " 1.0,\n",
              " 1.0,\n",
              " 1.0,\n",
              " 1.0,\n",
              " 1.0,\n",
              " 1.0,\n",
              " 1.0,\n",
              " 1.0,\n",
              " 1.0,\n",
              " 1.0,\n",
              " 1.0,\n",
              " 1.0,\n",
              " 1.0,\n",
              " 1.0,\n",
              " 1.0,\n",
              " 1.0,\n",
              " 1.0,\n",
              " 1.0,\n",
              " 1.0,\n",
              " 1.0,\n",
              " 1.0,\n",
              " 1.0,\n",
              " 1.0,\n",
              " 1.0,\n",
              " 1.0,\n",
              " 1.0,\n",
              " 1.0,\n",
              " 1.0,\n",
              " 1.0,\n",
              " 1.0,\n",
              " 1.0,\n",
              " 1.0,\n",
              " 1.0,\n",
              " 1.0,\n",
              " 1.0,\n",
              " 1.0,\n",
              " 1.0,\n",
              " 1.0,\n",
              " 1.0,\n",
              " 1.0,\n",
              " 1.0,\n",
              " 1.0,\n",
              " 1.0,\n",
              " 1.0,\n",
              " 1.0,\n",
              " 1.0,\n",
              " 1.0,\n",
              " 1.0,\n",
              " 1.0,\n",
              " 1.0,\n",
              " 1.0,\n",
              " 1.0,\n",
              " 1.0,\n",
              " 1.0,\n",
              " 1.0,\n",
              " 1.0,\n",
              " 1.0,\n",
              " 1.0,\n",
              " 1.0,\n",
              " 1.0,\n",
              " 1.0,\n",
              " 1.0,\n",
              " 1.0,\n",
              " 1.0,\n",
              " 1.0,\n",
              " 1.0,\n",
              " 1.0,\n",
              " 1.0,\n",
              " 1.0,\n",
              " 1.0,\n",
              " 1.0,\n",
              " 1.0,\n",
              " 1.0,\n",
              " 1.0,\n",
              " 1.0,\n",
              " 1.0,\n",
              " 1.0,\n",
              " 1.0,\n",
              " 1.0,\n",
              " 1.0,\n",
              " 1.0,\n",
              " 1.0,\n",
              " 1.0,\n",
              " 1.0,\n",
              " 1.0,\n",
              " 1.0,\n",
              " 1.0,\n",
              " 1.0,\n",
              " 1.0,\n",
              " 1.0,\n",
              " 1.0,\n",
              " 1.0,\n",
              " 1.0,\n",
              " 1.0,\n",
              " 1.0,\n",
              " 1.0,\n",
              " 1.0,\n",
              " 1.0,\n",
              " 1.0,\n",
              " 1.0,\n",
              " 1.0,\n",
              " 1.0,\n",
              " 1.0,\n",
              " 1.0,\n",
              " 1.0,\n",
              " 1.0,\n",
              " 1.0,\n",
              " 1.0,\n",
              " 1.0,\n",
              " 1.0,\n",
              " 1.0,\n",
              " 1.0,\n",
              " 1.0,\n",
              " 1.0,\n",
              " 1.0,\n",
              " 1.0,\n",
              " 1.0,\n",
              " 1.0,\n",
              " 1.0,\n",
              " 1.0,\n",
              " 1.0,\n",
              " 1.0,\n",
              " 1.0,\n",
              " 1.0,\n",
              " 1.0,\n",
              " 1.0,\n",
              " 1.0,\n",
              " 1.0,\n",
              " 1.0,\n",
              " 1.0,\n",
              " 1.0,\n",
              " 1.0,\n",
              " 1.0,\n",
              " 1.0,\n",
              " 1.0,\n",
              " 1.0,\n",
              " 1.0,\n",
              " 1.0,\n",
              " 1.0,\n",
              " 1.0,\n",
              " 1.0,\n",
              " 1.0,\n",
              " 1.0,\n",
              " 1.0,\n",
              " 1.0,\n",
              " 1.0,\n",
              " 1.0,\n",
              " 1.0,\n",
              " 1.0,\n",
              " 1.0,\n",
              " 1.0,\n",
              " 1.0,\n",
              " 1.0,\n",
              " 1.0,\n",
              " 1.0,\n",
              " 1.0,\n",
              " 1.0,\n",
              " 1.0,\n",
              " 1.0,\n",
              " 1.0,\n",
              " 1.0,\n",
              " 1.0,\n",
              " 1.0,\n",
              " 1.0,\n",
              " 1.0,\n",
              " 1.0,\n",
              " 1.0,\n",
              " 1.0,\n",
              " 1.0,\n",
              " 1.0,\n",
              " 1.0,\n",
              " 1.0,\n",
              " 1.0,\n",
              " 1.0,\n",
              " 1.0,\n",
              " 1.0,\n",
              " 1.0,\n",
              " 1.0,\n",
              " 1.0,\n",
              " 1.0,\n",
              " 1.0,\n",
              " 1.0,\n",
              " 1.0,\n",
              " 1.0,\n",
              " 1.0,\n",
              " 1.0,\n",
              " 1.0,\n",
              " 1.0,\n",
              " 1.0,\n",
              " 1.0,\n",
              " 1.0,\n",
              " 1.0,\n",
              " 1.0,\n",
              " 1.0,\n",
              " 1.0,\n",
              " 1.0,\n",
              " 1.0,\n",
              " 1.0,\n",
              " 1.0,\n",
              " 1.0,\n",
              " 1.0,\n",
              " 1.0,\n",
              " 1.0,\n",
              " 1.0,\n",
              " 1.0,\n",
              " 1.0,\n",
              " 1.0,\n",
              " 1.0,\n",
              " 1.0,\n",
              " 1.0,\n",
              " 1.0,\n",
              " 1.0,\n",
              " 1.0,\n",
              " 1.0,\n",
              " 1.0,\n",
              " 1.0,\n",
              " 1.0,\n",
              " 1.0,\n",
              " 1.0,\n",
              " 1.0,\n",
              " 1.0,\n",
              " 1.0,\n",
              " 1.0,\n",
              " 1.0,\n",
              " 1.0,\n",
              " 1.0,\n",
              " 1.0,\n",
              " 1.0,\n",
              " 1.0,\n",
              " 1.0,\n",
              " 1.0,\n",
              " 1.0,\n",
              " 1.0,\n",
              " 1.0,\n",
              " 1.0,\n",
              " 1.0,\n",
              " 1.0,\n",
              " 1.0,\n",
              " 1.0,\n",
              " 1.0,\n",
              " 1.0,\n",
              " 1.0,\n",
              " 1.0,\n",
              " 1.0,\n",
              " 1.0,\n",
              " 1.0,\n",
              " 1.0,\n",
              " 1.0,\n",
              " 1.0,\n",
              " 1.0,\n",
              " 1.0,\n",
              " 1.0,\n",
              " 1.0,\n",
              " 1.0,\n",
              " 1.0,\n",
              " 1.0,\n",
              " 1.0,\n",
              " 1.0,\n",
              " 1.0,\n",
              " 1.0,\n",
              " 1.0,\n",
              " 1.0,\n",
              " 1.0,\n",
              " 1.0,\n",
              " 1.0,\n",
              " 1.0,\n",
              " 1.0,\n",
              " 1.0,\n",
              " 1.0,\n",
              " 1.0,\n",
              " 1.0,\n",
              " 1.0,\n",
              " 1.0,\n",
              " 1.0,\n",
              " 1.0,\n",
              " 1.0,\n",
              " 1.0,\n",
              " 1.0,\n",
              " 1.0,\n",
              " 1.0,\n",
              " 1.0,\n",
              " 1.0,\n",
              " 1.0,\n",
              " 1.0,\n",
              " 1.0,\n",
              " 1.0,\n",
              " 1.0,\n",
              " 1.0,\n",
              " 1.0,\n",
              " 1.0,\n",
              " 1.0,\n",
              " 1.0,\n",
              " 1.0,\n",
              " 1.0,\n",
              " 1.0,\n",
              " 1.0,\n",
              " 1.0,\n",
              " 1.0,\n",
              " 1.0,\n",
              " 1.0,\n",
              " 1.0,\n",
              " 1.0,\n",
              " 1.0,\n",
              " 1.0,\n",
              " 1.0,\n",
              " 1.0,\n",
              " 1.0,\n",
              " 1.0,\n",
              " 1.0,\n",
              " 1.0,\n",
              " 1.0,\n",
              " 1.0,\n",
              " 1.0,\n",
              " 1.0,\n",
              " 1.0,\n",
              " 1.0,\n",
              " 1.0,\n",
              " 1.0,\n",
              " 1.0,\n",
              " 1.0,\n",
              " 1.0,\n",
              " 1.0,\n",
              " 1.0,\n",
              " 1.0,\n",
              " 1.0,\n",
              " 1.0,\n",
              " 1.0,\n",
              " 1.0,\n",
              " 1.0,\n",
              " 1.0,\n",
              " 1.0,\n",
              " 1.0,\n",
              " 1.0,\n",
              " 1.0,\n",
              " 1.0,\n",
              " 1.0,\n",
              " 1.0,\n",
              " 1.0,\n",
              " 1.0,\n",
              " 1.0,\n",
              " 1.0,\n",
              " 1.0,\n",
              " 1.0,\n",
              " 1.0,\n",
              " 1.0,\n",
              " 1.0,\n",
              " 1.0,\n",
              " 1.0,\n",
              " 1.0,\n",
              " 1.0,\n",
              " 1.0,\n",
              " 1.0,\n",
              " 1.0,\n",
              " 1.0,\n",
              " 1.0,\n",
              " 1.0,\n",
              " 1.0,\n",
              " 1.0,\n",
              " 1.0,\n",
              " 1.0,\n",
              " 1.0,\n",
              " 1.0,\n",
              " 1.0,\n",
              " 1.0,\n",
              " 1.0,\n",
              " 1.0,\n",
              " 1.0,\n",
              " 1.0,\n",
              " 1.0,\n",
              " 1.0,\n",
              " 1.0,\n",
              " 1.0,\n",
              " 1.0,\n",
              " 1.0,\n",
              " 1.0,\n",
              " 1.0,\n",
              " 1.0,\n",
              " 1.0,\n",
              " 1.0,\n",
              " 1.0,\n",
              " 1.0,\n",
              " 1.0,\n",
              " 1.0,\n",
              " 1.0,\n",
              " 1.0,\n",
              " 1.0,\n",
              " 1.0,\n",
              " 1.0,\n",
              " 1.0,\n",
              " 1.0,\n",
              " 1.0,\n",
              " 1.0,\n",
              " 1.0,\n",
              " 1.0,\n",
              " 1.0,\n",
              " 1.0,\n",
              " 1.0,\n",
              " 1.0,\n",
              " 1.0,\n",
              " 1.0,\n",
              " 1.0,\n",
              " 1.0,\n",
              " 1.0,\n",
              " 1.0,\n",
              " 1.0,\n",
              " 1.0,\n",
              " 1.0,\n",
              " 1.0,\n",
              " 1.0,\n",
              " 1.0,\n",
              " 1.0,\n",
              " 1.0,\n",
              " 1.0,\n",
              " 1.0,\n",
              " 1.0,\n",
              " 1.0,\n",
              " 1.0,\n",
              " 1.0,\n",
              " 1.0,\n",
              " 1.0,\n",
              " 1.0,\n",
              " 1.0,\n",
              " 1.0,\n",
              " 1.0,\n",
              " 1.0,\n",
              " 1.0,\n",
              " 1.0,\n",
              " 1.0,\n",
              " 1.0,\n",
              " 1.0,\n",
              " 1.0,\n",
              " 1.0,\n",
              " 1.0,\n",
              " 1.0,\n",
              " 1.0,\n",
              " 1.0,\n",
              " 1.0,\n",
              " 1.0,\n",
              " 1.0,\n",
              " 1.0,\n",
              " 1.0,\n",
              " 1.0,\n",
              " 1.0,\n",
              " 1.0,\n",
              " 1.0,\n",
              " 1.0,\n",
              " 1.0,\n",
              " 1.0,\n",
              " 1.0,\n",
              " 1.0,\n",
              " 1.0,\n",
              " 1.0,\n",
              " 1.0,\n",
              " 1.0,\n",
              " 1.0,\n",
              " 1.0,\n",
              " 1.0,\n",
              " 1.0,\n",
              " 1.0,\n",
              " 1.0,\n",
              " 1.0,\n",
              " 1.0,\n",
              " 1.0,\n",
              " 1.0,\n",
              " 1.0,\n",
              " 1.0,\n",
              " 1.0,\n",
              " 1.0,\n",
              " 1.0,\n",
              " 1.0,\n",
              " 1.0,\n",
              " 1.0,\n",
              " 1.0,\n",
              " 1.0,\n",
              " 1.0,\n",
              " 1.0,\n",
              " 1.0,\n",
              " 1.0,\n",
              " 1.0,\n",
              " 1.0,\n",
              " 1.0,\n",
              " 1.0,\n",
              " 1.0,\n",
              " 1.0,\n",
              " 1.0,\n",
              " 1.0,\n",
              " 1.0,\n",
              " 1.0,\n",
              " 1.0,\n",
              " 1.0,\n",
              " 1.0,\n",
              " 1.0,\n",
              " 1.0,\n",
              " 1.0,\n",
              " 1.0,\n",
              " 1.0,\n",
              " 1.0,\n",
              " 1.0,\n",
              " 1.0,\n",
              " 1.0,\n",
              " 1.0,\n",
              " 1.0,\n",
              " 1.0,\n",
              " 1.0,\n",
              " 1.0,\n",
              " 1.0,\n",
              " 1.0,\n",
              " 1.0,\n",
              " 1.0,\n",
              " 1.0,\n",
              " 1.0,\n",
              " 1.0,\n",
              " 1.0,\n",
              " 1.0,\n",
              " 1.0,\n",
              " 1.0,\n",
              " 1.0,\n",
              " 1.0,\n",
              " 1.0,\n",
              " 1.0,\n",
              " 1.0,\n",
              " 1.0,\n",
              " 1.0,\n",
              " 1.0,\n",
              " 1.0,\n",
              " 1.0,\n",
              " 1.0,\n",
              " 1.0,\n",
              " 1.0,\n",
              " 1.0,\n",
              " 1.0,\n",
              " 1.0,\n",
              " 1.0,\n",
              " 1.0,\n",
              " 1.0,\n",
              " 1.0,\n",
              " 1.0,\n",
              " 1.0,\n",
              " 1.0,\n",
              " 1.0,\n",
              " 1.0,\n",
              " 1.0,\n",
              " 1.0,\n",
              " 1.0,\n",
              " 1.0,\n",
              " 1.0,\n",
              " 1.0,\n",
              " 1.0,\n",
              " 1.0,\n",
              " 1.0,\n",
              " 1.0,\n",
              " 1.0,\n",
              " 1.0,\n",
              " 1.0,\n",
              " 1.0,\n",
              " 1.0,\n",
              " 1.0,\n",
              " 1.0,\n",
              " 1.0,\n",
              " 1.0,\n",
              " 1.0,\n",
              " 1.0,\n",
              " 1.0,\n",
              " 1.0,\n",
              " 1.0,\n",
              " 1.0,\n",
              " 1.0,\n",
              " 1.0,\n",
              " 1.0,\n",
              " 1.0,\n",
              " 1.0,\n",
              " 1.0,\n",
              " 1.0,\n",
              " 1.0,\n",
              " 1.0,\n",
              " 1.0,\n",
              " 1.0,\n",
              " 1.0,\n",
              " 1.0,\n",
              " 1.0,\n",
              " 1.0,\n",
              " 1.0,\n",
              " 1.0,\n",
              " 1.0,\n",
              " 1.0,\n",
              " 1.0,\n",
              " 1.0,\n",
              " 1.0,\n",
              " 1.0,\n",
              " 1.0,\n",
              " 1.0,\n",
              " 1.0,\n",
              " 1.0,\n",
              " 1.0,\n",
              " 1.0,\n",
              " 1.0,\n",
              " 1.0,\n",
              " 1.0,\n",
              " 1.0,\n",
              " 1.0,\n",
              " 1.0,\n",
              " 1.0,\n",
              " 1.0,\n",
              " 1.0,\n",
              " 1.0,\n",
              " 1.0,\n",
              " 1.0,\n",
              " 1.0,\n",
              " 1.0,\n",
              " 1.0,\n",
              " 1.0,\n",
              " 1.0,\n",
              " 1.0,\n",
              " 1.0,\n",
              " 1.0,\n",
              " 1.0,\n",
              " 1.0,\n",
              " 1.0,\n",
              " 1.0,\n",
              " 1.0,\n",
              " 1.0,\n",
              " 1.0,\n",
              " 1.0,\n",
              " 1.0,\n",
              " 1.0,\n",
              " 1.0,\n",
              " 1.0,\n",
              " 1.0,\n",
              " 1.0,\n",
              " 1.0,\n",
              " 1.0,\n",
              " 1.0,\n",
              " 1.0,\n",
              " 1.0,\n",
              " 1.0,\n",
              " 1.0,\n",
              " 1.0,\n",
              " 1.0,\n",
              " 1.0,\n",
              " 1.0,\n",
              " 1.0,\n",
              " 1.0,\n",
              " 1.0,\n",
              " 1.0,\n",
              " 1.0,\n",
              " 1.0,\n",
              " 1.0,\n",
              " 1.0,\n",
              " 1.0,\n",
              " 1.0,\n",
              " 1.0,\n",
              " 1.0,\n",
              " 1.0,\n",
              " 1.0,\n",
              " 1.0,\n",
              " 1.0,\n",
              " 1.0,\n",
              " 1.0,\n",
              " 1.0,\n",
              " 1.0,\n",
              " 1.0,\n",
              " 1.0,\n",
              " 1.0,\n",
              " 1.0,\n",
              " 1.0,\n",
              " 1.0,\n",
              " 1.0,\n",
              " 1.0,\n",
              " 1.0,\n",
              " 1.0,\n",
              " 1.0,\n",
              " 1.0,\n",
              " 1.0,\n",
              " 1.0,\n",
              " 1.0,\n",
              " 1.0,\n",
              " 1.0,\n",
              " 1.0,\n",
              " 1.0,\n",
              " 1.0,\n",
              " 1.0,\n",
              " 1.0,\n",
              " 1.0,\n",
              " 1.0,\n",
              " 1.0,\n",
              " 1.0,\n",
              " 1.0,\n",
              " 1.0,\n",
              " 1.0,\n",
              " 1.0,\n",
              " 1.0,\n",
              " 1.0,\n",
              " 1.0,\n",
              " 1.0,\n",
              " 1.0,\n",
              " 1.0,\n",
              " 1.0,\n",
              " 1.0,\n",
              " 1.0,\n",
              " 1.0,\n",
              " 1.0,\n",
              " 1.0,\n",
              " 1.0,\n",
              " 1.0,\n",
              " 1.0,\n",
              " 1.0,\n",
              " 1.0,\n",
              " 1.0,\n",
              " 1.0,\n",
              " 1.0,\n",
              " 1.0,\n",
              " 1.0,\n",
              " 1.0,\n",
              " 1.0,\n",
              " 1.0,\n",
              " 1.0,\n",
              " 1.0,\n",
              " 1.0,\n",
              " 1.0,\n",
              " 1.0,\n",
              " 1.0,\n",
              " 1.0,\n",
              " 1.0,\n",
              " 1.0,\n",
              " 1.0,\n",
              " 1.0,\n",
              " 1.0,\n",
              " 1.0,\n",
              " 1.0,\n",
              " 1.0,\n",
              " 1.0,\n",
              " 1.0,\n",
              " 1.0,\n",
              " 1.0,\n",
              " 1.0,\n",
              " 1.0,\n",
              " 1.0,\n",
              " 1.0,\n",
              " 1.0,\n",
              " 1.0,\n",
              " 1.0,\n",
              " 1.0,\n",
              " 1.0,\n",
              " 1.0,\n",
              " 1.0,\n",
              " 1.0,\n",
              " 1.0,\n",
              " 1.0,\n",
              " 1.0,\n",
              " 1.0,\n",
              " 1.0,\n",
              " 1.0,\n",
              " 1.0,\n",
              " 1.0,\n",
              " 1.0,\n",
              " 1.0,\n",
              " 1.0,\n",
              " 1.0,\n",
              " 1.0,\n",
              " 1.0,\n",
              " 1.0,\n",
              " 1.0,\n",
              " 1.0,\n",
              " 1.0,\n",
              " 1.0,\n",
              " 1.0,\n",
              " 1.0,\n",
              " 1.0,\n",
              " 1.0,\n",
              " 1.0,\n",
              " 1.0,\n",
              " 1.0,\n",
              " 1.0,\n",
              " 1.0,\n",
              " 1.0,\n",
              " 1.0,\n",
              " 1.0,\n",
              " 1.0,\n",
              " 1.0,\n",
              " 1.0,\n",
              " 1.0,\n",
              " 1.0,\n",
              " 1.0,\n",
              " 1.0,\n",
              " 1.0,\n",
              " 1.0,\n",
              " 1.0,\n",
              " 1.0,\n",
              " 1.0,\n",
              " 1.0,\n",
              " 1.0,\n",
              " 1.0,\n",
              " 1.0,\n",
              " 1.0,\n",
              " 1.0,\n",
              " 1.0,\n",
              " 1.0,\n",
              " 1.0,\n",
              " 1.0,\n",
              " 1.0,\n",
              " 1.0,\n",
              " 1.0,\n",
              " 1.0,\n",
              " 1.0,\n",
              " 1.0,\n",
              " 1.0,\n",
              " 1.0,\n",
              " 1.0,\n",
              " 1.0,\n",
              " 1.0,\n",
              " 1.0,\n",
              " 1.0,\n",
              " 1.0,\n",
              " 1.0,\n",
              " 1.0,\n",
              " 1.0,\n",
              " 1.0,\n",
              " 1.0,\n",
              " 1.0,\n",
              " 1.0,\n",
              " 1.0,\n",
              " 1.0,\n",
              " 1.0,\n",
              " 1.0,\n",
              " 1.0,\n",
              " 1.0,\n",
              " 1.0,\n",
              " 1.0,\n",
              " 1.0,\n",
              " 1.0,\n",
              " 1.0,\n",
              " 1.0,\n",
              " 1.0,\n",
              " 1.0,\n",
              " 1.0,\n",
              " 1.0,\n",
              " 1.0,\n",
              " 1.0,\n",
              " 1.0,\n",
              " 1.0,\n",
              " 1.0,\n",
              " 1.0,\n",
              " 1.0,\n",
              " 1.0,\n",
              " 1.0,\n",
              " 1.0,\n",
              " 1.0,\n",
              " 1.0,\n",
              " 1.0,\n",
              " 1.0,\n",
              " 1.0,\n",
              " 1.0,\n",
              " 1.0,\n",
              " 1.0,\n",
              " 1.0,\n",
              " 1.0,\n",
              " 1.0,\n",
              " 1.0,\n",
              " 1.0,\n",
              " 1.0,\n",
              " 1.0,\n",
              " 1.0,\n",
              " 1.0,\n",
              " 1.0,\n",
              " 1.0,\n",
              " 1.0,\n",
              " 1.0,\n",
              " 1.0,\n",
              " 1.0,\n",
              " 1.0,\n",
              " 1.0,\n",
              " 1.0,\n",
              " 1.0,\n",
              " 1.0,\n",
              " 1.0,\n",
              " 1.0,\n",
              " 1.0,\n",
              " 1.0,\n",
              " 1.0,\n",
              " 1.0,\n",
              " 1.0,\n",
              " 1.0,\n",
              " 1.0,\n",
              " 1.0,\n",
              " 1.0,\n",
              " 1.0,\n",
              " 1.0,\n",
              " 1.0,\n",
              " 1.0,\n",
              " ...]"
            ]
          },
          "metadata": {
            "tags": []
          },
          "execution_count": 84
        }
      ]
    },
    {
      "cell_type": "code",
      "metadata": {
        "id": "c2vCrsYLpIDx",
        "colab_type": "code",
        "colab": {}
      },
      "source": [
        ""
      ],
      "execution_count": 0,
      "outputs": []
    },
    {
      "cell_type": "code",
      "metadata": {
        "id": "kb34V64NpIBU",
        "colab_type": "code",
        "colab": {}
      },
      "source": [
        ""
      ],
      "execution_count": 0,
      "outputs": []
    },
    {
      "cell_type": "code",
      "metadata": {
        "id": "Cb0GC3yupH-e",
        "colab_type": "code",
        "colab": {}
      },
      "source": [
        ""
      ],
      "execution_count": 0,
      "outputs": []
    },
    {
      "cell_type": "code",
      "metadata": {
        "id": "olAddJp-pH7X",
        "colab_type": "code",
        "colab": {}
      },
      "source": [
        ""
      ],
      "execution_count": 0,
      "outputs": []
    },
    {
      "cell_type": "code",
      "metadata": {
        "id": "VFh3qvjVpH5l",
        "colab_type": "code",
        "colab": {}
      },
      "source": [
        ""
      ],
      "execution_count": 0,
      "outputs": []
    },
    {
      "cell_type": "code",
      "metadata": {
        "id": "1tQez8IvpH2w",
        "colab_type": "code",
        "colab": {}
      },
      "source": [
        ""
      ],
      "execution_count": 0,
      "outputs": []
    },
    {
      "cell_type": "code",
      "metadata": {
        "id": "0wBdzFAnpHzO",
        "colab_type": "code",
        "colab": {}
      },
      "source": [
        ""
      ],
      "execution_count": 0,
      "outputs": []
    },
    {
      "cell_type": "code",
      "metadata": {
        "id": "sgsOmb0-mgVN",
        "colab_type": "code",
        "colab": {}
      },
      "source": [
        ""
      ],
      "execution_count": 0,
      "outputs": []
    },
    {
      "cell_type": "code",
      "metadata": {
        "id": "ItdRVvtmN4x6",
        "colab_type": "code",
        "colab": {}
      },
      "source": [
        "dataset = []\n",
        "for row in df.iterrows():\n",
        "    ix, data = row\n",
        "    dataset.append((data[1], data[0]))"
      ],
      "execution_count": 0,
      "outputs": []
    },
    {
      "cell_type": "code",
      "metadata": {
        "id": "mPh3vfsIOTEo",
        "colab_type": "code",
        "colab": {}
      },
      "source": [
        "from collections import Counter"
      ],
      "execution_count": 0,
      "outputs": []
    },
    {
      "cell_type": "code",
      "metadata": {
        "id": "_fRpoCq7OKv5",
        "colab_type": "code",
        "outputId": "bf2d5463-0c89-479a-df5b-faf0a287045d",
        "colab": {
          "base_uri": "https://localhost:8080/",
          "height": 52
        }
      },
      "source": [
        "tokens = []\n",
        "tokenized = []\n",
        "for x, y in dataset:\n",
        "    x_t = nlp(x)\n",
        "    toks = [t.text for t in x_t]\n",
        "    tokens+= toks\n",
        "    tokenized.append((toks, y))\n",
        "    \n",
        "vocab_counter = Counter(tokens)\n",
        "vocab = set(tokens)\n",
        "print('Num de features a usar: ', len(vocab))  \n",
        "print(len(tokenized))"
      ],
      "execution_count": 0,
      "outputs": [
        {
          "output_type": "stream",
          "text": [
            "Num de features a usar:  16280\n",
            "10000\n"
          ],
          "name": "stdout"
        }
      ]
    },
    {
      "cell_type": "code",
      "metadata": {
        "id": "aOTUolqrOQnt",
        "colab_type": "code",
        "outputId": "d5227e72-c1e1-41be-dd20-9e543a0a22c5",
        "colab": {
          "base_uri": "https://localhost:8080/",
          "height": 35
        }
      },
      "source": [
        "maxlen = max([len(x) for x, _ in tokenized])\n",
        "maxlen"
      ],
      "execution_count": 0,
      "outputs": [
        {
          "output_type": "execute_result",
          "data": {
            "text/plain": [
              "179"
            ]
          },
          "metadata": {
            "tags": []
          },
          "execution_count": 18
        }
      ]
    },
    {
      "cell_type": "code",
      "metadata": {
        "id": "IIL8cAcoOv8d",
        "colab_type": "code",
        "outputId": "bd12c43b-f28b-45bf-9472-dcaf7e6b8c97",
        "colab": {
          "base_uri": "https://localhost:8080/",
          "height": 35
        }
      },
      "source": [
        "lens = [len(x) for x, _ in tokenized]\n",
        "median = np.median(np.array(lens))\n",
        "mean = np.mean(np.array(lens))\n",
        "maxlen = int(median)*2\n",
        "print(median, mean, maxlen)"
      ],
      "execution_count": 0,
      "outputs": [
        {
          "output_type": "stream",
          "text": [
            "17.0 17.8821 34\n"
          ],
          "name": "stdout"
        }
      ]
    },
    {
      "cell_type": "code",
      "metadata": {
        "id": "2mmVUwA0Ov5m",
        "colab_type": "code",
        "outputId": "c380700c-2bdc-4256-c1fd-ff95e32e75f1",
        "colab": {
          "base_uri": "https://localhost:8080/",
          "height": 35
        }
      },
      "source": [
        "tokenized_filtered = [(x, y) for x, y in tokenized if len(x) < maxlen]\n",
        "len(tokenized_filtered)"
      ],
      "execution_count": 0,
      "outputs": [
        {
          "output_type": "execute_result",
          "data": {
            "text/plain": [
              "9715"
            ]
          },
          "metadata": {
            "tags": []
          },
          "execution_count": 20
        }
      ]
    },
    {
      "cell_type": "code",
      "metadata": {
        "id": "1MohXPNVOv23",
        "colab_type": "code",
        "colab": {}
      },
      "source": [
        "# Construir el vocabulario como siempre\n",
        "w2id = {k:i for i, k in enumerate(vocab)}\n",
        "w2id['<UNK>'] = len(w2id)"
      ],
      "execution_count": 0,
      "outputs": []
    },
    {
      "cell_type": "code",
      "metadata": {
        "id": "N63cG0nwOvzt",
        "colab_type": "code",
        "colab": {}
      },
      "source": [
        "labels = ['POS', 'NEG']"
      ],
      "execution_count": 0,
      "outputs": []
    },
    {
      "cell_type": "code",
      "metadata": {
        "id": "W6zoar4DOvw6",
        "colab_type": "code",
        "colab": {}
      },
      "source": [
        "l2id = {label:i for i, label in enumerate(labels)}"
      ],
      "execution_count": 0,
      "outputs": []
    },
    {
      "cell_type": "code",
      "metadata": {
        "id": "Gox8sGZ_OvuT",
        "colab_type": "code",
        "colab": {}
      },
      "source": [
        ""
      ],
      "execution_count": 0,
      "outputs": []
    },
    {
      "cell_type": "code",
      "metadata": {
        "id": "PxUV4cu7Ovrm",
        "colab_type": "code",
        "colab": {}
      },
      "source": [
        "input_ready = []\n",
        "for x, y in tokenized_filtered:\n",
        "    sentence = np.zeros((maxlen))\n",
        "    label = np.zeros((len(labels)))\n",
        "    label[int(y)-1] = 1\n",
        "    for i, t in enumerate(x):\n",
        "        sentence[i] = w2id[t] if t in vocab_counter and vocab_counter[t]>=5 else w2id['<UNK>']\n",
        "    input_ready.append((sentence,label))"
      ],
      "execution_count": 0,
      "outputs": []
    },
    {
      "cell_type": "code",
      "metadata": {
        "id": "Lv-Ifi36Ovo0",
        "colab_type": "code",
        "outputId": "a6716663-6bed-41e4-e558-484e5ad827e2",
        "colab": {
          "base_uri": "https://localhost:8080/",
          "height": 35
        }
      },
      "source": [
        "input_ready[0][0].shape"
      ],
      "execution_count": 0,
      "outputs": [
        {
          "output_type": "execute_result",
          "data": {
            "text/plain": [
              "(34,)"
            ]
          },
          "metadata": {
            "tags": []
          },
          "execution_count": 25
        }
      ]
    },
    {
      "cell_type": "code",
      "metadata": {
        "id": "5vUw6rlaOvly",
        "colab_type": "code",
        "outputId": "35ad94d2-188b-47f2-8b9a-2c51e89e1907",
        "colab": {
          "base_uri": "https://localhost:8080/",
          "height": 173
        }
      },
      "source": [
        "splits = split_train_val_test(input_ready)\n",
        "print(splits['train'][0].shape)\n",
        "print(splits['train'][1].shape)\n",
        "splits['train'][0]"
      ],
      "execution_count": 0,
      "outputs": [
        {
          "output_type": "stream",
          "text": [
            "(7772, 34)\n",
            "(7772, 2)\n"
          ],
          "name": "stdout"
        },
        {
          "output_type": "execute_result",
          "data": {
            "text/plain": [
              "array([[ 6656.,  4920.,  7875., ...,     0.,     0.,     0.],\n",
              "       [ 9182.,  9703., 14341., ...,     0.,     0.,     0.],\n",
              "       [ 9182.,  9703., 14341., ...,     0.,     0.,     0.],\n",
              "       ...,\n",
              "       [ 9182.,  9703., 14341., ...,     0.,     0.,     0.],\n",
              "       [ 9182.,  8604., 14341., ...,     0.,     0.,     0.],\n",
              "       [ 9182.,  9703., 14341., ...,     0.,     0.,     0.]])"
            ]
          },
          "metadata": {
            "tags": []
          },
          "execution_count": 26
        }
      ]
    },
    {
      "cell_type": "code",
      "metadata": {
        "id": "YsIaeIt0P8Pw",
        "colab_type": "code",
        "outputId": "ababbd6e-b74c-43e4-fe7c-dd6067d3ba24",
        "colab": {
          "base_uri": "https://localhost:8080/",
          "height": 138
        }
      },
      "source": [
        "splits['train'][1]"
      ],
      "execution_count": 0,
      "outputs": [
        {
          "output_type": "execute_result",
          "data": {
            "text/plain": [
              "array([[1., 0.],\n",
              "       [0., 1.],\n",
              "       [0., 1.],\n",
              "       ...,\n",
              "       [0., 1.],\n",
              "       [1., 0.],\n",
              "       [1., 0.]])"
            ]
          },
          "metadata": {
            "tags": []
          },
          "execution_count": 27
        }
      ]
    },
    {
      "cell_type": "code",
      "metadata": {
        "id": "zsJYPIDlP8Ml",
        "colab_type": "code",
        "colab": {}
      },
      "source": [
        "from keras.layers import Embedding\n",
        "from keras.layers import Flatten, Input\n",
        "from keras.models import Model"
      ],
      "execution_count": 0,
      "outputs": []
    },
    {
      "cell_type": "code",
      "metadata": {
        "id": "FCyeQlnhP8Jq",
        "colab_type": "code",
        "outputId": "0d2f3c7d-f07b-453c-e37b-080e5008cc50",
        "colab": {
          "base_uri": "https://localhost:8080/",
          "height": 676
        }
      },
      "source": [
        "input_layer = Input(shape=(maxlen,) )\n",
        "embedding = Embedding(output_dim=100, input_dim=len(w2id), input_length=maxlen)(input_layer)\n",
        "dense_1 = Dense(300, activation='relu')(embedding)\n",
        "drop_1 = Dropout(0.5)(dense_1)\n",
        "dense_2 = Dense(300, activation='relu')(drop_1)\n",
        "drop_2 = Dropout(0.5)(dense_2)\n",
        "out = Dense(len(l2id), activation='softmax')(drop_2)\n",
        "\n",
        "model = Model(inputs=input_layer, outputs=out)\n",
        "\n",
        "model.compile(loss='categorical_crossentropy',\n",
        "              optimizer='rmsprop',\n",
        "              metrics=['accuracy'])\n",
        "\n",
        "model.summary()"
      ],
      "execution_count": 0,
      "outputs": [
        {
          "output_type": "stream",
          "text": [
            "WARNING:tensorflow:From /usr/local/lib/python3.6/dist-packages/keras/backend/tensorflow_backend.py:66: The name tf.get_default_graph is deprecated. Please use tf.compat.v1.get_default_graph instead.\n",
            "\n",
            "WARNING:tensorflow:From /usr/local/lib/python3.6/dist-packages/keras/backend/tensorflow_backend.py:541: The name tf.placeholder is deprecated. Please use tf.compat.v1.placeholder instead.\n",
            "\n",
            "WARNING:tensorflow:From /usr/local/lib/python3.6/dist-packages/keras/backend/tensorflow_backend.py:4432: The name tf.random_uniform is deprecated. Please use tf.random.uniform instead.\n",
            "\n",
            "WARNING:tensorflow:From /usr/local/lib/python3.6/dist-packages/keras/backend/tensorflow_backend.py:148: The name tf.placeholder_with_default is deprecated. Please use tf.compat.v1.placeholder_with_default instead.\n",
            "\n",
            "WARNING:tensorflow:From /usr/local/lib/python3.6/dist-packages/keras/backend/tensorflow_backend.py:3733: calling dropout (from tensorflow.python.ops.nn_ops) with keep_prob is deprecated and will be removed in a future version.\n",
            "Instructions for updating:\n",
            "Please use `rate` instead of `keep_prob`. Rate should be set to `rate = 1 - keep_prob`.\n",
            "WARNING:tensorflow:From /usr/local/lib/python3.6/dist-packages/keras/optimizers.py:793: The name tf.train.Optimizer is deprecated. Please use tf.compat.v1.train.Optimizer instead.\n",
            "\n",
            "WARNING:tensorflow:From /usr/local/lib/python3.6/dist-packages/keras/backend/tensorflow_backend.py:3576: The name tf.log is deprecated. Please use tf.math.log instead.\n",
            "\n",
            "Model: \"model_1\"\n",
            "_________________________________________________________________\n",
            "Layer (type)                 Output Shape              Param #   \n",
            "=================================================================\n",
            "input_1 (InputLayer)         (None, 34)                0         \n",
            "_________________________________________________________________\n",
            "embedding_1 (Embedding)      (None, 34, 100)           1628100   \n",
            "_________________________________________________________________\n",
            "dense_1 (Dense)              (None, 34, 300)           30300     \n",
            "_________________________________________________________________\n",
            "dropout_1 (Dropout)          (None, 34, 300)           0         \n",
            "_________________________________________________________________\n",
            "dense_2 (Dense)              (None, 34, 300)           90300     \n",
            "_________________________________________________________________\n",
            "dropout_2 (Dropout)          (None, 34, 300)           0         \n",
            "_________________________________________________________________\n",
            "dense_3 (Dense)              (None, 34, 2)             602       \n",
            "=================================================================\n",
            "Total params: 1,749,302\n",
            "Trainable params: 1,749,302\n",
            "Non-trainable params: 0\n",
            "_________________________________________________________________\n"
          ],
          "name": "stdout"
        }
      ]
    },
    {
      "cell_type": "markdown",
      "metadata": {
        "id": "IueINoyxJcp6",
        "colab_type": "text"
      },
      "source": [
        "## 1.2.3 Deep Averaging Network"
      ]
    },
    {
      "cell_type": "code",
      "metadata": {
        "id": "wVGNmCFrP8Gm",
        "colab_type": "code",
        "colab": {}
      },
      "source": [
        ""
      ],
      "execution_count": 0,
      "outputs": []
    },
    {
      "cell_type": "code",
      "metadata": {
        "id": "O1FAukl9P8D9",
        "colab_type": "code",
        "colab": {}
      },
      "source": [
        "from keras.layers import Input, Average, average, Lambda\n",
        "from keras.models import Model\n",
        "\n",
        "from keras import backend as K"
      ],
      "execution_count": 0,
      "outputs": []
    },
    {
      "cell_type": "code",
      "metadata": {
        "id": "cxagPzwjP8BJ",
        "colab_type": "code",
        "colab": {}
      },
      "source": [
        "def mask_aware_mean(x):\n",
        "    # recreate the masks - all zero rows have been masked\n",
        "    mask = K.not_equal(K.sum(K.abs(x), axis=2, keepdims=True), 0)\n",
        "    # number of that rows are not all zeros\n",
        "    n = K.sum(K.cast(mask, 'float32'), axis=1, keepdims=False)\n",
        "    # compute mask-aware mean of x\n",
        "    x_mean = K.sum(x, axis=1, keepdims=False) / n\n",
        "    return x_mean\n",
        "\n",
        "def mask_aware_mean_output_shape(input_shape):\n",
        "    shape = list(input_shape)\n",
        "    assert len(shape) == 3\n",
        "    return (shape[0], shape[2])"
      ],
      "execution_count": 0,
      "outputs": []
    },
    {
      "cell_type": "code",
      "metadata": {
        "id": "qzxHmpkJP7-Y",
        "colab_type": "code",
        "outputId": "1d2f96a1-895e-47e6-dd8b-910c5073ef96",
        "colab": {
          "base_uri": "https://localhost:8080/",
          "height": 711
        }
      },
      "source": [
        "input_layer = Input(shape=(maxlen,) )\n",
        "embedding = Embedding(output_dim=100, input_dim=len(w2id), input_length=maxlen)(input_layer)\n",
        "doc_representation = Lambda(mask_aware_mean, mask_aware_mean_output_shape, name='embedding_average')(embedding)\n",
        "dense_1 = Dense(100, activation='relu')(doc_representation)\n",
        "drop_1 = Dropout(0.5)(dense_1)\n",
        "dense_2 = Dense(100, activation='relu')(drop_1)\n",
        "drop_2 = Dropout(0.5)(dense_2)\n",
        "out = Dense(len(l2id), activation='softmax')(drop_2)\n",
        "\n",
        "model = Model(inputs=input_layer, outputs=out)\n",
        "\n",
        "model.compile(loss='categorical_crossentropy',\n",
        "              optimizer='rmsprop',\n",
        "              metrics=['accuracy'])\n",
        "\n",
        "model.summary()"
      ],
      "execution_count": 0,
      "outputs": [
        {
          "output_type": "stream",
          "text": [
            "WARNING:tensorflow:From /usr/local/lib/python3.6/dist-packages/keras/backend/tensorflow_backend.py:66: The name tf.get_default_graph is deprecated. Please use tf.compat.v1.get_default_graph instead.\n",
            "\n",
            "WARNING:tensorflow:From /usr/local/lib/python3.6/dist-packages/keras/backend/tensorflow_backend.py:541: The name tf.placeholder is deprecated. Please use tf.compat.v1.placeholder instead.\n",
            "\n",
            "WARNING:tensorflow:From /usr/local/lib/python3.6/dist-packages/keras/backend/tensorflow_backend.py:4432: The name tf.random_uniform is deprecated. Please use tf.random.uniform instead.\n",
            "\n",
            "WARNING:tensorflow:From /usr/local/lib/python3.6/dist-packages/keras/backend/tensorflow_backend.py:148: The name tf.placeholder_with_default is deprecated. Please use tf.compat.v1.placeholder_with_default instead.\n",
            "\n",
            "WARNING:tensorflow:From /usr/local/lib/python3.6/dist-packages/keras/backend/tensorflow_backend.py:3733: calling dropout (from tensorflow.python.ops.nn_ops) with keep_prob is deprecated and will be removed in a future version.\n",
            "Instructions for updating:\n",
            "Please use `rate` instead of `keep_prob`. Rate should be set to `rate = 1 - keep_prob`.\n",
            "WARNING:tensorflow:From /usr/local/lib/python3.6/dist-packages/keras/optimizers.py:793: The name tf.train.Optimizer is deprecated. Please use tf.compat.v1.train.Optimizer instead.\n",
            "\n",
            "WARNING:tensorflow:From /usr/local/lib/python3.6/dist-packages/keras/backend/tensorflow_backend.py:3576: The name tf.log is deprecated. Please use tf.math.log instead.\n",
            "\n",
            "Model: \"model_1\"\n",
            "_________________________________________________________________\n",
            "Layer (type)                 Output Shape              Param #   \n",
            "=================================================================\n",
            "input_1 (InputLayer)         (None, 34)                0         \n",
            "_________________________________________________________________\n",
            "embedding_1 (Embedding)      (None, 34, 100)           1628100   \n",
            "_________________________________________________________________\n",
            "embedding_average (Lambda)   (None, 100)               0         \n",
            "_________________________________________________________________\n",
            "dense_1 (Dense)              (None, 100)               10100     \n",
            "_________________________________________________________________\n",
            "dropout_1 (Dropout)          (None, 100)               0         \n",
            "_________________________________________________________________\n",
            "dense_2 (Dense)              (None, 100)               10100     \n",
            "_________________________________________________________________\n",
            "dropout_2 (Dropout)          (None, 100)               0         \n",
            "_________________________________________________________________\n",
            "dense_3 (Dense)              (None, 2)                 202       \n",
            "=================================================================\n",
            "Total params: 1,648,502\n",
            "Trainable params: 1,648,502\n",
            "Non-trainable params: 0\n",
            "_________________________________________________________________\n"
          ],
          "name": "stdout"
        }
      ]
    },
    {
      "cell_type": "code",
      "metadata": {
        "id": "SGr9gcb5P77W",
        "colab_type": "code",
        "outputId": "b7881461-bf39-4ca3-8463-af0b7056921a",
        "colab": {
          "base_uri": "https://localhost:8080/",
          "height": 1000
        }
      },
      "source": [
        "input_ready = []\n",
        "for x, y in tokenized_filtered:\n",
        "    sentence = np.zeros((maxlen))\n",
        "    label = np.zeros((len(labels)))\n",
        "    label[int(y)-1] = 1\n",
        "    for i, t in enumerate(x):\n",
        "        sentence[i] = w2id[t] if t in vocab_counter and vocab_counter[t]>2 else w2id['<UNK>']\n",
        "    input_ready.append((sentence,label))\n",
        "    \n",
        "splits = split_train_val_test(input_ready)\n",
        "print(splits['train'][0].shape)\n",
        "print(splits['train'][1].shape)\n",
        "\n",
        "    \n",
        "\n",
        "model.fit(splits['train'][0], splits['train'][1],\n",
        "          epochs=50,\n",
        "          batch_size=16)"
      ],
      "execution_count": 0,
      "outputs": [
        {
          "output_type": "stream",
          "text": [
            "(7772, 34)\n",
            "(7772, 2)\n",
            "WARNING:tensorflow:From /usr/local/lib/python3.6/dist-packages/tensorflow/python/ops/math_grad.py:1250: add_dispatch_support.<locals>.wrapper (from tensorflow.python.ops.array_ops) is deprecated and will be removed in a future version.\n",
            "Instructions for updating:\n",
            "Use tf.where in 2.0, which has the same broadcast rule as np.where\n",
            "Epoch 1/50\n",
            "7772/7772 [==============================] - 5s 700us/step - loss: 0.6522 - acc: 0.6099\n",
            "Epoch 2/50\n",
            "7772/7772 [==============================] - 2s 276us/step - loss: 0.5488 - acc: 0.7307\n",
            "Epoch 3/50\n",
            "7772/7772 [==============================] - 2s 281us/step - loss: 0.5026 - acc: 0.7608\n",
            "Epoch 4/50\n",
            "7772/7772 [==============================] - 2s 283us/step - loss: 0.4760 - acc: 0.7764\n",
            "Epoch 5/50\n",
            "7772/7772 [==============================] - 2s 291us/step - loss: 0.4600 - acc: 0.7953\n",
            "Epoch 6/50\n",
            "7772/7772 [==============================] - 2s 278us/step - loss: 0.4493 - acc: 0.7979\n",
            "Epoch 7/50\n",
            "7772/7772 [==============================] - 2s 278us/step - loss: 0.4473 - acc: 0.8037\n",
            "Epoch 8/50\n",
            "7772/7772 [==============================] - 2s 276us/step - loss: 0.4314 - acc: 0.8107\n",
            "Epoch 9/50\n",
            "7772/7772 [==============================] - 2s 282us/step - loss: 0.4265 - acc: 0.8155\n",
            "Epoch 10/50\n",
            "7772/7772 [==============================] - 2s 290us/step - loss: 0.4224 - acc: 0.8163\n",
            "Epoch 11/50\n",
            "7772/7772 [==============================] - 2s 293us/step - loss: 0.4126 - acc: 0.8226\n",
            "Epoch 12/50\n",
            "7772/7772 [==============================] - 2s 283us/step - loss: 0.4083 - acc: 0.8244\n",
            "Epoch 13/50\n",
            "7772/7772 [==============================] - 2s 282us/step - loss: 0.4055 - acc: 0.8250\n",
            "Epoch 14/50\n",
            "7772/7772 [==============================] - 2s 285us/step - loss: 0.3982 - acc: 0.8341\n",
            "Epoch 15/50\n",
            "7772/7772 [==============================] - 2s 280us/step - loss: 0.3907 - acc: 0.8353\n",
            "Epoch 16/50\n",
            "7772/7772 [==============================] - 2s 277us/step - loss: 0.3827 - acc: 0.8433\n",
            "Epoch 17/50\n",
            "7772/7772 [==============================] - 2s 276us/step - loss: 0.3748 - acc: 0.8471\n",
            "Epoch 18/50\n",
            "7772/7772 [==============================] - 2s 284us/step - loss: 0.3671 - acc: 0.8515\n",
            "Epoch 19/50\n",
            "7772/7772 [==============================] - 2s 287us/step - loss: 0.3555 - acc: 0.8567\n",
            "Epoch 20/50\n",
            "7772/7772 [==============================] - 2s 280us/step - loss: 0.3452 - acc: 0.8646\n",
            "Epoch 21/50\n",
            "7772/7772 [==============================] - 2s 282us/step - loss: 0.3350 - acc: 0.8657\n",
            "Epoch 22/50\n",
            "7772/7772 [==============================] - 2s 290us/step - loss: 0.3297 - acc: 0.8704\n",
            "Epoch 23/50\n",
            "7772/7772 [==============================] - 2s 275us/step - loss: 0.3232 - acc: 0.8782\n",
            "Epoch 24/50\n",
            "7772/7772 [==============================] - 2s 281us/step - loss: 0.3032 - acc: 0.8827\n",
            "Epoch 25/50\n",
            "7772/7772 [==============================] - 2s 283us/step - loss: 0.2999 - acc: 0.8855\n",
            "Epoch 26/50\n",
            "7772/7772 [==============================] - 2s 280us/step - loss: 0.2937 - acc: 0.8882\n",
            "Epoch 27/50\n",
            "7772/7772 [==============================] - 2s 282us/step - loss: 0.2855 - acc: 0.8917\n",
            "Epoch 28/50\n",
            "7772/7772 [==============================] - 2s 279us/step - loss: 0.2785 - acc: 0.8942\n",
            "Epoch 29/50\n",
            "7772/7772 [==============================] - 2s 284us/step - loss: 0.2695 - acc: 0.8968\n",
            "Epoch 30/50\n",
            "7772/7772 [==============================] - 2s 281us/step - loss: 0.2644 - acc: 0.9012\n",
            "Epoch 31/50\n",
            "7772/7772 [==============================] - 2s 285us/step - loss: 0.2589 - acc: 0.9008\n",
            "Epoch 32/50\n",
            "7772/7772 [==============================] - 2s 272us/step - loss: 0.2503 - acc: 0.9086\n",
            "Epoch 33/50\n",
            "7772/7772 [==============================] - 2s 279us/step - loss: 0.2422 - acc: 0.9099\n",
            "Epoch 34/50\n",
            "7772/7772 [==============================] - 2s 290us/step - loss: 0.2345 - acc: 0.9108\n",
            "Epoch 35/50\n",
            "7772/7772 [==============================] - 2s 282us/step - loss: 0.2350 - acc: 0.9133\n",
            "Epoch 36/50\n",
            "7772/7772 [==============================] - 2s 285us/step - loss: 0.2278 - acc: 0.9189\n",
            "Epoch 37/50\n",
            "7772/7772 [==============================] - 2s 282us/step - loss: 0.2242 - acc: 0.9216\n",
            "Epoch 38/50\n",
            "7772/7772 [==============================] - 2s 281us/step - loss: 0.2195 - acc: 0.9207\n",
            "Epoch 39/50\n",
            "7772/7772 [==============================] - 2s 279us/step - loss: 0.2120 - acc: 0.9247\n",
            "Epoch 40/50\n",
            "7772/7772 [==============================] - 2s 283us/step - loss: 0.2140 - acc: 0.9247\n",
            "Epoch 41/50\n",
            "7772/7772 [==============================] - 2s 280us/step - loss: 0.2144 - acc: 0.9265\n",
            "Epoch 42/50\n",
            "7772/7772 [==============================] - 2s 281us/step - loss: 0.2064 - acc: 0.9272\n",
            "Epoch 43/50\n",
            "7772/7772 [==============================] - 2s 283us/step - loss: 0.1964 - acc: 0.9309\n",
            "Epoch 44/50\n",
            "7772/7772 [==============================] - 2s 285us/step - loss: 0.1934 - acc: 0.9343\n",
            "Epoch 45/50\n",
            "7772/7772 [==============================] - 2s 289us/step - loss: 0.1947 - acc: 0.9323\n",
            "Epoch 46/50\n",
            "7772/7772 [==============================] - 2s 284us/step - loss: 0.1939 - acc: 0.9327\n",
            "Epoch 47/50\n",
            "7772/7772 [==============================] - 2s 284us/step - loss: 0.1865 - acc: 0.9395\n",
            "Epoch 48/50\n",
            "7772/7772 [==============================] - 2s 285us/step - loss: 0.1889 - acc: 0.9406\n",
            "Epoch 49/50\n",
            "7772/7772 [==============================] - 2s 300us/step - loss: 0.1780 - acc: 0.9418\n",
            "Epoch 50/50\n",
            "7772/7772 [==============================] - 2s 281us/step - loss: 0.1841 - acc: 0.9407\n"
          ],
          "name": "stdout"
        },
        {
          "output_type": "execute_result",
          "data": {
            "text/plain": [
              "<keras.callbacks.History at 0x7f502c98ff98>"
            ]
          },
          "metadata": {
            "tags": []
          },
          "execution_count": 32
        }
      ]
    },
    {
      "cell_type": "code",
      "metadata": {
        "id": "yBESqdQXOvgL",
        "colab_type": "code",
        "outputId": "4c4db739-5b40-4f69-9717-9e6e6482424c",
        "colab": {
          "base_uri": "https://localhost:8080/",
          "height": 35
        }
      },
      "source": [
        "train_acc = model.evaluate(splits['train'][0], splits['train'][1])[1]\n",
        "prediction = model.predict(splits['test'][0])"
      ],
      "execution_count": 0,
      "outputs": [
        {
          "output_type": "stream",
          "text": [
            "7772/7772 [==============================] - 0s 44us/step\n"
          ],
          "name": "stdout"
        }
      ]
    },
    {
      "cell_type": "code",
      "metadata": {
        "id": "1gqM5GbU9xyo",
        "colab_type": "code",
        "colab": {}
      },
      "source": [
        "prediccion = convertir_prediccion_en_array(prediction)\n",
        "testeo = convertir_prediccion_en_array(splits['test'][1])"
      ],
      "execution_count": 0,
      "outputs": []
    },
    {
      "cell_type": "code",
      "metadata": {
        "id": "nPhvesUl9xvW",
        "colab_type": "code",
        "colab": {}
      },
      "source": [
        "confmat = confusion_matrix(testeo, prediccion)"
      ],
      "execution_count": 0,
      "outputs": []
    },
    {
      "cell_type": "code",
      "metadata": {
        "id": "iA-GNic2DLB3",
        "colab_type": "code",
        "outputId": "4cc76d8a-2c45-4ae2-eb40-beb830e2aec9",
        "colab": {
          "base_uri": "https://localhost:8080/",
          "height": 513
        }
      },
      "source": [
        "plot_confusion_matrix(confmat)"
      ],
      "execution_count": 0,
      "outputs": [
        {
          "output_type": "display_data",
          "data": {
            "image/png": "[encoded data removed]",
            "text/plain": [
              "<Figure size 504x504 with 1 Axes>"
            ]
          },
          "metadata": {
            "tags": []
          }
        }
      ]
    },
    {
      "cell_type": "code",
      "metadata": {
        "id": "SR7I0VyZRYyn",
        "colab_type": "code",
        "outputId": "6458d814-1085-4122-999a-5dabde13595b",
        "colab": {
          "base_uri": "https://localhost:8080/",
          "height": 367
        }
      },
      "source": [
        "metricas = calcula_metricas(confmat)\n",
        "test_acc = metricas[0]\n"
      ],
      "execution_count": 0,
      "outputs": [
        {
          "output_type": "stream",
          "text": [
            "ACC:  0.6886258363355635\n",
            "SEN:  0.5950118764845606\n",
            "ESP:  0.7602179836512262\n",
            "PPV:  0.6549019607843137\n",
            "FSC:  0.6235220908525202\n"
          ],
          "name": "stdout"
        },
        {
          "output_type": "display_data",
          "data": {
            "image/png": "[encoded data removed]",
            "text/plain": [
              "<Figure size 432x288 with 1 Axes>"
            ]
          },
          "metadata": {
            "tags": []
          }
        }
      ]
    },
    {
      "cell_type": "code",
      "metadata": {
        "id": "Krgr_V5qF8kv",
        "colab_type": "code",
        "colab": {}
      },
      "source": [
        "resultadosModelo = pd.read_csv('resultados_modelos.csv')\n",
        "resultadosModelo = resultadosModelo.drop(['Unnamed: 0'], axis=1)"
      ],
      "execution_count": 0,
      "outputs": []
    },
    {
      "cell_type": "code",
      "metadata": {
        "id": "A8sMkz0zGi27",
        "colab_type": "code",
        "outputId": "5bb634cf-b667-4f00-ad60-66141d32c639",
        "colab": {
          "base_uri": "https://localhost:8080/",
          "height": 183
        }
      },
      "source": [
        "resultado = ['RDN - Small Dataset', '-', train_acc, test_acc,\n",
        "             confmat, metricas]"
      ],
      "execution_count": 0,
      "outputs": [
        {
          "output_type": "error",
          "ename": "NameError",
          "evalue": "ignored",
          "traceback": [
            "\u001b[0;31m---------------------------------------------------------------------------\u001b[0m",
            "\u001b[0;31mNameError\u001b[0m                                 Traceback (most recent call last)",
            "\u001b[0;32m<ipython-input-33-67efdd0780ef>\u001b[0m in \u001b[0;36m<module>\u001b[0;34m()\u001b[0m\n\u001b[0;32m----> 1\u001b[0;31m resultado = ['RDN - Small Dataset', '-', train_acc, test_acc,\n\u001b[0m\u001b[1;32m      2\u001b[0m              confmat, metricas]\n",
            "\u001b[0;31mNameError\u001b[0m: name 'train_acc' is not defined"
          ]
        }
      ]
    },
    {
      "cell_type": "code",
      "metadata": {
        "id": "taNNexR_F8gG",
        "colab_type": "code",
        "outputId": "7c5fb52f-a89c-48cb-f281-605ad7d91b48",
        "colab": {
          "base_uri": "https://localhost:8080/",
          "height": 775
        }
      },
      "source": [
        "add_row(resultadosModelo, resultado)"
      ],
      "execution_count": 0,
      "outputs": [
        {
          "output_type": "execute_result",
          "data": {
            "text/html": [
              "<div>\n",
              "<style scoped>\n",
              "    .dataframe tbody tr th:only-of-type {\n",
              "        vertical-align: middle;\n",
              "    }\n",
              "\n",
              "    .dataframe tbody tr th {\n",
              "        vertical-align: top;\n",
              "    }\n",
              "\n",
              "    .dataframe thead th {\n",
              "        text-align: right;\n",
              "    }\n",
              "</style>\n",
              "<table border=\"1\" class=\"dataframe\">\n",
              "  <thead>\n",
              "    <tr style=\"text-align: right;\">\n",
              "      <th></th>\n",
              "      <th>Modelo</th>\n",
              "      <th>parametros-optimos</th>\n",
              "      <th>train</th>\n",
              "      <th>test</th>\n",
              "      <th>confusion_matrix</th>\n",
              "      <th>acc_sen_esp_ppv_fsc</th>\n",
              "    </tr>\n",
              "  </thead>\n",
              "  <tbody>\n",
              "    <tr>\n",
              "      <th>0</th>\n",
              "      <td>RDN - Small Dataset</td>\n",
              "      <td>-</td>\n",
              "      <td>0.956897</td>\n",
              "      <td>0.688626</td>\n",
              "      <td>[[837, 264], [341, 501]]</td>\n",
              "      <td>[0.6886258363355635, 0.5950118764845606, 0.760...</td>\n",
              "    </tr>\n",
              "    <tr>\n",
              "      <th>1</th>\n",
              "      <td>SVM - Small Dataset</td>\n",
              "      <td>{'svm__C': 5.994842503189409, 'svm__gamma': 0....</td>\n",
              "      <td>0.716000</td>\n",
              "      <td>0.733000</td>\n",
              "      <td>[[ 799  507]\\n [ 294 1400]]</td>\n",
              "      <td>[0.733, 0.8264462809917356, 0.611791730474732,...</td>\n",
              "    </tr>\n",
              "    <tr>\n",
              "      <th>2</th>\n",
              "      <td>Bayes - Small Dataset</td>\n",
              "      <td>{'vect__analyzer': 'char', 'vect__max_df': 1.0...</td>\n",
              "      <td>0.717000</td>\n",
              "      <td>0.722333</td>\n",
              "      <td>[[ 909  397]\\n [ 436 1258]]</td>\n",
              "      <td>[0.7223333333333334, 0.7426210153482881, 0.696...</td>\n",
              "    </tr>\n",
              "    <tr>\n",
              "      <th>3</th>\n",
              "      <td>Decision Tree - Small Dataset</td>\n",
              "      <td>{'tree__max_depth': 19, 'vect__analyzer': 'wor...</td>\n",
              "      <td>0.653286</td>\n",
              "      <td>0.649667</td>\n",
              "      <td>[[ 479  827]\\n [ 224 1470]]</td>\n",
              "      <td>[0.6496666666666666, 0.8677685950413223, 0.366...</td>\n",
              "    </tr>\n",
              "    <tr>\n",
              "      <th>4</th>\n",
              "      <td>Random Forestyes - Small Dataset</td>\n",
              "      <td>{'forest__max_depth': 23, 'vect__analyzer': 'c...</td>\n",
              "      <td>0.668857</td>\n",
              "      <td>0.665000</td>\n",
              "      <td>[[ 630  676]\\n [ 329 1365]]</td>\n",
              "      <td>[0.665, 0.8057851239669421, 0.4823889739663093...</td>\n",
              "    </tr>\n",
              "    <tr>\n",
              "      <th>5</th>\n",
              "      <td>Boosted Tree - Small Dataset</td>\n",
              "      <td>{'boosted__learning_rate': 0.1, 'boosted__max_...</td>\n",
              "      <td>0.714857</td>\n",
              "      <td>0.728667</td>\n",
              "      <td>[[ 784  522]\\n [ 292 1402]]</td>\n",
              "      <td>[0.7286666666666667, 0.8276269185360094, 0.600...</td>\n",
              "    </tr>\n",
              "    <tr>\n",
              "      <th>6</th>\n",
              "      <td>Bayes - Lemma - Small Dataset</td>\n",
              "      <td>{'vect__analyzer': 'word', 'vect__max_df': 0.5...</td>\n",
              "      <td>0.686670</td>\n",
              "      <td>0.690333</td>\n",
              "      <td>[[ 704  602]\\n [ 327 1367]]</td>\n",
              "      <td>[0.6903333333333334, 0.806965761511216, 0.5390...</td>\n",
              "    </tr>\n",
              "    <tr>\n",
              "      <th>7</th>\n",
              "      <td>Decision Tree - Lemma - Small Dataset</td>\n",
              "      <td>{'tree__max_depth': 19, 'vect__analyzer': 'wor...</td>\n",
              "      <td>0.650236</td>\n",
              "      <td>0.647333</td>\n",
              "      <td>[[ 362  944]\\n [ 114 1580]]</td>\n",
              "      <td>[0.6473333333333333, 0.9327036599763873, 0.277...</td>\n",
              "    </tr>\n",
              "    <tr>\n",
              "      <th>8</th>\n",
              "      <td>Random Forestyes - Lemma - Small Dataset</td>\n",
              "      <td>{'forest__max_depth': 28, 'vect__analyzer': 'c...</td>\n",
              "      <td>0.660237</td>\n",
              "      <td>0.664667</td>\n",
              "      <td>[[ 562  744]\\n [ 262 1432]]</td>\n",
              "      <td>[0.6646666666666666, 0.8453364817001181, 0.430...</td>\n",
              "    </tr>\n",
              "    <tr>\n",
              "      <th>9</th>\n",
              "      <td>Boosted Tree - Lemma - Small Dataset</td>\n",
              "      <td>{'boosted__learning_rate': 0.1, 'boosted__max_...</td>\n",
              "      <td>0.686955</td>\n",
              "      <td>0.701333</td>\n",
              "      <td>[[ 692  614]\\n [ 282 1412]]</td>\n",
              "      <td>[0.7013333333333334, 0.833530106257379, 0.5298...</td>\n",
              "    </tr>\n",
              "    <tr>\n",
              "      <th>10</th>\n",
              "      <td>SVM - Lemma - Small Dataset</td>\n",
              "      <td>{'svm__C': 1.0, 'svm__gamma': 0.03162277660168...</td>\n",
              "      <td>0.665524</td>\n",
              "      <td>0.685000</td>\n",
              "      <td>[[ 508  798]\\n [ 147 1547]]</td>\n",
              "      <td>[0.685, 0.9132231404958677, 0.3889739663093415...</td>\n",
              "    </tr>\n",
              "  </tbody>\n",
              "</table>\n",
              "</div>"
            ],
            "text/plain": [
              "                                      Modelo  ...                                acc_sen_esp_ppv_fsc\n",
              "0                        RDN - Small Dataset  ...  [0.6886258363355635, 0.5950118764845606, 0.760...\n",
              "1                        SVM - Small Dataset  ...  [0.733, 0.8264462809917356, 0.611791730474732,...\n",
              "2                      Bayes - Small Dataset  ...  [0.7223333333333334, 0.7426210153482881, 0.696...\n",
              "3              Decision Tree - Small Dataset  ...  [0.6496666666666666, 0.8677685950413223, 0.366...\n",
              "4           Random Forestyes - Small Dataset  ...  [0.665, 0.8057851239669421, 0.4823889739663093...\n",
              "5               Boosted Tree - Small Dataset  ...  [0.7286666666666667, 0.8276269185360094, 0.600...\n",
              "6              Bayes - Lemma - Small Dataset  ...  [0.6903333333333334, 0.806965761511216, 0.5390...\n",
              "7      Decision Tree - Lemma - Small Dataset  ...  [0.6473333333333333, 0.9327036599763873, 0.277...\n",
              "8   Random Forestyes - Lemma - Small Dataset  ...  [0.6646666666666666, 0.8453364817001181, 0.430...\n",
              "9       Boosted Tree - Lemma - Small Dataset  ...  [0.7013333333333334, 0.833530106257379, 0.5298...\n",
              "10               SVM - Lemma - Small Dataset  ...  [0.685, 0.9132231404958677, 0.3889739663093415...\n",
              "\n",
              "[11 rows x 6 columns]"
            ]
          },
          "metadata": {
            "tags": []
          },
          "execution_count": 40
        }
      ]
    },
    {
      "cell_type": "code",
      "metadata": {
        "id": "4VkWMl4IF8dO",
        "colab_type": "code",
        "colab": {}
      },
      "source": [
        "resultadosModelo.to_csv('datasets/resultados_modelos.csv')"
      ],
      "execution_count": 0,
      "outputs": []
    },
    {
      "cell_type": "code",
      "metadata": {
        "id": "1V-yGQLUF8Zn",
        "colab_type": "code",
        "colab": {}
      },
      "source": [
        ""
      ],
      "execution_count": 0,
      "outputs": []
    },
    {
      "cell_type": "code",
      "metadata": {
        "id": "MDI2lCZnF8V6",
        "colab_type": "code",
        "colab": {}
      },
      "source": [
        ""
      ],
      "execution_count": 0,
      "outputs": []
    },
    {
      "cell_type": "markdown",
      "metadata": {
        "id": "o0yjzULBKM-8",
        "colab_type": "text"
      },
      "source": [
        "## 1.2.3 Convolutional Neural Network"
      ]
    },
    {
      "cell_type": "code",
      "metadata": {
        "id": "MenJhgt8F8NJ",
        "colab_type": "code",
        "colab": {}
      },
      "source": [
        "from keras.layers import MaxPooling1D, GlobalMaxPooling1D\n",
        "from keras.layers import Input, Embedding, Concatenate\n",
        "from keras.models import Model"
      ],
      "execution_count": 0,
      "outputs": []
    },
    {
      "cell_type": "code",
      "metadata": {
        "id": "ys9hYdkNefO8",
        "colab_type": "code",
        "colab": {}
      },
      "source": [
        "MAX_SEQUENCE_LENGTH = maxlen\n",
        "EMBEDDING_DIM = embedding_dim\n",
        "len(w2id)"
      ],
      "execution_count": 0,
      "outputs": []
    },
    {
      "cell_type": "code",
      "metadata": {
        "id": "u15P1yOneaP5",
        "colab_type": "code",
        "colab": {}
      },
      "source": [
        "embedding_layer = Embedding(len(w2id) + 1,\n",
        "                            EMBEDDING_DIM,\n",
        "                            input_length=MAX_SEQUENCE_LENGTH)"
      ],
      "execution_count": 0,
      "outputs": []
    },
    {
      "cell_type": "code",
      "metadata": {
        "id": "lBQbun2wdsSh",
        "colab_type": "code",
        "outputId": "2704e8fe-e845-482d-f8d6-5f82d6d21b7e",
        "colab": {
          "base_uri": "https://localhost:8080/",
          "height": 485
        }
      },
      "source": [
        "sequence_input = Input(shape=(maxlen,), dtype='int32')\n",
        "embedded_sequences = embedding_layer(sequence_input)\n",
        "l_cov1= Conv1D(128, 5, activation='relu')(embedded_sequences)\n",
        "l_pool1 = MaxPooling1D(5)(l_cov1)\n",
        "l_cov2 = Conv1D(128, 5, activation='relu')(l_pool1)\n",
        "l_pool2 = MaxPooling1D(5)(l_cov2)\n",
        "l_cov3 = Conv1D(128, 5, activation='relu')(l_pool2)\n",
        "l_pool3 = MaxPooling1D(35)(l_cov3)  # global max pooling\n",
        "l_flat = Flatten()(l_pool3)\n",
        "l_dense = Dense(128, activation='relu')(l_flat)\n",
        "preds = Dense(len(macronum), activation='softmax')(l_dense)"
      ],
      "execution_count": 0,
      "outputs": [
        {
          "output_type": "stream",
          "text": [
            "WARNING:tensorflow:From /usr/local/lib/python3.6/dist-packages/keras/backend/tensorflow_backend.py:4267: The name tf.nn.max_pool is deprecated. Please use tf.nn.max_pool2d instead.\n",
            "\n"
          ],
          "name": "stdout"
        },
        {
          "output_type": "error",
          "ename": "ValueError",
          "evalue": "ignored",
          "traceback": [
            "\u001b[0;31m---------------------------------------------------------------------------\u001b[0m",
            "\u001b[0;31mInvalidArgumentError\u001b[0m                      Traceback (most recent call last)",
            "\u001b[0;32m/usr/local/lib/python3.6/dist-packages/tensorflow/python/framework/ops.py\u001b[0m in \u001b[0;36m_create_c_op\u001b[0;34m(graph, node_def, inputs, control_inputs)\u001b[0m\n\u001b[1;32m   1863\u001b[0m   \u001b[0;32mtry\u001b[0m\u001b[0;34m:\u001b[0m\u001b[0;34m\u001b[0m\u001b[0;34m\u001b[0m\u001b[0m\n\u001b[0;32m-> 1864\u001b[0;31m     \u001b[0mc_op\u001b[0m \u001b[0;34m=\u001b[0m \u001b[0mc_api\u001b[0m\u001b[0;34m.\u001b[0m\u001b[0mTF_FinishOperation\u001b[0m\u001b[0;34m(\u001b[0m\u001b[0mop_desc\u001b[0m\u001b[0;34m)\u001b[0m\u001b[0;34m\u001b[0m\u001b[0;34m\u001b[0m\u001b[0m\n\u001b[0m\u001b[1;32m   1865\u001b[0m   \u001b[0;32mexcept\u001b[0m \u001b[0merrors\u001b[0m\u001b[0;34m.\u001b[0m\u001b[0mInvalidArgumentError\u001b[0m \u001b[0;32mas\u001b[0m \u001b[0me\u001b[0m\u001b[0;34m:\u001b[0m\u001b[0;34m\u001b[0m\u001b[0;34m\u001b[0m\u001b[0m\n",
            "\u001b[0;31mInvalidArgumentError\u001b[0m: Negative dimension size caused by subtracting 5 from 2 for 'max_pooling1d_2/MaxPool' (op: 'MaxPool') with input shapes: [?,2,1,128].",
            "\nDuring handling of the above exception, another exception occurred:\n",
            "\u001b[0;31mValueError\u001b[0m                                Traceback (most recent call last)",
            "\u001b[0;32m<ipython-input-42-4e54347c9f03>\u001b[0m in \u001b[0;36m<module>\u001b[0;34m()\u001b[0m\n\u001b[1;32m      4\u001b[0m \u001b[0ml_pool1\u001b[0m \u001b[0;34m=\u001b[0m \u001b[0mMaxPooling1D\u001b[0m\u001b[0;34m(\u001b[0m\u001b[0;36m5\u001b[0m\u001b[0;34m)\u001b[0m\u001b[0;34m(\u001b[0m\u001b[0ml_cov1\u001b[0m\u001b[0;34m)\u001b[0m\u001b[0;34m\u001b[0m\u001b[0;34m\u001b[0m\u001b[0m\n\u001b[1;32m      5\u001b[0m \u001b[0ml_cov2\u001b[0m \u001b[0;34m=\u001b[0m \u001b[0mConv1D\u001b[0m\u001b[0;34m(\u001b[0m\u001b[0;36m128\u001b[0m\u001b[0;34m,\u001b[0m \u001b[0;36m5\u001b[0m\u001b[0;34m,\u001b[0m \u001b[0mactivation\u001b[0m\u001b[0;34m=\u001b[0m\u001b[0;34m'relu'\u001b[0m\u001b[0;34m)\u001b[0m\u001b[0;34m(\u001b[0m\u001b[0ml_pool1\u001b[0m\u001b[0;34m)\u001b[0m\u001b[0;34m\u001b[0m\u001b[0;34m\u001b[0m\u001b[0m\n\u001b[0;32m----> 6\u001b[0;31m \u001b[0ml_pool2\u001b[0m \u001b[0;34m=\u001b[0m \u001b[0mMaxPooling1D\u001b[0m\u001b[0;34m(\u001b[0m\u001b[0;36m5\u001b[0m\u001b[0;34m)\u001b[0m\u001b[0;34m(\u001b[0m\u001b[0ml_cov2\u001b[0m\u001b[0;34m)\u001b[0m\u001b[0;34m\u001b[0m\u001b[0;34m\u001b[0m\u001b[0m\n\u001b[0m\u001b[1;32m      7\u001b[0m \u001b[0ml_cov3\u001b[0m \u001b[0;34m=\u001b[0m \u001b[0mConv1D\u001b[0m\u001b[0;34m(\u001b[0m\u001b[0;36m128\u001b[0m\u001b[0;34m,\u001b[0m \u001b[0;36m5\u001b[0m\u001b[0;34m,\u001b[0m \u001b[0mactivation\u001b[0m\u001b[0;34m=\u001b[0m\u001b[0;34m'relu'\u001b[0m\u001b[0;34m)\u001b[0m\u001b[0;34m(\u001b[0m\u001b[0ml_pool2\u001b[0m\u001b[0;34m)\u001b[0m\u001b[0;34m\u001b[0m\u001b[0;34m\u001b[0m\u001b[0m\n\u001b[1;32m      8\u001b[0m \u001b[0ml_pool3\u001b[0m \u001b[0;34m=\u001b[0m \u001b[0mMaxPooling1D\u001b[0m\u001b[0;34m(\u001b[0m\u001b[0;36m35\u001b[0m\u001b[0;34m)\u001b[0m\u001b[0;34m(\u001b[0m\u001b[0ml_cov3\u001b[0m\u001b[0;34m)\u001b[0m  \u001b[0;31m# global max pooling\u001b[0m\u001b[0;34m\u001b[0m\u001b[0;34m\u001b[0m\u001b[0m\n",
            "\u001b[0;32m/usr/local/lib/python3.6/dist-packages/keras/engine/base_layer.py\u001b[0m in \u001b[0;36m__call__\u001b[0;34m(self, inputs, **kwargs)\u001b[0m\n\u001b[1;32m    449\u001b[0m             \u001b[0;31m# Actually call the layer,\u001b[0m\u001b[0;34m\u001b[0m\u001b[0;34m\u001b[0m\u001b[0;34m\u001b[0m\u001b[0m\n\u001b[1;32m    450\u001b[0m             \u001b[0;31m# collecting output(s), mask(s), and shape(s).\u001b[0m\u001b[0;34m\u001b[0m\u001b[0;34m\u001b[0m\u001b[0;34m\u001b[0m\u001b[0m\n\u001b[0;32m--> 451\u001b[0;31m             \u001b[0moutput\u001b[0m \u001b[0;34m=\u001b[0m \u001b[0mself\u001b[0m\u001b[0;34m.\u001b[0m\u001b[0mcall\u001b[0m\u001b[0;34m(\u001b[0m\u001b[0minputs\u001b[0m\u001b[0;34m,\u001b[0m \u001b[0;34m**\u001b[0m\u001b[0mkwargs\u001b[0m\u001b[0;34m)\u001b[0m\u001b[0;34m\u001b[0m\u001b[0;34m\u001b[0m\u001b[0m\n\u001b[0m\u001b[1;32m    452\u001b[0m             \u001b[0moutput_mask\u001b[0m \u001b[0;34m=\u001b[0m \u001b[0mself\u001b[0m\u001b[0;34m.\u001b[0m\u001b[0mcompute_mask\u001b[0m\u001b[0;34m(\u001b[0m\u001b[0minputs\u001b[0m\u001b[0;34m,\u001b[0m \u001b[0mprevious_mask\u001b[0m\u001b[0;34m)\u001b[0m\u001b[0;34m\u001b[0m\u001b[0;34m\u001b[0m\u001b[0m\n\u001b[1;32m    453\u001b[0m \u001b[0;34m\u001b[0m\u001b[0m\n",
            "\u001b[0;32m/usr/local/lib/python3.6/dist-packages/keras/layers/pooling.py\u001b[0m in \u001b[0;36mcall\u001b[0;34m(self, inputs)\u001b[0m\n\u001b[1;32m     55\u001b[0m                                         \u001b[0mstrides\u001b[0m\u001b[0;34m=\u001b[0m\u001b[0mself\u001b[0m\u001b[0;34m.\u001b[0m\u001b[0mstrides\u001b[0m \u001b[0;34m+\u001b[0m \u001b[0;34m(\u001b[0m\u001b[0;36m1\u001b[0m\u001b[0;34m,\u001b[0m\u001b[0;34m)\u001b[0m\u001b[0;34m,\u001b[0m\u001b[0;34m\u001b[0m\u001b[0;34m\u001b[0m\u001b[0m\n\u001b[1;32m     56\u001b[0m                                         \u001b[0mpadding\u001b[0m\u001b[0;34m=\u001b[0m\u001b[0mself\u001b[0m\u001b[0;34m.\u001b[0m\u001b[0mpadding\u001b[0m\u001b[0;34m,\u001b[0m\u001b[0;34m\u001b[0m\u001b[0;34m\u001b[0m\u001b[0m\n\u001b[0;32m---> 57\u001b[0;31m                                         data_format=self.data_format)\n\u001b[0m\u001b[1;32m     58\u001b[0m         \u001b[0;32mreturn\u001b[0m \u001b[0mK\u001b[0m\u001b[0;34m.\u001b[0m\u001b[0msqueeze\u001b[0m\u001b[0;34m(\u001b[0m\u001b[0moutput\u001b[0m\u001b[0;34m,\u001b[0m \u001b[0mdummy_axis\u001b[0m\u001b[0;34m)\u001b[0m  \u001b[0;31m# remove dummy last dimension\u001b[0m\u001b[0;34m\u001b[0m\u001b[0;34m\u001b[0m\u001b[0m\n\u001b[1;32m     59\u001b[0m \u001b[0;34m\u001b[0m\u001b[0m\n",
            "\u001b[0;32m/usr/local/lib/python3.6/dist-packages/keras/layers/pooling.py\u001b[0m in \u001b[0;36m_pooling_function\u001b[0;34m(self, inputs, pool_size, strides, padding, data_format)\u001b[0m\n\u001b[1;32m    111\u001b[0m                           padding, data_format):\n\u001b[1;32m    112\u001b[0m         output = K.pool2d(inputs, pool_size, strides,\n\u001b[0;32m--> 113\u001b[0;31m                           padding, data_format, pool_mode='max')\n\u001b[0m\u001b[1;32m    114\u001b[0m         \u001b[0;32mreturn\u001b[0m \u001b[0moutput\u001b[0m\u001b[0;34m\u001b[0m\u001b[0;34m\u001b[0m\u001b[0m\n\u001b[1;32m    115\u001b[0m \u001b[0;34m\u001b[0m\u001b[0m\n",
            "\u001b[0;32m/usr/local/lib/python3.6/dist-packages/keras/backend/tensorflow_backend.py\u001b[0m in \u001b[0;36mpool2d\u001b[0;34m(x, pool_size, strides, padding, data_format, pool_mode)\u001b[0m\n\u001b[1;32m   4267\u001b[0m         x = tf.nn.max_pool(x, pool_size, strides,\n\u001b[1;32m   4268\u001b[0m                            \u001b[0mpadding\u001b[0m\u001b[0;34m=\u001b[0m\u001b[0mpadding\u001b[0m\u001b[0;34m,\u001b[0m\u001b[0;34m\u001b[0m\u001b[0;34m\u001b[0m\u001b[0m\n\u001b[0;32m-> 4269\u001b[0;31m                            data_format=tf_data_format)\n\u001b[0m\u001b[1;32m   4270\u001b[0m     \u001b[0;32melif\u001b[0m \u001b[0mpool_mode\u001b[0m \u001b[0;34m==\u001b[0m \u001b[0;34m'avg'\u001b[0m\u001b[0;34m:\u001b[0m\u001b[0;34m\u001b[0m\u001b[0;34m\u001b[0m\u001b[0m\n\u001b[1;32m   4271\u001b[0m         x = tf.nn.avg_pool(x, pool_size, strides,\n",
            "\u001b[0;32m/usr/local/lib/python3.6/dist-packages/tensorflow/python/ops/nn_ops.py\u001b[0m in \u001b[0;36mmax_pool\u001b[0;34m(value, ksize, strides, padding, data_format, name, input)\u001b[0m\n\u001b[1;32m   3754\u001b[0m         \u001b[0mpadding\u001b[0m\u001b[0;34m=\u001b[0m\u001b[0mpadding\u001b[0m\u001b[0;34m,\u001b[0m\u001b[0;34m\u001b[0m\u001b[0;34m\u001b[0m\u001b[0m\n\u001b[1;32m   3755\u001b[0m         \u001b[0mdata_format\u001b[0m\u001b[0;34m=\u001b[0m\u001b[0mdata_format\u001b[0m\u001b[0;34m,\u001b[0m\u001b[0;34m\u001b[0m\u001b[0;34m\u001b[0m\u001b[0m\n\u001b[0;32m-> 3756\u001b[0;31m         name=name)\n\u001b[0m\u001b[1;32m   3757\u001b[0m \u001b[0;34m\u001b[0m\u001b[0m\n\u001b[1;32m   3758\u001b[0m \u001b[0;34m\u001b[0m\u001b[0m\n",
            "\u001b[0;32m/usr/local/lib/python3.6/dist-packages/tensorflow/python/ops/gen_nn_ops.py\u001b[0m in \u001b[0;36mmax_pool\u001b[0;34m(input, ksize, strides, padding, data_format, name)\u001b[0m\n\u001b[1;32m   5670\u001b[0m   _, _, _op = _op_def_lib._apply_op_helper(\n\u001b[1;32m   5671\u001b[0m         \u001b[0;34m\"MaxPool\"\u001b[0m\u001b[0;34m,\u001b[0m \u001b[0minput\u001b[0m\u001b[0;34m=\u001b[0m\u001b[0minput\u001b[0m\u001b[0;34m,\u001b[0m \u001b[0mksize\u001b[0m\u001b[0;34m=\u001b[0m\u001b[0mksize\u001b[0m\u001b[0;34m,\u001b[0m \u001b[0mstrides\u001b[0m\u001b[0;34m=\u001b[0m\u001b[0mstrides\u001b[0m\u001b[0;34m,\u001b[0m \u001b[0mpadding\u001b[0m\u001b[0;34m=\u001b[0m\u001b[0mpadding\u001b[0m\u001b[0;34m,\u001b[0m\u001b[0;34m\u001b[0m\u001b[0;34m\u001b[0m\u001b[0m\n\u001b[0;32m-> 5672\u001b[0;31m                    data_format=data_format, name=name)\n\u001b[0m\u001b[1;32m   5673\u001b[0m   \u001b[0m_result\u001b[0m \u001b[0;34m=\u001b[0m \u001b[0m_op\u001b[0m\u001b[0;34m.\u001b[0m\u001b[0moutputs\u001b[0m\u001b[0;34m[\u001b[0m\u001b[0;34m:\u001b[0m\u001b[0;34m]\u001b[0m\u001b[0;34m\u001b[0m\u001b[0;34m\u001b[0m\u001b[0m\n\u001b[1;32m   5674\u001b[0m   \u001b[0m_inputs_flat\u001b[0m \u001b[0;34m=\u001b[0m \u001b[0m_op\u001b[0m\u001b[0;34m.\u001b[0m\u001b[0minputs\u001b[0m\u001b[0;34m\u001b[0m\u001b[0;34m\u001b[0m\u001b[0m\n",
            "\u001b[0;32m/usr/local/lib/python3.6/dist-packages/tensorflow/python/framework/op_def_library.py\u001b[0m in \u001b[0;36m_apply_op_helper\u001b[0;34m(self, op_type_name, name, **keywords)\u001b[0m\n\u001b[1;32m    786\u001b[0m         op = g.create_op(op_type_name, inputs, dtypes=None, name=scope,\n\u001b[1;32m    787\u001b[0m                          \u001b[0minput_types\u001b[0m\u001b[0;34m=\u001b[0m\u001b[0minput_types\u001b[0m\u001b[0;34m,\u001b[0m \u001b[0mattrs\u001b[0m\u001b[0;34m=\u001b[0m\u001b[0mattr_protos\u001b[0m\u001b[0;34m,\u001b[0m\u001b[0;34m\u001b[0m\u001b[0;34m\u001b[0m\u001b[0m\n\u001b[0;32m--> 788\u001b[0;31m                          op_def=op_def)\n\u001b[0m\u001b[1;32m    789\u001b[0m       \u001b[0;32mreturn\u001b[0m \u001b[0moutput_structure\u001b[0m\u001b[0;34m,\u001b[0m \u001b[0mop_def\u001b[0m\u001b[0;34m.\u001b[0m\u001b[0mis_stateful\u001b[0m\u001b[0;34m,\u001b[0m \u001b[0mop\u001b[0m\u001b[0;34m\u001b[0m\u001b[0;34m\u001b[0m\u001b[0m\n\u001b[1;32m    790\u001b[0m \u001b[0;34m\u001b[0m\u001b[0m\n",
            "\u001b[0;32m/usr/local/lib/python3.6/dist-packages/tensorflow/python/util/deprecation.py\u001b[0m in \u001b[0;36mnew_func\u001b[0;34m(*args, **kwargs)\u001b[0m\n\u001b[1;32m    505\u001b[0m                 \u001b[0;34m'in a future version'\u001b[0m \u001b[0;32mif\u001b[0m \u001b[0mdate\u001b[0m \u001b[0;32mis\u001b[0m \u001b[0;32mNone\u001b[0m \u001b[0;32melse\u001b[0m \u001b[0;34m(\u001b[0m\u001b[0;34m'after %s'\u001b[0m \u001b[0;34m%\u001b[0m \u001b[0mdate\u001b[0m\u001b[0;34m)\u001b[0m\u001b[0;34m,\u001b[0m\u001b[0;34m\u001b[0m\u001b[0;34m\u001b[0m\u001b[0m\n\u001b[1;32m    506\u001b[0m                 instructions)\n\u001b[0;32m--> 507\u001b[0;31m       \u001b[0;32mreturn\u001b[0m \u001b[0mfunc\u001b[0m\u001b[0;34m(\u001b[0m\u001b[0;34m*\u001b[0m\u001b[0margs\u001b[0m\u001b[0;34m,\u001b[0m \u001b[0;34m**\u001b[0m\u001b[0mkwargs\u001b[0m\u001b[0;34m)\u001b[0m\u001b[0;34m\u001b[0m\u001b[0;34m\u001b[0m\u001b[0m\n\u001b[0m\u001b[1;32m    508\u001b[0m \u001b[0;34m\u001b[0m\u001b[0m\n\u001b[1;32m    509\u001b[0m     doc = _add_deprecated_arg_notice_to_docstring(\n",
            "\u001b[0;32m/usr/local/lib/python3.6/dist-packages/tensorflow/python/framework/ops.py\u001b[0m in \u001b[0;36mcreate_op\u001b[0;34m(***failed resolving arguments***)\u001b[0m\n\u001b[1;32m   3614\u001b[0m           \u001b[0minput_types\u001b[0m\u001b[0;34m=\u001b[0m\u001b[0minput_types\u001b[0m\u001b[0;34m,\u001b[0m\u001b[0;34m\u001b[0m\u001b[0;34m\u001b[0m\u001b[0m\n\u001b[1;32m   3615\u001b[0m           \u001b[0moriginal_op\u001b[0m\u001b[0;34m=\u001b[0m\u001b[0mself\u001b[0m\u001b[0;34m.\u001b[0m\u001b[0m_default_original_op\u001b[0m\u001b[0;34m,\u001b[0m\u001b[0;34m\u001b[0m\u001b[0;34m\u001b[0m\u001b[0m\n\u001b[0;32m-> 3616\u001b[0;31m           op_def=op_def)\n\u001b[0m\u001b[1;32m   3617\u001b[0m       \u001b[0mself\u001b[0m\u001b[0;34m.\u001b[0m\u001b[0m_create_op_helper\u001b[0m\u001b[0;34m(\u001b[0m\u001b[0mret\u001b[0m\u001b[0;34m,\u001b[0m \u001b[0mcompute_device\u001b[0m\u001b[0;34m=\u001b[0m\u001b[0mcompute_device\u001b[0m\u001b[0;34m)\u001b[0m\u001b[0;34m\u001b[0m\u001b[0;34m\u001b[0m\u001b[0m\n\u001b[1;32m   3618\u001b[0m     \u001b[0;32mreturn\u001b[0m \u001b[0mret\u001b[0m\u001b[0;34m\u001b[0m\u001b[0;34m\u001b[0m\u001b[0m\n",
            "\u001b[0;32m/usr/local/lib/python3.6/dist-packages/tensorflow/python/framework/ops.py\u001b[0m in \u001b[0;36m__init__\u001b[0;34m(self, node_def, g, inputs, output_types, control_inputs, input_types, original_op, op_def)\u001b[0m\n\u001b[1;32m   2025\u001b[0m           op_def, inputs, node_def.attr)\n\u001b[1;32m   2026\u001b[0m       self._c_op = _create_c_op(self._graph, node_def, grouped_inputs,\n\u001b[0;32m-> 2027\u001b[0;31m                                 control_input_ops)\n\u001b[0m\u001b[1;32m   2028\u001b[0m \u001b[0;34m\u001b[0m\u001b[0m\n\u001b[1;32m   2029\u001b[0m     \u001b[0;31m# Initialize self._outputs.\u001b[0m\u001b[0;34m\u001b[0m\u001b[0;34m\u001b[0m\u001b[0;34m\u001b[0m\u001b[0m\n",
            "\u001b[0;32m/usr/local/lib/python3.6/dist-packages/tensorflow/python/framework/ops.py\u001b[0m in \u001b[0;36m_create_c_op\u001b[0;34m(graph, node_def, inputs, control_inputs)\u001b[0m\n\u001b[1;32m   1865\u001b[0m   \u001b[0;32mexcept\u001b[0m \u001b[0merrors\u001b[0m\u001b[0;34m.\u001b[0m\u001b[0mInvalidArgumentError\u001b[0m \u001b[0;32mas\u001b[0m \u001b[0me\u001b[0m\u001b[0;34m:\u001b[0m\u001b[0;34m\u001b[0m\u001b[0;34m\u001b[0m\u001b[0m\n\u001b[1;32m   1866\u001b[0m     \u001b[0;31m# Convert to ValueError for backwards compatibility.\u001b[0m\u001b[0;34m\u001b[0m\u001b[0;34m\u001b[0m\u001b[0;34m\u001b[0m\u001b[0m\n\u001b[0;32m-> 1867\u001b[0;31m     \u001b[0;32mraise\u001b[0m \u001b[0mValueError\u001b[0m\u001b[0;34m(\u001b[0m\u001b[0mstr\u001b[0m\u001b[0;34m(\u001b[0m\u001b[0me\u001b[0m\u001b[0;34m)\u001b[0m\u001b[0;34m)\u001b[0m\u001b[0;34m\u001b[0m\u001b[0;34m\u001b[0m\u001b[0m\n\u001b[0m\u001b[1;32m   1868\u001b[0m \u001b[0;34m\u001b[0m\u001b[0m\n\u001b[1;32m   1869\u001b[0m   \u001b[0;32mreturn\u001b[0m \u001b[0mc_op\u001b[0m\u001b[0;34m\u001b[0m\u001b[0;34m\u001b[0m\u001b[0m\n",
            "\u001b[0;31mValueError\u001b[0m: Negative dimension size caused by subtracting 5 from 2 for 'max_pooling1d_2/MaxPool' (op: 'MaxPool') with input shapes: [?,2,1,128]."
          ]
        }
      ]
    },
    {
      "cell_type": "code",
      "metadata": {
        "id": "idOrqVHeKYQz",
        "colab_type": "code",
        "outputId": "1348eebe-3ec2-404f-e13b-8f45f55075a4",
        "colab": {
          "base_uri": "https://localhost:8080/",
          "height": 953
        }
      },
      "source": [
        "embedding_dim = 100\n",
        "\n",
        "input_layer = Input(shape=(maxlen,) )# maxlen\n",
        "embedding = Embedding(output_dim=embedding_dim, input_dim=len(w2id), input_length=maxlen)(input_layer)#w2id maxlen\n",
        "\n",
        "conv_1 = Conv1D(filters=50, kernel_size=1, strides=1, activation='relu', padding='valid')(embedding)\n",
        "mp_1 = GlobalMaxPooling1D()(conv_1)\n",
        "\n",
        "conv_2 = Conv1D(filters=50, kernel_size=2, strides=1, activation='relu', padding='valid')(embedding)\n",
        "mp_2 = GlobalMaxPooling1D()(conv_2)\n",
        "\n",
        "conv_5 = Conv1D(filters=50, kernel_size=5, strides=1, activation='relu', padding='valid')(embedding)\n",
        "mp_5 = GlobalMaxPooling1D()(conv_5)\n",
        "\n",
        "doc_representation = Concatenate()([mp_1, mp_2, mp_5])\n",
        "\n",
        "dense_1 = Dense(100, activation='relu')(doc_representation)\n",
        "drop_1 = Dropout(0.5)(dense_1)\n",
        "dense_2 = Dense(100, activation='relu')(drop_1)\n",
        "drop_2 = Dropout(0.5)(dense_2)\n",
        "out = Dense(len(l2id), activation='softmax')(drop_2)\n",
        "\n",
        "model = Model(inputs=input_layer, outputs=out)\n",
        "\n",
        "model.compile(loss='categorical_crossentropy',\n",
        "              optimizer='rmsprop',\n",
        "              metrics=['accuracy'])\n",
        "\n",
        "model.summary()"
      ],
      "execution_count": 0,
      "outputs": [
        {
          "output_type": "stream",
          "text": [
            "WARNING:tensorflow:From /usr/local/lib/python3.6/dist-packages/keras/backend/tensorflow_backend.py:66: The name tf.get_default_graph is deprecated. Please use tf.compat.v1.get_default_graph instead.\n",
            "\n",
            "WARNING:tensorflow:From /usr/local/lib/python3.6/dist-packages/keras/backend/tensorflow_backend.py:541: The name tf.placeholder is deprecated. Please use tf.compat.v1.placeholder instead.\n",
            "\n",
            "WARNING:tensorflow:From /usr/local/lib/python3.6/dist-packages/keras/backend/tensorflow_backend.py:4432: The name tf.random_uniform is deprecated. Please use tf.random.uniform instead.\n",
            "\n",
            "WARNING:tensorflow:From /usr/local/lib/python3.6/dist-packages/keras/backend/tensorflow_backend.py:148: The name tf.placeholder_with_default is deprecated. Please use tf.compat.v1.placeholder_with_default instead.\n",
            "\n",
            "WARNING:tensorflow:From /usr/local/lib/python3.6/dist-packages/keras/backend/tensorflow_backend.py:3733: calling dropout (from tensorflow.python.ops.nn_ops) with keep_prob is deprecated and will be removed in a future version.\n",
            "Instructions for updating:\n",
            "Please use `rate` instead of `keep_prob`. Rate should be set to `rate = 1 - keep_prob`.\n",
            "WARNING:tensorflow:From /usr/local/lib/python3.6/dist-packages/keras/optimizers.py:793: The name tf.train.Optimizer is deprecated. Please use tf.compat.v1.train.Optimizer instead.\n",
            "\n",
            "WARNING:tensorflow:From /usr/local/lib/python3.6/dist-packages/keras/backend/tensorflow_backend.py:3576: The name tf.log is deprecated. Please use tf.math.log instead.\n",
            "\n",
            "Model: \"model_1\"\n",
            "__________________________________________________________________________________________________\n",
            "Layer (type)                    Output Shape         Param #     Connected to                     \n",
            "==================================================================================================\n",
            "input_1 (InputLayer)            (None, 34)           0                                            \n",
            "__________________________________________________________________________________________________\n",
            "embedding_1 (Embedding)         (None, 34, 100)      1628100     input_1[0][0]                    \n",
            "__________________________________________________________________________________________________\n",
            "conv1d_1 (Conv1D)               (None, 34, 50)       5050        embedding_1[0][0]                \n",
            "__________________________________________________________________________________________________\n",
            "conv1d_2 (Conv1D)               (None, 33, 50)       10050       embedding_1[0][0]                \n",
            "__________________________________________________________________________________________________\n",
            "conv1d_3 (Conv1D)               (None, 30, 50)       25050       embedding_1[0][0]                \n",
            "__________________________________________________________________________________________________\n",
            "global_max_pooling1d_1 (GlobalM (None, 50)           0           conv1d_1[0][0]                   \n",
            "__________________________________________________________________________________________________\n",
            "global_max_pooling1d_2 (GlobalM (None, 50)           0           conv1d_2[0][0]                   \n",
            "__________________________________________________________________________________________________\n",
            "global_max_pooling1d_3 (GlobalM (None, 50)           0           conv1d_3[0][0]                   \n",
            "__________________________________________________________________________________________________\n",
            "concatenate_1 (Concatenate)     (None, 150)          0           global_max_pooling1d_1[0][0]     \n",
            "                                                                 global_max_pooling1d_2[0][0]     \n",
            "                                                                 global_max_pooling1d_3[0][0]     \n",
            "__________________________________________________________________________________________________\n",
            "dense_1 (Dense)                 (None, 100)          15100       concatenate_1[0][0]              \n",
            "__________________________________________________________________________________________________\n",
            "dropout_1 (Dropout)             (None, 100)          0           dense_1[0][0]                    \n",
            "__________________________________________________________________________________________________\n",
            "dense_2 (Dense)                 (None, 100)          10100       dropout_1[0][0]                  \n",
            "__________________________________________________________________________________________________\n",
            "dropout_2 (Dropout)             (None, 100)          0           dense_2[0][0]                    \n",
            "__________________________________________________________________________________________________\n",
            "dense_3 (Dense)                 (None, 2)            202         dropout_2[0][0]                  \n",
            "==================================================================================================\n",
            "Total params: 1,693,652\n",
            "Trainable params: 1,693,652\n",
            "Non-trainable params: 0\n",
            "__________________________________________________________________________________________________\n"
          ],
          "name": "stdout"
        }
      ]
    },
    {
      "cell_type": "code",
      "metadata": {
        "id": "HP7OY0FtgP2k",
        "colab_type": "code",
        "outputId": "53a90b20-d4ef-4697-98f6-1fdf857a2406",
        "colab": {
          "base_uri": "https://localhost:8080/",
          "height": 138
        }
      },
      "source": [
        "print(splits['train'][0])"
      ],
      "execution_count": 0,
      "outputs": [
        {
          "output_type": "stream",
          "text": [
            "[[ 6656.  4920.  7875. ...     0.     0.     0.]\n",
            " [ 9182.  9703. 14341. ...     0.     0.     0.]\n",
            " [ 9182.  9703. 14341. ...     0.     0.     0.]\n",
            " ...\n",
            " [ 9182.  9703. 14341. ...     0.     0.     0.]\n",
            " [ 9182.  8604. 14341. ...     0.     0.     0.]\n",
            " [ 9182.  9703. 14341. ...     0.     0.     0.]]\n"
          ],
          "name": "stdout"
        }
      ]
    },
    {
      "cell_type": "code",
      "metadata": {
        "id": "wFr0AQx9KYH8",
        "colab_type": "code",
        "outputId": "e52325eb-9b70-4157-f181-61707ef21281",
        "colab": {
          "base_uri": "https://localhost:8080/",
          "height": 486
        }
      },
      "source": [
        "print(splits['train'][0].shape)\n",
        "print(splits['train'][1].shape)\n",
        "    \n",
        "\n",
        "model.fit(splits['train'][0], splits['train'][1],\n",
        "          epochs=10,\n",
        "          batch_size=16)"
      ],
      "execution_count": 0,
      "outputs": [
        {
          "output_type": "stream",
          "text": [
            "(7772, 34)\n",
            "(7772, 2)\n",
            "WARNING:tensorflow:From /usr/local/lib/python3.6/dist-packages/tensorflow/python/ops/math_grad.py:1250: add_dispatch_support.<locals>.wrapper (from tensorflow.python.ops.array_ops) is deprecated and will be removed in a future version.\n",
            "Instructions for updating:\n",
            "Use tf.where in 2.0, which has the same broadcast rule as np.where\n",
            "Epoch 1/10\n",
            "7772/7772 [==============================] - 16s 2ms/step - loss: 0.6662 - acc: 0.6020\n",
            "Epoch 2/10\n",
            "7772/7772 [==============================] - 14s 2ms/step - loss: 0.5886 - acc: 0.6981\n",
            "Epoch 3/10\n",
            "7772/7772 [==============================] - 14s 2ms/step - loss: 0.6284 - acc: 0.6971\n",
            "Epoch 4/10\n",
            "7772/7772 [==============================] - 15s 2ms/step - loss: 3.4518 - acc: 0.6143\n",
            "Epoch 5/10\n",
            "7772/7772 [==============================] - 17s 2ms/step - loss: 6.8469 - acc: 0.5704\n",
            "Epoch 6/10\n",
            "7772/7772 [==============================] - 15s 2ms/step - loss: 7.5071 - acc: 0.5306\n",
            "Epoch 7/10\n",
            "7772/7772 [==============================] - 15s 2ms/step - loss: 9.1049 - acc: 0.4349\n",
            "Epoch 8/10\n",
            "7772/7772 [==============================] - 13s 2ms/step - loss: 8.8911 - acc: 0.4476\n",
            "Epoch 9/10\n",
            "7772/7772 [==============================] - 13s 2ms/step - loss: 7.8750 - acc: 0.5094\n",
            "Epoch 10/10\n",
            "7772/7772 [==============================] - 13s 2ms/step - loss: 9.0265 - acc: 0.4397\n"
          ],
          "name": "stdout"
        },
        {
          "output_type": "execute_result",
          "data": {
            "text/plain": [
              "<keras.callbacks.History at 0x7f24d4a4ee80>"
            ]
          },
          "metadata": {
            "tags": []
          },
          "execution_count": 31
        }
      ]
    },
    {
      "cell_type": "code",
      "metadata": {
        "id": "oXuwzJrQKXxz",
        "colab_type": "code",
        "outputId": "3d56c477-eac7-4403-afc8-7ae14eb3e233",
        "colab": {
          "base_uri": "https://localhost:8080/",
          "height": 35
        }
      },
      "source": [
        "train_acc = model.evaluate(splits['train'][0], splits['train'][1])[1]\n",
        "prediction = model.predict(splits['test'][0])"
      ],
      "execution_count": 0,
      "outputs": [
        {
          "output_type": "stream",
          "text": [
            "7772/7772 [==============================] - 1s 128us/step\n"
          ],
          "name": "stdout"
        }
      ]
    },
    {
      "cell_type": "code",
      "metadata": {
        "id": "HPNTcTZhKXul",
        "colab_type": "code",
        "colab": {}
      },
      "source": [
        "prediccion = convertir_prediccion_en_array(prediction)\n",
        "testeo = convertir_prediccion_en_array(splits['test'][1])"
      ],
      "execution_count": 0,
      "outputs": []
    },
    {
      "cell_type": "code",
      "metadata": {
        "id": "vcLiDZxzKXrn",
        "colab_type": "code",
        "colab": {}
      },
      "source": [
        "confmat = confusion_matrix(testeo, prediccion)"
      ],
      "execution_count": 0,
      "outputs": []
    },
    {
      "cell_type": "code",
      "metadata": {
        "id": "KPQKgLvaKXoc",
        "colab_type": "code",
        "outputId": "2fff593b-7330-484e-e518-f0845f47e112",
        "colab": {
          "base_uri": "https://localhost:8080/",
          "height": 864
        }
      },
      "source": [
        "metricas = calcula_metricas(confmat)\n",
        "test_acc = metricas[0]\n",
        "plot_confusion_matrix(confmat)"
      ],
      "execution_count": 0,
      "outputs": [
        {
          "output_type": "stream",
          "text": [
            "ACC:  0.4333504889346372\n",
            "SEN:  1.0\n",
            "ESP:  0.0\n",
            "PPV:  0.4333504889346372\n",
            "FSC:  0.6046678635547577\n"
          ],
          "name": "stdout"
        },
        {
          "output_type": "display_data",
          "data": {
            "image/png": "[encoded data removed]",
            "text/plain": [
              "<Figure size 432x288 with 1 Axes>"
            ]
          },
          "metadata": {
            "tags": []
          }
        },
        {
          "output_type": "display_data",
          "data": {
            "image/png": "[encoded data removed]",
            "text/plain": [
              "<Figure size 504x504 with 1 Axes>"
            ]
          },
          "metadata": {
            "tags": []
          }
        }
      ]
    },
    {
      "cell_type": "code",
      "metadata": {
        "id": "NWZfc5s4KXgn",
        "colab_type": "code",
        "colab": {}
      },
      "source": [
        "resultado = ['CNN - Small Dataset', '-', train_acc, test_acc,\n",
        "             confmat, metricas]"
      ],
      "execution_count": 0,
      "outputs": []
    },
    {
      "cell_type": "code",
      "metadata": {
        "id": "XFGTDT_EOva5",
        "colab_type": "code",
        "colab": {}
      },
      "source": [
        "model.fit(splits['train'][0], splits['train'][1],\n",
        "          epochs=50,\n",
        "          batch_size=16)"
      ],
      "execution_count": 0,
      "outputs": []
    }
  ]
}